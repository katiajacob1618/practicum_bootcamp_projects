{
 "cells": [
  {
   "cell_type": "markdown",
   "metadata": {},
   "source": [
    "# Maching Learning Model to Predict Amount of Gold Recovered from Gold Ore"
   ]
  },
  {
   "cell_type": "markdown",
   "metadata": {},
   "source": [
    "## Introduction"
   ]
  },
  {
   "cell_type": "markdown",
   "metadata": {},
   "source": [
    "The goal of this project is to build a machine learning project to predict the amount of gold recovered from gold ore, for Zyfra who develops efficiency solutions for mining, oil & gas, chemical and engineering industries.\n",
    "We have data on extraction and purification, stored in three files, a training dataset, a test dataset, and the original source dataset. First the data will be examined and prepared, and recovery will be calculated from the features and those values compared with the recovery given in the data. The features from training and test sets will be compared, and then we will proceed with data preprocessing: adding missing targets to test set, changing data type where appropriate, checking for and filling in missing values. After this we'll take a look at some feature distributions, namely the particle feed size, and the total concentrations of substances at different stages of the purification process. Finally different models will be built and evaluated using symmetric Mean Absolute Percentage Error."
   ]
  },
  {
   "cell_type": "markdown",
   "metadata": {},
   "source": [
    "## Data Preparation"
   ]
  },
  {
   "cell_type": "markdown",
   "metadata": {},
   "source": [
    "### Opening the files"
   ]
  },
  {
   "cell_type": "code",
   "execution_count": 1,
   "metadata": {},
   "outputs": [
    {
     "name": "stdout",
     "output_type": "stream",
     "text": [
      "Defaulting to user installation because normal site-packages is not writeable\n",
      "\u001b[33mWARNING: Retrying (Retry(total=4, connect=None, read=None, redirect=None, status=None)) after connection broken by 'ReadTimeoutError(\"HTTPSConnectionPool(host='pypi.org', port=443): Read timed out. (read timeout=15)\")': /simple/sidetable/\u001b[0m\n",
      "\u001b[33mWARNING: Retrying (Retry(total=3, connect=None, read=None, redirect=None, status=None)) after connection broken by 'ReadTimeoutError(\"HTTPSConnectionPool(host='pypi.org', port=443): Read timed out. (read timeout=15)\")': /simple/sidetable/\u001b[0m\n",
      "\u001b[33mWARNING: Retrying (Retry(total=2, connect=None, read=None, redirect=None, status=None)) after connection broken by 'ReadTimeoutError(\"HTTPSConnectionPool(host='pypi.org', port=443): Read timed out. (read timeout=15)\")': /simple/sidetable/\u001b[0m\n",
      "\u001b[33mWARNING: Retrying (Retry(total=1, connect=None, read=None, redirect=None, status=None)) after connection broken by 'ReadTimeoutError(\"HTTPSConnectionPool(host='pypi.org', port=443): Read timed out. (read timeout=15)\")': /simple/sidetable/\u001b[0m\n",
      "Collecting sidetable\n",
      "\u001b[33m  WARNING: Retrying (Retry(total=4, connect=None, read=None, redirect=None, status=None)) after connection broken by 'ReadTimeoutError(\"HTTPSConnectionPool(host='files.pythonhosted.org', port=443): Read timed out. (read timeout=15)\")': /packages/07/d6/783e0399b2c49e25dd25f9c84d42c1c70f00aa037ccc1877d72c80e282f2/sidetable-0.9.0-py3-none-any.whl\u001b[0m\n",
      "  Downloading sidetable-0.9.0-py3-none-any.whl (17 kB)\n",
      "Collecting pandas>=1.0\n",
      "  Downloading pandas-1.3.5-cp37-cp37m-manylinux_2_17_x86_64.manylinux2014_x86_64.whl (11.3 MB)\n",
      "\u001b[K     |████████████████████████████████| 11.3 MB 2.5 MB/s eta 0:00:01\n",
      "\u001b[?25hRequirement already satisfied, skipping upgrade: numpy>=1.17.3; platform_machine != \"aarch64\" and platform_machine != \"arm64\" and python_version < \"3.10\" in /opt/conda/lib/python3.7/site-packages (from pandas>=1.0->sidetable) (1.19.5)\n",
      "Requirement already satisfied, skipping upgrade: python-dateutil>=2.7.3 in /opt/conda/lib/python3.7/site-packages (from pandas>=1.0->sidetable) (2.8.1)\n",
      "Requirement already satisfied, skipping upgrade: pytz>=2017.3 in /opt/conda/lib/python3.7/site-packages (from pandas>=1.0->sidetable) (2021.1)\n",
      "Requirement already satisfied, skipping upgrade: six>=1.5 in /opt/conda/lib/python3.7/site-packages (from python-dateutil>=2.7.3->pandas>=1.0->sidetable) (1.15.0)\n",
      "Installing collected packages: pandas, sidetable\n",
      "Successfully installed pandas-1.3.5 sidetable-0.9.0\n"
     ]
    }
   ],
   "source": [
    "!pip install -U sidetable"
   ]
  },
  {
   "cell_type": "code",
   "execution_count": 2,
   "metadata": {},
   "outputs": [],
   "source": [
    "import pandas as pd\n",
    "import sidetable\n",
    "import numpy as np\n",
    "import matplotlib.pyplot as plt\n",
    "from scipy import stats as st\n",
    "from sklearn.pipeline import Pipeline\n",
    "from sklearn.linear_model import LinearRegression\n",
    "from sklearn.tree import DecisionTreeRegressor\n",
    "from sklearn.ensemble import RandomForestRegressor\n",
    "from sklearn.preprocessing import StandardScaler, MinMaxScaler, MaxAbsScaler, RobustScaler, PowerTransformer, QuantileTransformer\n",
    "from sklearn.model_selection import train_test_split, cross_val_score, GridSearchCV, RandomizedSearchCV\n",
    "from sklearn.metrics import mean_squared_error, make_scorer, mean_absolute_error\n",
    "from sklearn.dummy import DummyRegressor\n",
    "\n",
    "%matplotlib inline"
   ]
  },
  {
   "cell_type": "code",
   "execution_count": 3,
   "metadata": {},
   "outputs": [],
   "source": [
    "try:\n",
    "    reco_train =  pd.read_csv('/datasets/gold_recovery_train.csv')\n",
    "    reco_test =  pd.read_csv('/datasets/gold_recovery_test.csv')\n",
    "    reco_full =  pd.read_csv('/datasets/gold_recovery_full.csv')\n",
    "except:\n",
    "    print('Error in importing the csv file to Pandas.')"
   ]
  },
  {
   "cell_type": "code",
   "execution_count": 4,
   "metadata": {},
   "outputs": [
    {
     "data": {
      "text/html": [
       "<div>\n",
       "<style scoped>\n",
       "    .dataframe tbody tr th:only-of-type {\n",
       "        vertical-align: middle;\n",
       "    }\n",
       "\n",
       "    .dataframe tbody tr th {\n",
       "        vertical-align: top;\n",
       "    }\n",
       "\n",
       "    .dataframe thead th {\n",
       "        text-align: right;\n",
       "    }\n",
       "</style>\n",
       "<table border=\"1\" class=\"dataframe\">\n",
       "  <thead>\n",
       "    <tr style=\"text-align: right;\">\n",
       "      <th></th>\n",
       "      <th>date</th>\n",
       "      <th>final.output.concentrate_ag</th>\n",
       "      <th>final.output.concentrate_pb</th>\n",
       "      <th>final.output.concentrate_sol</th>\n",
       "      <th>final.output.concentrate_au</th>\n",
       "      <th>final.output.recovery</th>\n",
       "      <th>final.output.tail_ag</th>\n",
       "      <th>final.output.tail_pb</th>\n",
       "      <th>final.output.tail_sol</th>\n",
       "      <th>final.output.tail_au</th>\n",
       "      <th>...</th>\n",
       "      <th>secondary_cleaner.state.floatbank4_a_air</th>\n",
       "      <th>secondary_cleaner.state.floatbank4_a_level</th>\n",
       "      <th>secondary_cleaner.state.floatbank4_b_air</th>\n",
       "      <th>secondary_cleaner.state.floatbank4_b_level</th>\n",
       "      <th>secondary_cleaner.state.floatbank5_a_air</th>\n",
       "      <th>secondary_cleaner.state.floatbank5_a_level</th>\n",
       "      <th>secondary_cleaner.state.floatbank5_b_air</th>\n",
       "      <th>secondary_cleaner.state.floatbank5_b_level</th>\n",
       "      <th>secondary_cleaner.state.floatbank6_a_air</th>\n",
       "      <th>secondary_cleaner.state.floatbank6_a_level</th>\n",
       "    </tr>\n",
       "  </thead>\n",
       "  <tbody>\n",
       "    <tr>\n",
       "      <th>0</th>\n",
       "      <td>2016-01-15 00:00:00</td>\n",
       "      <td>6.055403</td>\n",
       "      <td>9.889648</td>\n",
       "      <td>5.507324</td>\n",
       "      <td>42.192020</td>\n",
       "      <td>70.541216</td>\n",
       "      <td>10.411962</td>\n",
       "      <td>0.895447</td>\n",
       "      <td>16.904297</td>\n",
       "      <td>2.143149</td>\n",
       "      <td>...</td>\n",
       "      <td>14.016835</td>\n",
       "      <td>-502.488007</td>\n",
       "      <td>12.099931</td>\n",
       "      <td>-504.715942</td>\n",
       "      <td>9.925633</td>\n",
       "      <td>-498.310211</td>\n",
       "      <td>8.079666</td>\n",
       "      <td>-500.470978</td>\n",
       "      <td>14.151341</td>\n",
       "      <td>-605.841980</td>\n",
       "    </tr>\n",
       "    <tr>\n",
       "      <th>1</th>\n",
       "      <td>2016-01-15 01:00:00</td>\n",
       "      <td>6.029369</td>\n",
       "      <td>9.968944</td>\n",
       "      <td>5.257781</td>\n",
       "      <td>42.701629</td>\n",
       "      <td>69.266198</td>\n",
       "      <td>10.462676</td>\n",
       "      <td>0.927452</td>\n",
       "      <td>16.634514</td>\n",
       "      <td>2.224930</td>\n",
       "      <td>...</td>\n",
       "      <td>13.992281</td>\n",
       "      <td>-505.503262</td>\n",
       "      <td>11.950531</td>\n",
       "      <td>-501.331529</td>\n",
       "      <td>10.039245</td>\n",
       "      <td>-500.169983</td>\n",
       "      <td>7.984757</td>\n",
       "      <td>-500.582168</td>\n",
       "      <td>13.998353</td>\n",
       "      <td>-599.787184</td>\n",
       "    </tr>\n",
       "    <tr>\n",
       "      <th>2</th>\n",
       "      <td>2016-01-15 02:00:00</td>\n",
       "      <td>6.055926</td>\n",
       "      <td>10.213995</td>\n",
       "      <td>5.383759</td>\n",
       "      <td>42.657501</td>\n",
       "      <td>68.116445</td>\n",
       "      <td>10.507046</td>\n",
       "      <td>0.953716</td>\n",
       "      <td>16.208849</td>\n",
       "      <td>2.257889</td>\n",
       "      <td>...</td>\n",
       "      <td>14.015015</td>\n",
       "      <td>-502.520901</td>\n",
       "      <td>11.912783</td>\n",
       "      <td>-501.133383</td>\n",
       "      <td>10.070913</td>\n",
       "      <td>-500.129135</td>\n",
       "      <td>8.013877</td>\n",
       "      <td>-500.517572</td>\n",
       "      <td>14.028663</td>\n",
       "      <td>-601.427363</td>\n",
       "    </tr>\n",
       "    <tr>\n",
       "      <th>3</th>\n",
       "      <td>2016-01-15 03:00:00</td>\n",
       "      <td>6.047977</td>\n",
       "      <td>9.977019</td>\n",
       "      <td>4.858634</td>\n",
       "      <td>42.689819</td>\n",
       "      <td>68.347543</td>\n",
       "      <td>10.422762</td>\n",
       "      <td>0.883763</td>\n",
       "      <td>16.532835</td>\n",
       "      <td>2.146849</td>\n",
       "      <td>...</td>\n",
       "      <td>14.036510</td>\n",
       "      <td>-500.857308</td>\n",
       "      <td>11.999550</td>\n",
       "      <td>-501.193686</td>\n",
       "      <td>9.970366</td>\n",
       "      <td>-499.201640</td>\n",
       "      <td>7.977324</td>\n",
       "      <td>-500.255908</td>\n",
       "      <td>14.005551</td>\n",
       "      <td>-599.996129</td>\n",
       "    </tr>\n",
       "    <tr>\n",
       "      <th>4</th>\n",
       "      <td>2016-01-15 04:00:00</td>\n",
       "      <td>6.148599</td>\n",
       "      <td>10.142511</td>\n",
       "      <td>4.939416</td>\n",
       "      <td>42.774141</td>\n",
       "      <td>66.927016</td>\n",
       "      <td>10.360302</td>\n",
       "      <td>0.792826</td>\n",
       "      <td>16.525686</td>\n",
       "      <td>2.055292</td>\n",
       "      <td>...</td>\n",
       "      <td>14.027298</td>\n",
       "      <td>-499.838632</td>\n",
       "      <td>11.953070</td>\n",
       "      <td>-501.053894</td>\n",
       "      <td>9.925709</td>\n",
       "      <td>-501.686727</td>\n",
       "      <td>7.894242</td>\n",
       "      <td>-500.356035</td>\n",
       "      <td>13.996647</td>\n",
       "      <td>-601.496691</td>\n",
       "    </tr>\n",
       "  </tbody>\n",
       "</table>\n",
       "<p>5 rows × 87 columns</p>\n",
       "</div>"
      ],
      "text/plain": [
       "                  date  final.output.concentrate_ag  \\\n",
       "0  2016-01-15 00:00:00                     6.055403   \n",
       "1  2016-01-15 01:00:00                     6.029369   \n",
       "2  2016-01-15 02:00:00                     6.055926   \n",
       "3  2016-01-15 03:00:00                     6.047977   \n",
       "4  2016-01-15 04:00:00                     6.148599   \n",
       "\n",
       "   final.output.concentrate_pb  final.output.concentrate_sol  \\\n",
       "0                     9.889648                      5.507324   \n",
       "1                     9.968944                      5.257781   \n",
       "2                    10.213995                      5.383759   \n",
       "3                     9.977019                      4.858634   \n",
       "4                    10.142511                      4.939416   \n",
       "\n",
       "   final.output.concentrate_au  final.output.recovery  final.output.tail_ag  \\\n",
       "0                    42.192020              70.541216             10.411962   \n",
       "1                    42.701629              69.266198             10.462676   \n",
       "2                    42.657501              68.116445             10.507046   \n",
       "3                    42.689819              68.347543             10.422762   \n",
       "4                    42.774141              66.927016             10.360302   \n",
       "\n",
       "   final.output.tail_pb  final.output.tail_sol  final.output.tail_au  ...  \\\n",
       "0              0.895447              16.904297              2.143149  ...   \n",
       "1              0.927452              16.634514              2.224930  ...   \n",
       "2              0.953716              16.208849              2.257889  ...   \n",
       "3              0.883763              16.532835              2.146849  ...   \n",
       "4              0.792826              16.525686              2.055292  ...   \n",
       "\n",
       "   secondary_cleaner.state.floatbank4_a_air  \\\n",
       "0                                 14.016835   \n",
       "1                                 13.992281   \n",
       "2                                 14.015015   \n",
       "3                                 14.036510   \n",
       "4                                 14.027298   \n",
       "\n",
       "   secondary_cleaner.state.floatbank4_a_level  \\\n",
       "0                                 -502.488007   \n",
       "1                                 -505.503262   \n",
       "2                                 -502.520901   \n",
       "3                                 -500.857308   \n",
       "4                                 -499.838632   \n",
       "\n",
       "   secondary_cleaner.state.floatbank4_b_air  \\\n",
       "0                                 12.099931   \n",
       "1                                 11.950531   \n",
       "2                                 11.912783   \n",
       "3                                 11.999550   \n",
       "4                                 11.953070   \n",
       "\n",
       "   secondary_cleaner.state.floatbank4_b_level  \\\n",
       "0                                 -504.715942   \n",
       "1                                 -501.331529   \n",
       "2                                 -501.133383   \n",
       "3                                 -501.193686   \n",
       "4                                 -501.053894   \n",
       "\n",
       "   secondary_cleaner.state.floatbank5_a_air  \\\n",
       "0                                  9.925633   \n",
       "1                                 10.039245   \n",
       "2                                 10.070913   \n",
       "3                                  9.970366   \n",
       "4                                  9.925709   \n",
       "\n",
       "   secondary_cleaner.state.floatbank5_a_level  \\\n",
       "0                                 -498.310211   \n",
       "1                                 -500.169983   \n",
       "2                                 -500.129135   \n",
       "3                                 -499.201640   \n",
       "4                                 -501.686727   \n",
       "\n",
       "   secondary_cleaner.state.floatbank5_b_air  \\\n",
       "0                                  8.079666   \n",
       "1                                  7.984757   \n",
       "2                                  8.013877   \n",
       "3                                  7.977324   \n",
       "4                                  7.894242   \n",
       "\n",
       "   secondary_cleaner.state.floatbank5_b_level  \\\n",
       "0                                 -500.470978   \n",
       "1                                 -500.582168   \n",
       "2                                 -500.517572   \n",
       "3                                 -500.255908   \n",
       "4                                 -500.356035   \n",
       "\n",
       "   secondary_cleaner.state.floatbank6_a_air  \\\n",
       "0                                 14.151341   \n",
       "1                                 13.998353   \n",
       "2                                 14.028663   \n",
       "3                                 14.005551   \n",
       "4                                 13.996647   \n",
       "\n",
       "   secondary_cleaner.state.floatbank6_a_level  \n",
       "0                                 -605.841980  \n",
       "1                                 -599.787184  \n",
       "2                                 -601.427363  \n",
       "3                                 -599.996129  \n",
       "4                                 -601.496691  \n",
       "\n",
       "[5 rows x 87 columns]"
      ]
     },
     "execution_count": 4,
     "metadata": {},
     "output_type": "execute_result"
    }
   ],
   "source": [
    "reco_train.head()"
   ]
  },
  {
   "cell_type": "code",
   "execution_count": 5,
   "metadata": {},
   "outputs": [
    {
     "name": "stdout",
     "output_type": "stream",
     "text": [
      "<class 'pandas.core.frame.DataFrame'>\n",
      "RangeIndex: 16860 entries, 0 to 16859\n",
      "Data columns (total 87 columns):\n",
      " #   Column                                              Non-Null Count  Dtype  \n",
      "---  ------                                              --------------  -----  \n",
      " 0   date                                                16860 non-null  object \n",
      " 1   final.output.concentrate_ag                         16788 non-null  float64\n",
      " 2   final.output.concentrate_pb                         16788 non-null  float64\n",
      " 3   final.output.concentrate_sol                        16490 non-null  float64\n",
      " 4   final.output.concentrate_au                         16789 non-null  float64\n",
      " 5   final.output.recovery                               15339 non-null  float64\n",
      " 6   final.output.tail_ag                                16794 non-null  float64\n",
      " 7   final.output.tail_pb                                16677 non-null  float64\n",
      " 8   final.output.tail_sol                               16715 non-null  float64\n",
      " 9   final.output.tail_au                                16794 non-null  float64\n",
      " 10  primary_cleaner.input.sulfate                       15553 non-null  float64\n",
      " 11  primary_cleaner.input.depressant                    15598 non-null  float64\n",
      " 12  primary_cleaner.input.feed_size                     16860 non-null  float64\n",
      " 13  primary_cleaner.input.xanthate                      15875 non-null  float64\n",
      " 14  primary_cleaner.output.concentrate_ag               16778 non-null  float64\n",
      " 15  primary_cleaner.output.concentrate_pb               16502 non-null  float64\n",
      " 16  primary_cleaner.output.concentrate_sol              16224 non-null  float64\n",
      " 17  primary_cleaner.output.concentrate_au               16778 non-null  float64\n",
      " 18  primary_cleaner.output.tail_ag                      16777 non-null  float64\n",
      " 19  primary_cleaner.output.tail_pb                      16761 non-null  float64\n",
      " 20  primary_cleaner.output.tail_sol                     16579 non-null  float64\n",
      " 21  primary_cleaner.output.tail_au                      16777 non-null  float64\n",
      " 22  primary_cleaner.state.floatbank8_a_air              16820 non-null  float64\n",
      " 23  primary_cleaner.state.floatbank8_a_level            16827 non-null  float64\n",
      " 24  primary_cleaner.state.floatbank8_b_air              16820 non-null  float64\n",
      " 25  primary_cleaner.state.floatbank8_b_level            16833 non-null  float64\n",
      " 26  primary_cleaner.state.floatbank8_c_air              16822 non-null  float64\n",
      " 27  primary_cleaner.state.floatbank8_c_level            16833 non-null  float64\n",
      " 28  primary_cleaner.state.floatbank8_d_air              16821 non-null  float64\n",
      " 29  primary_cleaner.state.floatbank8_d_level            16833 non-null  float64\n",
      " 30  rougher.calculation.sulfate_to_au_concentrate       16833 non-null  float64\n",
      " 31  rougher.calculation.floatbank10_sulfate_to_au_feed  16833 non-null  float64\n",
      " 32  rougher.calculation.floatbank11_sulfate_to_au_feed  16833 non-null  float64\n",
      " 33  rougher.calculation.au_pb_ratio                     15618 non-null  float64\n",
      " 34  rougher.input.feed_ag                               16778 non-null  float64\n",
      " 35  rougher.input.feed_pb                               16632 non-null  float64\n",
      " 36  rougher.input.feed_rate                             16347 non-null  float64\n",
      " 37  rougher.input.feed_size                             16443 non-null  float64\n",
      " 38  rougher.input.feed_sol                              16568 non-null  float64\n",
      " 39  rougher.input.feed_au                               16777 non-null  float64\n",
      " 40  rougher.input.floatbank10_sulfate                   15816 non-null  float64\n",
      " 41  rougher.input.floatbank10_xanthate                  16514 non-null  float64\n",
      " 42  rougher.input.floatbank11_sulfate                   16237 non-null  float64\n",
      " 43  rougher.input.floatbank11_xanthate                  14956 non-null  float64\n",
      " 44  rougher.output.concentrate_ag                       16778 non-null  float64\n",
      " 45  rougher.output.concentrate_pb                       16778 non-null  float64\n",
      " 46  rougher.output.concentrate_sol                      16698 non-null  float64\n",
      " 47  rougher.output.concentrate_au                       16778 non-null  float64\n",
      " 48  rougher.output.recovery                             14287 non-null  float64\n",
      " 49  rougher.output.tail_ag                              14610 non-null  float64\n",
      " 50  rougher.output.tail_pb                              16778 non-null  float64\n",
      " 51  rougher.output.tail_sol                             14611 non-null  float64\n",
      " 52  rougher.output.tail_au                              14611 non-null  float64\n",
      " 53  rougher.state.floatbank10_a_air                     16807 non-null  float64\n",
      " 54  rougher.state.floatbank10_a_level                   16807 non-null  float64\n",
      " 55  rougher.state.floatbank10_b_air                     16807 non-null  float64\n",
      " 56  rougher.state.floatbank10_b_level                   16807 non-null  float64\n",
      " 57  rougher.state.floatbank10_c_air                     16807 non-null  float64\n",
      " 58  rougher.state.floatbank10_c_level                   16814 non-null  float64\n",
      " 59  rougher.state.floatbank10_d_air                     16802 non-null  float64\n",
      " 60  rougher.state.floatbank10_d_level                   16809 non-null  float64\n",
      " 61  rougher.state.floatbank10_e_air                     16257 non-null  float64\n",
      " 62  rougher.state.floatbank10_e_level                   16809 non-null  float64\n",
      " 63  rougher.state.floatbank10_f_air                     16802 non-null  float64\n",
      " 64  rougher.state.floatbank10_f_level                   16802 non-null  float64\n",
      " 65  secondary_cleaner.output.tail_ag                    16776 non-null  float64\n",
      " 66  secondary_cleaner.output.tail_pb                    16764 non-null  float64\n",
      " 67  secondary_cleaner.output.tail_sol                   14874 non-null  float64\n",
      " 68  secondary_cleaner.output.tail_au                    16778 non-null  float64\n",
      " 69  secondary_cleaner.state.floatbank2_a_air            16497 non-null  float64\n",
      " 70  secondary_cleaner.state.floatbank2_a_level          16751 non-null  float64\n",
      " 71  secondary_cleaner.state.floatbank2_b_air            16705 non-null  float64\n",
      " 72  secondary_cleaner.state.floatbank2_b_level          16748 non-null  float64\n",
      " 73  secondary_cleaner.state.floatbank3_a_air            16763 non-null  float64\n",
      " 74  secondary_cleaner.state.floatbank3_a_level          16747 non-null  float64\n",
      " 75  secondary_cleaner.state.floatbank3_b_air            16752 non-null  float64\n",
      " 76  secondary_cleaner.state.floatbank3_b_level          16750 non-null  float64\n",
      " 77  secondary_cleaner.state.floatbank4_a_air            16731 non-null  float64\n",
      " 78  secondary_cleaner.state.floatbank4_a_level          16747 non-null  float64\n",
      " 79  secondary_cleaner.state.floatbank4_b_air            16768 non-null  float64\n",
      " 80  secondary_cleaner.state.floatbank4_b_level          16767 non-null  float64\n",
      " 81  secondary_cleaner.state.floatbank5_a_air            16775 non-null  float64\n",
      " 82  secondary_cleaner.state.floatbank5_a_level          16775 non-null  float64\n",
      " 83  secondary_cleaner.state.floatbank5_b_air            16775 non-null  float64\n",
      " 84  secondary_cleaner.state.floatbank5_b_level          16776 non-null  float64\n",
      " 85  secondary_cleaner.state.floatbank6_a_air            16757 non-null  float64\n",
      " 86  secondary_cleaner.state.floatbank6_a_level          16775 non-null  float64\n",
      "dtypes: float64(86), object(1)\n",
      "memory usage: 11.2+ MB\n"
     ]
    }
   ],
   "source": [
    "reco_train.info()"
   ]
  },
  {
   "cell_type": "code",
   "execution_count": 6,
   "metadata": {},
   "outputs": [
    {
     "data": {
      "text/html": [
       "<div>\n",
       "<style scoped>\n",
       "    .dataframe tbody tr th:only-of-type {\n",
       "        vertical-align: middle;\n",
       "    }\n",
       "\n",
       "    .dataframe tbody tr th {\n",
       "        vertical-align: top;\n",
       "    }\n",
       "\n",
       "    .dataframe thead th {\n",
       "        text-align: right;\n",
       "    }\n",
       "</style>\n",
       "<table border=\"1\" class=\"dataframe\">\n",
       "  <thead>\n",
       "    <tr style=\"text-align: right;\">\n",
       "      <th></th>\n",
       "      <th>final.output.concentrate_ag</th>\n",
       "      <th>final.output.concentrate_pb</th>\n",
       "      <th>final.output.concentrate_sol</th>\n",
       "      <th>final.output.concentrate_au</th>\n",
       "      <th>final.output.recovery</th>\n",
       "      <th>final.output.tail_ag</th>\n",
       "      <th>final.output.tail_pb</th>\n",
       "      <th>final.output.tail_sol</th>\n",
       "      <th>final.output.tail_au</th>\n",
       "      <th>primary_cleaner.input.sulfate</th>\n",
       "      <th>...</th>\n",
       "      <th>secondary_cleaner.state.floatbank4_a_air</th>\n",
       "      <th>secondary_cleaner.state.floatbank4_a_level</th>\n",
       "      <th>secondary_cleaner.state.floatbank4_b_air</th>\n",
       "      <th>secondary_cleaner.state.floatbank4_b_level</th>\n",
       "      <th>secondary_cleaner.state.floatbank5_a_air</th>\n",
       "      <th>secondary_cleaner.state.floatbank5_a_level</th>\n",
       "      <th>secondary_cleaner.state.floatbank5_b_air</th>\n",
       "      <th>secondary_cleaner.state.floatbank5_b_level</th>\n",
       "      <th>secondary_cleaner.state.floatbank6_a_air</th>\n",
       "      <th>secondary_cleaner.state.floatbank6_a_level</th>\n",
       "    </tr>\n",
       "  </thead>\n",
       "  <tbody>\n",
       "    <tr>\n",
       "      <th>count</th>\n",
       "      <td>16788.000000</td>\n",
       "      <td>16788.000000</td>\n",
       "      <td>16490.000000</td>\n",
       "      <td>16789.000000</td>\n",
       "      <td>15339.000000</td>\n",
       "      <td>16794.000000</td>\n",
       "      <td>16677.000000</td>\n",
       "      <td>16715.000000</td>\n",
       "      <td>16794.000000</td>\n",
       "      <td>15553.000000</td>\n",
       "      <td>...</td>\n",
       "      <td>16731.000000</td>\n",
       "      <td>16747.000000</td>\n",
       "      <td>16768.000000</td>\n",
       "      <td>16767.000000</td>\n",
       "      <td>16775.000000</td>\n",
       "      <td>16775.000000</td>\n",
       "      <td>16775.000000</td>\n",
       "      <td>16776.000000</td>\n",
       "      <td>16757.000000</td>\n",
       "      <td>16775.000000</td>\n",
       "    </tr>\n",
       "    <tr>\n",
       "      <th>mean</th>\n",
       "      <td>4.716907</td>\n",
       "      <td>9.113559</td>\n",
       "      <td>8.301123</td>\n",
       "      <td>39.467217</td>\n",
       "      <td>67.213166</td>\n",
       "      <td>8.757048</td>\n",
       "      <td>2.360327</td>\n",
       "      <td>9.303932</td>\n",
       "      <td>2.687512</td>\n",
       "      <td>129.479789</td>\n",
       "      <td>...</td>\n",
       "      <td>19.101874</td>\n",
       "      <td>-494.164481</td>\n",
       "      <td>14.778164</td>\n",
       "      <td>-476.600082</td>\n",
       "      <td>15.779488</td>\n",
       "      <td>-500.230146</td>\n",
       "      <td>12.377241</td>\n",
       "      <td>-498.956257</td>\n",
       "      <td>18.429208</td>\n",
       "      <td>-521.801826</td>\n",
       "    </tr>\n",
       "    <tr>\n",
       "      <th>std</th>\n",
       "      <td>2.096718</td>\n",
       "      <td>3.389495</td>\n",
       "      <td>3.825760</td>\n",
       "      <td>13.917227</td>\n",
       "      <td>11.960446</td>\n",
       "      <td>3.634103</td>\n",
       "      <td>1.215576</td>\n",
       "      <td>4.263208</td>\n",
       "      <td>1.272757</td>\n",
       "      <td>45.386931</td>\n",
       "      <td>...</td>\n",
       "      <td>6.883163</td>\n",
       "      <td>84.803334</td>\n",
       "      <td>5.999149</td>\n",
       "      <td>89.381172</td>\n",
       "      <td>6.834703</td>\n",
       "      <td>76.983542</td>\n",
       "      <td>6.219989</td>\n",
       "      <td>82.146207</td>\n",
       "      <td>6.958294</td>\n",
       "      <td>77.170888</td>\n",
       "    </tr>\n",
       "    <tr>\n",
       "      <th>min</th>\n",
       "      <td>0.000000</td>\n",
       "      <td>0.000000</td>\n",
       "      <td>0.000000</td>\n",
       "      <td>0.000000</td>\n",
       "      <td>0.000000</td>\n",
       "      <td>0.000000</td>\n",
       "      <td>0.000000</td>\n",
       "      <td>0.000000</td>\n",
       "      <td>0.000000</td>\n",
       "      <td>0.000003</td>\n",
       "      <td>...</td>\n",
       "      <td>0.000000</td>\n",
       "      <td>-799.920713</td>\n",
       "      <td>0.000000</td>\n",
       "      <td>-800.021781</td>\n",
       "      <td>-0.423260</td>\n",
       "      <td>-799.741097</td>\n",
       "      <td>0.427084</td>\n",
       "      <td>-800.258209</td>\n",
       "      <td>0.024270</td>\n",
       "      <td>-810.473526</td>\n",
       "    </tr>\n",
       "    <tr>\n",
       "      <th>25%</th>\n",
       "      <td>3.971262</td>\n",
       "      <td>8.825748</td>\n",
       "      <td>6.939185</td>\n",
       "      <td>42.055722</td>\n",
       "      <td>62.625685</td>\n",
       "      <td>7.610544</td>\n",
       "      <td>1.641604</td>\n",
       "      <td>7.870275</td>\n",
       "      <td>2.172953</td>\n",
       "      <td>103.064021</td>\n",
       "      <td>...</td>\n",
       "      <td>14.508299</td>\n",
       "      <td>-500.837689</td>\n",
       "      <td>10.741388</td>\n",
       "      <td>-500.269182</td>\n",
       "      <td>10.977713</td>\n",
       "      <td>-500.530594</td>\n",
       "      <td>8.925586</td>\n",
       "      <td>-500.147603</td>\n",
       "      <td>13.977626</td>\n",
       "      <td>-501.080595</td>\n",
       "    </tr>\n",
       "    <tr>\n",
       "      <th>50%</th>\n",
       "      <td>4.869346</td>\n",
       "      <td>10.065316</td>\n",
       "      <td>8.557228</td>\n",
       "      <td>44.498874</td>\n",
       "      <td>67.644601</td>\n",
       "      <td>9.220393</td>\n",
       "      <td>2.453690</td>\n",
       "      <td>10.021968</td>\n",
       "      <td>2.781132</td>\n",
       "      <td>131.783108</td>\n",
       "      <td>...</td>\n",
       "      <td>19.986958</td>\n",
       "      <td>-499.778379</td>\n",
       "      <td>14.943933</td>\n",
       "      <td>-499.593286</td>\n",
       "      <td>15.998340</td>\n",
       "      <td>-499.784231</td>\n",
       "      <td>11.092839</td>\n",
       "      <td>-499.933330</td>\n",
       "      <td>18.034960</td>\n",
       "      <td>-500.109898</td>\n",
       "    </tr>\n",
       "    <tr>\n",
       "      <th>75%</th>\n",
       "      <td>5.821176</td>\n",
       "      <td>11.054809</td>\n",
       "      <td>10.289741</td>\n",
       "      <td>45.976222</td>\n",
       "      <td>72.824595</td>\n",
       "      <td>10.971110</td>\n",
       "      <td>3.192404</td>\n",
       "      <td>11.648573</td>\n",
       "      <td>3.416936</td>\n",
       "      <td>159.539839</td>\n",
       "      <td>...</td>\n",
       "      <td>24.983961</td>\n",
       "      <td>-494.648754</td>\n",
       "      <td>20.023751</td>\n",
       "      <td>-400.137948</td>\n",
       "      <td>20.000701</td>\n",
       "      <td>-496.531781</td>\n",
       "      <td>15.979467</td>\n",
       "      <td>-498.418000</td>\n",
       "      <td>24.984992</td>\n",
       "      <td>-499.565540</td>\n",
       "    </tr>\n",
       "    <tr>\n",
       "      <th>max</th>\n",
       "      <td>16.001945</td>\n",
       "      <td>17.031899</td>\n",
       "      <td>18.124851</td>\n",
       "      <td>53.611374</td>\n",
       "      <td>100.000000</td>\n",
       "      <td>19.552149</td>\n",
       "      <td>6.086532</td>\n",
       "      <td>22.317730</td>\n",
       "      <td>9.789625</td>\n",
       "      <td>251.999948</td>\n",
       "      <td>...</td>\n",
       "      <td>60.000000</td>\n",
       "      <td>-127.692333</td>\n",
       "      <td>28.003828</td>\n",
       "      <td>-71.472472</td>\n",
       "      <td>63.116298</td>\n",
       "      <td>-275.073125</td>\n",
       "      <td>39.846228</td>\n",
       "      <td>-120.190931</td>\n",
       "      <td>54.876806</td>\n",
       "      <td>-39.784927</td>\n",
       "    </tr>\n",
       "  </tbody>\n",
       "</table>\n",
       "<p>8 rows × 86 columns</p>\n",
       "</div>"
      ],
      "text/plain": [
       "       final.output.concentrate_ag  final.output.concentrate_pb  \\\n",
       "count                 16788.000000                 16788.000000   \n",
       "mean                      4.716907                     9.113559   \n",
       "std                       2.096718                     3.389495   \n",
       "min                       0.000000                     0.000000   \n",
       "25%                       3.971262                     8.825748   \n",
       "50%                       4.869346                    10.065316   \n",
       "75%                       5.821176                    11.054809   \n",
       "max                      16.001945                    17.031899   \n",
       "\n",
       "       final.output.concentrate_sol  final.output.concentrate_au  \\\n",
       "count                  16490.000000                 16789.000000   \n",
       "mean                       8.301123                    39.467217   \n",
       "std                        3.825760                    13.917227   \n",
       "min                        0.000000                     0.000000   \n",
       "25%                        6.939185                    42.055722   \n",
       "50%                        8.557228                    44.498874   \n",
       "75%                       10.289741                    45.976222   \n",
       "max                       18.124851                    53.611374   \n",
       "\n",
       "       final.output.recovery  final.output.tail_ag  final.output.tail_pb  \\\n",
       "count           15339.000000          16794.000000          16677.000000   \n",
       "mean               67.213166              8.757048              2.360327   \n",
       "std                11.960446              3.634103              1.215576   \n",
       "min                 0.000000              0.000000              0.000000   \n",
       "25%                62.625685              7.610544              1.641604   \n",
       "50%                67.644601              9.220393              2.453690   \n",
       "75%                72.824595             10.971110              3.192404   \n",
       "max               100.000000             19.552149              6.086532   \n",
       "\n",
       "       final.output.tail_sol  final.output.tail_au  \\\n",
       "count           16715.000000          16794.000000   \n",
       "mean                9.303932              2.687512   \n",
       "std                 4.263208              1.272757   \n",
       "min                 0.000000              0.000000   \n",
       "25%                 7.870275              2.172953   \n",
       "50%                10.021968              2.781132   \n",
       "75%                11.648573              3.416936   \n",
       "max                22.317730              9.789625   \n",
       "\n",
       "       primary_cleaner.input.sulfate  ...  \\\n",
       "count                   15553.000000  ...   \n",
       "mean                      129.479789  ...   \n",
       "std                        45.386931  ...   \n",
       "min                         0.000003  ...   \n",
       "25%                       103.064021  ...   \n",
       "50%                       131.783108  ...   \n",
       "75%                       159.539839  ...   \n",
       "max                       251.999948  ...   \n",
       "\n",
       "       secondary_cleaner.state.floatbank4_a_air  \\\n",
       "count                              16731.000000   \n",
       "mean                                  19.101874   \n",
       "std                                    6.883163   \n",
       "min                                    0.000000   \n",
       "25%                                   14.508299   \n",
       "50%                                   19.986958   \n",
       "75%                                   24.983961   \n",
       "max                                   60.000000   \n",
       "\n",
       "       secondary_cleaner.state.floatbank4_a_level  \\\n",
       "count                                16747.000000   \n",
       "mean                                  -494.164481   \n",
       "std                                     84.803334   \n",
       "min                                   -799.920713   \n",
       "25%                                   -500.837689   \n",
       "50%                                   -499.778379   \n",
       "75%                                   -494.648754   \n",
       "max                                   -127.692333   \n",
       "\n",
       "       secondary_cleaner.state.floatbank4_b_air  \\\n",
       "count                              16768.000000   \n",
       "mean                                  14.778164   \n",
       "std                                    5.999149   \n",
       "min                                    0.000000   \n",
       "25%                                   10.741388   \n",
       "50%                                   14.943933   \n",
       "75%                                   20.023751   \n",
       "max                                   28.003828   \n",
       "\n",
       "       secondary_cleaner.state.floatbank4_b_level  \\\n",
       "count                                16767.000000   \n",
       "mean                                  -476.600082   \n",
       "std                                     89.381172   \n",
       "min                                   -800.021781   \n",
       "25%                                   -500.269182   \n",
       "50%                                   -499.593286   \n",
       "75%                                   -400.137948   \n",
       "max                                    -71.472472   \n",
       "\n",
       "       secondary_cleaner.state.floatbank5_a_air  \\\n",
       "count                              16775.000000   \n",
       "mean                                  15.779488   \n",
       "std                                    6.834703   \n",
       "min                                   -0.423260   \n",
       "25%                                   10.977713   \n",
       "50%                                   15.998340   \n",
       "75%                                   20.000701   \n",
       "max                                   63.116298   \n",
       "\n",
       "       secondary_cleaner.state.floatbank5_a_level  \\\n",
       "count                                16775.000000   \n",
       "mean                                  -500.230146   \n",
       "std                                     76.983542   \n",
       "min                                   -799.741097   \n",
       "25%                                   -500.530594   \n",
       "50%                                   -499.784231   \n",
       "75%                                   -496.531781   \n",
       "max                                   -275.073125   \n",
       "\n",
       "       secondary_cleaner.state.floatbank5_b_air  \\\n",
       "count                              16775.000000   \n",
       "mean                                  12.377241   \n",
       "std                                    6.219989   \n",
       "min                                    0.427084   \n",
       "25%                                    8.925586   \n",
       "50%                                   11.092839   \n",
       "75%                                   15.979467   \n",
       "max                                   39.846228   \n",
       "\n",
       "       secondary_cleaner.state.floatbank5_b_level  \\\n",
       "count                                16776.000000   \n",
       "mean                                  -498.956257   \n",
       "std                                     82.146207   \n",
       "min                                   -800.258209   \n",
       "25%                                   -500.147603   \n",
       "50%                                   -499.933330   \n",
       "75%                                   -498.418000   \n",
       "max                                   -120.190931   \n",
       "\n",
       "       secondary_cleaner.state.floatbank6_a_air  \\\n",
       "count                              16757.000000   \n",
       "mean                                  18.429208   \n",
       "std                                    6.958294   \n",
       "min                                    0.024270   \n",
       "25%                                   13.977626   \n",
       "50%                                   18.034960   \n",
       "75%                                   24.984992   \n",
       "max                                   54.876806   \n",
       "\n",
       "       secondary_cleaner.state.floatbank6_a_level  \n",
       "count                                16775.000000  \n",
       "mean                                  -521.801826  \n",
       "std                                     77.170888  \n",
       "min                                   -810.473526  \n",
       "25%                                   -501.080595  \n",
       "50%                                   -500.109898  \n",
       "75%                                   -499.565540  \n",
       "max                                    -39.784927  \n",
       "\n",
       "[8 rows x 86 columns]"
      ]
     },
     "execution_count": 6,
     "metadata": {},
     "output_type": "execute_result"
    }
   ],
   "source": [
    "reco_train.describe()"
   ]
  },
  {
   "cell_type": "code",
   "execution_count": 7,
   "metadata": {},
   "outputs": [
    {
     "name": "stdout",
     "output_type": "stream",
     "text": [
      "<class 'pandas.core.frame.DataFrame'>\n",
      "RangeIndex: 5856 entries, 0 to 5855\n",
      "Data columns (total 53 columns):\n",
      " #   Column                                      Non-Null Count  Dtype  \n",
      "---  ------                                      --------------  -----  \n",
      " 0   date                                        5856 non-null   object \n",
      " 1   primary_cleaner.input.sulfate               5554 non-null   float64\n",
      " 2   primary_cleaner.input.depressant            5572 non-null   float64\n",
      " 3   primary_cleaner.input.feed_size             5856 non-null   float64\n",
      " 4   primary_cleaner.input.xanthate              5690 non-null   float64\n",
      " 5   primary_cleaner.state.floatbank8_a_air      5840 non-null   float64\n",
      " 6   primary_cleaner.state.floatbank8_a_level    5840 non-null   float64\n",
      " 7   primary_cleaner.state.floatbank8_b_air      5840 non-null   float64\n",
      " 8   primary_cleaner.state.floatbank8_b_level    5840 non-null   float64\n",
      " 9   primary_cleaner.state.floatbank8_c_air      5840 non-null   float64\n",
      " 10  primary_cleaner.state.floatbank8_c_level    5840 non-null   float64\n",
      " 11  primary_cleaner.state.floatbank8_d_air      5840 non-null   float64\n",
      " 12  primary_cleaner.state.floatbank8_d_level    5840 non-null   float64\n",
      " 13  rougher.input.feed_ag                       5840 non-null   float64\n",
      " 14  rougher.input.feed_pb                       5840 non-null   float64\n",
      " 15  rougher.input.feed_rate                     5816 non-null   float64\n",
      " 16  rougher.input.feed_size                     5834 non-null   float64\n",
      " 17  rougher.input.feed_sol                      5789 non-null   float64\n",
      " 18  rougher.input.feed_au                       5840 non-null   float64\n",
      " 19  rougher.input.floatbank10_sulfate           5599 non-null   float64\n",
      " 20  rougher.input.floatbank10_xanthate          5733 non-null   float64\n",
      " 21  rougher.input.floatbank11_sulfate           5801 non-null   float64\n",
      " 22  rougher.input.floatbank11_xanthate          5503 non-null   float64\n",
      " 23  rougher.state.floatbank10_a_air             5839 non-null   float64\n",
      " 24  rougher.state.floatbank10_a_level           5840 non-null   float64\n",
      " 25  rougher.state.floatbank10_b_air             5839 non-null   float64\n",
      " 26  rougher.state.floatbank10_b_level           5840 non-null   float64\n",
      " 27  rougher.state.floatbank10_c_air             5839 non-null   float64\n",
      " 28  rougher.state.floatbank10_c_level           5840 non-null   float64\n",
      " 29  rougher.state.floatbank10_d_air             5839 non-null   float64\n",
      " 30  rougher.state.floatbank10_d_level           5840 non-null   float64\n",
      " 31  rougher.state.floatbank10_e_air             5839 non-null   float64\n",
      " 32  rougher.state.floatbank10_e_level           5840 non-null   float64\n",
      " 33  rougher.state.floatbank10_f_air             5839 non-null   float64\n",
      " 34  rougher.state.floatbank10_f_level           5840 non-null   float64\n",
      " 35  secondary_cleaner.state.floatbank2_a_air    5836 non-null   float64\n",
      " 36  secondary_cleaner.state.floatbank2_a_level  5840 non-null   float64\n",
      " 37  secondary_cleaner.state.floatbank2_b_air    5833 non-null   float64\n",
      " 38  secondary_cleaner.state.floatbank2_b_level  5840 non-null   float64\n",
      " 39  secondary_cleaner.state.floatbank3_a_air    5822 non-null   float64\n",
      " 40  secondary_cleaner.state.floatbank3_a_level  5840 non-null   float64\n",
      " 41  secondary_cleaner.state.floatbank3_b_air    5840 non-null   float64\n",
      " 42  secondary_cleaner.state.floatbank3_b_level  5840 non-null   float64\n",
      " 43  secondary_cleaner.state.floatbank4_a_air    5840 non-null   float64\n",
      " 44  secondary_cleaner.state.floatbank4_a_level  5840 non-null   float64\n",
      " 45  secondary_cleaner.state.floatbank4_b_air    5840 non-null   float64\n",
      " 46  secondary_cleaner.state.floatbank4_b_level  5840 non-null   float64\n",
      " 47  secondary_cleaner.state.floatbank5_a_air    5840 non-null   float64\n",
      " 48  secondary_cleaner.state.floatbank5_a_level  5840 non-null   float64\n",
      " 49  secondary_cleaner.state.floatbank5_b_air    5840 non-null   float64\n",
      " 50  secondary_cleaner.state.floatbank5_b_level  5840 non-null   float64\n",
      " 51  secondary_cleaner.state.floatbank6_a_air    5840 non-null   float64\n",
      " 52  secondary_cleaner.state.floatbank6_a_level  5840 non-null   float64\n",
      "dtypes: float64(52), object(1)\n",
      "memory usage: 2.4+ MB\n"
     ]
    }
   ],
   "source": [
    "reco_test.info()"
   ]
  },
  {
   "cell_type": "code",
   "execution_count": 8,
   "metadata": {},
   "outputs": [
    {
     "data": {
      "text/html": [
       "<div>\n",
       "<style scoped>\n",
       "    .dataframe tbody tr th:only-of-type {\n",
       "        vertical-align: middle;\n",
       "    }\n",
       "\n",
       "    .dataframe tbody tr th {\n",
       "        vertical-align: top;\n",
       "    }\n",
       "\n",
       "    .dataframe thead th {\n",
       "        text-align: right;\n",
       "    }\n",
       "</style>\n",
       "<table border=\"1\" class=\"dataframe\">\n",
       "  <thead>\n",
       "    <tr style=\"text-align: right;\">\n",
       "      <th></th>\n",
       "      <th>primary_cleaner.input.sulfate</th>\n",
       "      <th>primary_cleaner.input.depressant</th>\n",
       "      <th>primary_cleaner.input.feed_size</th>\n",
       "      <th>primary_cleaner.input.xanthate</th>\n",
       "      <th>primary_cleaner.state.floatbank8_a_air</th>\n",
       "      <th>primary_cleaner.state.floatbank8_a_level</th>\n",
       "      <th>primary_cleaner.state.floatbank8_b_air</th>\n",
       "      <th>primary_cleaner.state.floatbank8_b_level</th>\n",
       "      <th>primary_cleaner.state.floatbank8_c_air</th>\n",
       "      <th>primary_cleaner.state.floatbank8_c_level</th>\n",
       "      <th>...</th>\n",
       "      <th>secondary_cleaner.state.floatbank4_a_air</th>\n",
       "      <th>secondary_cleaner.state.floatbank4_a_level</th>\n",
       "      <th>secondary_cleaner.state.floatbank4_b_air</th>\n",
       "      <th>secondary_cleaner.state.floatbank4_b_level</th>\n",
       "      <th>secondary_cleaner.state.floatbank5_a_air</th>\n",
       "      <th>secondary_cleaner.state.floatbank5_a_level</th>\n",
       "      <th>secondary_cleaner.state.floatbank5_b_air</th>\n",
       "      <th>secondary_cleaner.state.floatbank5_b_level</th>\n",
       "      <th>secondary_cleaner.state.floatbank6_a_air</th>\n",
       "      <th>secondary_cleaner.state.floatbank6_a_level</th>\n",
       "    </tr>\n",
       "  </thead>\n",
       "  <tbody>\n",
       "    <tr>\n",
       "      <th>count</th>\n",
       "      <td>5554.000000</td>\n",
       "      <td>5572.000000</td>\n",
       "      <td>5856.000000</td>\n",
       "      <td>5690.000000</td>\n",
       "      <td>5840.000000</td>\n",
       "      <td>5840.000000</td>\n",
       "      <td>5840.000000</td>\n",
       "      <td>5840.000000</td>\n",
       "      <td>5840.000000</td>\n",
       "      <td>5840.000000</td>\n",
       "      <td>...</td>\n",
       "      <td>5840.000000</td>\n",
       "      <td>5840.000000</td>\n",
       "      <td>5840.000000</td>\n",
       "      <td>5840.000000</td>\n",
       "      <td>5840.000000</td>\n",
       "      <td>5840.000000</td>\n",
       "      <td>5840.000000</td>\n",
       "      <td>5840.000000</td>\n",
       "      <td>5840.000000</td>\n",
       "      <td>5840.000000</td>\n",
       "    </tr>\n",
       "    <tr>\n",
       "      <th>mean</th>\n",
       "      <td>170.515243</td>\n",
       "      <td>8.482873</td>\n",
       "      <td>7.264651</td>\n",
       "      <td>1.321420</td>\n",
       "      <td>1481.990241</td>\n",
       "      <td>-509.057796</td>\n",
       "      <td>1486.908670</td>\n",
       "      <td>-511.743956</td>\n",
       "      <td>1468.495216</td>\n",
       "      <td>-509.741212</td>\n",
       "      <td>...</td>\n",
       "      <td>15.636031</td>\n",
       "      <td>-516.266074</td>\n",
       "      <td>13.145702</td>\n",
       "      <td>-476.338907</td>\n",
       "      <td>12.308967</td>\n",
       "      <td>-512.208126</td>\n",
       "      <td>9.470986</td>\n",
       "      <td>-505.017827</td>\n",
       "      <td>16.678722</td>\n",
       "      <td>-512.351694</td>\n",
       "    </tr>\n",
       "    <tr>\n",
       "      <th>std</th>\n",
       "      <td>49.608602</td>\n",
       "      <td>3.353105</td>\n",
       "      <td>0.611526</td>\n",
       "      <td>0.693246</td>\n",
       "      <td>310.453166</td>\n",
       "      <td>61.339256</td>\n",
       "      <td>313.224286</td>\n",
       "      <td>67.139074</td>\n",
       "      <td>309.980748</td>\n",
       "      <td>62.671873</td>\n",
       "      <td>...</td>\n",
       "      <td>4.660835</td>\n",
       "      <td>62.756748</td>\n",
       "      <td>4.304086</td>\n",
       "      <td>105.549424</td>\n",
       "      <td>3.762827</td>\n",
       "      <td>58.864651</td>\n",
       "      <td>3.312471</td>\n",
       "      <td>68.785898</td>\n",
       "      <td>5.404514</td>\n",
       "      <td>69.919839</td>\n",
       "    </tr>\n",
       "    <tr>\n",
       "      <th>min</th>\n",
       "      <td>0.000103</td>\n",
       "      <td>0.000031</td>\n",
       "      <td>5.650000</td>\n",
       "      <td>0.000003</td>\n",
       "      <td>0.000000</td>\n",
       "      <td>-799.773788</td>\n",
       "      <td>0.000000</td>\n",
       "      <td>-800.029078</td>\n",
       "      <td>0.000000</td>\n",
       "      <td>-799.995127</td>\n",
       "      <td>...</td>\n",
       "      <td>0.000000</td>\n",
       "      <td>-799.798523</td>\n",
       "      <td>0.000000</td>\n",
       "      <td>-800.836914</td>\n",
       "      <td>-0.223393</td>\n",
       "      <td>-799.661076</td>\n",
       "      <td>0.528083</td>\n",
       "      <td>-800.220337</td>\n",
       "      <td>-0.079426</td>\n",
       "      <td>-809.859706</td>\n",
       "    </tr>\n",
       "    <tr>\n",
       "      <th>25%</th>\n",
       "      <td>143.340022</td>\n",
       "      <td>6.411500</td>\n",
       "      <td>6.885625</td>\n",
       "      <td>0.888769</td>\n",
       "      <td>1497.190681</td>\n",
       "      <td>-500.455211</td>\n",
       "      <td>1497.150234</td>\n",
       "      <td>-500.936639</td>\n",
       "      <td>1437.050321</td>\n",
       "      <td>-501.300441</td>\n",
       "      <td>...</td>\n",
       "      <td>12.057838</td>\n",
       "      <td>-501.054741</td>\n",
       "      <td>11.880119</td>\n",
       "      <td>-500.419113</td>\n",
       "      <td>10.123459</td>\n",
       "      <td>-500.879383</td>\n",
       "      <td>7.991208</td>\n",
       "      <td>-500.223089</td>\n",
       "      <td>13.012422</td>\n",
       "      <td>-500.833821</td>\n",
       "    </tr>\n",
       "    <tr>\n",
       "      <th>50%</th>\n",
       "      <td>176.103893</td>\n",
       "      <td>8.023252</td>\n",
       "      <td>7.259333</td>\n",
       "      <td>1.183362</td>\n",
       "      <td>1554.659783</td>\n",
       "      <td>-499.997402</td>\n",
       "      <td>1553.268084</td>\n",
       "      <td>-500.066588</td>\n",
       "      <td>1546.160672</td>\n",
       "      <td>-500.079537</td>\n",
       "      <td>...</td>\n",
       "      <td>17.001867</td>\n",
       "      <td>-500.160145</td>\n",
       "      <td>14.952102</td>\n",
       "      <td>-499.644328</td>\n",
       "      <td>12.062877</td>\n",
       "      <td>-500.047621</td>\n",
       "      <td>9.980774</td>\n",
       "      <td>-500.001338</td>\n",
       "      <td>16.007242</td>\n",
       "      <td>-500.041085</td>\n",
       "    </tr>\n",
       "    <tr>\n",
       "      <th>75%</th>\n",
       "      <td>207.240761</td>\n",
       "      <td>10.017725</td>\n",
       "      <td>7.650000</td>\n",
       "      <td>1.763797</td>\n",
       "      <td>1601.681656</td>\n",
       "      <td>-499.575313</td>\n",
       "      <td>1601.784707</td>\n",
       "      <td>-499.323361</td>\n",
       "      <td>1600.785573</td>\n",
       "      <td>-499.009545</td>\n",
       "      <td>...</td>\n",
       "      <td>18.030985</td>\n",
       "      <td>-499.441529</td>\n",
       "      <td>15.940011</td>\n",
       "      <td>-401.523664</td>\n",
       "      <td>15.017881</td>\n",
       "      <td>-499.297033</td>\n",
       "      <td>11.992176</td>\n",
       "      <td>-499.722835</td>\n",
       "      <td>21.009076</td>\n",
       "      <td>-499.395621</td>\n",
       "    </tr>\n",
       "    <tr>\n",
       "      <th>max</th>\n",
       "      <td>274.409626</td>\n",
       "      <td>40.024582</td>\n",
       "      <td>15.500000</td>\n",
       "      <td>5.433169</td>\n",
       "      <td>2212.432090</td>\n",
       "      <td>-57.195404</td>\n",
       "      <td>1975.147923</td>\n",
       "      <td>-142.527229</td>\n",
       "      <td>1715.053773</td>\n",
       "      <td>-150.937035</td>\n",
       "      <td>...</td>\n",
       "      <td>30.051797</td>\n",
       "      <td>-401.565212</td>\n",
       "      <td>31.269706</td>\n",
       "      <td>-6.506986</td>\n",
       "      <td>25.258848</td>\n",
       "      <td>-244.483566</td>\n",
       "      <td>14.090194</td>\n",
       "      <td>-126.463446</td>\n",
       "      <td>26.705889</td>\n",
       "      <td>-29.093593</td>\n",
       "    </tr>\n",
       "  </tbody>\n",
       "</table>\n",
       "<p>8 rows × 52 columns</p>\n",
       "</div>"
      ],
      "text/plain": [
       "       primary_cleaner.input.sulfate  primary_cleaner.input.depressant  \\\n",
       "count                    5554.000000                       5572.000000   \n",
       "mean                      170.515243                          8.482873   \n",
       "std                        49.608602                          3.353105   \n",
       "min                         0.000103                          0.000031   \n",
       "25%                       143.340022                          6.411500   \n",
       "50%                       176.103893                          8.023252   \n",
       "75%                       207.240761                         10.017725   \n",
       "max                       274.409626                         40.024582   \n",
       "\n",
       "       primary_cleaner.input.feed_size  primary_cleaner.input.xanthate  \\\n",
       "count                      5856.000000                     5690.000000   \n",
       "mean                          7.264651                        1.321420   \n",
       "std                           0.611526                        0.693246   \n",
       "min                           5.650000                        0.000003   \n",
       "25%                           6.885625                        0.888769   \n",
       "50%                           7.259333                        1.183362   \n",
       "75%                           7.650000                        1.763797   \n",
       "max                          15.500000                        5.433169   \n",
       "\n",
       "       primary_cleaner.state.floatbank8_a_air  \\\n",
       "count                             5840.000000   \n",
       "mean                              1481.990241   \n",
       "std                                310.453166   \n",
       "min                                  0.000000   \n",
       "25%                               1497.190681   \n",
       "50%                               1554.659783   \n",
       "75%                               1601.681656   \n",
       "max                               2212.432090   \n",
       "\n",
       "       primary_cleaner.state.floatbank8_a_level  \\\n",
       "count                               5840.000000   \n",
       "mean                                -509.057796   \n",
       "std                                   61.339256   \n",
       "min                                 -799.773788   \n",
       "25%                                 -500.455211   \n",
       "50%                                 -499.997402   \n",
       "75%                                 -499.575313   \n",
       "max                                  -57.195404   \n",
       "\n",
       "       primary_cleaner.state.floatbank8_b_air  \\\n",
       "count                             5840.000000   \n",
       "mean                              1486.908670   \n",
       "std                                313.224286   \n",
       "min                                  0.000000   \n",
       "25%                               1497.150234   \n",
       "50%                               1553.268084   \n",
       "75%                               1601.784707   \n",
       "max                               1975.147923   \n",
       "\n",
       "       primary_cleaner.state.floatbank8_b_level  \\\n",
       "count                               5840.000000   \n",
       "mean                                -511.743956   \n",
       "std                                   67.139074   \n",
       "min                                 -800.029078   \n",
       "25%                                 -500.936639   \n",
       "50%                                 -500.066588   \n",
       "75%                                 -499.323361   \n",
       "max                                 -142.527229   \n",
       "\n",
       "       primary_cleaner.state.floatbank8_c_air  \\\n",
       "count                             5840.000000   \n",
       "mean                              1468.495216   \n",
       "std                                309.980748   \n",
       "min                                  0.000000   \n",
       "25%                               1437.050321   \n",
       "50%                               1546.160672   \n",
       "75%                               1600.785573   \n",
       "max                               1715.053773   \n",
       "\n",
       "       primary_cleaner.state.floatbank8_c_level  ...  \\\n",
       "count                               5840.000000  ...   \n",
       "mean                                -509.741212  ...   \n",
       "std                                   62.671873  ...   \n",
       "min                                 -799.995127  ...   \n",
       "25%                                 -501.300441  ...   \n",
       "50%                                 -500.079537  ...   \n",
       "75%                                 -499.009545  ...   \n",
       "max                                 -150.937035  ...   \n",
       "\n",
       "       secondary_cleaner.state.floatbank4_a_air  \\\n",
       "count                               5840.000000   \n",
       "mean                                  15.636031   \n",
       "std                                    4.660835   \n",
       "min                                    0.000000   \n",
       "25%                                   12.057838   \n",
       "50%                                   17.001867   \n",
       "75%                                   18.030985   \n",
       "max                                   30.051797   \n",
       "\n",
       "       secondary_cleaner.state.floatbank4_a_level  \\\n",
       "count                                 5840.000000   \n",
       "mean                                  -516.266074   \n",
       "std                                     62.756748   \n",
       "min                                   -799.798523   \n",
       "25%                                   -501.054741   \n",
       "50%                                   -500.160145   \n",
       "75%                                   -499.441529   \n",
       "max                                   -401.565212   \n",
       "\n",
       "       secondary_cleaner.state.floatbank4_b_air  \\\n",
       "count                               5840.000000   \n",
       "mean                                  13.145702   \n",
       "std                                    4.304086   \n",
       "min                                    0.000000   \n",
       "25%                                   11.880119   \n",
       "50%                                   14.952102   \n",
       "75%                                   15.940011   \n",
       "max                                   31.269706   \n",
       "\n",
       "       secondary_cleaner.state.floatbank4_b_level  \\\n",
       "count                                 5840.000000   \n",
       "mean                                  -476.338907   \n",
       "std                                    105.549424   \n",
       "min                                   -800.836914   \n",
       "25%                                   -500.419113   \n",
       "50%                                   -499.644328   \n",
       "75%                                   -401.523664   \n",
       "max                                     -6.506986   \n",
       "\n",
       "       secondary_cleaner.state.floatbank5_a_air  \\\n",
       "count                               5840.000000   \n",
       "mean                                  12.308967   \n",
       "std                                    3.762827   \n",
       "min                                   -0.223393   \n",
       "25%                                   10.123459   \n",
       "50%                                   12.062877   \n",
       "75%                                   15.017881   \n",
       "max                                   25.258848   \n",
       "\n",
       "       secondary_cleaner.state.floatbank5_a_level  \\\n",
       "count                                 5840.000000   \n",
       "mean                                  -512.208126   \n",
       "std                                     58.864651   \n",
       "min                                   -799.661076   \n",
       "25%                                   -500.879383   \n",
       "50%                                   -500.047621   \n",
       "75%                                   -499.297033   \n",
       "max                                   -244.483566   \n",
       "\n",
       "       secondary_cleaner.state.floatbank5_b_air  \\\n",
       "count                               5840.000000   \n",
       "mean                                   9.470986   \n",
       "std                                    3.312471   \n",
       "min                                    0.528083   \n",
       "25%                                    7.991208   \n",
       "50%                                    9.980774   \n",
       "75%                                   11.992176   \n",
       "max                                   14.090194   \n",
       "\n",
       "       secondary_cleaner.state.floatbank5_b_level  \\\n",
       "count                                 5840.000000   \n",
       "mean                                  -505.017827   \n",
       "std                                     68.785898   \n",
       "min                                   -800.220337   \n",
       "25%                                   -500.223089   \n",
       "50%                                   -500.001338   \n",
       "75%                                   -499.722835   \n",
       "max                                   -126.463446   \n",
       "\n",
       "       secondary_cleaner.state.floatbank6_a_air  \\\n",
       "count                               5840.000000   \n",
       "mean                                  16.678722   \n",
       "std                                    5.404514   \n",
       "min                                   -0.079426   \n",
       "25%                                   13.012422   \n",
       "50%                                   16.007242   \n",
       "75%                                   21.009076   \n",
       "max                                   26.705889   \n",
       "\n",
       "       secondary_cleaner.state.floatbank6_a_level  \n",
       "count                                 5840.000000  \n",
       "mean                                  -512.351694  \n",
       "std                                     69.919839  \n",
       "min                                   -809.859706  \n",
       "25%                                   -500.833821  \n",
       "50%                                   -500.041085  \n",
       "75%                                   -499.395621  \n",
       "max                                    -29.093593  \n",
       "\n",
       "[8 rows x 52 columns]"
      ]
     },
     "execution_count": 8,
     "metadata": {},
     "output_type": "execute_result"
    }
   ],
   "source": [
    "reco_test.describe()"
   ]
  },
  {
   "cell_type": "code",
   "execution_count": 9,
   "metadata": {},
   "outputs": [
    {
     "name": "stdout",
     "output_type": "stream",
     "text": [
      "<class 'pandas.core.frame.DataFrame'>\n",
      "RangeIndex: 22716 entries, 0 to 22715\n",
      "Data columns (total 87 columns):\n",
      " #   Column                                              Non-Null Count  Dtype  \n",
      "---  ------                                              --------------  -----  \n",
      " 0   date                                                22716 non-null  object \n",
      " 1   final.output.concentrate_ag                         22627 non-null  float64\n",
      " 2   final.output.concentrate_pb                         22629 non-null  float64\n",
      " 3   final.output.concentrate_sol                        22331 non-null  float64\n",
      " 4   final.output.concentrate_au                         22630 non-null  float64\n",
      " 5   final.output.recovery                               20753 non-null  float64\n",
      " 6   final.output.tail_ag                                22633 non-null  float64\n",
      " 7   final.output.tail_pb                                22516 non-null  float64\n",
      " 8   final.output.tail_sol                               22445 non-null  float64\n",
      " 9   final.output.tail_au                                22635 non-null  float64\n",
      " 10  primary_cleaner.input.sulfate                       21107 non-null  float64\n",
      " 11  primary_cleaner.input.depressant                    21170 non-null  float64\n",
      " 12  primary_cleaner.input.feed_size                     22716 non-null  float64\n",
      " 13  primary_cleaner.input.xanthate                      21565 non-null  float64\n",
      " 14  primary_cleaner.output.concentrate_ag               22618 non-null  float64\n",
      " 15  primary_cleaner.output.concentrate_pb               22268 non-null  float64\n",
      " 16  primary_cleaner.output.concentrate_sol              21918 non-null  float64\n",
      " 17  primary_cleaner.output.concentrate_au               22618 non-null  float64\n",
      " 18  primary_cleaner.output.tail_ag                      22614 non-null  float64\n",
      " 19  primary_cleaner.output.tail_pb                      22594 non-null  float64\n",
      " 20  primary_cleaner.output.tail_sol                     22365 non-null  float64\n",
      " 21  primary_cleaner.output.tail_au                      22617 non-null  float64\n",
      " 22  primary_cleaner.state.floatbank8_a_air              22660 non-null  float64\n",
      " 23  primary_cleaner.state.floatbank8_a_level            22667 non-null  float64\n",
      " 24  primary_cleaner.state.floatbank8_b_air              22660 non-null  float64\n",
      " 25  primary_cleaner.state.floatbank8_b_level            22673 non-null  float64\n",
      " 26  primary_cleaner.state.floatbank8_c_air              22662 non-null  float64\n",
      " 27  primary_cleaner.state.floatbank8_c_level            22673 non-null  float64\n",
      " 28  primary_cleaner.state.floatbank8_d_air              22661 non-null  float64\n",
      " 29  primary_cleaner.state.floatbank8_d_level            22673 non-null  float64\n",
      " 30  rougher.calculation.sulfate_to_au_concentrate       22672 non-null  float64\n",
      " 31  rougher.calculation.floatbank10_sulfate_to_au_feed  22672 non-null  float64\n",
      " 32  rougher.calculation.floatbank11_sulfate_to_au_feed  22672 non-null  float64\n",
      " 33  rougher.calculation.au_pb_ratio                     21089 non-null  float64\n",
      " 34  rougher.input.feed_ag                               22618 non-null  float64\n",
      " 35  rougher.input.feed_pb                               22472 non-null  float64\n",
      " 36  rougher.input.feed_rate                             22163 non-null  float64\n",
      " 37  rougher.input.feed_size                             22277 non-null  float64\n",
      " 38  rougher.input.feed_sol                              22357 non-null  float64\n",
      " 39  rougher.input.feed_au                               22617 non-null  float64\n",
      " 40  rougher.input.floatbank10_sulfate                   21415 non-null  float64\n",
      " 41  rougher.input.floatbank10_xanthate                  22247 non-null  float64\n",
      " 42  rougher.input.floatbank11_sulfate                   22038 non-null  float64\n",
      " 43  rougher.input.floatbank11_xanthate                  20459 non-null  float64\n",
      " 44  rougher.output.concentrate_ag                       22618 non-null  float64\n",
      " 45  rougher.output.concentrate_pb                       22618 non-null  float64\n",
      " 46  rougher.output.concentrate_sol                      22526 non-null  float64\n",
      " 47  rougher.output.concentrate_au                       22618 non-null  float64\n",
      " 48  rougher.output.recovery                             19597 non-null  float64\n",
      " 49  rougher.output.tail_ag                              19979 non-null  float64\n",
      " 50  rougher.output.tail_pb                              22618 non-null  float64\n",
      " 51  rougher.output.tail_sol                             19980 non-null  float64\n",
      " 52  rougher.output.tail_au                              19980 non-null  float64\n",
      " 53  rougher.state.floatbank10_a_air                     22646 non-null  float64\n",
      " 54  rougher.state.floatbank10_a_level                   22647 non-null  float64\n",
      " 55  rougher.state.floatbank10_b_air                     22646 non-null  float64\n",
      " 56  rougher.state.floatbank10_b_level                   22647 non-null  float64\n",
      " 57  rougher.state.floatbank10_c_air                     22646 non-null  float64\n",
      " 58  rougher.state.floatbank10_c_level                   22654 non-null  float64\n",
      " 59  rougher.state.floatbank10_d_air                     22641 non-null  float64\n",
      " 60  rougher.state.floatbank10_d_level                   22649 non-null  float64\n",
      " 61  rougher.state.floatbank10_e_air                     22096 non-null  float64\n",
      " 62  rougher.state.floatbank10_e_level                   22649 non-null  float64\n",
      " 63  rougher.state.floatbank10_f_air                     22641 non-null  float64\n",
      " 64  rougher.state.floatbank10_f_level                   22642 non-null  float64\n",
      " 65  secondary_cleaner.output.tail_ag                    22616 non-null  float64\n",
      " 66  secondary_cleaner.output.tail_pb                    22600 non-null  float64\n",
      " 67  secondary_cleaner.output.tail_sol                   20501 non-null  float64\n",
      " 68  secondary_cleaner.output.tail_au                    22618 non-null  float64\n",
      " 69  secondary_cleaner.state.floatbank2_a_air            22333 non-null  float64\n",
      " 70  secondary_cleaner.state.floatbank2_a_level          22591 non-null  float64\n",
      " 71  secondary_cleaner.state.floatbank2_b_air            22538 non-null  float64\n",
      " 72  secondary_cleaner.state.floatbank2_b_level          22588 non-null  float64\n",
      " 73  secondary_cleaner.state.floatbank3_a_air            22585 non-null  float64\n",
      " 74  secondary_cleaner.state.floatbank3_a_level          22587 non-null  float64\n",
      " 75  secondary_cleaner.state.floatbank3_b_air            22592 non-null  float64\n",
      " 76  secondary_cleaner.state.floatbank3_b_level          22590 non-null  float64\n",
      " 77  secondary_cleaner.state.floatbank4_a_air            22571 non-null  float64\n",
      " 78  secondary_cleaner.state.floatbank4_a_level          22587 non-null  float64\n",
      " 79  secondary_cleaner.state.floatbank4_b_air            22608 non-null  float64\n",
      " 80  secondary_cleaner.state.floatbank4_b_level          22607 non-null  float64\n",
      " 81  secondary_cleaner.state.floatbank5_a_air            22615 non-null  float64\n",
      " 82  secondary_cleaner.state.floatbank5_a_level          22615 non-null  float64\n",
      " 83  secondary_cleaner.state.floatbank5_b_air            22615 non-null  float64\n",
      " 84  secondary_cleaner.state.floatbank5_b_level          22616 non-null  float64\n",
      " 85  secondary_cleaner.state.floatbank6_a_air            22597 non-null  float64\n",
      " 86  secondary_cleaner.state.floatbank6_a_level          22615 non-null  float64\n",
      "dtypes: float64(86), object(1)\n",
      "memory usage: 15.1+ MB\n"
     ]
    }
   ],
   "source": [
    "reco_full.info()"
   ]
  },
  {
   "cell_type": "markdown",
   "metadata": {},
   "source": [
    "The training set contains 16860 entries, with a total of 87 columns. The test set contains 5856 entries and 53 columns, so less features than the training set. The full data contains 22716 entries and 87 columns. All features are floats except for the date, which will be converted to datetime later."
   ]
  },
  {
   "cell_type": "markdown",
   "metadata": {},
   "source": [
    "### Calculating Recovery from Features and Comparing it to Recovery Feature"
   ]
  },
  {
   "cell_type": "code",
   "execution_count": 10,
   "metadata": {},
   "outputs": [],
   "source": [
    "#Creating a new dataframe with the recovery feature, and calculating the recovery from other\n",
    "#features to compare the two.\n",
    "\n",
    "reco_calc = pd.DataFrame()\n",
    "reco_calc['rougher.output.recovery'] = reco_train['rougher.output.recovery']\n",
    "\n",
    "reco_calc['reco_calculated'] = 100 * reco_train['rougher.output.concentrate_au'] * \\\n",
    "(reco_train['rougher.input.feed_au'] - reco_train['rougher.output.tail_au']) / \\\n",
    "(reco_train['rougher.input.feed_au'] * (reco_train['rougher.output.concentrate_au'] - reco_train['rougher.output.tail_au']))"
   ]
  },
  {
   "cell_type": "code",
   "execution_count": 11,
   "metadata": {},
   "outputs": [
    {
     "data": {
      "text/html": [
       "<div>\n",
       "<style scoped>\n",
       "    .dataframe tbody tr th:only-of-type {\n",
       "        vertical-align: middle;\n",
       "    }\n",
       "\n",
       "    .dataframe tbody tr th {\n",
       "        vertical-align: top;\n",
       "    }\n",
       "\n",
       "    .dataframe thead th {\n",
       "        text-align: right;\n",
       "    }\n",
       "</style>\n",
       "<table border=\"1\" class=\"dataframe\">\n",
       "  <thead>\n",
       "    <tr style=\"text-align: right;\">\n",
       "      <th></th>\n",
       "      <th>rougher.output.recovery</th>\n",
       "      <th>reco_calculated</th>\n",
       "    </tr>\n",
       "  </thead>\n",
       "  <tbody>\n",
       "    <tr>\n",
       "      <th>0</th>\n",
       "      <td>87.107763</td>\n",
       "      <td>87.107763</td>\n",
       "    </tr>\n",
       "    <tr>\n",
       "      <th>1</th>\n",
       "      <td>86.843261</td>\n",
       "      <td>86.843261</td>\n",
       "    </tr>\n",
       "    <tr>\n",
       "      <th>2</th>\n",
       "      <td>86.842308</td>\n",
       "      <td>86.842308</td>\n",
       "    </tr>\n",
       "    <tr>\n",
       "      <th>3</th>\n",
       "      <td>87.226430</td>\n",
       "      <td>87.226430</td>\n",
       "    </tr>\n",
       "    <tr>\n",
       "      <th>4</th>\n",
       "      <td>86.688794</td>\n",
       "      <td>86.688794</td>\n",
       "    </tr>\n",
       "  </tbody>\n",
       "</table>\n",
       "</div>"
      ],
      "text/plain": [
       "   rougher.output.recovery  reco_calculated\n",
       "0                87.107763        87.107763\n",
       "1                86.843261        86.843261\n",
       "2                86.842308        86.842308\n",
       "3                87.226430        87.226430\n",
       "4                86.688794        86.688794"
      ]
     },
     "execution_count": 11,
     "metadata": {},
     "output_type": "execute_result"
    }
   ],
   "source": [
    "reco_calc.head()"
   ]
  },
  {
   "cell_type": "markdown",
   "metadata": {},
   "source": [
    "Let's check if our calculations introduced any infinity values and get rid of those:"
   ]
  },
  {
   "cell_type": "code",
   "execution_count": 12,
   "metadata": {},
   "outputs": [
    {
     "data": {
      "text/plain": [
       "30"
      ]
     },
     "execution_count": 12,
     "metadata": {},
     "output_type": "execute_result"
    }
   ],
   "source": [
    "np.isinf(reco_calc['reco_calculated']).sum()"
   ]
  },
  {
   "cell_type": "code",
   "execution_count": 13,
   "metadata": {},
   "outputs": [],
   "source": [
    "#Changing the infinity values to NaN, and then removing all NaN from the reco_calc dataframe.\n",
    "\n",
    "with pd.option_context('mode.use_inf_as_na', True):\n",
    "    reco_calc.dropna(inplace=True)"
   ]
  },
  {
   "cell_type": "code",
   "execution_count": 14,
   "metadata": {},
   "outputs": [
    {
     "data": {
      "text/plain": [
       "0"
      ]
     },
     "execution_count": 14,
     "metadata": {},
     "output_type": "execute_result"
    }
   ],
   "source": [
    "np.isinf(reco_calc['reco_calculated']).sum()"
   ]
  },
  {
   "cell_type": "code",
   "execution_count": 15,
   "metadata": {},
   "outputs": [
    {
     "data": {
      "text/plain": [
       "1.1101950495226952e-14"
      ]
     },
     "execution_count": 15,
     "metadata": {},
     "output_type": "execute_result"
    }
   ],
   "source": [
    "mean_absolute_error(reco_calc['rougher.output.recovery'], reco_calc['reco_calculated'])"
   ]
  },
  {
   "cell_type": "markdown",
   "metadata": {},
   "source": [
    "The mean absolute error is small so the recovery feature corresponds for the most part to the values calculated from the other features using the real formula for the recovery."
   ]
  },
  {
   "cell_type": "markdown",
   "metadata": {},
   "source": [
    "### Comparing Features in Test and Train sets\n",
    "\n",
    "Features not available in the test set:"
   ]
  },
  {
   "cell_type": "code",
   "execution_count": 16,
   "metadata": {},
   "outputs": [
    {
     "data": {
      "text/plain": [
       "['final.output.concentrate_ag',\n",
       " 'final.output.concentrate_au',\n",
       " 'final.output.concentrate_pb',\n",
       " 'final.output.concentrate_sol',\n",
       " 'final.output.recovery',\n",
       " 'final.output.tail_ag',\n",
       " 'final.output.tail_au',\n",
       " 'final.output.tail_pb',\n",
       " 'final.output.tail_sol',\n",
       " 'primary_cleaner.output.concentrate_ag',\n",
       " 'primary_cleaner.output.concentrate_au',\n",
       " 'primary_cleaner.output.concentrate_pb',\n",
       " 'primary_cleaner.output.concentrate_sol',\n",
       " 'primary_cleaner.output.tail_ag',\n",
       " 'primary_cleaner.output.tail_au',\n",
       " 'primary_cleaner.output.tail_pb',\n",
       " 'primary_cleaner.output.tail_sol',\n",
       " 'rougher.calculation.au_pb_ratio',\n",
       " 'rougher.calculation.floatbank10_sulfate_to_au_feed',\n",
       " 'rougher.calculation.floatbank11_sulfate_to_au_feed',\n",
       " 'rougher.calculation.sulfate_to_au_concentrate',\n",
       " 'rougher.output.concentrate_ag',\n",
       " 'rougher.output.concentrate_au',\n",
       " 'rougher.output.concentrate_pb',\n",
       " 'rougher.output.concentrate_sol',\n",
       " 'rougher.output.recovery',\n",
       " 'rougher.output.tail_ag',\n",
       " 'rougher.output.tail_au',\n",
       " 'rougher.output.tail_pb',\n",
       " 'rougher.output.tail_sol',\n",
       " 'secondary_cleaner.output.tail_ag',\n",
       " 'secondary_cleaner.output.tail_au',\n",
       " 'secondary_cleaner.output.tail_pb',\n",
       " 'secondary_cleaner.output.tail_sol']"
      ]
     },
     "execution_count": 16,
     "metadata": {},
     "output_type": "execute_result"
    }
   ],
   "source": [
    "#Creating a list of features that are in training set but missing from test set.\n",
    "\n",
    "train_not_test = list(set(reco_train.columns) - set(reco_test.columns))\n",
    "train_not_test.sort()\n",
    "train_not_test"
   ]
  },
  {
   "cell_type": "markdown",
   "metadata": {},
   "source": [
    "All the output features are not in the test set. The two targets features rougher.output.recovery and final.output.recovery are missing from the test set so we will need to add those in the next section."
   ]
  },
  {
   "cell_type": "markdown",
   "metadata": {},
   "source": [
    "### Data Preprocessing"
   ]
  },
  {
   "cell_type": "markdown",
   "metadata": {},
   "source": [
    "#### Adding targets to test set"
   ]
  },
  {
   "cell_type": "code",
   "execution_count": 17,
   "metadata": {},
   "outputs": [],
   "source": [
    "reco_test = reco_test.merge(\n",
    "    reco_full[['date', 'rougher.output.recovery', 'final.output.recovery']], \\\n",
    "    how='left', on='date')"
   ]
  },
  {
   "cell_type": "code",
   "execution_count": 18,
   "metadata": {},
   "outputs": [
    {
     "name": "stdout",
     "output_type": "stream",
     "text": [
      "<class 'pandas.core.frame.DataFrame'>\n",
      "Int64Index: 5856 entries, 0 to 5855\n",
      "Data columns (total 55 columns):\n",
      " #   Column                                      Non-Null Count  Dtype  \n",
      "---  ------                                      --------------  -----  \n",
      " 0   date                                        5856 non-null   object \n",
      " 1   primary_cleaner.input.sulfate               5554 non-null   float64\n",
      " 2   primary_cleaner.input.depressant            5572 non-null   float64\n",
      " 3   primary_cleaner.input.feed_size             5856 non-null   float64\n",
      " 4   primary_cleaner.input.xanthate              5690 non-null   float64\n",
      " 5   primary_cleaner.state.floatbank8_a_air      5840 non-null   float64\n",
      " 6   primary_cleaner.state.floatbank8_a_level    5840 non-null   float64\n",
      " 7   primary_cleaner.state.floatbank8_b_air      5840 non-null   float64\n",
      " 8   primary_cleaner.state.floatbank8_b_level    5840 non-null   float64\n",
      " 9   primary_cleaner.state.floatbank8_c_air      5840 non-null   float64\n",
      " 10  primary_cleaner.state.floatbank8_c_level    5840 non-null   float64\n",
      " 11  primary_cleaner.state.floatbank8_d_air      5840 non-null   float64\n",
      " 12  primary_cleaner.state.floatbank8_d_level    5840 non-null   float64\n",
      " 13  rougher.input.feed_ag                       5840 non-null   float64\n",
      " 14  rougher.input.feed_pb                       5840 non-null   float64\n",
      " 15  rougher.input.feed_rate                     5816 non-null   float64\n",
      " 16  rougher.input.feed_size                     5834 non-null   float64\n",
      " 17  rougher.input.feed_sol                      5789 non-null   float64\n",
      " 18  rougher.input.feed_au                       5840 non-null   float64\n",
      " 19  rougher.input.floatbank10_sulfate           5599 non-null   float64\n",
      " 20  rougher.input.floatbank10_xanthate          5733 non-null   float64\n",
      " 21  rougher.input.floatbank11_sulfate           5801 non-null   float64\n",
      " 22  rougher.input.floatbank11_xanthate          5503 non-null   float64\n",
      " 23  rougher.state.floatbank10_a_air             5839 non-null   float64\n",
      " 24  rougher.state.floatbank10_a_level           5840 non-null   float64\n",
      " 25  rougher.state.floatbank10_b_air             5839 non-null   float64\n",
      " 26  rougher.state.floatbank10_b_level           5840 non-null   float64\n",
      " 27  rougher.state.floatbank10_c_air             5839 non-null   float64\n",
      " 28  rougher.state.floatbank10_c_level           5840 non-null   float64\n",
      " 29  rougher.state.floatbank10_d_air             5839 non-null   float64\n",
      " 30  rougher.state.floatbank10_d_level           5840 non-null   float64\n",
      " 31  rougher.state.floatbank10_e_air             5839 non-null   float64\n",
      " 32  rougher.state.floatbank10_e_level           5840 non-null   float64\n",
      " 33  rougher.state.floatbank10_f_air             5839 non-null   float64\n",
      " 34  rougher.state.floatbank10_f_level           5840 non-null   float64\n",
      " 35  secondary_cleaner.state.floatbank2_a_air    5836 non-null   float64\n",
      " 36  secondary_cleaner.state.floatbank2_a_level  5840 non-null   float64\n",
      " 37  secondary_cleaner.state.floatbank2_b_air    5833 non-null   float64\n",
      " 38  secondary_cleaner.state.floatbank2_b_level  5840 non-null   float64\n",
      " 39  secondary_cleaner.state.floatbank3_a_air    5822 non-null   float64\n",
      " 40  secondary_cleaner.state.floatbank3_a_level  5840 non-null   float64\n",
      " 41  secondary_cleaner.state.floatbank3_b_air    5840 non-null   float64\n",
      " 42  secondary_cleaner.state.floatbank3_b_level  5840 non-null   float64\n",
      " 43  secondary_cleaner.state.floatbank4_a_air    5840 non-null   float64\n",
      " 44  secondary_cleaner.state.floatbank4_a_level  5840 non-null   float64\n",
      " 45  secondary_cleaner.state.floatbank4_b_air    5840 non-null   float64\n",
      " 46  secondary_cleaner.state.floatbank4_b_level  5840 non-null   float64\n",
      " 47  secondary_cleaner.state.floatbank5_a_air    5840 non-null   float64\n",
      " 48  secondary_cleaner.state.floatbank5_a_level  5840 non-null   float64\n",
      " 49  secondary_cleaner.state.floatbank5_b_air    5840 non-null   float64\n",
      " 50  secondary_cleaner.state.floatbank5_b_level  5840 non-null   float64\n",
      " 51  secondary_cleaner.state.floatbank6_a_air    5840 non-null   float64\n",
      " 52  secondary_cleaner.state.floatbank6_a_level  5840 non-null   float64\n",
      " 53  rougher.output.recovery                     5310 non-null   float64\n",
      " 54  final.output.recovery                       5414 non-null   float64\n",
      "dtypes: float64(54), object(1)\n",
      "memory usage: 2.5+ MB\n"
     ]
    }
   ],
   "source": [
    "reco_test.info()"
   ]
  },
  {
   "cell_type": "markdown",
   "metadata": {},
   "source": [
    "#### Changing Date Type"
   ]
  },
  {
   "cell_type": "code",
   "execution_count": 19,
   "metadata": {},
   "outputs": [],
   "source": [
    "reco_test['date'] = pd.to_datetime(reco_test['date'])\n",
    "reco_train['date'] = pd.to_datetime(reco_train['date'])"
   ]
  },
  {
   "cell_type": "markdown",
   "metadata": {},
   "source": [
    "#### Checking for Missing Values "
   ]
  },
  {
   "cell_type": "code",
   "execution_count": 20,
   "metadata": {},
   "outputs": [
    {
     "data": {
      "text/html": [
       "<style type=\"text/css\">\n",
       "</style>\n",
       "<table id=\"T_e7be1_\">\n",
       "  <thead>\n",
       "    <tr>\n",
       "      <th class=\"blank level0\" >&nbsp;</th>\n",
       "      <th class=\"col_heading level0 col0\" >missing</th>\n",
       "      <th class=\"col_heading level0 col1\" >total</th>\n",
       "      <th class=\"col_heading level0 col2\" >percent</th>\n",
       "    </tr>\n",
       "  </thead>\n",
       "  <tbody>\n",
       "    <tr>\n",
       "      <th id=\"T_e7be1_level0_row0\" class=\"row_heading level0 row0\" >rougher.output.recovery</th>\n",
       "      <td id=\"T_e7be1_row0_col0\" class=\"data row0 col0\" >2,573</td>\n",
       "      <td id=\"T_e7be1_row0_col1\" class=\"data row0 col1\" >16,860</td>\n",
       "      <td id=\"T_e7be1_row0_col2\" class=\"data row0 col2\" >15.26%</td>\n",
       "    </tr>\n",
       "    <tr>\n",
       "      <th id=\"T_e7be1_level0_row1\" class=\"row_heading level0 row1\" >rougher.output.tail_ag</th>\n",
       "      <td id=\"T_e7be1_row1_col0\" class=\"data row1 col0\" >2,250</td>\n",
       "      <td id=\"T_e7be1_row1_col1\" class=\"data row1 col1\" >16,860</td>\n",
       "      <td id=\"T_e7be1_row1_col2\" class=\"data row1 col2\" >13.35%</td>\n",
       "    </tr>\n",
       "    <tr>\n",
       "      <th id=\"T_e7be1_level0_row2\" class=\"row_heading level0 row2\" >rougher.output.tail_sol</th>\n",
       "      <td id=\"T_e7be1_row2_col0\" class=\"data row2 col0\" >2,249</td>\n",
       "      <td id=\"T_e7be1_row2_col1\" class=\"data row2 col1\" >16,860</td>\n",
       "      <td id=\"T_e7be1_row2_col2\" class=\"data row2 col2\" >13.34%</td>\n",
       "    </tr>\n",
       "    <tr>\n",
       "      <th id=\"T_e7be1_level0_row3\" class=\"row_heading level0 row3\" >rougher.output.tail_au</th>\n",
       "      <td id=\"T_e7be1_row3_col0\" class=\"data row3 col0\" >2,249</td>\n",
       "      <td id=\"T_e7be1_row3_col1\" class=\"data row3 col1\" >16,860</td>\n",
       "      <td id=\"T_e7be1_row3_col2\" class=\"data row3 col2\" >13.34%</td>\n",
       "    </tr>\n",
       "    <tr>\n",
       "      <th id=\"T_e7be1_level0_row4\" class=\"row_heading level0 row4\" >secondary_cleaner.output.tail_sol</th>\n",
       "      <td id=\"T_e7be1_row4_col0\" class=\"data row4 col0\" >1,986</td>\n",
       "      <td id=\"T_e7be1_row4_col1\" class=\"data row4 col1\" >16,860</td>\n",
       "      <td id=\"T_e7be1_row4_col2\" class=\"data row4 col2\" >11.78%</td>\n",
       "    </tr>\n",
       "    <tr>\n",
       "      <th id=\"T_e7be1_level0_row5\" class=\"row_heading level0 row5\" >rougher.input.floatbank11_xanthate</th>\n",
       "      <td id=\"T_e7be1_row5_col0\" class=\"data row5 col0\" >1,904</td>\n",
       "      <td id=\"T_e7be1_row5_col1\" class=\"data row5 col1\" >16,860</td>\n",
       "      <td id=\"T_e7be1_row5_col2\" class=\"data row5 col2\" >11.29%</td>\n",
       "    </tr>\n",
       "    <tr>\n",
       "      <th id=\"T_e7be1_level0_row6\" class=\"row_heading level0 row6\" >final.output.recovery</th>\n",
       "      <td id=\"T_e7be1_row6_col0\" class=\"data row6 col0\" >1,521</td>\n",
       "      <td id=\"T_e7be1_row6_col1\" class=\"data row6 col1\" >16,860</td>\n",
       "      <td id=\"T_e7be1_row6_col2\" class=\"data row6 col2\" >9.02%</td>\n",
       "    </tr>\n",
       "    <tr>\n",
       "      <th id=\"T_e7be1_level0_row7\" class=\"row_heading level0 row7\" >primary_cleaner.input.sulfate</th>\n",
       "      <td id=\"T_e7be1_row7_col0\" class=\"data row7 col0\" >1,307</td>\n",
       "      <td id=\"T_e7be1_row7_col1\" class=\"data row7 col1\" >16,860</td>\n",
       "      <td id=\"T_e7be1_row7_col2\" class=\"data row7 col2\" >7.75%</td>\n",
       "    </tr>\n",
       "    <tr>\n",
       "      <th id=\"T_e7be1_level0_row8\" class=\"row_heading level0 row8\" >primary_cleaner.input.depressant</th>\n",
       "      <td id=\"T_e7be1_row8_col0\" class=\"data row8 col0\" >1,262</td>\n",
       "      <td id=\"T_e7be1_row8_col1\" class=\"data row8 col1\" >16,860</td>\n",
       "      <td id=\"T_e7be1_row8_col2\" class=\"data row8 col2\" >7.49%</td>\n",
       "    </tr>\n",
       "    <tr>\n",
       "      <th id=\"T_e7be1_level0_row9\" class=\"row_heading level0 row9\" >rougher.calculation.au_pb_ratio</th>\n",
       "      <td id=\"T_e7be1_row9_col0\" class=\"data row9 col0\" >1,242</td>\n",
       "      <td id=\"T_e7be1_row9_col1\" class=\"data row9 col1\" >16,860</td>\n",
       "      <td id=\"T_e7be1_row9_col2\" class=\"data row9 col2\" >7.37%</td>\n",
       "    </tr>\n",
       "    <tr>\n",
       "      <th id=\"T_e7be1_level0_row10\" class=\"row_heading level0 row10\" >rougher.input.floatbank10_sulfate</th>\n",
       "      <td id=\"T_e7be1_row10_col0\" class=\"data row10 col0\" >1,044</td>\n",
       "      <td id=\"T_e7be1_row10_col1\" class=\"data row10 col1\" >16,860</td>\n",
       "      <td id=\"T_e7be1_row10_col2\" class=\"data row10 col2\" >6.19%</td>\n",
       "    </tr>\n",
       "    <tr>\n",
       "      <th id=\"T_e7be1_level0_row11\" class=\"row_heading level0 row11\" >primary_cleaner.input.xanthate</th>\n",
       "      <td id=\"T_e7be1_row11_col0\" class=\"data row11 col0\" >985</td>\n",
       "      <td id=\"T_e7be1_row11_col1\" class=\"data row11 col1\" >16,860</td>\n",
       "      <td id=\"T_e7be1_row11_col2\" class=\"data row11 col2\" >5.84%</td>\n",
       "    </tr>\n",
       "    <tr>\n",
       "      <th id=\"T_e7be1_level0_row12\" class=\"row_heading level0 row12\" >primary_cleaner.output.concentrate_sol</th>\n",
       "      <td id=\"T_e7be1_row12_col0\" class=\"data row12 col0\" >636</td>\n",
       "      <td id=\"T_e7be1_row12_col1\" class=\"data row12 col1\" >16,860</td>\n",
       "      <td id=\"T_e7be1_row12_col2\" class=\"data row12 col2\" >3.77%</td>\n",
       "    </tr>\n",
       "    <tr>\n",
       "      <th id=\"T_e7be1_level0_row13\" class=\"row_heading level0 row13\" >rougher.input.floatbank11_sulfate</th>\n",
       "      <td id=\"T_e7be1_row13_col0\" class=\"data row13 col0\" >623</td>\n",
       "      <td id=\"T_e7be1_row13_col1\" class=\"data row13 col1\" >16,860</td>\n",
       "      <td id=\"T_e7be1_row13_col2\" class=\"data row13 col2\" >3.70%</td>\n",
       "    </tr>\n",
       "    <tr>\n",
       "      <th id=\"T_e7be1_level0_row14\" class=\"row_heading level0 row14\" >rougher.state.floatbank10_e_air</th>\n",
       "      <td id=\"T_e7be1_row14_col0\" class=\"data row14 col0\" >603</td>\n",
       "      <td id=\"T_e7be1_row14_col1\" class=\"data row14 col1\" >16,860</td>\n",
       "      <td id=\"T_e7be1_row14_col2\" class=\"data row14 col2\" >3.58%</td>\n",
       "    </tr>\n",
       "    <tr>\n",
       "      <th id=\"T_e7be1_level0_row15\" class=\"row_heading level0 row15\" >rougher.input.feed_rate</th>\n",
       "      <td id=\"T_e7be1_row15_col0\" class=\"data row15 col0\" >513</td>\n",
       "      <td id=\"T_e7be1_row15_col1\" class=\"data row15 col1\" >16,860</td>\n",
       "      <td id=\"T_e7be1_row15_col2\" class=\"data row15 col2\" >3.04%</td>\n",
       "    </tr>\n",
       "    <tr>\n",
       "      <th id=\"T_e7be1_level0_row16\" class=\"row_heading level0 row16\" >rougher.input.feed_size</th>\n",
       "      <td id=\"T_e7be1_row16_col0\" class=\"data row16 col0\" >417</td>\n",
       "      <td id=\"T_e7be1_row16_col1\" class=\"data row16 col1\" >16,860</td>\n",
       "      <td id=\"T_e7be1_row16_col2\" class=\"data row16 col2\" >2.47%</td>\n",
       "    </tr>\n",
       "    <tr>\n",
       "      <th id=\"T_e7be1_level0_row17\" class=\"row_heading level0 row17\" >final.output.concentrate_sol</th>\n",
       "      <td id=\"T_e7be1_row17_col0\" class=\"data row17 col0\" >370</td>\n",
       "      <td id=\"T_e7be1_row17_col1\" class=\"data row17 col1\" >16,860</td>\n",
       "      <td id=\"T_e7be1_row17_col2\" class=\"data row17 col2\" >2.19%</td>\n",
       "    </tr>\n",
       "    <tr>\n",
       "      <th id=\"T_e7be1_level0_row18\" class=\"row_heading level0 row18\" >secondary_cleaner.state.floatbank2_a_air</th>\n",
       "      <td id=\"T_e7be1_row18_col0\" class=\"data row18 col0\" >363</td>\n",
       "      <td id=\"T_e7be1_row18_col1\" class=\"data row18 col1\" >16,860</td>\n",
       "      <td id=\"T_e7be1_row18_col2\" class=\"data row18 col2\" >2.15%</td>\n",
       "    </tr>\n",
       "    <tr>\n",
       "      <th id=\"T_e7be1_level0_row19\" class=\"row_heading level0 row19\" >primary_cleaner.output.concentrate_pb</th>\n",
       "      <td id=\"T_e7be1_row19_col0\" class=\"data row19 col0\" >358</td>\n",
       "      <td id=\"T_e7be1_row19_col1\" class=\"data row19 col1\" >16,860</td>\n",
       "      <td id=\"T_e7be1_row19_col2\" class=\"data row19 col2\" >2.12%</td>\n",
       "    </tr>\n",
       "    <tr>\n",
       "      <th id=\"T_e7be1_level0_row20\" class=\"row_heading level0 row20\" >rougher.input.floatbank10_xanthate</th>\n",
       "      <td id=\"T_e7be1_row20_col0\" class=\"data row20 col0\" >346</td>\n",
       "      <td id=\"T_e7be1_row20_col1\" class=\"data row20 col1\" >16,860</td>\n",
       "      <td id=\"T_e7be1_row20_col2\" class=\"data row20 col2\" >2.05%</td>\n",
       "    </tr>\n",
       "    <tr>\n",
       "      <th id=\"T_e7be1_level0_row21\" class=\"row_heading level0 row21\" >rougher.input.feed_sol</th>\n",
       "      <td id=\"T_e7be1_row21_col0\" class=\"data row21 col0\" >292</td>\n",
       "      <td id=\"T_e7be1_row21_col1\" class=\"data row21 col1\" >16,860</td>\n",
       "      <td id=\"T_e7be1_row21_col2\" class=\"data row21 col2\" >1.73%</td>\n",
       "    </tr>\n",
       "    <tr>\n",
       "      <th id=\"T_e7be1_level0_row22\" class=\"row_heading level0 row22\" >primary_cleaner.output.tail_sol</th>\n",
       "      <td id=\"T_e7be1_row22_col0\" class=\"data row22 col0\" >281</td>\n",
       "      <td id=\"T_e7be1_row22_col1\" class=\"data row22 col1\" >16,860</td>\n",
       "      <td id=\"T_e7be1_row22_col2\" class=\"data row22 col2\" >1.67%</td>\n",
       "    </tr>\n",
       "    <tr>\n",
       "      <th id=\"T_e7be1_level0_row23\" class=\"row_heading level0 row23\" >rougher.input.feed_pb</th>\n",
       "      <td id=\"T_e7be1_row23_col0\" class=\"data row23 col0\" >228</td>\n",
       "      <td id=\"T_e7be1_row23_col1\" class=\"data row23 col1\" >16,860</td>\n",
       "      <td id=\"T_e7be1_row23_col2\" class=\"data row23 col2\" >1.35%</td>\n",
       "    </tr>\n",
       "    <tr>\n",
       "      <th id=\"T_e7be1_level0_row24\" class=\"row_heading level0 row24\" >final.output.tail_pb</th>\n",
       "      <td id=\"T_e7be1_row24_col0\" class=\"data row24 col0\" >183</td>\n",
       "      <td id=\"T_e7be1_row24_col1\" class=\"data row24 col1\" >16,860</td>\n",
       "      <td id=\"T_e7be1_row24_col2\" class=\"data row24 col2\" >1.09%</td>\n",
       "    </tr>\n",
       "    <tr>\n",
       "      <th id=\"T_e7be1_level0_row25\" class=\"row_heading level0 row25\" >rougher.output.concentrate_sol</th>\n",
       "      <td id=\"T_e7be1_row25_col0\" class=\"data row25 col0\" >162</td>\n",
       "      <td id=\"T_e7be1_row25_col1\" class=\"data row25 col1\" >16,860</td>\n",
       "      <td id=\"T_e7be1_row25_col2\" class=\"data row25 col2\" >0.96%</td>\n",
       "    </tr>\n",
       "    <tr>\n",
       "      <th id=\"T_e7be1_level0_row26\" class=\"row_heading level0 row26\" >secondary_cleaner.state.floatbank2_b_air</th>\n",
       "      <td id=\"T_e7be1_row26_col0\" class=\"data row26 col0\" >155</td>\n",
       "      <td id=\"T_e7be1_row26_col1\" class=\"data row26 col1\" >16,860</td>\n",
       "      <td id=\"T_e7be1_row26_col2\" class=\"data row26 col2\" >0.92%</td>\n",
       "    </tr>\n",
       "    <tr>\n",
       "      <th id=\"T_e7be1_level0_row27\" class=\"row_heading level0 row27\" >final.output.tail_sol</th>\n",
       "      <td id=\"T_e7be1_row27_col0\" class=\"data row27 col0\" >145</td>\n",
       "      <td id=\"T_e7be1_row27_col1\" class=\"data row27 col1\" >16,860</td>\n",
       "      <td id=\"T_e7be1_row27_col2\" class=\"data row27 col2\" >0.86%</td>\n",
       "    </tr>\n",
       "    <tr>\n",
       "      <th id=\"T_e7be1_level0_row28\" class=\"row_heading level0 row28\" >secondary_cleaner.state.floatbank4_a_air</th>\n",
       "      <td id=\"T_e7be1_row28_col0\" class=\"data row28 col0\" >129</td>\n",
       "      <td id=\"T_e7be1_row28_col1\" class=\"data row28 col1\" >16,860</td>\n",
       "      <td id=\"T_e7be1_row28_col2\" class=\"data row28 col2\" >0.77%</td>\n",
       "    </tr>\n",
       "    <tr>\n",
       "      <th id=\"T_e7be1_level0_row29\" class=\"row_heading level0 row29\" >secondary_cleaner.state.floatbank3_a_level</th>\n",
       "      <td id=\"T_e7be1_row29_col0\" class=\"data row29 col0\" >113</td>\n",
       "      <td id=\"T_e7be1_row29_col1\" class=\"data row29 col1\" >16,860</td>\n",
       "      <td id=\"T_e7be1_row29_col2\" class=\"data row29 col2\" >0.67%</td>\n",
       "    </tr>\n",
       "    <tr>\n",
       "      <th id=\"T_e7be1_level0_row30\" class=\"row_heading level0 row30\" >secondary_cleaner.state.floatbank4_a_level</th>\n",
       "      <td id=\"T_e7be1_row30_col0\" class=\"data row30 col0\" >113</td>\n",
       "      <td id=\"T_e7be1_row30_col1\" class=\"data row30 col1\" >16,860</td>\n",
       "      <td id=\"T_e7be1_row30_col2\" class=\"data row30 col2\" >0.67%</td>\n",
       "    </tr>\n",
       "    <tr>\n",
       "      <th id=\"T_e7be1_level0_row31\" class=\"row_heading level0 row31\" >secondary_cleaner.state.floatbank2_b_level</th>\n",
       "      <td id=\"T_e7be1_row31_col0\" class=\"data row31 col0\" >112</td>\n",
       "      <td id=\"T_e7be1_row31_col1\" class=\"data row31 col1\" >16,860</td>\n",
       "      <td id=\"T_e7be1_row31_col2\" class=\"data row31 col2\" >0.66%</td>\n",
       "    </tr>\n",
       "    <tr>\n",
       "      <th id=\"T_e7be1_level0_row32\" class=\"row_heading level0 row32\" >secondary_cleaner.state.floatbank3_b_level</th>\n",
       "      <td id=\"T_e7be1_row32_col0\" class=\"data row32 col0\" >110</td>\n",
       "      <td id=\"T_e7be1_row32_col1\" class=\"data row32 col1\" >16,860</td>\n",
       "      <td id=\"T_e7be1_row32_col2\" class=\"data row32 col2\" >0.65%</td>\n",
       "    </tr>\n",
       "    <tr>\n",
       "      <th id=\"T_e7be1_level0_row33\" class=\"row_heading level0 row33\" >secondary_cleaner.state.floatbank2_a_level</th>\n",
       "      <td id=\"T_e7be1_row33_col0\" class=\"data row33 col0\" >109</td>\n",
       "      <td id=\"T_e7be1_row33_col1\" class=\"data row33 col1\" >16,860</td>\n",
       "      <td id=\"T_e7be1_row33_col2\" class=\"data row33 col2\" >0.65%</td>\n",
       "    </tr>\n",
       "    <tr>\n",
       "      <th id=\"T_e7be1_level0_row34\" class=\"row_heading level0 row34\" >secondary_cleaner.state.floatbank3_b_air</th>\n",
       "      <td id=\"T_e7be1_row34_col0\" class=\"data row34 col0\" >108</td>\n",
       "      <td id=\"T_e7be1_row34_col1\" class=\"data row34 col1\" >16,860</td>\n",
       "      <td id=\"T_e7be1_row34_col2\" class=\"data row34 col2\" >0.64%</td>\n",
       "    </tr>\n",
       "    <tr>\n",
       "      <th id=\"T_e7be1_level0_row35\" class=\"row_heading level0 row35\" >secondary_cleaner.state.floatbank6_a_air</th>\n",
       "      <td id=\"T_e7be1_row35_col0\" class=\"data row35 col0\" >103</td>\n",
       "      <td id=\"T_e7be1_row35_col1\" class=\"data row35 col1\" >16,860</td>\n",
       "      <td id=\"T_e7be1_row35_col2\" class=\"data row35 col2\" >0.61%</td>\n",
       "    </tr>\n",
       "    <tr>\n",
       "      <th id=\"T_e7be1_level0_row36\" class=\"row_heading level0 row36\" >primary_cleaner.output.tail_pb</th>\n",
       "      <td id=\"T_e7be1_row36_col0\" class=\"data row36 col0\" >99</td>\n",
       "      <td id=\"T_e7be1_row36_col1\" class=\"data row36 col1\" >16,860</td>\n",
       "      <td id=\"T_e7be1_row36_col2\" class=\"data row36 col2\" >0.59%</td>\n",
       "    </tr>\n",
       "    <tr>\n",
       "      <th id=\"T_e7be1_level0_row37\" class=\"row_heading level0 row37\" >secondary_cleaner.state.floatbank3_a_air</th>\n",
       "      <td id=\"T_e7be1_row37_col0\" class=\"data row37 col0\" >97</td>\n",
       "      <td id=\"T_e7be1_row37_col1\" class=\"data row37 col1\" >16,860</td>\n",
       "      <td id=\"T_e7be1_row37_col2\" class=\"data row37 col2\" >0.58%</td>\n",
       "    </tr>\n",
       "    <tr>\n",
       "      <th id=\"T_e7be1_level0_row38\" class=\"row_heading level0 row38\" >secondary_cleaner.output.tail_pb</th>\n",
       "      <td id=\"T_e7be1_row38_col0\" class=\"data row38 col0\" >96</td>\n",
       "      <td id=\"T_e7be1_row38_col1\" class=\"data row38 col1\" >16,860</td>\n",
       "      <td id=\"T_e7be1_row38_col2\" class=\"data row38 col2\" >0.57%</td>\n",
       "    </tr>\n",
       "    <tr>\n",
       "      <th id=\"T_e7be1_level0_row39\" class=\"row_heading level0 row39\" >secondary_cleaner.state.floatbank4_b_level</th>\n",
       "      <td id=\"T_e7be1_row39_col0\" class=\"data row39 col0\" >93</td>\n",
       "      <td id=\"T_e7be1_row39_col1\" class=\"data row39 col1\" >16,860</td>\n",
       "      <td id=\"T_e7be1_row39_col2\" class=\"data row39 col2\" >0.55%</td>\n",
       "    </tr>\n",
       "    <tr>\n",
       "      <th id=\"T_e7be1_level0_row40\" class=\"row_heading level0 row40\" >secondary_cleaner.state.floatbank4_b_air</th>\n",
       "      <td id=\"T_e7be1_row40_col0\" class=\"data row40 col0\" >92</td>\n",
       "      <td id=\"T_e7be1_row40_col1\" class=\"data row40 col1\" >16,860</td>\n",
       "      <td id=\"T_e7be1_row40_col2\" class=\"data row40 col2\" >0.55%</td>\n",
       "    </tr>\n",
       "    <tr>\n",
       "      <th id=\"T_e7be1_level0_row41\" class=\"row_heading level0 row41\" >secondary_cleaner.state.floatbank5_b_air</th>\n",
       "      <td id=\"T_e7be1_row41_col0\" class=\"data row41 col0\" >85</td>\n",
       "      <td id=\"T_e7be1_row41_col1\" class=\"data row41 col1\" >16,860</td>\n",
       "      <td id=\"T_e7be1_row41_col2\" class=\"data row41 col2\" >0.50%</td>\n",
       "    </tr>\n",
       "    <tr>\n",
       "      <th id=\"T_e7be1_level0_row42\" class=\"row_heading level0 row42\" >secondary_cleaner.state.floatbank5_a_air</th>\n",
       "      <td id=\"T_e7be1_row42_col0\" class=\"data row42 col0\" >85</td>\n",
       "      <td id=\"T_e7be1_row42_col1\" class=\"data row42 col1\" >16,860</td>\n",
       "      <td id=\"T_e7be1_row42_col2\" class=\"data row42 col2\" >0.50%</td>\n",
       "    </tr>\n",
       "    <tr>\n",
       "      <th id=\"T_e7be1_level0_row43\" class=\"row_heading level0 row43\" >secondary_cleaner.state.floatbank5_a_level</th>\n",
       "      <td id=\"T_e7be1_row43_col0\" class=\"data row43 col0\" >85</td>\n",
       "      <td id=\"T_e7be1_row43_col1\" class=\"data row43 col1\" >16,860</td>\n",
       "      <td id=\"T_e7be1_row43_col2\" class=\"data row43 col2\" >0.50%</td>\n",
       "    </tr>\n",
       "    <tr>\n",
       "      <th id=\"T_e7be1_level0_row44\" class=\"row_heading level0 row44\" >secondary_cleaner.state.floatbank6_a_level</th>\n",
       "      <td id=\"T_e7be1_row44_col0\" class=\"data row44 col0\" >85</td>\n",
       "      <td id=\"T_e7be1_row44_col1\" class=\"data row44 col1\" >16,860</td>\n",
       "      <td id=\"T_e7be1_row44_col2\" class=\"data row44 col2\" >0.50%</td>\n",
       "    </tr>\n",
       "    <tr>\n",
       "      <th id=\"T_e7be1_level0_row45\" class=\"row_heading level0 row45\" >secondary_cleaner.state.floatbank5_b_level</th>\n",
       "      <td id=\"T_e7be1_row45_col0\" class=\"data row45 col0\" >84</td>\n",
       "      <td id=\"T_e7be1_row45_col1\" class=\"data row45 col1\" >16,860</td>\n",
       "      <td id=\"T_e7be1_row45_col2\" class=\"data row45 col2\" >0.50%</td>\n",
       "    </tr>\n",
       "    <tr>\n",
       "      <th id=\"T_e7be1_level0_row46\" class=\"row_heading level0 row46\" >secondary_cleaner.output.tail_ag</th>\n",
       "      <td id=\"T_e7be1_row46_col0\" class=\"data row46 col0\" >84</td>\n",
       "      <td id=\"T_e7be1_row46_col1\" class=\"data row46 col1\" >16,860</td>\n",
       "      <td id=\"T_e7be1_row46_col2\" class=\"data row46 col2\" >0.50%</td>\n",
       "    </tr>\n",
       "    <tr>\n",
       "      <th id=\"T_e7be1_level0_row47\" class=\"row_heading level0 row47\" >primary_cleaner.output.tail_ag</th>\n",
       "      <td id=\"T_e7be1_row47_col0\" class=\"data row47 col0\" >83</td>\n",
       "      <td id=\"T_e7be1_row47_col1\" class=\"data row47 col1\" >16,860</td>\n",
       "      <td id=\"T_e7be1_row47_col2\" class=\"data row47 col2\" >0.49%</td>\n",
       "    </tr>\n",
       "    <tr>\n",
       "      <th id=\"T_e7be1_level0_row48\" class=\"row_heading level0 row48\" >primary_cleaner.output.tail_au</th>\n",
       "      <td id=\"T_e7be1_row48_col0\" class=\"data row48 col0\" >83</td>\n",
       "      <td id=\"T_e7be1_row48_col1\" class=\"data row48 col1\" >16,860</td>\n",
       "      <td id=\"T_e7be1_row48_col2\" class=\"data row48 col2\" >0.49%</td>\n",
       "    </tr>\n",
       "    <tr>\n",
       "      <th id=\"T_e7be1_level0_row49\" class=\"row_heading level0 row49\" >rougher.input.feed_au</th>\n",
       "      <td id=\"T_e7be1_row49_col0\" class=\"data row49 col0\" >83</td>\n",
       "      <td id=\"T_e7be1_row49_col1\" class=\"data row49 col1\" >16,860</td>\n",
       "      <td id=\"T_e7be1_row49_col2\" class=\"data row49 col2\" >0.49%</td>\n",
       "    </tr>\n",
       "    <tr>\n",
       "      <th id=\"T_e7be1_level0_row50\" class=\"row_heading level0 row50\" >rougher.output.concentrate_pb</th>\n",
       "      <td id=\"T_e7be1_row50_col0\" class=\"data row50 col0\" >82</td>\n",
       "      <td id=\"T_e7be1_row50_col1\" class=\"data row50 col1\" >16,860</td>\n",
       "      <td id=\"T_e7be1_row50_col2\" class=\"data row50 col2\" >0.49%</td>\n",
       "    </tr>\n",
       "    <tr>\n",
       "      <th id=\"T_e7be1_level0_row51\" class=\"row_heading level0 row51\" >secondary_cleaner.output.tail_au</th>\n",
       "      <td id=\"T_e7be1_row51_col0\" class=\"data row51 col0\" >82</td>\n",
       "      <td id=\"T_e7be1_row51_col1\" class=\"data row51 col1\" >16,860</td>\n",
       "      <td id=\"T_e7be1_row51_col2\" class=\"data row51 col2\" >0.49%</td>\n",
       "    </tr>\n",
       "    <tr>\n",
       "      <th id=\"T_e7be1_level0_row52\" class=\"row_heading level0 row52\" >rougher.output.concentrate_ag</th>\n",
       "      <td id=\"T_e7be1_row52_col0\" class=\"data row52 col0\" >82</td>\n",
       "      <td id=\"T_e7be1_row52_col1\" class=\"data row52 col1\" >16,860</td>\n",
       "      <td id=\"T_e7be1_row52_col2\" class=\"data row52 col2\" >0.49%</td>\n",
       "    </tr>\n",
       "    <tr>\n",
       "      <th id=\"T_e7be1_level0_row53\" class=\"row_heading level0 row53\" >primary_cleaner.output.concentrate_ag</th>\n",
       "      <td id=\"T_e7be1_row53_col0\" class=\"data row53 col0\" >82</td>\n",
       "      <td id=\"T_e7be1_row53_col1\" class=\"data row53 col1\" >16,860</td>\n",
       "      <td id=\"T_e7be1_row53_col2\" class=\"data row53 col2\" >0.49%</td>\n",
       "    </tr>\n",
       "    <tr>\n",
       "      <th id=\"T_e7be1_level0_row54\" class=\"row_heading level0 row54\" >primary_cleaner.output.concentrate_au</th>\n",
       "      <td id=\"T_e7be1_row54_col0\" class=\"data row54 col0\" >82</td>\n",
       "      <td id=\"T_e7be1_row54_col1\" class=\"data row54 col1\" >16,860</td>\n",
       "      <td id=\"T_e7be1_row54_col2\" class=\"data row54 col2\" >0.49%</td>\n",
       "    </tr>\n",
       "    <tr>\n",
       "      <th id=\"T_e7be1_level0_row55\" class=\"row_heading level0 row55\" >rougher.output.concentrate_au</th>\n",
       "      <td id=\"T_e7be1_row55_col0\" class=\"data row55 col0\" >82</td>\n",
       "      <td id=\"T_e7be1_row55_col1\" class=\"data row55 col1\" >16,860</td>\n",
       "      <td id=\"T_e7be1_row55_col2\" class=\"data row55 col2\" >0.49%</td>\n",
       "    </tr>\n",
       "    <tr>\n",
       "      <th id=\"T_e7be1_level0_row56\" class=\"row_heading level0 row56\" >rougher.output.tail_pb</th>\n",
       "      <td id=\"T_e7be1_row56_col0\" class=\"data row56 col0\" >82</td>\n",
       "      <td id=\"T_e7be1_row56_col1\" class=\"data row56 col1\" >16,860</td>\n",
       "      <td id=\"T_e7be1_row56_col2\" class=\"data row56 col2\" >0.49%</td>\n",
       "    </tr>\n",
       "    <tr>\n",
       "      <th id=\"T_e7be1_level0_row57\" class=\"row_heading level0 row57\" >rougher.input.feed_ag</th>\n",
       "      <td id=\"T_e7be1_row57_col0\" class=\"data row57 col0\" >82</td>\n",
       "      <td id=\"T_e7be1_row57_col1\" class=\"data row57 col1\" >16,860</td>\n",
       "      <td id=\"T_e7be1_row57_col2\" class=\"data row57 col2\" >0.49%</td>\n",
       "    </tr>\n",
       "    <tr>\n",
       "      <th id=\"T_e7be1_level0_row58\" class=\"row_heading level0 row58\" >final.output.concentrate_ag</th>\n",
       "      <td id=\"T_e7be1_row58_col0\" class=\"data row58 col0\" >72</td>\n",
       "      <td id=\"T_e7be1_row58_col1\" class=\"data row58 col1\" >16,860</td>\n",
       "      <td id=\"T_e7be1_row58_col2\" class=\"data row58 col2\" >0.43%</td>\n",
       "    </tr>\n",
       "    <tr>\n",
       "      <th id=\"T_e7be1_level0_row59\" class=\"row_heading level0 row59\" >final.output.concentrate_pb</th>\n",
       "      <td id=\"T_e7be1_row59_col0\" class=\"data row59 col0\" >72</td>\n",
       "      <td id=\"T_e7be1_row59_col1\" class=\"data row59 col1\" >16,860</td>\n",
       "      <td id=\"T_e7be1_row59_col2\" class=\"data row59 col2\" >0.43%</td>\n",
       "    </tr>\n",
       "    <tr>\n",
       "      <th id=\"T_e7be1_level0_row60\" class=\"row_heading level0 row60\" >final.output.concentrate_au</th>\n",
       "      <td id=\"T_e7be1_row60_col0\" class=\"data row60 col0\" >71</td>\n",
       "      <td id=\"T_e7be1_row60_col1\" class=\"data row60 col1\" >16,860</td>\n",
       "      <td id=\"T_e7be1_row60_col2\" class=\"data row60 col2\" >0.42%</td>\n",
       "    </tr>\n",
       "    <tr>\n",
       "      <th id=\"T_e7be1_level0_row61\" class=\"row_heading level0 row61\" >final.output.tail_au</th>\n",
       "      <td id=\"T_e7be1_row61_col0\" class=\"data row61 col0\" >66</td>\n",
       "      <td id=\"T_e7be1_row61_col1\" class=\"data row61 col1\" >16,860</td>\n",
       "      <td id=\"T_e7be1_row61_col2\" class=\"data row61 col2\" >0.39%</td>\n",
       "    </tr>\n",
       "    <tr>\n",
       "      <th id=\"T_e7be1_level0_row62\" class=\"row_heading level0 row62\" >final.output.tail_ag</th>\n",
       "      <td id=\"T_e7be1_row62_col0\" class=\"data row62 col0\" >66</td>\n",
       "      <td id=\"T_e7be1_row62_col1\" class=\"data row62 col1\" >16,860</td>\n",
       "      <td id=\"T_e7be1_row62_col2\" class=\"data row62 col2\" >0.39%</td>\n",
       "    </tr>\n",
       "    <tr>\n",
       "      <th id=\"T_e7be1_level0_row63\" class=\"row_heading level0 row63\" >rougher.state.floatbank10_d_air</th>\n",
       "      <td id=\"T_e7be1_row63_col0\" class=\"data row63 col0\" >58</td>\n",
       "      <td id=\"T_e7be1_row63_col1\" class=\"data row63 col1\" >16,860</td>\n",
       "      <td id=\"T_e7be1_row63_col2\" class=\"data row63 col2\" >0.34%</td>\n",
       "    </tr>\n",
       "    <tr>\n",
       "      <th id=\"T_e7be1_level0_row64\" class=\"row_heading level0 row64\" >rougher.state.floatbank10_f_air</th>\n",
       "      <td id=\"T_e7be1_row64_col0\" class=\"data row64 col0\" >58</td>\n",
       "      <td id=\"T_e7be1_row64_col1\" class=\"data row64 col1\" >16,860</td>\n",
       "      <td id=\"T_e7be1_row64_col2\" class=\"data row64 col2\" >0.34%</td>\n",
       "    </tr>\n",
       "    <tr>\n",
       "      <th id=\"T_e7be1_level0_row65\" class=\"row_heading level0 row65\" >rougher.state.floatbank10_f_level</th>\n",
       "      <td id=\"T_e7be1_row65_col0\" class=\"data row65 col0\" >58</td>\n",
       "      <td id=\"T_e7be1_row65_col1\" class=\"data row65 col1\" >16,860</td>\n",
       "      <td id=\"T_e7be1_row65_col2\" class=\"data row65 col2\" >0.34%</td>\n",
       "    </tr>\n",
       "    <tr>\n",
       "      <th id=\"T_e7be1_level0_row66\" class=\"row_heading level0 row66\" >rougher.state.floatbank10_b_level</th>\n",
       "      <td id=\"T_e7be1_row66_col0\" class=\"data row66 col0\" >53</td>\n",
       "      <td id=\"T_e7be1_row66_col1\" class=\"data row66 col1\" >16,860</td>\n",
       "      <td id=\"T_e7be1_row66_col2\" class=\"data row66 col2\" >0.31%</td>\n",
       "    </tr>\n",
       "    <tr>\n",
       "      <th id=\"T_e7be1_level0_row67\" class=\"row_heading level0 row67\" >rougher.state.floatbank10_b_air</th>\n",
       "      <td id=\"T_e7be1_row67_col0\" class=\"data row67 col0\" >53</td>\n",
       "      <td id=\"T_e7be1_row67_col1\" class=\"data row67 col1\" >16,860</td>\n",
       "      <td id=\"T_e7be1_row67_col2\" class=\"data row67 col2\" >0.31%</td>\n",
       "    </tr>\n",
       "    <tr>\n",
       "      <th id=\"T_e7be1_level0_row68\" class=\"row_heading level0 row68\" >rougher.state.floatbank10_a_air</th>\n",
       "      <td id=\"T_e7be1_row68_col0\" class=\"data row68 col0\" >53</td>\n",
       "      <td id=\"T_e7be1_row68_col1\" class=\"data row68 col1\" >16,860</td>\n",
       "      <td id=\"T_e7be1_row68_col2\" class=\"data row68 col2\" >0.31%</td>\n",
       "    </tr>\n",
       "    <tr>\n",
       "      <th id=\"T_e7be1_level0_row69\" class=\"row_heading level0 row69\" >rougher.state.floatbank10_a_level</th>\n",
       "      <td id=\"T_e7be1_row69_col0\" class=\"data row69 col0\" >53</td>\n",
       "      <td id=\"T_e7be1_row69_col1\" class=\"data row69 col1\" >16,860</td>\n",
       "      <td id=\"T_e7be1_row69_col2\" class=\"data row69 col2\" >0.31%</td>\n",
       "    </tr>\n",
       "    <tr>\n",
       "      <th id=\"T_e7be1_level0_row70\" class=\"row_heading level0 row70\" >rougher.state.floatbank10_c_air</th>\n",
       "      <td id=\"T_e7be1_row70_col0\" class=\"data row70 col0\" >53</td>\n",
       "      <td id=\"T_e7be1_row70_col1\" class=\"data row70 col1\" >16,860</td>\n",
       "      <td id=\"T_e7be1_row70_col2\" class=\"data row70 col2\" >0.31%</td>\n",
       "    </tr>\n",
       "    <tr>\n",
       "      <th id=\"T_e7be1_level0_row71\" class=\"row_heading level0 row71\" >rougher.state.floatbank10_d_level</th>\n",
       "      <td id=\"T_e7be1_row71_col0\" class=\"data row71 col0\" >51</td>\n",
       "      <td id=\"T_e7be1_row71_col1\" class=\"data row71 col1\" >16,860</td>\n",
       "      <td id=\"T_e7be1_row71_col2\" class=\"data row71 col2\" >0.30%</td>\n",
       "    </tr>\n",
       "    <tr>\n",
       "      <th id=\"T_e7be1_level0_row72\" class=\"row_heading level0 row72\" >rougher.state.floatbank10_e_level</th>\n",
       "      <td id=\"T_e7be1_row72_col0\" class=\"data row72 col0\" >51</td>\n",
       "      <td id=\"T_e7be1_row72_col1\" class=\"data row72 col1\" >16,860</td>\n",
       "      <td id=\"T_e7be1_row72_col2\" class=\"data row72 col2\" >0.30%</td>\n",
       "    </tr>\n",
       "    <tr>\n",
       "      <th id=\"T_e7be1_level0_row73\" class=\"row_heading level0 row73\" >rougher.state.floatbank10_c_level</th>\n",
       "      <td id=\"T_e7be1_row73_col0\" class=\"data row73 col0\" >46</td>\n",
       "      <td id=\"T_e7be1_row73_col1\" class=\"data row73 col1\" >16,860</td>\n",
       "      <td id=\"T_e7be1_row73_col2\" class=\"data row73 col2\" >0.27%</td>\n",
       "    </tr>\n",
       "    <tr>\n",
       "      <th id=\"T_e7be1_level0_row74\" class=\"row_heading level0 row74\" >primary_cleaner.state.floatbank8_b_air</th>\n",
       "      <td id=\"T_e7be1_row74_col0\" class=\"data row74 col0\" >40</td>\n",
       "      <td id=\"T_e7be1_row74_col1\" class=\"data row74 col1\" >16,860</td>\n",
       "      <td id=\"T_e7be1_row74_col2\" class=\"data row74 col2\" >0.24%</td>\n",
       "    </tr>\n",
       "    <tr>\n",
       "      <th id=\"T_e7be1_level0_row75\" class=\"row_heading level0 row75\" >primary_cleaner.state.floatbank8_a_air</th>\n",
       "      <td id=\"T_e7be1_row75_col0\" class=\"data row75 col0\" >40</td>\n",
       "      <td id=\"T_e7be1_row75_col1\" class=\"data row75 col1\" >16,860</td>\n",
       "      <td id=\"T_e7be1_row75_col2\" class=\"data row75 col2\" >0.24%</td>\n",
       "    </tr>\n",
       "    <tr>\n",
       "      <th id=\"T_e7be1_level0_row76\" class=\"row_heading level0 row76\" >primary_cleaner.state.floatbank8_d_air</th>\n",
       "      <td id=\"T_e7be1_row76_col0\" class=\"data row76 col0\" >39</td>\n",
       "      <td id=\"T_e7be1_row76_col1\" class=\"data row76 col1\" >16,860</td>\n",
       "      <td id=\"T_e7be1_row76_col2\" class=\"data row76 col2\" >0.23%</td>\n",
       "    </tr>\n",
       "    <tr>\n",
       "      <th id=\"T_e7be1_level0_row77\" class=\"row_heading level0 row77\" >primary_cleaner.state.floatbank8_c_air</th>\n",
       "      <td id=\"T_e7be1_row77_col0\" class=\"data row77 col0\" >38</td>\n",
       "      <td id=\"T_e7be1_row77_col1\" class=\"data row77 col1\" >16,860</td>\n",
       "      <td id=\"T_e7be1_row77_col2\" class=\"data row77 col2\" >0.23%</td>\n",
       "    </tr>\n",
       "    <tr>\n",
       "      <th id=\"T_e7be1_level0_row78\" class=\"row_heading level0 row78\" >primary_cleaner.state.floatbank8_a_level</th>\n",
       "      <td id=\"T_e7be1_row78_col0\" class=\"data row78 col0\" >33</td>\n",
       "      <td id=\"T_e7be1_row78_col1\" class=\"data row78 col1\" >16,860</td>\n",
       "      <td id=\"T_e7be1_row78_col2\" class=\"data row78 col2\" >0.20%</td>\n",
       "    </tr>\n",
       "    <tr>\n",
       "      <th id=\"T_e7be1_level0_row79\" class=\"row_heading level0 row79\" >rougher.calculation.sulfate_to_au_concentrate</th>\n",
       "      <td id=\"T_e7be1_row79_col0\" class=\"data row79 col0\" >27</td>\n",
       "      <td id=\"T_e7be1_row79_col1\" class=\"data row79 col1\" >16,860</td>\n",
       "      <td id=\"T_e7be1_row79_col2\" class=\"data row79 col2\" >0.16%</td>\n",
       "    </tr>\n",
       "    <tr>\n",
       "      <th id=\"T_e7be1_level0_row80\" class=\"row_heading level0 row80\" >primary_cleaner.state.floatbank8_b_level</th>\n",
       "      <td id=\"T_e7be1_row80_col0\" class=\"data row80 col0\" >27</td>\n",
       "      <td id=\"T_e7be1_row80_col1\" class=\"data row80 col1\" >16,860</td>\n",
       "      <td id=\"T_e7be1_row80_col2\" class=\"data row80 col2\" >0.16%</td>\n",
       "    </tr>\n",
       "    <tr>\n",
       "      <th id=\"T_e7be1_level0_row81\" class=\"row_heading level0 row81\" >primary_cleaner.state.floatbank8_c_level</th>\n",
       "      <td id=\"T_e7be1_row81_col0\" class=\"data row81 col0\" >27</td>\n",
       "      <td id=\"T_e7be1_row81_col1\" class=\"data row81 col1\" >16,860</td>\n",
       "      <td id=\"T_e7be1_row81_col2\" class=\"data row81 col2\" >0.16%</td>\n",
       "    </tr>\n",
       "    <tr>\n",
       "      <th id=\"T_e7be1_level0_row82\" class=\"row_heading level0 row82\" >primary_cleaner.state.floatbank8_d_level</th>\n",
       "      <td id=\"T_e7be1_row82_col0\" class=\"data row82 col0\" >27</td>\n",
       "      <td id=\"T_e7be1_row82_col1\" class=\"data row82 col1\" >16,860</td>\n",
       "      <td id=\"T_e7be1_row82_col2\" class=\"data row82 col2\" >0.16%</td>\n",
       "    </tr>\n",
       "    <tr>\n",
       "      <th id=\"T_e7be1_level0_row83\" class=\"row_heading level0 row83\" >rougher.calculation.floatbank10_sulfate_to_au_feed</th>\n",
       "      <td id=\"T_e7be1_row83_col0\" class=\"data row83 col0\" >27</td>\n",
       "      <td id=\"T_e7be1_row83_col1\" class=\"data row83 col1\" >16,860</td>\n",
       "      <td id=\"T_e7be1_row83_col2\" class=\"data row83 col2\" >0.16%</td>\n",
       "    </tr>\n",
       "    <tr>\n",
       "      <th id=\"T_e7be1_level0_row84\" class=\"row_heading level0 row84\" >rougher.calculation.floatbank11_sulfate_to_au_feed</th>\n",
       "      <td id=\"T_e7be1_row84_col0\" class=\"data row84 col0\" >27</td>\n",
       "      <td id=\"T_e7be1_row84_col1\" class=\"data row84 col1\" >16,860</td>\n",
       "      <td id=\"T_e7be1_row84_col2\" class=\"data row84 col2\" >0.16%</td>\n",
       "    </tr>\n",
       "    <tr>\n",
       "      <th id=\"T_e7be1_level0_row85\" class=\"row_heading level0 row85\" >primary_cleaner.input.feed_size</th>\n",
       "      <td id=\"T_e7be1_row85_col0\" class=\"data row85 col0\" >0</td>\n",
       "      <td id=\"T_e7be1_row85_col1\" class=\"data row85 col1\" >16,860</td>\n",
       "      <td id=\"T_e7be1_row85_col2\" class=\"data row85 col2\" >0.00%</td>\n",
       "    </tr>\n",
       "    <tr>\n",
       "      <th id=\"T_e7be1_level0_row86\" class=\"row_heading level0 row86\" >date</th>\n",
       "      <td id=\"T_e7be1_row86_col0\" class=\"data row86 col0\" >0</td>\n",
       "      <td id=\"T_e7be1_row86_col1\" class=\"data row86 col1\" >16,860</td>\n",
       "      <td id=\"T_e7be1_row86_col2\" class=\"data row86 col2\" >0.00%</td>\n",
       "    </tr>\n",
       "  </tbody>\n",
       "</table>\n"
      ],
      "text/plain": [
       "<pandas.io.formats.style.Styler at 0x7efe3fd70d90>"
      ]
     },
     "execution_count": 20,
     "metadata": {},
     "output_type": "execute_result"
    }
   ],
   "source": [
    "reco_train.stb.missing(style=True)"
   ]
  },
  {
   "cell_type": "code",
   "execution_count": 21,
   "metadata": {},
   "outputs": [
    {
     "data": {
      "text/html": [
       "<style type=\"text/css\">\n",
       "</style>\n",
       "<table id=\"T_de4bd_\">\n",
       "  <thead>\n",
       "    <tr>\n",
       "      <th class=\"blank level0\" >&nbsp;</th>\n",
       "      <th class=\"col_heading level0 col0\" >missing</th>\n",
       "      <th class=\"col_heading level0 col1\" >total</th>\n",
       "      <th class=\"col_heading level0 col2\" >percent</th>\n",
       "    </tr>\n",
       "  </thead>\n",
       "  <tbody>\n",
       "    <tr>\n",
       "      <th id=\"T_de4bd_level0_row0\" class=\"row_heading level0 row0\" >rougher.output.recovery</th>\n",
       "      <td id=\"T_de4bd_row0_col0\" class=\"data row0 col0\" >546</td>\n",
       "      <td id=\"T_de4bd_row0_col1\" class=\"data row0 col1\" >5,856</td>\n",
       "      <td id=\"T_de4bd_row0_col2\" class=\"data row0 col2\" >9.32%</td>\n",
       "    </tr>\n",
       "    <tr>\n",
       "      <th id=\"T_de4bd_level0_row1\" class=\"row_heading level0 row1\" >final.output.recovery</th>\n",
       "      <td id=\"T_de4bd_row1_col0\" class=\"data row1 col0\" >442</td>\n",
       "      <td id=\"T_de4bd_row1_col1\" class=\"data row1 col1\" >5,856</td>\n",
       "      <td id=\"T_de4bd_row1_col2\" class=\"data row1 col2\" >7.55%</td>\n",
       "    </tr>\n",
       "    <tr>\n",
       "      <th id=\"T_de4bd_level0_row2\" class=\"row_heading level0 row2\" >rougher.input.floatbank11_xanthate</th>\n",
       "      <td id=\"T_de4bd_row2_col0\" class=\"data row2 col0\" >353</td>\n",
       "      <td id=\"T_de4bd_row2_col1\" class=\"data row2 col1\" >5,856</td>\n",
       "      <td id=\"T_de4bd_row2_col2\" class=\"data row2 col2\" >6.03%</td>\n",
       "    </tr>\n",
       "    <tr>\n",
       "      <th id=\"T_de4bd_level0_row3\" class=\"row_heading level0 row3\" >primary_cleaner.input.sulfate</th>\n",
       "      <td id=\"T_de4bd_row3_col0\" class=\"data row3 col0\" >302</td>\n",
       "      <td id=\"T_de4bd_row3_col1\" class=\"data row3 col1\" >5,856</td>\n",
       "      <td id=\"T_de4bd_row3_col2\" class=\"data row3 col2\" >5.16%</td>\n",
       "    </tr>\n",
       "    <tr>\n",
       "      <th id=\"T_de4bd_level0_row4\" class=\"row_heading level0 row4\" >primary_cleaner.input.depressant</th>\n",
       "      <td id=\"T_de4bd_row4_col0\" class=\"data row4 col0\" >284</td>\n",
       "      <td id=\"T_de4bd_row4_col1\" class=\"data row4 col1\" >5,856</td>\n",
       "      <td id=\"T_de4bd_row4_col2\" class=\"data row4 col2\" >4.85%</td>\n",
       "    </tr>\n",
       "    <tr>\n",
       "      <th id=\"T_de4bd_level0_row5\" class=\"row_heading level0 row5\" >rougher.input.floatbank10_sulfate</th>\n",
       "      <td id=\"T_de4bd_row5_col0\" class=\"data row5 col0\" >257</td>\n",
       "      <td id=\"T_de4bd_row5_col1\" class=\"data row5 col1\" >5,856</td>\n",
       "      <td id=\"T_de4bd_row5_col2\" class=\"data row5 col2\" >4.39%</td>\n",
       "    </tr>\n",
       "    <tr>\n",
       "      <th id=\"T_de4bd_level0_row6\" class=\"row_heading level0 row6\" >primary_cleaner.input.xanthate</th>\n",
       "      <td id=\"T_de4bd_row6_col0\" class=\"data row6 col0\" >166</td>\n",
       "      <td id=\"T_de4bd_row6_col1\" class=\"data row6 col1\" >5,856</td>\n",
       "      <td id=\"T_de4bd_row6_col2\" class=\"data row6 col2\" >2.83%</td>\n",
       "    </tr>\n",
       "    <tr>\n",
       "      <th id=\"T_de4bd_level0_row7\" class=\"row_heading level0 row7\" >rougher.input.floatbank10_xanthate</th>\n",
       "      <td id=\"T_de4bd_row7_col0\" class=\"data row7 col0\" >123</td>\n",
       "      <td id=\"T_de4bd_row7_col1\" class=\"data row7 col1\" >5,856</td>\n",
       "      <td id=\"T_de4bd_row7_col2\" class=\"data row7 col2\" >2.10%</td>\n",
       "    </tr>\n",
       "    <tr>\n",
       "      <th id=\"T_de4bd_level0_row8\" class=\"row_heading level0 row8\" >rougher.input.feed_sol</th>\n",
       "      <td id=\"T_de4bd_row8_col0\" class=\"data row8 col0\" >67</td>\n",
       "      <td id=\"T_de4bd_row8_col1\" class=\"data row8 col1\" >5,856</td>\n",
       "      <td id=\"T_de4bd_row8_col2\" class=\"data row8 col2\" >1.14%</td>\n",
       "    </tr>\n",
       "    <tr>\n",
       "      <th id=\"T_de4bd_level0_row9\" class=\"row_heading level0 row9\" >rougher.input.floatbank11_sulfate</th>\n",
       "      <td id=\"T_de4bd_row9_col0\" class=\"data row9 col0\" >55</td>\n",
       "      <td id=\"T_de4bd_row9_col1\" class=\"data row9 col1\" >5,856</td>\n",
       "      <td id=\"T_de4bd_row9_col2\" class=\"data row9 col2\" >0.94%</td>\n",
       "    </tr>\n",
       "    <tr>\n",
       "      <th id=\"T_de4bd_level0_row10\" class=\"row_heading level0 row10\" >rougher.input.feed_rate</th>\n",
       "      <td id=\"T_de4bd_row10_col0\" class=\"data row10 col0\" >40</td>\n",
       "      <td id=\"T_de4bd_row10_col1\" class=\"data row10 col1\" >5,856</td>\n",
       "      <td id=\"T_de4bd_row10_col2\" class=\"data row10 col2\" >0.68%</td>\n",
       "    </tr>\n",
       "    <tr>\n",
       "      <th id=\"T_de4bd_level0_row11\" class=\"row_heading level0 row11\" >secondary_cleaner.state.floatbank3_a_air</th>\n",
       "      <td id=\"T_de4bd_row11_col0\" class=\"data row11 col0\" >34</td>\n",
       "      <td id=\"T_de4bd_row11_col1\" class=\"data row11 col1\" >5,856</td>\n",
       "      <td id=\"T_de4bd_row11_col2\" class=\"data row11 col2\" >0.58%</td>\n",
       "    </tr>\n",
       "    <tr>\n",
       "      <th id=\"T_de4bd_level0_row12\" class=\"row_heading level0 row12\" >secondary_cleaner.state.floatbank2_b_air</th>\n",
       "      <td id=\"T_de4bd_row12_col0\" class=\"data row12 col0\" >23</td>\n",
       "      <td id=\"T_de4bd_row12_col1\" class=\"data row12 col1\" >5,856</td>\n",
       "      <td id=\"T_de4bd_row12_col2\" class=\"data row12 col2\" >0.39%</td>\n",
       "    </tr>\n",
       "    <tr>\n",
       "      <th id=\"T_de4bd_level0_row13\" class=\"row_heading level0 row13\" >rougher.input.feed_size</th>\n",
       "      <td id=\"T_de4bd_row13_col0\" class=\"data row13 col0\" >22</td>\n",
       "      <td id=\"T_de4bd_row13_col1\" class=\"data row13 col1\" >5,856</td>\n",
       "      <td id=\"T_de4bd_row13_col2\" class=\"data row13 col2\" >0.38%</td>\n",
       "    </tr>\n",
       "    <tr>\n",
       "      <th id=\"T_de4bd_level0_row14\" class=\"row_heading level0 row14\" >secondary_cleaner.state.floatbank2_a_air</th>\n",
       "      <td id=\"T_de4bd_row14_col0\" class=\"data row14 col0\" >20</td>\n",
       "      <td id=\"T_de4bd_row14_col1\" class=\"data row14 col1\" >5,856</td>\n",
       "      <td id=\"T_de4bd_row14_col2\" class=\"data row14 col2\" >0.34%</td>\n",
       "    </tr>\n",
       "    <tr>\n",
       "      <th id=\"T_de4bd_level0_row15\" class=\"row_heading level0 row15\" >rougher.state.floatbank10_f_air</th>\n",
       "      <td id=\"T_de4bd_row15_col0\" class=\"data row15 col0\" >17</td>\n",
       "      <td id=\"T_de4bd_row15_col1\" class=\"data row15 col1\" >5,856</td>\n",
       "      <td id=\"T_de4bd_row15_col2\" class=\"data row15 col2\" >0.29%</td>\n",
       "    </tr>\n",
       "    <tr>\n",
       "      <th id=\"T_de4bd_level0_row16\" class=\"row_heading level0 row16\" >rougher.state.floatbank10_e_air</th>\n",
       "      <td id=\"T_de4bd_row16_col0\" class=\"data row16 col0\" >17</td>\n",
       "      <td id=\"T_de4bd_row16_col1\" class=\"data row16 col1\" >5,856</td>\n",
       "      <td id=\"T_de4bd_row16_col2\" class=\"data row16 col2\" >0.29%</td>\n",
       "    </tr>\n",
       "    <tr>\n",
       "      <th id=\"T_de4bd_level0_row17\" class=\"row_heading level0 row17\" >rougher.state.floatbank10_b_air</th>\n",
       "      <td id=\"T_de4bd_row17_col0\" class=\"data row17 col0\" >17</td>\n",
       "      <td id=\"T_de4bd_row17_col1\" class=\"data row17 col1\" >5,856</td>\n",
       "      <td id=\"T_de4bd_row17_col2\" class=\"data row17 col2\" >0.29%</td>\n",
       "    </tr>\n",
       "    <tr>\n",
       "      <th id=\"T_de4bd_level0_row18\" class=\"row_heading level0 row18\" >rougher.state.floatbank10_a_air</th>\n",
       "      <td id=\"T_de4bd_row18_col0\" class=\"data row18 col0\" >17</td>\n",
       "      <td id=\"T_de4bd_row18_col1\" class=\"data row18 col1\" >5,856</td>\n",
       "      <td id=\"T_de4bd_row18_col2\" class=\"data row18 col2\" >0.29%</td>\n",
       "    </tr>\n",
       "    <tr>\n",
       "      <th id=\"T_de4bd_level0_row19\" class=\"row_heading level0 row19\" >rougher.state.floatbank10_d_air</th>\n",
       "      <td id=\"T_de4bd_row19_col0\" class=\"data row19 col0\" >17</td>\n",
       "      <td id=\"T_de4bd_row19_col1\" class=\"data row19 col1\" >5,856</td>\n",
       "      <td id=\"T_de4bd_row19_col2\" class=\"data row19 col2\" >0.29%</td>\n",
       "    </tr>\n",
       "    <tr>\n",
       "      <th id=\"T_de4bd_level0_row20\" class=\"row_heading level0 row20\" >rougher.state.floatbank10_c_air</th>\n",
       "      <td id=\"T_de4bd_row20_col0\" class=\"data row20 col0\" >17</td>\n",
       "      <td id=\"T_de4bd_row20_col1\" class=\"data row20 col1\" >5,856</td>\n",
       "      <td id=\"T_de4bd_row20_col2\" class=\"data row20 col2\" >0.29%</td>\n",
       "    </tr>\n",
       "    <tr>\n",
       "      <th id=\"T_de4bd_level0_row21\" class=\"row_heading level0 row21\" >rougher.input.feed_au</th>\n",
       "      <td id=\"T_de4bd_row21_col0\" class=\"data row21 col0\" >16</td>\n",
       "      <td id=\"T_de4bd_row21_col1\" class=\"data row21 col1\" >5,856</td>\n",
       "      <td id=\"T_de4bd_row21_col2\" class=\"data row21 col2\" >0.27%</td>\n",
       "    </tr>\n",
       "    <tr>\n",
       "      <th id=\"T_de4bd_level0_row22\" class=\"row_heading level0 row22\" >rougher.input.feed_pb</th>\n",
       "      <td id=\"T_de4bd_row22_col0\" class=\"data row22 col0\" >16</td>\n",
       "      <td id=\"T_de4bd_row22_col1\" class=\"data row22 col1\" >5,856</td>\n",
       "      <td id=\"T_de4bd_row22_col2\" class=\"data row22 col2\" >0.27%</td>\n",
       "    </tr>\n",
       "    <tr>\n",
       "      <th id=\"T_de4bd_level0_row23\" class=\"row_heading level0 row23\" >secondary_cleaner.state.floatbank6_a_level</th>\n",
       "      <td id=\"T_de4bd_row23_col0\" class=\"data row23 col0\" >16</td>\n",
       "      <td id=\"T_de4bd_row23_col1\" class=\"data row23 col1\" >5,856</td>\n",
       "      <td id=\"T_de4bd_row23_col2\" class=\"data row23 col2\" >0.27%</td>\n",
       "    </tr>\n",
       "    <tr>\n",
       "      <th id=\"T_de4bd_level0_row24\" class=\"row_heading level0 row24\" >secondary_cleaner.state.floatbank6_a_air</th>\n",
       "      <td id=\"T_de4bd_row24_col0\" class=\"data row24 col0\" >16</td>\n",
       "      <td id=\"T_de4bd_row24_col1\" class=\"data row24 col1\" >5,856</td>\n",
       "      <td id=\"T_de4bd_row24_col2\" class=\"data row24 col2\" >0.27%</td>\n",
       "    </tr>\n",
       "    <tr>\n",
       "      <th id=\"T_de4bd_level0_row25\" class=\"row_heading level0 row25\" >secondary_cleaner.state.floatbank5_b_level</th>\n",
       "      <td id=\"T_de4bd_row25_col0\" class=\"data row25 col0\" >16</td>\n",
       "      <td id=\"T_de4bd_row25_col1\" class=\"data row25 col1\" >5,856</td>\n",
       "      <td id=\"T_de4bd_row25_col2\" class=\"data row25 col2\" >0.27%</td>\n",
       "    </tr>\n",
       "    <tr>\n",
       "      <th id=\"T_de4bd_level0_row26\" class=\"row_heading level0 row26\" >secondary_cleaner.state.floatbank5_b_air</th>\n",
       "      <td id=\"T_de4bd_row26_col0\" class=\"data row26 col0\" >16</td>\n",
       "      <td id=\"T_de4bd_row26_col1\" class=\"data row26 col1\" >5,856</td>\n",
       "      <td id=\"T_de4bd_row26_col2\" class=\"data row26 col2\" >0.27%</td>\n",
       "    </tr>\n",
       "    <tr>\n",
       "      <th id=\"T_de4bd_level0_row27\" class=\"row_heading level0 row27\" >secondary_cleaner.state.floatbank5_a_level</th>\n",
       "      <td id=\"T_de4bd_row27_col0\" class=\"data row27 col0\" >16</td>\n",
       "      <td id=\"T_de4bd_row27_col1\" class=\"data row27 col1\" >5,856</td>\n",
       "      <td id=\"T_de4bd_row27_col2\" class=\"data row27 col2\" >0.27%</td>\n",
       "    </tr>\n",
       "    <tr>\n",
       "      <th id=\"T_de4bd_level0_row28\" class=\"row_heading level0 row28\" >secondary_cleaner.state.floatbank5_a_air</th>\n",
       "      <td id=\"T_de4bd_row28_col0\" class=\"data row28 col0\" >16</td>\n",
       "      <td id=\"T_de4bd_row28_col1\" class=\"data row28 col1\" >5,856</td>\n",
       "      <td id=\"T_de4bd_row28_col2\" class=\"data row28 col2\" >0.27%</td>\n",
       "    </tr>\n",
       "    <tr>\n",
       "      <th id=\"T_de4bd_level0_row29\" class=\"row_heading level0 row29\" >secondary_cleaner.state.floatbank4_b_level</th>\n",
       "      <td id=\"T_de4bd_row29_col0\" class=\"data row29 col0\" >16</td>\n",
       "      <td id=\"T_de4bd_row29_col1\" class=\"data row29 col1\" >5,856</td>\n",
       "      <td id=\"T_de4bd_row29_col2\" class=\"data row29 col2\" >0.27%</td>\n",
       "    </tr>\n",
       "    <tr>\n",
       "      <th id=\"T_de4bd_level0_row30\" class=\"row_heading level0 row30\" >secondary_cleaner.state.floatbank4_b_air</th>\n",
       "      <td id=\"T_de4bd_row30_col0\" class=\"data row30 col0\" >16</td>\n",
       "      <td id=\"T_de4bd_row30_col1\" class=\"data row30 col1\" >5,856</td>\n",
       "      <td id=\"T_de4bd_row30_col2\" class=\"data row30 col2\" >0.27%</td>\n",
       "    </tr>\n",
       "    <tr>\n",
       "      <th id=\"T_de4bd_level0_row31\" class=\"row_heading level0 row31\" >secondary_cleaner.state.floatbank4_a_level</th>\n",
       "      <td id=\"T_de4bd_row31_col0\" class=\"data row31 col0\" >16</td>\n",
       "      <td id=\"T_de4bd_row31_col1\" class=\"data row31 col1\" >5,856</td>\n",
       "      <td id=\"T_de4bd_row31_col2\" class=\"data row31 col2\" >0.27%</td>\n",
       "    </tr>\n",
       "    <tr>\n",
       "      <th id=\"T_de4bd_level0_row32\" class=\"row_heading level0 row32\" >secondary_cleaner.state.floatbank4_a_air</th>\n",
       "      <td id=\"T_de4bd_row32_col0\" class=\"data row32 col0\" >16</td>\n",
       "      <td id=\"T_de4bd_row32_col1\" class=\"data row32 col1\" >5,856</td>\n",
       "      <td id=\"T_de4bd_row32_col2\" class=\"data row32 col2\" >0.27%</td>\n",
       "    </tr>\n",
       "    <tr>\n",
       "      <th id=\"T_de4bd_level0_row33\" class=\"row_heading level0 row33\" >secondary_cleaner.state.floatbank3_b_level</th>\n",
       "      <td id=\"T_de4bd_row33_col0\" class=\"data row33 col0\" >16</td>\n",
       "      <td id=\"T_de4bd_row33_col1\" class=\"data row33 col1\" >5,856</td>\n",
       "      <td id=\"T_de4bd_row33_col2\" class=\"data row33 col2\" >0.27%</td>\n",
       "    </tr>\n",
       "    <tr>\n",
       "      <th id=\"T_de4bd_level0_row34\" class=\"row_heading level0 row34\" >secondary_cleaner.state.floatbank3_b_air</th>\n",
       "      <td id=\"T_de4bd_row34_col0\" class=\"data row34 col0\" >16</td>\n",
       "      <td id=\"T_de4bd_row34_col1\" class=\"data row34 col1\" >5,856</td>\n",
       "      <td id=\"T_de4bd_row34_col2\" class=\"data row34 col2\" >0.27%</td>\n",
       "    </tr>\n",
       "    <tr>\n",
       "      <th id=\"T_de4bd_level0_row35\" class=\"row_heading level0 row35\" >secondary_cleaner.state.floatbank3_a_level</th>\n",
       "      <td id=\"T_de4bd_row35_col0\" class=\"data row35 col0\" >16</td>\n",
       "      <td id=\"T_de4bd_row35_col1\" class=\"data row35 col1\" >5,856</td>\n",
       "      <td id=\"T_de4bd_row35_col2\" class=\"data row35 col2\" >0.27%</td>\n",
       "    </tr>\n",
       "    <tr>\n",
       "      <th id=\"T_de4bd_level0_row36\" class=\"row_heading level0 row36\" >primary_cleaner.state.floatbank8_a_air</th>\n",
       "      <td id=\"T_de4bd_row36_col0\" class=\"data row36 col0\" >16</td>\n",
       "      <td id=\"T_de4bd_row36_col1\" class=\"data row36 col1\" >5,856</td>\n",
       "      <td id=\"T_de4bd_row36_col2\" class=\"data row36 col2\" >0.27%</td>\n",
       "    </tr>\n",
       "    <tr>\n",
       "      <th id=\"T_de4bd_level0_row37\" class=\"row_heading level0 row37\" >secondary_cleaner.state.floatbank2_b_level</th>\n",
       "      <td id=\"T_de4bd_row37_col0\" class=\"data row37 col0\" >16</td>\n",
       "      <td id=\"T_de4bd_row37_col1\" class=\"data row37 col1\" >5,856</td>\n",
       "      <td id=\"T_de4bd_row37_col2\" class=\"data row37 col2\" >0.27%</td>\n",
       "    </tr>\n",
       "    <tr>\n",
       "      <th id=\"T_de4bd_level0_row38\" class=\"row_heading level0 row38\" >primary_cleaner.state.floatbank8_a_level</th>\n",
       "      <td id=\"T_de4bd_row38_col0\" class=\"data row38 col0\" >16</td>\n",
       "      <td id=\"T_de4bd_row38_col1\" class=\"data row38 col1\" >5,856</td>\n",
       "      <td id=\"T_de4bd_row38_col2\" class=\"data row38 col2\" >0.27%</td>\n",
       "    </tr>\n",
       "    <tr>\n",
       "      <th id=\"T_de4bd_level0_row39\" class=\"row_heading level0 row39\" >secondary_cleaner.state.floatbank2_a_level</th>\n",
       "      <td id=\"T_de4bd_row39_col0\" class=\"data row39 col0\" >16</td>\n",
       "      <td id=\"T_de4bd_row39_col1\" class=\"data row39 col1\" >5,856</td>\n",
       "      <td id=\"T_de4bd_row39_col2\" class=\"data row39 col2\" >0.27%</td>\n",
       "    </tr>\n",
       "    <tr>\n",
       "      <th id=\"T_de4bd_level0_row40\" class=\"row_heading level0 row40\" >rougher.input.feed_ag</th>\n",
       "      <td id=\"T_de4bd_row40_col0\" class=\"data row40 col0\" >16</td>\n",
       "      <td id=\"T_de4bd_row40_col1\" class=\"data row40 col1\" >5,856</td>\n",
       "      <td id=\"T_de4bd_row40_col2\" class=\"data row40 col2\" >0.27%</td>\n",
       "    </tr>\n",
       "    <tr>\n",
       "      <th id=\"T_de4bd_level0_row41\" class=\"row_heading level0 row41\" >rougher.state.floatbank10_a_level</th>\n",
       "      <td id=\"T_de4bd_row41_col0\" class=\"data row41 col0\" >16</td>\n",
       "      <td id=\"T_de4bd_row41_col1\" class=\"data row41 col1\" >5,856</td>\n",
       "      <td id=\"T_de4bd_row41_col2\" class=\"data row41 col2\" >0.27%</td>\n",
       "    </tr>\n",
       "    <tr>\n",
       "      <th id=\"T_de4bd_level0_row42\" class=\"row_heading level0 row42\" >primary_cleaner.state.floatbank8_d_level</th>\n",
       "      <td id=\"T_de4bd_row42_col0\" class=\"data row42 col0\" >16</td>\n",
       "      <td id=\"T_de4bd_row42_col1\" class=\"data row42 col1\" >5,856</td>\n",
       "      <td id=\"T_de4bd_row42_col2\" class=\"data row42 col2\" >0.27%</td>\n",
       "    </tr>\n",
       "    <tr>\n",
       "      <th id=\"T_de4bd_level0_row43\" class=\"row_heading level0 row43\" >rougher.state.floatbank10_b_level</th>\n",
       "      <td id=\"T_de4bd_row43_col0\" class=\"data row43 col0\" >16</td>\n",
       "      <td id=\"T_de4bd_row43_col1\" class=\"data row43 col1\" >5,856</td>\n",
       "      <td id=\"T_de4bd_row43_col2\" class=\"data row43 col2\" >0.27%</td>\n",
       "    </tr>\n",
       "    <tr>\n",
       "      <th id=\"T_de4bd_level0_row44\" class=\"row_heading level0 row44\" >primary_cleaner.state.floatbank8_d_air</th>\n",
       "      <td id=\"T_de4bd_row44_col0\" class=\"data row44 col0\" >16</td>\n",
       "      <td id=\"T_de4bd_row44_col1\" class=\"data row44 col1\" >5,856</td>\n",
       "      <td id=\"T_de4bd_row44_col2\" class=\"data row44 col2\" >0.27%</td>\n",
       "    </tr>\n",
       "    <tr>\n",
       "      <th id=\"T_de4bd_level0_row45\" class=\"row_heading level0 row45\" >rougher.state.floatbank10_c_level</th>\n",
       "      <td id=\"T_de4bd_row45_col0\" class=\"data row45 col0\" >16</td>\n",
       "      <td id=\"T_de4bd_row45_col1\" class=\"data row45 col1\" >5,856</td>\n",
       "      <td id=\"T_de4bd_row45_col2\" class=\"data row45 col2\" >0.27%</td>\n",
       "    </tr>\n",
       "    <tr>\n",
       "      <th id=\"T_de4bd_level0_row46\" class=\"row_heading level0 row46\" >primary_cleaner.state.floatbank8_c_level</th>\n",
       "      <td id=\"T_de4bd_row46_col0\" class=\"data row46 col0\" >16</td>\n",
       "      <td id=\"T_de4bd_row46_col1\" class=\"data row46 col1\" >5,856</td>\n",
       "      <td id=\"T_de4bd_row46_col2\" class=\"data row46 col2\" >0.27%</td>\n",
       "    </tr>\n",
       "    <tr>\n",
       "      <th id=\"T_de4bd_level0_row47\" class=\"row_heading level0 row47\" >rougher.state.floatbank10_d_level</th>\n",
       "      <td id=\"T_de4bd_row47_col0\" class=\"data row47 col0\" >16</td>\n",
       "      <td id=\"T_de4bd_row47_col1\" class=\"data row47 col1\" >5,856</td>\n",
       "      <td id=\"T_de4bd_row47_col2\" class=\"data row47 col2\" >0.27%</td>\n",
       "    </tr>\n",
       "    <tr>\n",
       "      <th id=\"T_de4bd_level0_row48\" class=\"row_heading level0 row48\" >primary_cleaner.state.floatbank8_c_air</th>\n",
       "      <td id=\"T_de4bd_row48_col0\" class=\"data row48 col0\" >16</td>\n",
       "      <td id=\"T_de4bd_row48_col1\" class=\"data row48 col1\" >5,856</td>\n",
       "      <td id=\"T_de4bd_row48_col2\" class=\"data row48 col2\" >0.27%</td>\n",
       "    </tr>\n",
       "    <tr>\n",
       "      <th id=\"T_de4bd_level0_row49\" class=\"row_heading level0 row49\" >rougher.state.floatbank10_e_level</th>\n",
       "      <td id=\"T_de4bd_row49_col0\" class=\"data row49 col0\" >16</td>\n",
       "      <td id=\"T_de4bd_row49_col1\" class=\"data row49 col1\" >5,856</td>\n",
       "      <td id=\"T_de4bd_row49_col2\" class=\"data row49 col2\" >0.27%</td>\n",
       "    </tr>\n",
       "    <tr>\n",
       "      <th id=\"T_de4bd_level0_row50\" class=\"row_heading level0 row50\" >primary_cleaner.state.floatbank8_b_level</th>\n",
       "      <td id=\"T_de4bd_row50_col0\" class=\"data row50 col0\" >16</td>\n",
       "      <td id=\"T_de4bd_row50_col1\" class=\"data row50 col1\" >5,856</td>\n",
       "      <td id=\"T_de4bd_row50_col2\" class=\"data row50 col2\" >0.27%</td>\n",
       "    </tr>\n",
       "    <tr>\n",
       "      <th id=\"T_de4bd_level0_row51\" class=\"row_heading level0 row51\" >rougher.state.floatbank10_f_level</th>\n",
       "      <td id=\"T_de4bd_row51_col0\" class=\"data row51 col0\" >16</td>\n",
       "      <td id=\"T_de4bd_row51_col1\" class=\"data row51 col1\" >5,856</td>\n",
       "      <td id=\"T_de4bd_row51_col2\" class=\"data row51 col2\" >0.27%</td>\n",
       "    </tr>\n",
       "    <tr>\n",
       "      <th id=\"T_de4bd_level0_row52\" class=\"row_heading level0 row52\" >primary_cleaner.state.floatbank8_b_air</th>\n",
       "      <td id=\"T_de4bd_row52_col0\" class=\"data row52 col0\" >16</td>\n",
       "      <td id=\"T_de4bd_row52_col1\" class=\"data row52 col1\" >5,856</td>\n",
       "      <td id=\"T_de4bd_row52_col2\" class=\"data row52 col2\" >0.27%</td>\n",
       "    </tr>\n",
       "    <tr>\n",
       "      <th id=\"T_de4bd_level0_row53\" class=\"row_heading level0 row53\" >primary_cleaner.input.feed_size</th>\n",
       "      <td id=\"T_de4bd_row53_col0\" class=\"data row53 col0\" >0</td>\n",
       "      <td id=\"T_de4bd_row53_col1\" class=\"data row53 col1\" >5,856</td>\n",
       "      <td id=\"T_de4bd_row53_col2\" class=\"data row53 col2\" >0.00%</td>\n",
       "    </tr>\n",
       "    <tr>\n",
       "      <th id=\"T_de4bd_level0_row54\" class=\"row_heading level0 row54\" >date</th>\n",
       "      <td id=\"T_de4bd_row54_col0\" class=\"data row54 col0\" >0</td>\n",
       "      <td id=\"T_de4bd_row54_col1\" class=\"data row54 col1\" >5,856</td>\n",
       "      <td id=\"T_de4bd_row54_col2\" class=\"data row54 col2\" >0.00%</td>\n",
       "    </tr>\n",
       "  </tbody>\n",
       "</table>\n"
      ],
      "text/plain": [
       "<pandas.io.formats.style.Styler at 0x7efe3f9b7a50>"
      ]
     },
     "execution_count": 21,
     "metadata": {},
     "output_type": "execute_result"
    }
   ],
   "source": [
    "reco_test.stb.missing(style=True)"
   ]
  },
  {
   "cell_type": "markdown",
   "metadata": {},
   "source": [
    "Almost all features have missing values, as well as the targets. We first need to remove rows that have missing values for the target variables."
   ]
  },
  {
   "cell_type": "code",
   "execution_count": 22,
   "metadata": {},
   "outputs": [],
   "source": [
    "#Removing rows in test and training sets that have missing target values.\n",
    "\n",
    "reco_train.dropna(subset=['rougher.output.recovery', 'final.output.recovery'], inplace=True)\n",
    "reco_test.dropna(subset=['rougher.output.recovery', 'final.output.recovery'], inplace=True)"
   ]
  },
  {
   "cell_type": "code",
   "execution_count": 23,
   "metadata": {
    "scrolled": false
   },
   "outputs": [
    {
     "data": {
      "text/html": [
       "<style type=\"text/css\">\n",
       "</style>\n",
       "<table id=\"T_cfd60_\">\n",
       "  <thead>\n",
       "    <tr>\n",
       "      <th class=\"blank level0\" >&nbsp;</th>\n",
       "      <th class=\"col_heading level0 col0\" >missing</th>\n",
       "      <th class=\"col_heading level0 col1\" >total</th>\n",
       "      <th class=\"col_heading level0 col2\" >percent</th>\n",
       "    </tr>\n",
       "  </thead>\n",
       "  <tbody>\n",
       "    <tr>\n",
       "      <th id=\"T_cfd60_level0_row0\" class=\"row_heading level0 row0\" >secondary_cleaner.output.tail_sol</th>\n",
       "      <td id=\"T_cfd60_row0_col0\" class=\"data row0 col0\" >1,605</td>\n",
       "      <td id=\"T_cfd60_row0_col1\" class=\"data row0 col1\" >14,149</td>\n",
       "      <td id=\"T_cfd60_row0_col2\" class=\"data row0 col2\" >11.34%</td>\n",
       "    </tr>\n",
       "    <tr>\n",
       "      <th id=\"T_cfd60_level0_row1\" class=\"row_heading level0 row1\" >rougher.state.floatbank10_e_air</th>\n",
       "      <td id=\"T_cfd60_row1_col0\" class=\"data row1 col0\" >436</td>\n",
       "      <td id=\"T_cfd60_row1_col1\" class=\"data row1 col1\" >14,149</td>\n",
       "      <td id=\"T_cfd60_row1_col2\" class=\"data row1 col2\" >3.08%</td>\n",
       "    </tr>\n",
       "    <tr>\n",
       "      <th id=\"T_cfd60_level0_row2\" class=\"row_heading level0 row2\" >rougher.input.floatbank11_xanthate</th>\n",
       "      <td id=\"T_cfd60_row2_col0\" class=\"data row2 col0\" >428</td>\n",
       "      <td id=\"T_cfd60_row2_col1\" class=\"data row2 col1\" >14,149</td>\n",
       "      <td id=\"T_cfd60_row2_col2\" class=\"data row2 col2\" >3.02%</td>\n",
       "    </tr>\n",
       "    <tr>\n",
       "      <th id=\"T_cfd60_level0_row3\" class=\"row_heading level0 row3\" >primary_cleaner.output.concentrate_sol</th>\n",
       "      <td id=\"T_cfd60_row3_col0\" class=\"data row3 col0\" >286</td>\n",
       "      <td id=\"T_cfd60_row3_col1\" class=\"data row3 col1\" >14,149</td>\n",
       "      <td id=\"T_cfd60_row3_col2\" class=\"data row3 col2\" >2.02%</td>\n",
       "    </tr>\n",
       "    <tr>\n",
       "      <th id=\"T_cfd60_level0_row4\" class=\"row_heading level0 row4\" >secondary_cleaner.state.floatbank2_a_air</th>\n",
       "      <td id=\"T_cfd60_row4_col0\" class=\"data row4 col0\" >217</td>\n",
       "      <td id=\"T_cfd60_row4_col1\" class=\"data row4 col1\" >14,149</td>\n",
       "      <td id=\"T_cfd60_row4_col2\" class=\"data row4 col2\" >1.53%</td>\n",
       "    </tr>\n",
       "    <tr>\n",
       "      <th id=\"T_cfd60_level0_row5\" class=\"row_heading level0 row5\" >final.output.concentrate_sol</th>\n",
       "      <td id=\"T_cfd60_row5_col0\" class=\"data row5 col0\" >211</td>\n",
       "      <td id=\"T_cfd60_row5_col1\" class=\"data row5 col1\" >14,149</td>\n",
       "      <td id=\"T_cfd60_row5_col2\" class=\"data row5 col2\" >1.49%</td>\n",
       "    </tr>\n",
       "    <tr>\n",
       "      <th id=\"T_cfd60_level0_row6\" class=\"row_heading level0 row6\" >rougher.input.feed_size</th>\n",
       "      <td id=\"T_cfd60_row6_col0\" class=\"data row6 col0\" >144</td>\n",
       "      <td id=\"T_cfd60_row6_col1\" class=\"data row6 col1\" >14,149</td>\n",
       "      <td id=\"T_cfd60_row6_col2\" class=\"data row6 col2\" >1.02%</td>\n",
       "    </tr>\n",
       "    <tr>\n",
       "      <th id=\"T_cfd60_level0_row7\" class=\"row_heading level0 row7\" >primary_cleaner.input.xanthate</th>\n",
       "      <td id=\"T_cfd60_row7_col0\" class=\"data row7 col0\" >100</td>\n",
       "      <td id=\"T_cfd60_row7_col1\" class=\"data row7 col1\" >14,149</td>\n",
       "      <td id=\"T_cfd60_row7_col2\" class=\"data row7 col2\" >0.71%</td>\n",
       "    </tr>\n",
       "    <tr>\n",
       "      <th id=\"T_cfd60_level0_row8\" class=\"row_heading level0 row8\" >rougher.input.feed_pb</th>\n",
       "      <td id=\"T_cfd60_row8_col0\" class=\"data row8 col0\" >100</td>\n",
       "      <td id=\"T_cfd60_row8_col1\" class=\"data row8 col1\" >14,149</td>\n",
       "      <td id=\"T_cfd60_row8_col2\" class=\"data row8 col2\" >0.71%</td>\n",
       "    </tr>\n",
       "    <tr>\n",
       "      <th id=\"T_cfd60_level0_row9\" class=\"row_heading level0 row9\" >final.output.tail_pb</th>\n",
       "      <td id=\"T_cfd60_row9_col0\" class=\"data row9 col0\" >100</td>\n",
       "      <td id=\"T_cfd60_row9_col1\" class=\"data row9 col1\" >14,149</td>\n",
       "      <td id=\"T_cfd60_row9_col2\" class=\"data row9 col2\" >0.71%</td>\n",
       "    </tr>\n",
       "    <tr>\n",
       "      <th id=\"T_cfd60_level0_row10\" class=\"row_heading level0 row10\" >primary_cleaner.output.concentrate_pb</th>\n",
       "      <td id=\"T_cfd60_row10_col0\" class=\"data row10 col0\" >86</td>\n",
       "      <td id=\"T_cfd60_row10_col1\" class=\"data row10 col1\" >14,149</td>\n",
       "      <td id=\"T_cfd60_row10_col2\" class=\"data row10 col2\" >0.61%</td>\n",
       "    </tr>\n",
       "    <tr>\n",
       "      <th id=\"T_cfd60_level0_row11\" class=\"row_heading level0 row11\" >rougher.input.feed_sol</th>\n",
       "      <td id=\"T_cfd60_row11_col0\" class=\"data row11 col0\" >78</td>\n",
       "      <td id=\"T_cfd60_row11_col1\" class=\"data row11 col1\" >14,149</td>\n",
       "      <td id=\"T_cfd60_row11_col2\" class=\"data row11 col2\" >0.55%</td>\n",
       "    </tr>\n",
       "    <tr>\n",
       "      <th id=\"T_cfd60_level0_row12\" class=\"row_heading level0 row12\" >primary_cleaner.output.tail_sol</th>\n",
       "      <td id=\"T_cfd60_row12_col0\" class=\"data row12 col0\" >46</td>\n",
       "      <td id=\"T_cfd60_row12_col1\" class=\"data row12 col1\" >14,149</td>\n",
       "      <td id=\"T_cfd60_row12_col2\" class=\"data row12 col2\" >0.33%</td>\n",
       "    </tr>\n",
       "    <tr>\n",
       "      <th id=\"T_cfd60_level0_row13\" class=\"row_heading level0 row13\" >rougher.input.floatbank11_sulfate</th>\n",
       "      <td id=\"T_cfd60_row13_col0\" class=\"data row13 col0\" >36</td>\n",
       "      <td id=\"T_cfd60_row13_col1\" class=\"data row13 col1\" >14,149</td>\n",
       "      <td id=\"T_cfd60_row13_col2\" class=\"data row13 col2\" >0.25%</td>\n",
       "    </tr>\n",
       "    <tr>\n",
       "      <th id=\"T_cfd60_level0_row14\" class=\"row_heading level0 row14\" >primary_cleaner.input.depressant</th>\n",
       "      <td id=\"T_cfd60_row14_col0\" class=\"data row14 col0\" >32</td>\n",
       "      <td id=\"T_cfd60_row14_col1\" class=\"data row14 col1\" >14,149</td>\n",
       "      <td id=\"T_cfd60_row14_col2\" class=\"data row14 col2\" >0.23%</td>\n",
       "    </tr>\n",
       "    <tr>\n",
       "      <th id=\"T_cfd60_level0_row15\" class=\"row_heading level0 row15\" >rougher.input.floatbank10_sulfate</th>\n",
       "      <td id=\"T_cfd60_row15_col0\" class=\"data row15 col0\" >29</td>\n",
       "      <td id=\"T_cfd60_row15_col1\" class=\"data row15 col1\" >14,149</td>\n",
       "      <td id=\"T_cfd60_row15_col2\" class=\"data row15 col2\" >0.20%</td>\n",
       "    </tr>\n",
       "    <tr>\n",
       "      <th id=\"T_cfd60_level0_row16\" class=\"row_heading level0 row16\" >rougher.output.concentrate_sol</th>\n",
       "      <td id=\"T_cfd60_row16_col0\" class=\"data row16 col0\" >22</td>\n",
       "      <td id=\"T_cfd60_row16_col1\" class=\"data row16 col1\" >14,149</td>\n",
       "      <td id=\"T_cfd60_row16_col2\" class=\"data row16 col2\" >0.16%</td>\n",
       "    </tr>\n",
       "    <tr>\n",
       "      <th id=\"T_cfd60_level0_row17\" class=\"row_heading level0 row17\" >secondary_cleaner.state.floatbank2_b_air</th>\n",
       "      <td id=\"T_cfd60_row17_col0\" class=\"data row17 col0\" >21</td>\n",
       "      <td id=\"T_cfd60_row17_col1\" class=\"data row17 col1\" >14,149</td>\n",
       "      <td id=\"T_cfd60_row17_col2\" class=\"data row17 col2\" >0.15%</td>\n",
       "    </tr>\n",
       "    <tr>\n",
       "      <th id=\"T_cfd60_level0_row18\" class=\"row_heading level0 row18\" >primary_cleaner.input.sulfate</th>\n",
       "      <td id=\"T_cfd60_row18_col0\" class=\"data row18 col0\" >20</td>\n",
       "      <td id=\"T_cfd60_row18_col1\" class=\"data row18 col1\" >14,149</td>\n",
       "      <td id=\"T_cfd60_row18_col2\" class=\"data row18 col2\" >0.14%</td>\n",
       "    </tr>\n",
       "    <tr>\n",
       "      <th id=\"T_cfd60_level0_row19\" class=\"row_heading level0 row19\" >primary_cleaner.output.tail_pb</th>\n",
       "      <td id=\"T_cfd60_row19_col0\" class=\"data row19 col0\" >15</td>\n",
       "      <td id=\"T_cfd60_row19_col1\" class=\"data row19 col1\" >14,149</td>\n",
       "      <td id=\"T_cfd60_row19_col2\" class=\"data row19 col2\" >0.11%</td>\n",
       "    </tr>\n",
       "    <tr>\n",
       "      <th id=\"T_cfd60_level0_row20\" class=\"row_heading level0 row20\" >secondary_cleaner.output.tail_pb</th>\n",
       "      <td id=\"T_cfd60_row20_col0\" class=\"data row20 col0\" >10</td>\n",
       "      <td id=\"T_cfd60_row20_col1\" class=\"data row20 col1\" >14,149</td>\n",
       "      <td id=\"T_cfd60_row20_col2\" class=\"data row20 col2\" >0.07%</td>\n",
       "    </tr>\n",
       "    <tr>\n",
       "      <th id=\"T_cfd60_level0_row21\" class=\"row_heading level0 row21\" >rougher.input.feed_rate</th>\n",
       "      <td id=\"T_cfd60_row21_col0\" class=\"data row21 col0\" >8</td>\n",
       "      <td id=\"T_cfd60_row21_col1\" class=\"data row21 col1\" >14,149</td>\n",
       "      <td id=\"T_cfd60_row21_col2\" class=\"data row21 col2\" >0.06%</td>\n",
       "    </tr>\n",
       "    <tr>\n",
       "      <th id=\"T_cfd60_level0_row22\" class=\"row_heading level0 row22\" >rougher.input.floatbank10_xanthate</th>\n",
       "      <td id=\"T_cfd60_row22_col0\" class=\"data row22 col0\" >8</td>\n",
       "      <td id=\"T_cfd60_row22_col1\" class=\"data row22 col1\" >14,149</td>\n",
       "      <td id=\"T_cfd60_row22_col2\" class=\"data row22 col2\" >0.06%</td>\n",
       "    </tr>\n",
       "    <tr>\n",
       "      <th id=\"T_cfd60_level0_row23\" class=\"row_heading level0 row23\" >secondary_cleaner.state.floatbank4_a_air</th>\n",
       "      <td id=\"T_cfd60_row23_col0\" class=\"data row23 col0\" >6</td>\n",
       "      <td id=\"T_cfd60_row23_col1\" class=\"data row23 col1\" >14,149</td>\n",
       "      <td id=\"T_cfd60_row23_col2\" class=\"data row23 col2\" >0.04%</td>\n",
       "    </tr>\n",
       "    <tr>\n",
       "      <th id=\"T_cfd60_level0_row24\" class=\"row_heading level0 row24\" >final.output.tail_sol</th>\n",
       "      <td id=\"T_cfd60_row24_col0\" class=\"data row24 col0\" >5</td>\n",
       "      <td id=\"T_cfd60_row24_col1\" class=\"data row24 col1\" >14,149</td>\n",
       "      <td id=\"T_cfd60_row24_col2\" class=\"data row24 col2\" >0.04%</td>\n",
       "    </tr>\n",
       "    <tr>\n",
       "      <th id=\"T_cfd60_level0_row25\" class=\"row_heading level0 row25\" >secondary_cleaner.state.floatbank3_a_air</th>\n",
       "      <td id=\"T_cfd60_row25_col0\" class=\"data row25 col0\" >4</td>\n",
       "      <td id=\"T_cfd60_row25_col1\" class=\"data row25 col1\" >14,149</td>\n",
       "      <td id=\"T_cfd60_row25_col2\" class=\"data row25 col2\" >0.03%</td>\n",
       "    </tr>\n",
       "    <tr>\n",
       "      <th id=\"T_cfd60_level0_row26\" class=\"row_heading level0 row26\" >primary_cleaner.state.floatbank8_a_air</th>\n",
       "      <td id=\"T_cfd60_row26_col0\" class=\"data row26 col0\" >4</td>\n",
       "      <td id=\"T_cfd60_row26_col1\" class=\"data row26 col1\" >14,149</td>\n",
       "      <td id=\"T_cfd60_row26_col2\" class=\"data row26 col2\" >0.03%</td>\n",
       "    </tr>\n",
       "    <tr>\n",
       "      <th id=\"T_cfd60_level0_row27\" class=\"row_heading level0 row27\" >primary_cleaner.state.floatbank8_b_air</th>\n",
       "      <td id=\"T_cfd60_row27_col0\" class=\"data row27 col0\" >4</td>\n",
       "      <td id=\"T_cfd60_row27_col1\" class=\"data row27 col1\" >14,149</td>\n",
       "      <td id=\"T_cfd60_row27_col2\" class=\"data row27 col2\" >0.03%</td>\n",
       "    </tr>\n",
       "    <tr>\n",
       "      <th id=\"T_cfd60_level0_row28\" class=\"row_heading level0 row28\" >primary_cleaner.state.floatbank8_d_air</th>\n",
       "      <td id=\"T_cfd60_row28_col0\" class=\"data row28 col0\" >3</td>\n",
       "      <td id=\"T_cfd60_row28_col1\" class=\"data row28 col1\" >14,149</td>\n",
       "      <td id=\"T_cfd60_row28_col2\" class=\"data row28 col2\" >0.02%</td>\n",
       "    </tr>\n",
       "    <tr>\n",
       "      <th id=\"T_cfd60_level0_row29\" class=\"row_heading level0 row29\" >primary_cleaner.state.floatbank8_c_air</th>\n",
       "      <td id=\"T_cfd60_row29_col0\" class=\"data row29 col0\" >2</td>\n",
       "      <td id=\"T_cfd60_row29_col1\" class=\"data row29 col1\" >14,149</td>\n",
       "      <td id=\"T_cfd60_row29_col2\" class=\"data row29 col2\" >0.01%</td>\n",
       "    </tr>\n",
       "    <tr>\n",
       "      <th id=\"T_cfd60_level0_row30\" class=\"row_heading level0 row30\" >secondary_cleaner.output.tail_ag</th>\n",
       "      <td id=\"T_cfd60_row30_col0\" class=\"data row30 col0\" >2</td>\n",
       "      <td id=\"T_cfd60_row30_col1\" class=\"data row30 col1\" >14,149</td>\n",
       "      <td id=\"T_cfd60_row30_col2\" class=\"data row30 col2\" >0.01%</td>\n",
       "    </tr>\n",
       "    <tr>\n",
       "      <th id=\"T_cfd60_level0_row31\" class=\"row_heading level0 row31\" >secondary_cleaner.state.floatbank6_a_air</th>\n",
       "      <td id=\"T_cfd60_row31_col0\" class=\"data row31 col0\" >2</td>\n",
       "      <td id=\"T_cfd60_row31_col1\" class=\"data row31 col1\" >14,149</td>\n",
       "      <td id=\"T_cfd60_row31_col2\" class=\"data row31 col2\" >0.01%</td>\n",
       "    </tr>\n",
       "    <tr>\n",
       "      <th id=\"T_cfd60_level0_row32\" class=\"row_heading level0 row32\" >rougher.state.floatbank10_b_level</th>\n",
       "      <td id=\"T_cfd60_row32_col0\" class=\"data row32 col0\" >1</td>\n",
       "      <td id=\"T_cfd60_row32_col1\" class=\"data row32 col1\" >14,149</td>\n",
       "      <td id=\"T_cfd60_row32_col2\" class=\"data row32 col2\" >0.01%</td>\n",
       "    </tr>\n",
       "    <tr>\n",
       "      <th id=\"T_cfd60_level0_row33\" class=\"row_heading level0 row33\" >rougher.state.floatbank10_b_air</th>\n",
       "      <td id=\"T_cfd60_row33_col0\" class=\"data row33 col0\" >1</td>\n",
       "      <td id=\"T_cfd60_row33_col1\" class=\"data row33 col1\" >14,149</td>\n",
       "      <td id=\"T_cfd60_row33_col2\" class=\"data row33 col2\" >0.01%</td>\n",
       "    </tr>\n",
       "    <tr>\n",
       "      <th id=\"T_cfd60_level0_row34\" class=\"row_heading level0 row34\" >rougher.state.floatbank10_c_level</th>\n",
       "      <td id=\"T_cfd60_row34_col0\" class=\"data row34 col0\" >1</td>\n",
       "      <td id=\"T_cfd60_row34_col1\" class=\"data row34 col1\" >14,149</td>\n",
       "      <td id=\"T_cfd60_row34_col2\" class=\"data row34 col2\" >0.01%</td>\n",
       "    </tr>\n",
       "    <tr>\n",
       "      <th id=\"T_cfd60_level0_row35\" class=\"row_heading level0 row35\" >rougher.state.floatbank10_c_air</th>\n",
       "      <td id=\"T_cfd60_row35_col0\" class=\"data row35 col0\" >1</td>\n",
       "      <td id=\"T_cfd60_row35_col1\" class=\"data row35 col1\" >14,149</td>\n",
       "      <td id=\"T_cfd60_row35_col2\" class=\"data row35 col2\" >0.01%</td>\n",
       "    </tr>\n",
       "    <tr>\n",
       "      <th id=\"T_cfd60_level0_row36\" class=\"row_heading level0 row36\" >secondary_cleaner.state.floatbank3_a_level</th>\n",
       "      <td id=\"T_cfd60_row36_col0\" class=\"data row36 col0\" >1</td>\n",
       "      <td id=\"T_cfd60_row36_col1\" class=\"data row36 col1\" >14,149</td>\n",
       "      <td id=\"T_cfd60_row36_col2\" class=\"data row36 col2\" >0.01%</td>\n",
       "    </tr>\n",
       "    <tr>\n",
       "      <th id=\"T_cfd60_level0_row37\" class=\"row_heading level0 row37\" >secondary_cleaner.state.floatbank2_a_level</th>\n",
       "      <td id=\"T_cfd60_row37_col0\" class=\"data row37 col0\" >1</td>\n",
       "      <td id=\"T_cfd60_row37_col1\" class=\"data row37 col1\" >14,149</td>\n",
       "      <td id=\"T_cfd60_row37_col2\" class=\"data row37 col2\" >0.01%</td>\n",
       "    </tr>\n",
       "    <tr>\n",
       "      <th id=\"T_cfd60_level0_row38\" class=\"row_heading level0 row38\" >secondary_cleaner.state.floatbank2_b_level</th>\n",
       "      <td id=\"T_cfd60_row38_col0\" class=\"data row38 col0\" >1</td>\n",
       "      <td id=\"T_cfd60_row38_col1\" class=\"data row38 col1\" >14,149</td>\n",
       "      <td id=\"T_cfd60_row38_col2\" class=\"data row38 col2\" >0.01%</td>\n",
       "    </tr>\n",
       "    <tr>\n",
       "      <th id=\"T_cfd60_level0_row39\" class=\"row_heading level0 row39\" >rougher.state.floatbank10_a_air</th>\n",
       "      <td id=\"T_cfd60_row39_col0\" class=\"data row39 col0\" >1</td>\n",
       "      <td id=\"T_cfd60_row39_col1\" class=\"data row39 col1\" >14,149</td>\n",
       "      <td id=\"T_cfd60_row39_col2\" class=\"data row39 col2\" >0.01%</td>\n",
       "    </tr>\n",
       "    <tr>\n",
       "      <th id=\"T_cfd60_level0_row40\" class=\"row_heading level0 row40\" >secondary_cleaner.state.floatbank3_b_air</th>\n",
       "      <td id=\"T_cfd60_row40_col0\" class=\"data row40 col0\" >1</td>\n",
       "      <td id=\"T_cfd60_row40_col1\" class=\"data row40 col1\" >14,149</td>\n",
       "      <td id=\"T_cfd60_row40_col2\" class=\"data row40 col2\" >0.01%</td>\n",
       "    </tr>\n",
       "    <tr>\n",
       "      <th id=\"T_cfd60_level0_row41\" class=\"row_heading level0 row41\" >secondary_cleaner.state.floatbank3_b_level</th>\n",
       "      <td id=\"T_cfd60_row41_col0\" class=\"data row41 col0\" >1</td>\n",
       "      <td id=\"T_cfd60_row41_col1\" class=\"data row41 col1\" >14,149</td>\n",
       "      <td id=\"T_cfd60_row41_col2\" class=\"data row41 col2\" >0.01%</td>\n",
       "    </tr>\n",
       "    <tr>\n",
       "      <th id=\"T_cfd60_level0_row42\" class=\"row_heading level0 row42\" >secondary_cleaner.state.floatbank4_a_level</th>\n",
       "      <td id=\"T_cfd60_row42_col0\" class=\"data row42 col0\" >1</td>\n",
       "      <td id=\"T_cfd60_row42_col1\" class=\"data row42 col1\" >14,149</td>\n",
       "      <td id=\"T_cfd60_row42_col2\" class=\"data row42 col2\" >0.01%</td>\n",
       "    </tr>\n",
       "    <tr>\n",
       "      <th id=\"T_cfd60_level0_row43\" class=\"row_heading level0 row43\" >secondary_cleaner.state.floatbank4_b_air</th>\n",
       "      <td id=\"T_cfd60_row43_col0\" class=\"data row43 col0\" >1</td>\n",
       "      <td id=\"T_cfd60_row43_col1\" class=\"data row43 col1\" >14,149</td>\n",
       "      <td id=\"T_cfd60_row43_col2\" class=\"data row43 col2\" >0.01%</td>\n",
       "    </tr>\n",
       "    <tr>\n",
       "      <th id=\"T_cfd60_level0_row44\" class=\"row_heading level0 row44\" >secondary_cleaner.state.floatbank4_b_level</th>\n",
       "      <td id=\"T_cfd60_row44_col0\" class=\"data row44 col0\" >1</td>\n",
       "      <td id=\"T_cfd60_row44_col1\" class=\"data row44 col1\" >14,149</td>\n",
       "      <td id=\"T_cfd60_row44_col2\" class=\"data row44 col2\" >0.01%</td>\n",
       "    </tr>\n",
       "    <tr>\n",
       "      <th id=\"T_cfd60_level0_row45\" class=\"row_heading level0 row45\" >secondary_cleaner.state.floatbank5_a_air</th>\n",
       "      <td id=\"T_cfd60_row45_col0\" class=\"data row45 col0\" >1</td>\n",
       "      <td id=\"T_cfd60_row45_col1\" class=\"data row45 col1\" >14,149</td>\n",
       "      <td id=\"T_cfd60_row45_col2\" class=\"data row45 col2\" >0.01%</td>\n",
       "    </tr>\n",
       "    <tr>\n",
       "      <th id=\"T_cfd60_level0_row46\" class=\"row_heading level0 row46\" >secondary_cleaner.state.floatbank5_a_level</th>\n",
       "      <td id=\"T_cfd60_row46_col0\" class=\"data row46 col0\" >1</td>\n",
       "      <td id=\"T_cfd60_row46_col1\" class=\"data row46 col1\" >14,149</td>\n",
       "      <td id=\"T_cfd60_row46_col2\" class=\"data row46 col2\" >0.01%</td>\n",
       "    </tr>\n",
       "    <tr>\n",
       "      <th id=\"T_cfd60_level0_row47\" class=\"row_heading level0 row47\" >secondary_cleaner.state.floatbank5_b_air</th>\n",
       "      <td id=\"T_cfd60_row47_col0\" class=\"data row47 col0\" >1</td>\n",
       "      <td id=\"T_cfd60_row47_col1\" class=\"data row47 col1\" >14,149</td>\n",
       "      <td id=\"T_cfd60_row47_col2\" class=\"data row47 col2\" >0.01%</td>\n",
       "    </tr>\n",
       "    <tr>\n",
       "      <th id=\"T_cfd60_level0_row48\" class=\"row_heading level0 row48\" >secondary_cleaner.state.floatbank5_b_level</th>\n",
       "      <td id=\"T_cfd60_row48_col0\" class=\"data row48 col0\" >1</td>\n",
       "      <td id=\"T_cfd60_row48_col1\" class=\"data row48 col1\" >14,149</td>\n",
       "      <td id=\"T_cfd60_row48_col2\" class=\"data row48 col2\" >0.01%</td>\n",
       "    </tr>\n",
       "    <tr>\n",
       "      <th id=\"T_cfd60_level0_row49\" class=\"row_heading level0 row49\" >rougher.state.floatbank10_a_level</th>\n",
       "      <td id=\"T_cfd60_row49_col0\" class=\"data row49 col0\" >1</td>\n",
       "      <td id=\"T_cfd60_row49_col1\" class=\"data row49 col1\" >14,149</td>\n",
       "      <td id=\"T_cfd60_row49_col2\" class=\"data row49 col2\" >0.01%</td>\n",
       "    </tr>\n",
       "    <tr>\n",
       "      <th id=\"T_cfd60_level0_row50\" class=\"row_heading level0 row50\" >secondary_cleaner.state.floatbank6_a_level</th>\n",
       "      <td id=\"T_cfd60_row50_col0\" class=\"data row50 col0\" >1</td>\n",
       "      <td id=\"T_cfd60_row50_col1\" class=\"data row50 col1\" >14,149</td>\n",
       "      <td id=\"T_cfd60_row50_col2\" class=\"data row50 col2\" >0.01%</td>\n",
       "    </tr>\n",
       "    <tr>\n",
       "      <th id=\"T_cfd60_level0_row51\" class=\"row_heading level0 row51\" >rougher.calculation.floatbank11_sulfate_to_au_feed</th>\n",
       "      <td id=\"T_cfd60_row51_col0\" class=\"data row51 col0\" >1</td>\n",
       "      <td id=\"T_cfd60_row51_col1\" class=\"data row51 col1\" >14,149</td>\n",
       "      <td id=\"T_cfd60_row51_col2\" class=\"data row51 col2\" >0.01%</td>\n",
       "    </tr>\n",
       "    <tr>\n",
       "      <th id=\"T_cfd60_level0_row52\" class=\"row_heading level0 row52\" >rougher.calculation.floatbank10_sulfate_to_au_feed</th>\n",
       "      <td id=\"T_cfd60_row52_col0\" class=\"data row52 col0\" >1</td>\n",
       "      <td id=\"T_cfd60_row52_col1\" class=\"data row52 col1\" >14,149</td>\n",
       "      <td id=\"T_cfd60_row52_col2\" class=\"data row52 col2\" >0.01%</td>\n",
       "    </tr>\n",
       "    <tr>\n",
       "      <th id=\"T_cfd60_level0_row53\" class=\"row_heading level0 row53\" >primary_cleaner.state.floatbank8_d_level</th>\n",
       "      <td id=\"T_cfd60_row53_col0\" class=\"data row53 col0\" >1</td>\n",
       "      <td id=\"T_cfd60_row53_col1\" class=\"data row53 col1\" >14,149</td>\n",
       "      <td id=\"T_cfd60_row53_col2\" class=\"data row53 col2\" >0.01%</td>\n",
       "    </tr>\n",
       "    <tr>\n",
       "      <th id=\"T_cfd60_level0_row54\" class=\"row_heading level0 row54\" >primary_cleaner.state.floatbank8_c_level</th>\n",
       "      <td id=\"T_cfd60_row54_col0\" class=\"data row54 col0\" >1</td>\n",
       "      <td id=\"T_cfd60_row54_col1\" class=\"data row54 col1\" >14,149</td>\n",
       "      <td id=\"T_cfd60_row54_col2\" class=\"data row54 col2\" >0.01%</td>\n",
       "    </tr>\n",
       "    <tr>\n",
       "      <th id=\"T_cfd60_level0_row55\" class=\"row_heading level0 row55\" >primary_cleaner.state.floatbank8_b_level</th>\n",
       "      <td id=\"T_cfd60_row55_col0\" class=\"data row55 col0\" >1</td>\n",
       "      <td id=\"T_cfd60_row55_col1\" class=\"data row55 col1\" >14,149</td>\n",
       "      <td id=\"T_cfd60_row55_col2\" class=\"data row55 col2\" >0.01%</td>\n",
       "    </tr>\n",
       "    <tr>\n",
       "      <th id=\"T_cfd60_level0_row56\" class=\"row_heading level0 row56\" >primary_cleaner.state.floatbank8_a_level</th>\n",
       "      <td id=\"T_cfd60_row56_col0\" class=\"data row56 col0\" >1</td>\n",
       "      <td id=\"T_cfd60_row56_col1\" class=\"data row56 col1\" >14,149</td>\n",
       "      <td id=\"T_cfd60_row56_col2\" class=\"data row56 col2\" >0.01%</td>\n",
       "    </tr>\n",
       "    <tr>\n",
       "      <th id=\"T_cfd60_level0_row57\" class=\"row_heading level0 row57\" >primary_cleaner.output.tail_ag</th>\n",
       "      <td id=\"T_cfd60_row57_col0\" class=\"data row57 col0\" >1</td>\n",
       "      <td id=\"T_cfd60_row57_col1\" class=\"data row57 col1\" >14,149</td>\n",
       "      <td id=\"T_cfd60_row57_col2\" class=\"data row57 col2\" >0.01%</td>\n",
       "    </tr>\n",
       "    <tr>\n",
       "      <th id=\"T_cfd60_level0_row58\" class=\"row_heading level0 row58\" >final.output.concentrate_ag</th>\n",
       "      <td id=\"T_cfd60_row58_col0\" class=\"data row58 col0\" >1</td>\n",
       "      <td id=\"T_cfd60_row58_col1\" class=\"data row58 col1\" >14,149</td>\n",
       "      <td id=\"T_cfd60_row58_col2\" class=\"data row58 col2\" >0.01%</td>\n",
       "    </tr>\n",
       "    <tr>\n",
       "      <th id=\"T_cfd60_level0_row59\" class=\"row_heading level0 row59\" >rougher.calculation.sulfate_to_au_concentrate</th>\n",
       "      <td id=\"T_cfd60_row59_col0\" class=\"data row59 col0\" >1</td>\n",
       "      <td id=\"T_cfd60_row59_col1\" class=\"data row59 col1\" >14,149</td>\n",
       "      <td id=\"T_cfd60_row59_col2\" class=\"data row59 col2\" >0.01%</td>\n",
       "    </tr>\n",
       "    <tr>\n",
       "      <th id=\"T_cfd60_level0_row60\" class=\"row_heading level0 row60\" >rougher.output.tail_ag</th>\n",
       "      <td id=\"T_cfd60_row60_col0\" class=\"data row60 col0\" >1</td>\n",
       "      <td id=\"T_cfd60_row60_col1\" class=\"data row60 col1\" >14,149</td>\n",
       "      <td id=\"T_cfd60_row60_col2\" class=\"data row60 col2\" >0.01%</td>\n",
       "    </tr>\n",
       "    <tr>\n",
       "      <th id=\"T_cfd60_level0_row61\" class=\"row_heading level0 row61\" >final.output.concentrate_pb</th>\n",
       "      <td id=\"T_cfd60_row61_col0\" class=\"data row61 col0\" >1</td>\n",
       "      <td id=\"T_cfd60_row61_col1\" class=\"data row61 col1\" >14,149</td>\n",
       "      <td id=\"T_cfd60_row61_col2\" class=\"data row61 col2\" >0.01%</td>\n",
       "    </tr>\n",
       "    <tr>\n",
       "      <th id=\"T_cfd60_level0_row62\" class=\"row_heading level0 row62\" >primary_cleaner.input.feed_size</th>\n",
       "      <td id=\"T_cfd60_row62_col0\" class=\"data row62 col0\" >0</td>\n",
       "      <td id=\"T_cfd60_row62_col1\" class=\"data row62 col1\" >14,149</td>\n",
       "      <td id=\"T_cfd60_row62_col2\" class=\"data row62 col2\" >0.00%</td>\n",
       "    </tr>\n",
       "    <tr>\n",
       "      <th id=\"T_cfd60_level0_row63\" class=\"row_heading level0 row63\" >final.output.tail_au</th>\n",
       "      <td id=\"T_cfd60_row63_col0\" class=\"data row63 col0\" >0</td>\n",
       "      <td id=\"T_cfd60_row63_col1\" class=\"data row63 col1\" >14,149</td>\n",
       "      <td id=\"T_cfd60_row63_col2\" class=\"data row63 col2\" >0.00%</td>\n",
       "    </tr>\n",
       "    <tr>\n",
       "      <th id=\"T_cfd60_level0_row64\" class=\"row_heading level0 row64\" >primary_cleaner.output.concentrate_au</th>\n",
       "      <td id=\"T_cfd60_row64_col0\" class=\"data row64 col0\" >0</td>\n",
       "      <td id=\"T_cfd60_row64_col1\" class=\"data row64 col1\" >14,149</td>\n",
       "      <td id=\"T_cfd60_row64_col2\" class=\"data row64 col2\" >0.00%</td>\n",
       "    </tr>\n",
       "    <tr>\n",
       "      <th id=\"T_cfd60_level0_row65\" class=\"row_heading level0 row65\" >final.output.tail_ag</th>\n",
       "      <td id=\"T_cfd60_row65_col0\" class=\"data row65 col0\" >0</td>\n",
       "      <td id=\"T_cfd60_row65_col1\" class=\"data row65 col1\" >14,149</td>\n",
       "      <td id=\"T_cfd60_row65_col2\" class=\"data row65 col2\" >0.00%</td>\n",
       "    </tr>\n",
       "    <tr>\n",
       "      <th id=\"T_cfd60_level0_row66\" class=\"row_heading level0 row66\" >primary_cleaner.output.tail_au</th>\n",
       "      <td id=\"T_cfd60_row66_col0\" class=\"data row66 col0\" >0</td>\n",
       "      <td id=\"T_cfd60_row66_col1\" class=\"data row66 col1\" >14,149</td>\n",
       "      <td id=\"T_cfd60_row66_col2\" class=\"data row66 col2\" >0.00%</td>\n",
       "    </tr>\n",
       "    <tr>\n",
       "      <th id=\"T_cfd60_level0_row67\" class=\"row_heading level0 row67\" >final.output.recovery</th>\n",
       "      <td id=\"T_cfd60_row67_col0\" class=\"data row67 col0\" >0</td>\n",
       "      <td id=\"T_cfd60_row67_col1\" class=\"data row67 col1\" >14,149</td>\n",
       "      <td id=\"T_cfd60_row67_col2\" class=\"data row67 col2\" >0.00%</td>\n",
       "    </tr>\n",
       "    <tr>\n",
       "      <th id=\"T_cfd60_level0_row68\" class=\"row_heading level0 row68\" >final.output.concentrate_au</th>\n",
       "      <td id=\"T_cfd60_row68_col0\" class=\"data row68 col0\" >0</td>\n",
       "      <td id=\"T_cfd60_row68_col1\" class=\"data row68 col1\" >14,149</td>\n",
       "      <td id=\"T_cfd60_row68_col2\" class=\"data row68 col2\" >0.00%</td>\n",
       "    </tr>\n",
       "    <tr>\n",
       "      <th id=\"T_cfd60_level0_row69\" class=\"row_heading level0 row69\" >primary_cleaner.output.concentrate_ag</th>\n",
       "      <td id=\"T_cfd60_row69_col0\" class=\"data row69 col0\" >0</td>\n",
       "      <td id=\"T_cfd60_row69_col1\" class=\"data row69 col1\" >14,149</td>\n",
       "      <td id=\"T_cfd60_row69_col2\" class=\"data row69 col2\" >0.00%</td>\n",
       "    </tr>\n",
       "    <tr>\n",
       "      <th id=\"T_cfd60_level0_row70\" class=\"row_heading level0 row70\" >rougher.output.tail_sol</th>\n",
       "      <td id=\"T_cfd60_row70_col0\" class=\"data row70 col0\" >0</td>\n",
       "      <td id=\"T_cfd60_row70_col1\" class=\"data row70 col1\" >14,149</td>\n",
       "      <td id=\"T_cfd60_row70_col2\" class=\"data row70 col2\" >0.00%</td>\n",
       "    </tr>\n",
       "    <tr>\n",
       "      <th id=\"T_cfd60_level0_row71\" class=\"row_heading level0 row71\" >rougher.output.tail_au</th>\n",
       "      <td id=\"T_cfd60_row71_col0\" class=\"data row71 col0\" >0</td>\n",
       "      <td id=\"T_cfd60_row71_col1\" class=\"data row71 col1\" >14,149</td>\n",
       "      <td id=\"T_cfd60_row71_col2\" class=\"data row71 col2\" >0.00%</td>\n",
       "    </tr>\n",
       "    <tr>\n",
       "      <th id=\"T_cfd60_level0_row72\" class=\"row_heading level0 row72\" >secondary_cleaner.output.tail_au</th>\n",
       "      <td id=\"T_cfd60_row72_col0\" class=\"data row72 col0\" >0</td>\n",
       "      <td id=\"T_cfd60_row72_col1\" class=\"data row72 col1\" >14,149</td>\n",
       "      <td id=\"T_cfd60_row72_col2\" class=\"data row72 col2\" >0.00%</td>\n",
       "    </tr>\n",
       "    <tr>\n",
       "      <th id=\"T_cfd60_level0_row73\" class=\"row_heading level0 row73\" >rougher.calculation.au_pb_ratio</th>\n",
       "      <td id=\"T_cfd60_row73_col0\" class=\"data row73 col0\" >0</td>\n",
       "      <td id=\"T_cfd60_row73_col1\" class=\"data row73 col1\" >14,149</td>\n",
       "      <td id=\"T_cfd60_row73_col2\" class=\"data row73 col2\" >0.00%</td>\n",
       "    </tr>\n",
       "    <tr>\n",
       "      <th id=\"T_cfd60_level0_row74\" class=\"row_heading level0 row74\" >rougher.input.feed_ag</th>\n",
       "      <td id=\"T_cfd60_row74_col0\" class=\"data row74 col0\" >0</td>\n",
       "      <td id=\"T_cfd60_row74_col1\" class=\"data row74 col1\" >14,149</td>\n",
       "      <td id=\"T_cfd60_row74_col2\" class=\"data row74 col2\" >0.00%</td>\n",
       "    </tr>\n",
       "    <tr>\n",
       "      <th id=\"T_cfd60_level0_row75\" class=\"row_heading level0 row75\" >rougher.input.feed_au</th>\n",
       "      <td id=\"T_cfd60_row75_col0\" class=\"data row75 col0\" >0</td>\n",
       "      <td id=\"T_cfd60_row75_col1\" class=\"data row75 col1\" >14,149</td>\n",
       "      <td id=\"T_cfd60_row75_col2\" class=\"data row75 col2\" >0.00%</td>\n",
       "    </tr>\n",
       "    <tr>\n",
       "      <th id=\"T_cfd60_level0_row76\" class=\"row_heading level0 row76\" >rougher.state.floatbank10_f_level</th>\n",
       "      <td id=\"T_cfd60_row76_col0\" class=\"data row76 col0\" >0</td>\n",
       "      <td id=\"T_cfd60_row76_col1\" class=\"data row76 col1\" >14,149</td>\n",
       "      <td id=\"T_cfd60_row76_col2\" class=\"data row76 col2\" >0.00%</td>\n",
       "    </tr>\n",
       "    <tr>\n",
       "      <th id=\"T_cfd60_level0_row77\" class=\"row_heading level0 row77\" >rougher.state.floatbank10_f_air</th>\n",
       "      <td id=\"T_cfd60_row77_col0\" class=\"data row77 col0\" >0</td>\n",
       "      <td id=\"T_cfd60_row77_col1\" class=\"data row77 col1\" >14,149</td>\n",
       "      <td id=\"T_cfd60_row77_col2\" class=\"data row77 col2\" >0.00%</td>\n",
       "    </tr>\n",
       "    <tr>\n",
       "      <th id=\"T_cfd60_level0_row78\" class=\"row_heading level0 row78\" >rougher.state.floatbank10_e_level</th>\n",
       "      <td id=\"T_cfd60_row78_col0\" class=\"data row78 col0\" >0</td>\n",
       "      <td id=\"T_cfd60_row78_col1\" class=\"data row78 col1\" >14,149</td>\n",
       "      <td id=\"T_cfd60_row78_col2\" class=\"data row78 col2\" >0.00%</td>\n",
       "    </tr>\n",
       "    <tr>\n",
       "      <th id=\"T_cfd60_level0_row79\" class=\"row_heading level0 row79\" >rougher.state.floatbank10_d_level</th>\n",
       "      <td id=\"T_cfd60_row79_col0\" class=\"data row79 col0\" >0</td>\n",
       "      <td id=\"T_cfd60_row79_col1\" class=\"data row79 col1\" >14,149</td>\n",
       "      <td id=\"T_cfd60_row79_col2\" class=\"data row79 col2\" >0.00%</td>\n",
       "    </tr>\n",
       "    <tr>\n",
       "      <th id=\"T_cfd60_level0_row80\" class=\"row_heading level0 row80\" >rougher.state.floatbank10_d_air</th>\n",
       "      <td id=\"T_cfd60_row80_col0\" class=\"data row80 col0\" >0</td>\n",
       "      <td id=\"T_cfd60_row80_col1\" class=\"data row80 col1\" >14,149</td>\n",
       "      <td id=\"T_cfd60_row80_col2\" class=\"data row80 col2\" >0.00%</td>\n",
       "    </tr>\n",
       "    <tr>\n",
       "      <th id=\"T_cfd60_level0_row81\" class=\"row_heading level0 row81\" >rougher.output.concentrate_ag</th>\n",
       "      <td id=\"T_cfd60_row81_col0\" class=\"data row81 col0\" >0</td>\n",
       "      <td id=\"T_cfd60_row81_col1\" class=\"data row81 col1\" >14,149</td>\n",
       "      <td id=\"T_cfd60_row81_col2\" class=\"data row81 col2\" >0.00%</td>\n",
       "    </tr>\n",
       "    <tr>\n",
       "      <th id=\"T_cfd60_level0_row82\" class=\"row_heading level0 row82\" >rougher.output.concentrate_pb</th>\n",
       "      <td id=\"T_cfd60_row82_col0\" class=\"data row82 col0\" >0</td>\n",
       "      <td id=\"T_cfd60_row82_col1\" class=\"data row82 col1\" >14,149</td>\n",
       "      <td id=\"T_cfd60_row82_col2\" class=\"data row82 col2\" >0.00%</td>\n",
       "    </tr>\n",
       "    <tr>\n",
       "      <th id=\"T_cfd60_level0_row83\" class=\"row_heading level0 row83\" >rougher.output.concentrate_au</th>\n",
       "      <td id=\"T_cfd60_row83_col0\" class=\"data row83 col0\" >0</td>\n",
       "      <td id=\"T_cfd60_row83_col1\" class=\"data row83 col1\" >14,149</td>\n",
       "      <td id=\"T_cfd60_row83_col2\" class=\"data row83 col2\" >0.00%</td>\n",
       "    </tr>\n",
       "    <tr>\n",
       "      <th id=\"T_cfd60_level0_row84\" class=\"row_heading level0 row84\" >rougher.output.recovery</th>\n",
       "      <td id=\"T_cfd60_row84_col0\" class=\"data row84 col0\" >0</td>\n",
       "      <td id=\"T_cfd60_row84_col1\" class=\"data row84 col1\" >14,149</td>\n",
       "      <td id=\"T_cfd60_row84_col2\" class=\"data row84 col2\" >0.00%</td>\n",
       "    </tr>\n",
       "    <tr>\n",
       "      <th id=\"T_cfd60_level0_row85\" class=\"row_heading level0 row85\" >rougher.output.tail_pb</th>\n",
       "      <td id=\"T_cfd60_row85_col0\" class=\"data row85 col0\" >0</td>\n",
       "      <td id=\"T_cfd60_row85_col1\" class=\"data row85 col1\" >14,149</td>\n",
       "      <td id=\"T_cfd60_row85_col2\" class=\"data row85 col2\" >0.00%</td>\n",
       "    </tr>\n",
       "    <tr>\n",
       "      <th id=\"T_cfd60_level0_row86\" class=\"row_heading level0 row86\" >date</th>\n",
       "      <td id=\"T_cfd60_row86_col0\" class=\"data row86 col0\" >0</td>\n",
       "      <td id=\"T_cfd60_row86_col1\" class=\"data row86 col1\" >14,149</td>\n",
       "      <td id=\"T_cfd60_row86_col2\" class=\"data row86 col2\" >0.00%</td>\n",
       "    </tr>\n",
       "  </tbody>\n",
       "</table>\n"
      ],
      "text/plain": [
       "<pandas.io.formats.style.Styler at 0x7efe3fd43a10>"
      ]
     },
     "execution_count": 23,
     "metadata": {},
     "output_type": "execute_result"
    }
   ],
   "source": [
    "reco_train.stb.missing(style=True)"
   ]
  },
  {
   "cell_type": "code",
   "execution_count": 24,
   "metadata": {},
   "outputs": [
    {
     "data": {
      "text/html": [
       "<style type=\"text/css\">\n",
       "</style>\n",
       "<table id=\"T_58805_\">\n",
       "  <thead>\n",
       "    <tr>\n",
       "      <th class=\"blank level0\" >&nbsp;</th>\n",
       "      <th class=\"col_heading level0 col0\" >missing</th>\n",
       "      <th class=\"col_heading level0 col1\" >total</th>\n",
       "      <th class=\"col_heading level0 col2\" >percent</th>\n",
       "    </tr>\n",
       "  </thead>\n",
       "  <tbody>\n",
       "    <tr>\n",
       "      <th id=\"T_58805_level0_row0\" class=\"row_heading level0 row0\" >rougher.input.floatbank11_xanthate</th>\n",
       "      <td id=\"T_58805_row0_col0\" class=\"data row0 col0\" >25</td>\n",
       "      <td id=\"T_58805_row0_col1\" class=\"data row0 col1\" >5,290</td>\n",
       "      <td id=\"T_58805_row0_col2\" class=\"data row0 col2\" >0.47%</td>\n",
       "    </tr>\n",
       "    <tr>\n",
       "      <th id=\"T_58805_level0_row1\" class=\"row_heading level0 row1\" >rougher.input.feed_sol</th>\n",
       "      <td id=\"T_58805_row1_col0\" class=\"data row1 col0\" >21</td>\n",
       "      <td id=\"T_58805_row1_col1\" class=\"data row1 col1\" >5,290</td>\n",
       "      <td id=\"T_58805_row1_col2\" class=\"data row1 col2\" >0.40%</td>\n",
       "    </tr>\n",
       "    <tr>\n",
       "      <th id=\"T_58805_level0_row2\" class=\"row_heading level0 row2\" >secondary_cleaner.state.floatbank3_a_air</th>\n",
       "      <td id=\"T_58805_row2_col0\" class=\"data row2 col0\" >9</td>\n",
       "      <td id=\"T_58805_row2_col1\" class=\"data row2 col1\" >5,290</td>\n",
       "      <td id=\"T_58805_row2_col2\" class=\"data row2 col2\" >0.17%</td>\n",
       "    </tr>\n",
       "    <tr>\n",
       "      <th id=\"T_58805_level0_row3\" class=\"row_heading level0 row3\" >rougher.input.floatbank11_sulfate</th>\n",
       "      <td id=\"T_58805_row3_col0\" class=\"data row3 col0\" >8</td>\n",
       "      <td id=\"T_58805_row3_col1\" class=\"data row3 col1\" >5,290</td>\n",
       "      <td id=\"T_58805_row3_col2\" class=\"data row3 col2\" >0.15%</td>\n",
       "    </tr>\n",
       "    <tr>\n",
       "      <th id=\"T_58805_level0_row4\" class=\"row_heading level0 row4\" >primary_cleaner.input.depressant</th>\n",
       "      <td id=\"T_58805_row4_col0\" class=\"data row4 col0\" >5</td>\n",
       "      <td id=\"T_58805_row4_col1\" class=\"data row4 col1\" >5,290</td>\n",
       "      <td id=\"T_58805_row4_col2\" class=\"data row4 col2\" >0.09%</td>\n",
       "    </tr>\n",
       "    <tr>\n",
       "      <th id=\"T_58805_level0_row5\" class=\"row_heading level0 row5\" >rougher.input.floatbank10_sulfate</th>\n",
       "      <td id=\"T_58805_row5_col0\" class=\"data row5 col0\" >5</td>\n",
       "      <td id=\"T_58805_row5_col1\" class=\"data row5 col1\" >5,290</td>\n",
       "      <td id=\"T_58805_row5_col2\" class=\"data row5 col2\" >0.09%</td>\n",
       "    </tr>\n",
       "    <tr>\n",
       "      <th id=\"T_58805_level0_row6\" class=\"row_heading level0 row6\" >primary_cleaner.input.xanthate</th>\n",
       "      <td id=\"T_58805_row6_col0\" class=\"data row6 col0\" >4</td>\n",
       "      <td id=\"T_58805_row6_col1\" class=\"data row6 col1\" >5,290</td>\n",
       "      <td id=\"T_58805_row6_col2\" class=\"data row6 col2\" >0.08%</td>\n",
       "    </tr>\n",
       "    <tr>\n",
       "      <th id=\"T_58805_level0_row7\" class=\"row_heading level0 row7\" >primary_cleaner.input.sulfate</th>\n",
       "      <td id=\"T_58805_row7_col0\" class=\"data row7 col0\" >4</td>\n",
       "      <td id=\"T_58805_row7_col1\" class=\"data row7 col1\" >5,290</td>\n",
       "      <td id=\"T_58805_row7_col2\" class=\"data row7 col2\" >0.08%</td>\n",
       "    </tr>\n",
       "    <tr>\n",
       "      <th id=\"T_58805_level0_row8\" class=\"row_heading level0 row8\" >secondary_cleaner.state.floatbank2_a_air</th>\n",
       "      <td id=\"T_58805_row8_col0\" class=\"data row8 col0\" >3</td>\n",
       "      <td id=\"T_58805_row8_col1\" class=\"data row8 col1\" >5,290</td>\n",
       "      <td id=\"T_58805_row8_col2\" class=\"data row8 col2\" >0.06%</td>\n",
       "    </tr>\n",
       "    <tr>\n",
       "      <th id=\"T_58805_level0_row9\" class=\"row_heading level0 row9\" >rougher.input.feed_rate</th>\n",
       "      <td id=\"T_58805_row9_col0\" class=\"data row9 col0\" >3</td>\n",
       "      <td id=\"T_58805_row9_col1\" class=\"data row9 col1\" >5,290</td>\n",
       "      <td id=\"T_58805_row9_col2\" class=\"data row9 col2\" >0.06%</td>\n",
       "    </tr>\n",
       "    <tr>\n",
       "      <th id=\"T_58805_level0_row10\" class=\"row_heading level0 row10\" >secondary_cleaner.state.floatbank2_b_air</th>\n",
       "      <td id=\"T_58805_row10_col0\" class=\"data row10 col0\" >2</td>\n",
       "      <td id=\"T_58805_row10_col1\" class=\"data row10 col1\" >5,290</td>\n",
       "      <td id=\"T_58805_row10_col2\" class=\"data row10 col2\" >0.04%</td>\n",
       "    </tr>\n",
       "    <tr>\n",
       "      <th id=\"T_58805_level0_row11\" class=\"row_heading level0 row11\" >rougher.input.feed_size</th>\n",
       "      <td id=\"T_58805_row11_col0\" class=\"data row11 col0\" >1</td>\n",
       "      <td id=\"T_58805_row11_col1\" class=\"data row11 col1\" >5,290</td>\n",
       "      <td id=\"T_58805_row11_col2\" class=\"data row11 col2\" >0.02%</td>\n",
       "    </tr>\n",
       "    <tr>\n",
       "      <th id=\"T_58805_level0_row12\" class=\"row_heading level0 row12\" >secondary_cleaner.state.floatbank3_a_level</th>\n",
       "      <td id=\"T_58805_row12_col0\" class=\"data row12 col0\" >0</td>\n",
       "      <td id=\"T_58805_row12_col1\" class=\"data row12 col1\" >5,290</td>\n",
       "      <td id=\"T_58805_row12_col2\" class=\"data row12 col2\" >0.00%</td>\n",
       "    </tr>\n",
       "    <tr>\n",
       "      <th id=\"T_58805_level0_row13\" class=\"row_heading level0 row13\" >secondary_cleaner.state.floatbank3_b_level</th>\n",
       "      <td id=\"T_58805_row13_col0\" class=\"data row13 col0\" >0</td>\n",
       "      <td id=\"T_58805_row13_col1\" class=\"data row13 col1\" >5,290</td>\n",
       "      <td id=\"T_58805_row13_col2\" class=\"data row13 col2\" >0.00%</td>\n",
       "    </tr>\n",
       "    <tr>\n",
       "      <th id=\"T_58805_level0_row14\" class=\"row_heading level0 row14\" >secondary_cleaner.state.floatbank3_b_air</th>\n",
       "      <td id=\"T_58805_row14_col0\" class=\"data row14 col0\" >0</td>\n",
       "      <td id=\"T_58805_row14_col1\" class=\"data row14 col1\" >5,290</td>\n",
       "      <td id=\"T_58805_row14_col2\" class=\"data row14 col2\" >0.00%</td>\n",
       "    </tr>\n",
       "    <tr>\n",
       "      <th id=\"T_58805_level0_row15\" class=\"row_heading level0 row15\" >secondary_cleaner.state.floatbank2_a_level</th>\n",
       "      <td id=\"T_58805_row15_col0\" class=\"data row15 col0\" >0</td>\n",
       "      <td id=\"T_58805_row15_col1\" class=\"data row15 col1\" >5,290</td>\n",
       "      <td id=\"T_58805_row15_col2\" class=\"data row15 col2\" >0.00%</td>\n",
       "    </tr>\n",
       "    <tr>\n",
       "      <th id=\"T_58805_level0_row16\" class=\"row_heading level0 row16\" >rougher.state.floatbank10_f_level</th>\n",
       "      <td id=\"T_58805_row16_col0\" class=\"data row16 col0\" >0</td>\n",
       "      <td id=\"T_58805_row16_col1\" class=\"data row16 col1\" >5,290</td>\n",
       "      <td id=\"T_58805_row16_col2\" class=\"data row16 col2\" >0.00%</td>\n",
       "    </tr>\n",
       "    <tr>\n",
       "      <th id=\"T_58805_level0_row17\" class=\"row_heading level0 row17\" >secondary_cleaner.state.floatbank2_b_level</th>\n",
       "      <td id=\"T_58805_row17_col0\" class=\"data row17 col0\" >0</td>\n",
       "      <td id=\"T_58805_row17_col1\" class=\"data row17 col1\" >5,290</td>\n",
       "      <td id=\"T_58805_row17_col2\" class=\"data row17 col2\" >0.00%</td>\n",
       "    </tr>\n",
       "    <tr>\n",
       "      <th id=\"T_58805_level0_row18\" class=\"row_heading level0 row18\" >date</th>\n",
       "      <td id=\"T_58805_row18_col0\" class=\"data row18 col0\" >0</td>\n",
       "      <td id=\"T_58805_row18_col1\" class=\"data row18 col1\" >5,290</td>\n",
       "      <td id=\"T_58805_row18_col2\" class=\"data row18 col2\" >0.00%</td>\n",
       "    </tr>\n",
       "    <tr>\n",
       "      <th id=\"T_58805_level0_row19\" class=\"row_heading level0 row19\" >rougher.state.floatbank10_e_level</th>\n",
       "      <td id=\"T_58805_row19_col0\" class=\"data row19 col0\" >0</td>\n",
       "      <td id=\"T_58805_row19_col1\" class=\"data row19 col1\" >5,290</td>\n",
       "      <td id=\"T_58805_row19_col2\" class=\"data row19 col2\" >0.00%</td>\n",
       "    </tr>\n",
       "    <tr>\n",
       "      <th id=\"T_58805_level0_row20\" class=\"row_heading level0 row20\" >secondary_cleaner.state.floatbank4_a_air</th>\n",
       "      <td id=\"T_58805_row20_col0\" class=\"data row20 col0\" >0</td>\n",
       "      <td id=\"T_58805_row20_col1\" class=\"data row20 col1\" >5,290</td>\n",
       "      <td id=\"T_58805_row20_col2\" class=\"data row20 col2\" >0.00%</td>\n",
       "    </tr>\n",
       "    <tr>\n",
       "      <th id=\"T_58805_level0_row21\" class=\"row_heading level0 row21\" >secondary_cleaner.state.floatbank4_a_level</th>\n",
       "      <td id=\"T_58805_row21_col0\" class=\"data row21 col0\" >0</td>\n",
       "      <td id=\"T_58805_row21_col1\" class=\"data row21 col1\" >5,290</td>\n",
       "      <td id=\"T_58805_row21_col2\" class=\"data row21 col2\" >0.00%</td>\n",
       "    </tr>\n",
       "    <tr>\n",
       "      <th id=\"T_58805_level0_row22\" class=\"row_heading level0 row22\" >secondary_cleaner.state.floatbank4_b_air</th>\n",
       "      <td id=\"T_58805_row22_col0\" class=\"data row22 col0\" >0</td>\n",
       "      <td id=\"T_58805_row22_col1\" class=\"data row22 col1\" >5,290</td>\n",
       "      <td id=\"T_58805_row22_col2\" class=\"data row22 col2\" >0.00%</td>\n",
       "    </tr>\n",
       "    <tr>\n",
       "      <th id=\"T_58805_level0_row23\" class=\"row_heading level0 row23\" >secondary_cleaner.state.floatbank4_b_level</th>\n",
       "      <td id=\"T_58805_row23_col0\" class=\"data row23 col0\" >0</td>\n",
       "      <td id=\"T_58805_row23_col1\" class=\"data row23 col1\" >5,290</td>\n",
       "      <td id=\"T_58805_row23_col2\" class=\"data row23 col2\" >0.00%</td>\n",
       "    </tr>\n",
       "    <tr>\n",
       "      <th id=\"T_58805_level0_row24\" class=\"row_heading level0 row24\" >secondary_cleaner.state.floatbank5_a_air</th>\n",
       "      <td id=\"T_58805_row24_col0\" class=\"data row24 col0\" >0</td>\n",
       "      <td id=\"T_58805_row24_col1\" class=\"data row24 col1\" >5,290</td>\n",
       "      <td id=\"T_58805_row24_col2\" class=\"data row24 col2\" >0.00%</td>\n",
       "    </tr>\n",
       "    <tr>\n",
       "      <th id=\"T_58805_level0_row25\" class=\"row_heading level0 row25\" >secondary_cleaner.state.floatbank5_a_level</th>\n",
       "      <td id=\"T_58805_row25_col0\" class=\"data row25 col0\" >0</td>\n",
       "      <td id=\"T_58805_row25_col1\" class=\"data row25 col1\" >5,290</td>\n",
       "      <td id=\"T_58805_row25_col2\" class=\"data row25 col2\" >0.00%</td>\n",
       "    </tr>\n",
       "    <tr>\n",
       "      <th id=\"T_58805_level0_row26\" class=\"row_heading level0 row26\" >secondary_cleaner.state.floatbank5_b_air</th>\n",
       "      <td id=\"T_58805_row26_col0\" class=\"data row26 col0\" >0</td>\n",
       "      <td id=\"T_58805_row26_col1\" class=\"data row26 col1\" >5,290</td>\n",
       "      <td id=\"T_58805_row26_col2\" class=\"data row26 col2\" >0.00%</td>\n",
       "    </tr>\n",
       "    <tr>\n",
       "      <th id=\"T_58805_level0_row27\" class=\"row_heading level0 row27\" >secondary_cleaner.state.floatbank5_b_level</th>\n",
       "      <td id=\"T_58805_row27_col0\" class=\"data row27 col0\" >0</td>\n",
       "      <td id=\"T_58805_row27_col1\" class=\"data row27 col1\" >5,290</td>\n",
       "      <td id=\"T_58805_row27_col2\" class=\"data row27 col2\" >0.00%</td>\n",
       "    </tr>\n",
       "    <tr>\n",
       "      <th id=\"T_58805_level0_row28\" class=\"row_heading level0 row28\" >secondary_cleaner.state.floatbank6_a_air</th>\n",
       "      <td id=\"T_58805_row28_col0\" class=\"data row28 col0\" >0</td>\n",
       "      <td id=\"T_58805_row28_col1\" class=\"data row28 col1\" >5,290</td>\n",
       "      <td id=\"T_58805_row28_col2\" class=\"data row28 col2\" >0.00%</td>\n",
       "    </tr>\n",
       "    <tr>\n",
       "      <th id=\"T_58805_level0_row29\" class=\"row_heading level0 row29\" >secondary_cleaner.state.floatbank6_a_level</th>\n",
       "      <td id=\"T_58805_row29_col0\" class=\"data row29 col0\" >0</td>\n",
       "      <td id=\"T_58805_row29_col1\" class=\"data row29 col1\" >5,290</td>\n",
       "      <td id=\"T_58805_row29_col2\" class=\"data row29 col2\" >0.00%</td>\n",
       "    </tr>\n",
       "    <tr>\n",
       "      <th id=\"T_58805_level0_row30\" class=\"row_heading level0 row30\" >rougher.output.recovery</th>\n",
       "      <td id=\"T_58805_row30_col0\" class=\"data row30 col0\" >0</td>\n",
       "      <td id=\"T_58805_row30_col1\" class=\"data row30 col1\" >5,290</td>\n",
       "      <td id=\"T_58805_row30_col2\" class=\"data row30 col2\" >0.00%</td>\n",
       "    </tr>\n",
       "    <tr>\n",
       "      <th id=\"T_58805_level0_row31\" class=\"row_heading level0 row31\" >rougher.state.floatbank10_f_air</th>\n",
       "      <td id=\"T_58805_row31_col0\" class=\"data row31 col0\" >0</td>\n",
       "      <td id=\"T_58805_row31_col1\" class=\"data row31 col1\" >5,290</td>\n",
       "      <td id=\"T_58805_row31_col2\" class=\"data row31 col2\" >0.00%</td>\n",
       "    </tr>\n",
       "    <tr>\n",
       "      <th id=\"T_58805_level0_row32\" class=\"row_heading level0 row32\" >rougher.state.floatbank10_c_air</th>\n",
       "      <td id=\"T_58805_row32_col0\" class=\"data row32 col0\" >0</td>\n",
       "      <td id=\"T_58805_row32_col1\" class=\"data row32 col1\" >5,290</td>\n",
       "      <td id=\"T_58805_row32_col2\" class=\"data row32 col2\" >0.00%</td>\n",
       "    </tr>\n",
       "    <tr>\n",
       "      <th id=\"T_58805_level0_row33\" class=\"row_heading level0 row33\" >rougher.state.floatbank10_e_air</th>\n",
       "      <td id=\"T_58805_row33_col0\" class=\"data row33 col0\" >0</td>\n",
       "      <td id=\"T_58805_row33_col1\" class=\"data row33 col1\" >5,290</td>\n",
       "      <td id=\"T_58805_row33_col2\" class=\"data row33 col2\" >0.00%</td>\n",
       "    </tr>\n",
       "    <tr>\n",
       "      <th id=\"T_58805_level0_row34\" class=\"row_heading level0 row34\" >rougher.state.floatbank10_d_level</th>\n",
       "      <td id=\"T_58805_row34_col0\" class=\"data row34 col0\" >0</td>\n",
       "      <td id=\"T_58805_row34_col1\" class=\"data row34 col1\" >5,290</td>\n",
       "      <td id=\"T_58805_row34_col2\" class=\"data row34 col2\" >0.00%</td>\n",
       "    </tr>\n",
       "    <tr>\n",
       "      <th id=\"T_58805_level0_row35\" class=\"row_heading level0 row35\" >primary_cleaner.input.feed_size</th>\n",
       "      <td id=\"T_58805_row35_col0\" class=\"data row35 col0\" >0</td>\n",
       "      <td id=\"T_58805_row35_col1\" class=\"data row35 col1\" >5,290</td>\n",
       "      <td id=\"T_58805_row35_col2\" class=\"data row35 col2\" >0.00%</td>\n",
       "    </tr>\n",
       "    <tr>\n",
       "      <th id=\"T_58805_level0_row36\" class=\"row_heading level0 row36\" >primary_cleaner.state.floatbank8_a_air</th>\n",
       "      <td id=\"T_58805_row36_col0\" class=\"data row36 col0\" >0</td>\n",
       "      <td id=\"T_58805_row36_col1\" class=\"data row36 col1\" >5,290</td>\n",
       "      <td id=\"T_58805_row36_col2\" class=\"data row36 col2\" >0.00%</td>\n",
       "    </tr>\n",
       "    <tr>\n",
       "      <th id=\"T_58805_level0_row37\" class=\"row_heading level0 row37\" >primary_cleaner.state.floatbank8_a_level</th>\n",
       "      <td id=\"T_58805_row37_col0\" class=\"data row37 col0\" >0</td>\n",
       "      <td id=\"T_58805_row37_col1\" class=\"data row37 col1\" >5,290</td>\n",
       "      <td id=\"T_58805_row37_col2\" class=\"data row37 col2\" >0.00%</td>\n",
       "    </tr>\n",
       "    <tr>\n",
       "      <th id=\"T_58805_level0_row38\" class=\"row_heading level0 row38\" >primary_cleaner.state.floatbank8_b_air</th>\n",
       "      <td id=\"T_58805_row38_col0\" class=\"data row38 col0\" >0</td>\n",
       "      <td id=\"T_58805_row38_col1\" class=\"data row38 col1\" >5,290</td>\n",
       "      <td id=\"T_58805_row38_col2\" class=\"data row38 col2\" >0.00%</td>\n",
       "    </tr>\n",
       "    <tr>\n",
       "      <th id=\"T_58805_level0_row39\" class=\"row_heading level0 row39\" >primary_cleaner.state.floatbank8_b_level</th>\n",
       "      <td id=\"T_58805_row39_col0\" class=\"data row39 col0\" >0</td>\n",
       "      <td id=\"T_58805_row39_col1\" class=\"data row39 col1\" >5,290</td>\n",
       "      <td id=\"T_58805_row39_col2\" class=\"data row39 col2\" >0.00%</td>\n",
       "    </tr>\n",
       "    <tr>\n",
       "      <th id=\"T_58805_level0_row40\" class=\"row_heading level0 row40\" >primary_cleaner.state.floatbank8_c_air</th>\n",
       "      <td id=\"T_58805_row40_col0\" class=\"data row40 col0\" >0</td>\n",
       "      <td id=\"T_58805_row40_col1\" class=\"data row40 col1\" >5,290</td>\n",
       "      <td id=\"T_58805_row40_col2\" class=\"data row40 col2\" >0.00%</td>\n",
       "    </tr>\n",
       "    <tr>\n",
       "      <th id=\"T_58805_level0_row41\" class=\"row_heading level0 row41\" >primary_cleaner.state.floatbank8_c_level</th>\n",
       "      <td id=\"T_58805_row41_col0\" class=\"data row41 col0\" >0</td>\n",
       "      <td id=\"T_58805_row41_col1\" class=\"data row41 col1\" >5,290</td>\n",
       "      <td id=\"T_58805_row41_col2\" class=\"data row41 col2\" >0.00%</td>\n",
       "    </tr>\n",
       "    <tr>\n",
       "      <th id=\"T_58805_level0_row42\" class=\"row_heading level0 row42\" >primary_cleaner.state.floatbank8_d_air</th>\n",
       "      <td id=\"T_58805_row42_col0\" class=\"data row42 col0\" >0</td>\n",
       "      <td id=\"T_58805_row42_col1\" class=\"data row42 col1\" >5,290</td>\n",
       "      <td id=\"T_58805_row42_col2\" class=\"data row42 col2\" >0.00%</td>\n",
       "    </tr>\n",
       "    <tr>\n",
       "      <th id=\"T_58805_level0_row43\" class=\"row_heading level0 row43\" >primary_cleaner.state.floatbank8_d_level</th>\n",
       "      <td id=\"T_58805_row43_col0\" class=\"data row43 col0\" >0</td>\n",
       "      <td id=\"T_58805_row43_col1\" class=\"data row43 col1\" >5,290</td>\n",
       "      <td id=\"T_58805_row43_col2\" class=\"data row43 col2\" >0.00%</td>\n",
       "    </tr>\n",
       "    <tr>\n",
       "      <th id=\"T_58805_level0_row44\" class=\"row_heading level0 row44\" >rougher.input.feed_ag</th>\n",
       "      <td id=\"T_58805_row44_col0\" class=\"data row44 col0\" >0</td>\n",
       "      <td id=\"T_58805_row44_col1\" class=\"data row44 col1\" >5,290</td>\n",
       "      <td id=\"T_58805_row44_col2\" class=\"data row44 col2\" >0.00%</td>\n",
       "    </tr>\n",
       "    <tr>\n",
       "      <th id=\"T_58805_level0_row45\" class=\"row_heading level0 row45\" >rougher.input.feed_pb</th>\n",
       "      <td id=\"T_58805_row45_col0\" class=\"data row45 col0\" >0</td>\n",
       "      <td id=\"T_58805_row45_col1\" class=\"data row45 col1\" >5,290</td>\n",
       "      <td id=\"T_58805_row45_col2\" class=\"data row45 col2\" >0.00%</td>\n",
       "    </tr>\n",
       "    <tr>\n",
       "      <th id=\"T_58805_level0_row46\" class=\"row_heading level0 row46\" >rougher.input.feed_au</th>\n",
       "      <td id=\"T_58805_row46_col0\" class=\"data row46 col0\" >0</td>\n",
       "      <td id=\"T_58805_row46_col1\" class=\"data row46 col1\" >5,290</td>\n",
       "      <td id=\"T_58805_row46_col2\" class=\"data row46 col2\" >0.00%</td>\n",
       "    </tr>\n",
       "    <tr>\n",
       "      <th id=\"T_58805_level0_row47\" class=\"row_heading level0 row47\" >rougher.input.floatbank10_xanthate</th>\n",
       "      <td id=\"T_58805_row47_col0\" class=\"data row47 col0\" >0</td>\n",
       "      <td id=\"T_58805_row47_col1\" class=\"data row47 col1\" >5,290</td>\n",
       "      <td id=\"T_58805_row47_col2\" class=\"data row47 col2\" >0.00%</td>\n",
       "    </tr>\n",
       "    <tr>\n",
       "      <th id=\"T_58805_level0_row48\" class=\"row_heading level0 row48\" >rougher.state.floatbank10_a_air</th>\n",
       "      <td id=\"T_58805_row48_col0\" class=\"data row48 col0\" >0</td>\n",
       "      <td id=\"T_58805_row48_col1\" class=\"data row48 col1\" >5,290</td>\n",
       "      <td id=\"T_58805_row48_col2\" class=\"data row48 col2\" >0.00%</td>\n",
       "    </tr>\n",
       "    <tr>\n",
       "      <th id=\"T_58805_level0_row49\" class=\"row_heading level0 row49\" >rougher.state.floatbank10_a_level</th>\n",
       "      <td id=\"T_58805_row49_col0\" class=\"data row49 col0\" >0</td>\n",
       "      <td id=\"T_58805_row49_col1\" class=\"data row49 col1\" >5,290</td>\n",
       "      <td id=\"T_58805_row49_col2\" class=\"data row49 col2\" >0.00%</td>\n",
       "    </tr>\n",
       "    <tr>\n",
       "      <th id=\"T_58805_level0_row50\" class=\"row_heading level0 row50\" >rougher.state.floatbank10_b_air</th>\n",
       "      <td id=\"T_58805_row50_col0\" class=\"data row50 col0\" >0</td>\n",
       "      <td id=\"T_58805_row50_col1\" class=\"data row50 col1\" >5,290</td>\n",
       "      <td id=\"T_58805_row50_col2\" class=\"data row50 col2\" >0.00%</td>\n",
       "    </tr>\n",
       "    <tr>\n",
       "      <th id=\"T_58805_level0_row51\" class=\"row_heading level0 row51\" >rougher.state.floatbank10_b_level</th>\n",
       "      <td id=\"T_58805_row51_col0\" class=\"data row51 col0\" >0</td>\n",
       "      <td id=\"T_58805_row51_col1\" class=\"data row51 col1\" >5,290</td>\n",
       "      <td id=\"T_58805_row51_col2\" class=\"data row51 col2\" >0.00%</td>\n",
       "    </tr>\n",
       "    <tr>\n",
       "      <th id=\"T_58805_level0_row52\" class=\"row_heading level0 row52\" >rougher.state.floatbank10_c_level</th>\n",
       "      <td id=\"T_58805_row52_col0\" class=\"data row52 col0\" >0</td>\n",
       "      <td id=\"T_58805_row52_col1\" class=\"data row52 col1\" >5,290</td>\n",
       "      <td id=\"T_58805_row52_col2\" class=\"data row52 col2\" >0.00%</td>\n",
       "    </tr>\n",
       "    <tr>\n",
       "      <th id=\"T_58805_level0_row53\" class=\"row_heading level0 row53\" >rougher.state.floatbank10_d_air</th>\n",
       "      <td id=\"T_58805_row53_col0\" class=\"data row53 col0\" >0</td>\n",
       "      <td id=\"T_58805_row53_col1\" class=\"data row53 col1\" >5,290</td>\n",
       "      <td id=\"T_58805_row53_col2\" class=\"data row53 col2\" >0.00%</td>\n",
       "    </tr>\n",
       "    <tr>\n",
       "      <th id=\"T_58805_level0_row54\" class=\"row_heading level0 row54\" >final.output.recovery</th>\n",
       "      <td id=\"T_58805_row54_col0\" class=\"data row54 col0\" >0</td>\n",
       "      <td id=\"T_58805_row54_col1\" class=\"data row54 col1\" >5,290</td>\n",
       "      <td id=\"T_58805_row54_col2\" class=\"data row54 col2\" >0.00%</td>\n",
       "    </tr>\n",
       "  </tbody>\n",
       "</table>\n"
      ],
      "text/plain": [
       "<pandas.io.formats.style.Styler at 0x7efe403be710>"
      ]
     },
     "execution_count": 24,
     "metadata": {},
     "output_type": "execute_result"
    }
   ],
   "source": [
    "reco_test.stb.missing(style=True)"
   ]
  },
  {
   "cell_type": "markdown",
   "metadata": {},
   "source": [
    "Let's now fill the remaining missing values with the last valid observation as entries close in time oftentimes have similar values. First we need to make sure the dataframes are ordered by date."
   ]
  },
  {
   "cell_type": "code",
   "execution_count": 25,
   "metadata": {},
   "outputs": [],
   "source": [
    "reco_train.sort_values('date', inplace=True)\n",
    "reco_test.sort_values('date', inplace=True)"
   ]
  },
  {
   "cell_type": "code",
   "execution_count": 26,
   "metadata": {},
   "outputs": [],
   "source": [
    "reco_train.ffill(inplace=True)\n",
    "reco_test.ffill(inplace=True)"
   ]
  },
  {
   "cell_type": "markdown",
   "metadata": {},
   "source": [
    "#### Checking for Duplicates"
   ]
  },
  {
   "cell_type": "code",
   "execution_count": 27,
   "metadata": {},
   "outputs": [
    {
     "data": {
      "text/plain": [
       "0"
      ]
     },
     "execution_count": 27,
     "metadata": {},
     "output_type": "execute_result"
    }
   ],
   "source": [
    "reco_train.duplicated().sum()"
   ]
  },
  {
   "cell_type": "code",
   "execution_count": 28,
   "metadata": {},
   "outputs": [
    {
     "data": {
      "text/plain": [
       "0"
      ]
     },
     "execution_count": 28,
     "metadata": {},
     "output_type": "execute_result"
    }
   ],
   "source": [
    "reco_test.duplicated().sum()"
   ]
  },
  {
   "cell_type": "markdown",
   "metadata": {},
   "source": [
    "## Analysis of the Data"
   ]
  },
  {
   "cell_type": "markdown",
   "metadata": {},
   "source": [
    "### Changes in the Concentration of Metals  During Purification Stage"
   ]
  },
  {
   "cell_type": "code",
   "execution_count": 29,
   "metadata": {},
   "outputs": [
    {
     "data": {
      "image/png": "[encoded data removed]",
      "text/plain": [
       "<Figure size 432x288 with 1 Axes>"
      ]
     },
     "metadata": {
      "needs_background": "light"
     },
     "output_type": "display_data"
    }
   ],
   "source": [
    "data_au = reco_train[['rougher.input.feed_au', 'rougher.output.concentrate_au', 'primary_cleaner.output.concentrate_au', 'final.output.concentrate_au']]\n",
    "\n",
    "plt.hist(data_au['rougher.input.feed_au'], alpha=.2, bins=50)\n",
    "plt.hist(data_au['rougher.output.concentrate_au'], alpha=.2, bins=50)\n",
    "plt.hist(data_au['primary_cleaner.output.concentrate_au'], alpha=.2, bins=50)\n",
    "plt.hist(data_au['final.output.concentrate_au'], alpha=.2, bins=50)\n",
    "plt.legend(['rougher.input.feed_au','rougher.output.concentrate_au','primary_cleaner.output.concentrate_au', 'final.output.concentrate_au'])\n",
    "plt.title('Evolution of the Distributions of Concentration of Gold During the Purification')\n",
    "plt.show()"
   ]
  },
  {
   "cell_type": "code",
   "execution_count": 30,
   "metadata": {},
   "outputs": [
    {
     "data": {
      "image/png": "[encoded data removed]",
      "text/plain": [
       "<Figure size 432x288 with 1 Axes>"
      ]
     },
     "metadata": {
      "needs_background": "light"
     },
     "output_type": "display_data"
    }
   ],
   "source": [
    "x = ['rougher.input.feed_au', 'rougher.output.concentrate_au', 'primary_cleaner.output.concentrate_au', 'final.output.concentrate_au']\n",
    "y = [data_au['rougher.input.feed_au'].mean(), data_au['rougher.output.concentrate_au'].mean(), data_au['primary_cleaner.output.concentrate_au'].mean(), data_au['final.output.concentrate_au'].mean()]\n",
    "plt.scatter(x,y)\n",
    "plt.title('Evolution of the average Concentration of Gold During the Purification')\n",
    "plt.xticks(rotation=45)\n",
    "plt.show()"
   ]
  },
  {
   "cell_type": "code",
   "execution_count": 31,
   "metadata": {},
   "outputs": [
    {
     "data": {
      "image/png": "[encoded data removed]",
      "text/plain": [
       "<Figure size 432x288 with 1 Axes>"
      ]
     },
     "metadata": {
      "needs_background": "light"
     },
     "output_type": "display_data"
    }
   ],
   "source": [
    "data_ag = reco_train[['rougher.input.feed_ag', 'rougher.output.concentrate_ag', 'primary_cleaner.output.concentrate_ag', 'final.output.concentrate_ag']]\n",
    "\n",
    "plt.hist(data_ag['rougher.input.feed_ag'], alpha=.2, bins=50)\n",
    "plt.hist(data_ag['rougher.output.concentrate_ag'], alpha=.2, bins=50)\n",
    "plt.hist(data_ag['primary_cleaner.output.concentrate_ag'], alpha=.2, bins=50)\n",
    "plt.hist(data_ag['final.output.concentrate_ag'], alpha=.2, bins=50)\n",
    "plt.legend(['rougher.input.feed_ag','rougher.output.concentrate_ag','primary_cleaner.output.concentrate_ag', 'final.output.concentrate_ag'])\n",
    "plt.title('Evolution of the Distributions of Concentration of Silver During the Purification')\n",
    "plt.show()"
   ]
  },
  {
   "cell_type": "markdown",
   "metadata": {},
   "source": [
    "Since it's difficult to distinguish the rougher input feed from the primary cleaner output concentrate as those distributions are close, let's look at how the mean values change at each stage of the purification process."
   ]
  },
  {
   "cell_type": "code",
   "execution_count": 32,
   "metadata": {},
   "outputs": [
    {
     "data": {
      "image/png": "[encoded data removed]",
      "text/plain": [
       "<Figure size 432x288 with 1 Axes>"
      ]
     },
     "metadata": {
      "needs_background": "light"
     },
     "output_type": "display_data"
    }
   ],
   "source": [
    "x = ['rougher.input.feed_ag', 'rougher.output.concentrate_ag', 'primary_cleaner.output.concentrate_ag', 'final.output.concentrate_ag']\n",
    "y = [data_ag['rougher.input.feed_ag'].mean(), data_ag['rougher.output.concentrate_ag'].mean(), data_ag['primary_cleaner.output.concentrate_ag'].mean(), data_ag['final.output.concentrate_ag'].mean()]\n",
    "plt.scatter(x,y)\n",
    "plt.title('Evolution of the average Concentration of Silver During the Purification')\n",
    "plt.xticks(rotation=45)\n",
    "plt.show()"
   ]
  },
  {
   "cell_type": "code",
   "execution_count": 33,
   "metadata": {},
   "outputs": [
    {
     "data": {
      "image/png": "[encoded data removed]",
      "text/plain": [
       "<Figure size 432x288 with 1 Axes>"
      ]
     },
     "metadata": {
      "needs_background": "light"
     },
     "output_type": "display_data"
    }
   ],
   "source": [
    "data_pb = reco_train[['rougher.input.feed_pb', 'rougher.output.concentrate_pb', 'primary_cleaner.output.concentrate_pb', 'final.output.concentrate_pb']]\n",
    "\n",
    "plt.hist(data_pb['rougher.input.feed_pb'], alpha=.2, bins=50)\n",
    "plt.hist(data_pb['rougher.output.concentrate_pb'], alpha=.2, bins=50)\n",
    "plt.hist(data_pb['primary_cleaner.output.concentrate_pb'], alpha=.2, bins=50)\n",
    "plt.hist(data_pb['final.output.concentrate_pb'], alpha=.2, bins=50)\n",
    "plt.legend(['rougher.input.feed_pb','rougher.output.concentrate_pb','primary_cleaner.output.concentrate_pb', 'final.output.concentrate_pb'])\n",
    "plt.title('Evolution of the Distributions of Concentration of Lead During the Purification')\n",
    "plt.show()"
   ]
  },
  {
   "cell_type": "code",
   "execution_count": 34,
   "metadata": {},
   "outputs": [
    {
     "data": {
      "image/png": "[encoded data removed]",
      "text/plain": [
       "<Figure size 432x288 with 1 Axes>"
      ]
     },
     "metadata": {
      "needs_background": "light"
     },
     "output_type": "display_data"
    }
   ],
   "source": [
    "x = ['rougher.input.feed_pb', 'rougher.output.concentrate_pb', 'primary_cleaner.output.concentrate_pb', 'final.output.concentrate_pb']\n",
    "y = [data_pb['rougher.input.feed_pb'].mean(), data_pb['rougher.output.concentrate_pb'].mean(), data_pb['primary_cleaner.output.concentrate_pb'].mean(), data_pb['final.output.concentrate_pb'].mean()]\n",
    "plt.scatter(x,y)\n",
    "plt.title('Evolution of the average Concentration of Lead During the Purification')\n",
    "plt.xticks(rotation=45)\n",
    "plt.show()"
   ]
  },
  {
   "cell_type": "markdown",
   "metadata": {},
   "source": [
    "The concentration of gold and lead increases after each purification stage. The silver concentration increases after the first stage, and then decreases each time."
   ]
  },
  {
   "cell_type": "markdown",
   "metadata": {},
   "source": [
    "### Feed Particle Size Distributions Comparison"
   ]
  },
  {
   "cell_type": "code",
   "execution_count": 35,
   "metadata": {},
   "outputs": [
    {
     "data": {
      "image/png": "[encoded data removed]",
      "text/plain": [
       "<Figure size 432x288 with 1 Axes>"
      ]
     },
     "metadata": {
      "needs_background": "light"
     },
     "output_type": "display_data"
    }
   ],
   "source": [
    "plt.hist(reco_train['rougher.input.feed_size'], density=True, alpha=.2, bins=50, range=(0,200))\n",
    "plt.hist(reco_test['rougher.input.feed_size'], density=True, alpha=.2, bins=50, range=(0,200))\n",
    "plt.legend(['train set', 'test set'])\n",
    "plt.title('Particle Feed Size Distribution for each Set')\n",
    "plt.show()"
   ]
  },
  {
   "cell_type": "markdown",
   "metadata": {},
   "source": [
    "Looking at the graph, the difference of the distributions is not significant."
   ]
  },
  {
   "cell_type": "markdown",
   "metadata": {},
   "source": [
    "### Total Concentrations of all Substances at Different Stages of the Recovery Process"
   ]
  },
  {
   "cell_type": "code",
   "execution_count": 36,
   "metadata": {},
   "outputs": [],
   "source": [
    "all_substances = pd.DataFrame()\n",
    "all_substances['feed'] = (reco_train['rougher.input.feed_au'] + \\\n",
    "                          reco_train['rougher.input.feed_ag'] + \\\n",
    "                          reco_train['rougher.input.feed_pb'] + \\\n",
    "                          reco_train['rougher.input.feed_sol']\n",
    "                         )\n",
    "\n",
    "all_substances['concentrate'] = (reco_train['rougher.output.concentrate_au'] + \\\n",
    "                          reco_train['rougher.output.concentrate_ag'] + \\\n",
    "                          reco_train['rougher.output.concentrate_pb'] + \\\n",
    "                          reco_train['rougher.output.concentrate_sol']\n",
    "                         )\n",
    "\n",
    "all_substances['final'] = (reco_train['final.output.concentrate_au'] + \\\n",
    "                          reco_train['final.output.concentrate_ag'] + \\\n",
    "                          reco_train['final.output.concentrate_pb'] + \\\n",
    "                          reco_train['final.output.concentrate_sol']\n",
    "                         )"
   ]
  },
  {
   "cell_type": "code",
   "execution_count": 37,
   "metadata": {},
   "outputs": [
    {
     "data": {
      "image/png": "[encoded data removed]",
      "text/plain": [
       "<Figure size 432x288 with 1 Axes>"
      ]
     },
     "metadata": {
      "needs_background": "light"
     },
     "output_type": "display_data"
    }
   ],
   "source": [
    "plt.hist(all_substances['feed'], alpha=.2, bins=50)\n",
    "plt.hist(all_substances['concentrate'], alpha=.2, bins=50)\n",
    "plt.hist(all_substances['final'], alpha=.2, bins=50)\n",
    "plt.legend(['feed', 'concentrate', 'final'])\n",
    "plt.title('...')\n",
    "plt.show()"
   ]
  },
  {
   "cell_type": "code",
   "execution_count": 38,
   "metadata": {},
   "outputs": [
    {
     "name": "stdout",
     "output_type": "stream",
     "text": [
      "There are 354 entries where substances concentrations are null during one or more stage of purification.\n"
     ]
    }
   ],
   "source": [
    "#Selecting rows from the all_substances dataframe that have a null concentration at one or more \n",
    "#stages of purification in the training set.\n",
    "\n",
    "zeros = (all_substances[(all_substances['feed'] == 0) | \\\n",
    "                        (all_substances['concentrate'] == 0) | \\\n",
    "                        (all_substances['final'] == 0)]\n",
    "        )\n",
    "\n",
    "print('There are {} entries where substances concentrations are null during one or more stage of purification.'.format(zeros.shape[0]))"
   ]
  },
  {
   "cell_type": "code",
   "execution_count": 39,
   "metadata": {},
   "outputs": [],
   "source": [
    "index_zeros = zeros.index"
   ]
  },
  {
   "cell_type": "markdown",
   "metadata": {},
   "source": [
    "Let's check the same for the test set, however since the test set doesn't contain the output concentrate features, we will just check the substances concentration for the input feed."
   ]
  },
  {
   "cell_type": "code",
   "execution_count": 40,
   "metadata": {},
   "outputs": [
    {
     "data": {
      "image/png": "[encoded data removed]",
      "text/plain": [
       "<Figure size 432x288 with 1 Axes>"
      ]
     },
     "metadata": {
      "needs_background": "light"
     },
     "output_type": "display_data"
    }
   ],
   "source": [
    "all_substances_test = pd.DataFrame()\n",
    "all_substances_test['feed'] = (reco_test['rougher.input.feed_au'] + \\\n",
    "                          reco_test['rougher.input.feed_ag'] + \\\n",
    "                          reco_test['rougher.input.feed_pb'] + \\\n",
    "                          reco_test['rougher.input.feed_sol']\n",
    "                         )\n",
    "plt.hist(all_substances_test['feed'], alpha=.2, bins=50)\n",
    "plt.legend(['feed'])\n",
    "plt.title('...')\n",
    "plt.show()"
   ]
  },
  {
   "cell_type": "code",
   "execution_count": 41,
   "metadata": {},
   "outputs": [
    {
     "data": {
      "text/plain": [
       "0"
      ]
     },
     "execution_count": 41,
     "metadata": {},
     "output_type": "execute_result"
    }
   ],
   "source": [
    "len(all_substances_test[all_substances_test['feed'] == 0])"
   ]
  },
  {
   "cell_type": "markdown",
   "metadata": {},
   "source": [
    "No null values for the total concentration of substances in the input feed for the test set, however, there are some zero values in the distribution of all substances at some of the purification stages for the training set, so let's remove all those zeros values since this won't be useful for our model."
   ]
  },
  {
   "cell_type": "code",
   "execution_count": 42,
   "metadata": {},
   "outputs": [
    {
     "name": "stdout",
     "output_type": "stream",
     "text": [
      "Percentage of rows with null substances concentration in training set: 2.50%\n"
     ]
    }
   ],
   "source": [
    "print('Percentage of rows with null substances concentration in training set: {:.2%}'.format(len(index_zeros)/len(reco_train.index)))"
   ]
  },
  {
   "cell_type": "code",
   "execution_count": 43,
   "metadata": {},
   "outputs": [],
   "source": [
    "reco_train.drop(index=index_zeros, inplace=True)"
   ]
  },
  {
   "cell_type": "markdown",
   "metadata": {},
   "source": [
    "## Building the Model"
   ]
  },
  {
   "cell_type": "markdown",
   "metadata": {},
   "source": [
    "### SMAPE Calculation"
   ]
  },
  {
   "cell_type": "markdown",
   "metadata": {},
   "source": [
    "A function for calculating the sMAPE (symmetric Mean Absolute Percentage Error) score is first defined, and then we calculate the final sMAPE score adding 25% of the rougher output recovery sMAPE score to 75% of the final output recovery sMAPE score, and we convert this final sMAPE score to a scorer using sklearn make_scorer for the cross validation."
   ]
  },
  {
   "cell_type": "code",
   "execution_count": 44,
   "metadata": {},
   "outputs": [],
   "source": [
    "def smape(target, preds):\n",
    "    '''Calculates the symmetric Mean Absolute Percentage Error between target and predictions.\n",
    "    \n",
    "    target: array of target values\n",
    "    preds: array of predicted values\n",
    "    '''\n",
    "    \n",
    "    return np.mean(abs(target - preds) / ((abs(target) + abs(preds)) / 2))"
   ]
  },
  {
   "cell_type": "code",
   "execution_count": 45,
   "metadata": {},
   "outputs": [],
   "source": [
    "def final_smape(target, preds):\n",
    "    '''Calculates the final metric value which is 25% of the sMAPE score for rougher output plus\n",
    "    75% of the sMAPE score for final output\n",
    "    \n",
    "    target: array of target values\n",
    "    preds: array of predicted values'''\n",
    "    \n",
    "    smape_rougher = smape(target[:,0], preds[:,0])\n",
    "    smape_final = smape(target[:,1], preds[:,1])\n",
    "    return (0.25 * smape_rougher + 0.75 * smape_final)"
   ]
  },
  {
   "cell_type": "code",
   "execution_count": 46,
   "metadata": {},
   "outputs": [],
   "source": [
    "#Creating the scorer for cross validation.\n",
    "\n",
    "smape_score = make_scorer(final_smape, greater_is_better=False)"
   ]
  },
  {
   "cell_type": "markdown",
   "metadata": {},
   "source": [
    "### Linear Regression"
   ]
  },
  {
   "cell_type": "code",
   "execution_count": 47,
   "metadata": {},
   "outputs": [],
   "source": [
    "# Keeping only the features that are in both the training set and the test set.\n",
    "\n",
    "features = list(set(reco_train.columns).intersection(set(reco_test.columns)) \n",
    "                - set(['date', 'rougher.output.recovery', 'final.output.recovery']))\n",
    "\n",
    "target = ['rougher.output.recovery', 'final.output.recovery']\n",
    "\n",
    "features_train, features_test = reco_train[features].values, reco_test[features].values\n",
    "target_train, target_test = reco_train[target].values, reco_test[target].values"
   ]
  },
  {
   "cell_type": "markdown",
   "metadata": {},
   "source": [
    "We use MinMaxScaler here to scale the features as Standard Scaler introduced some nan in the calculation of the smape score."
   ]
  },
  {
   "cell_type": "code",
   "execution_count": 48,
   "metadata": {},
   "outputs": [],
   "source": [
    "pipe = Pipeline([(\"scale\", MinMaxScaler()),\n",
    "                 (\"Linear Regression\", LinearRegression())\n",
    "                ])"
   ]
  },
  {
   "cell_type": "code",
   "execution_count": 62,
   "metadata": {},
   "outputs": [
    {
     "name": "stdout",
     "output_type": "stream",
     "text": [
      "Mean smape score for linear regression model: -0.1264042505483007\n"
     ]
    }
   ],
   "source": [
    "# Cross validation for the linear regression model, using 3 folds as we will use 3 folds (to take less time) in GridSearchCV for other models\n",
    "\n",
    "scores_lr = cross_val_score(pipe, features_train, target_train, cv=3, scoring=smape_score)\n",
    "print('Mean smape score for linear regression model: {}'.format(np.mean(scores_lr)))"
   ]
  },
  {
   "cell_type": "markdown",
   "metadata": {},
   "source": [
    "### Decision Tree Regression"
   ]
  },
  {
   "cell_type": "code",
   "execution_count": 50,
   "metadata": {},
   "outputs": [
    {
     "name": "stdout",
     "output_type": "stream",
     "text": [
      "Fitting 3 folds for each of 5 candidates, totalling 15 fits\n",
      "[CV] max_depth=1 .....................................................\n",
      "[CV] ........................ max_depth=1, score=-0.096, total=   0.1s\n",
      "[CV] max_depth=1 .....................................................\n"
     ]
    },
    {
     "name": "stderr",
     "output_type": "stream",
     "text": [
      "/opt/conda/lib/python3.7/site-packages/sklearn/model_selection/_split.py:1978: FutureWarning: The default value of cv will change from 3 to 5 in version 0.22. Specify it explicitly to silence this warning.\n",
      "  warnings.warn(CV_WARNING, FutureWarning)\n",
      "[Parallel(n_jobs=1)]: Using backend SequentialBackend with 1 concurrent workers.\n",
      "[Parallel(n_jobs=1)]: Done   1 out of   1 | elapsed:    0.1s remaining:    0.0s\n",
      "[Parallel(n_jobs=1)]: Done   2 out of   2 | elapsed:    0.2s remaining:    0.0s\n"
     ]
    },
    {
     "name": "stdout",
     "output_type": "stream",
     "text": [
      "[CV] ........................ max_depth=1, score=-0.107, total=   0.1s\n",
      "[CV] max_depth=1 .....................................................\n",
      "[CV] ........................ max_depth=1, score=-0.109, total=   0.1s\n",
      "[CV] max_depth=3 .....................................................\n",
      "[CV] ........................ max_depth=3, score=-0.097, total=   0.2s\n",
      "[CV] max_depth=3 .....................................................\n",
      "[CV] ........................ max_depth=3, score=-0.102, total=   0.1s\n",
      "[CV] max_depth=3 .....................................................\n",
      "[CV] ........................ max_depth=3, score=-0.115, total=   0.1s\n",
      "[CV] max_depth=5 .....................................................\n",
      "[CV] ........................ max_depth=5, score=-0.116, total=   0.2s\n",
      "[CV] max_depth=5 .....................................................\n",
      "[CV] ........................ max_depth=5, score=-0.089, total=   0.2s\n",
      "[CV] max_depth=5 .....................................................\n",
      "[CV] ........................ max_depth=5, score=-0.129, total=   0.2s\n",
      "[CV] max_depth=7 .....................................................\n",
      "[CV] ........................ max_depth=7, score=-0.118, total=   0.3s\n",
      "[CV] max_depth=7 .....................................................\n",
      "[CV] ........................ max_depth=7, score=-0.105, total=   0.3s\n",
      "[CV] max_depth=7 .....................................................\n",
      "[CV] ........................ max_depth=7, score=-0.127, total=   0.3s\n",
      "[CV] max_depth=11 ....................................................\n",
      "[CV] ....................... max_depth=11, score=-0.154, total=   0.4s\n",
      "[CV] max_depth=11 ....................................................\n",
      "[CV] ....................... max_depth=11, score=-0.129, total=   0.4s\n",
      "[CV] max_depth=11 ....................................................\n",
      "[CV] ....................... max_depth=11, score=-0.128, total=   0.4s\n"
     ]
    },
    {
     "name": "stderr",
     "output_type": "stream",
     "text": [
      "[Parallel(n_jobs=1)]: Done  15 out of  15 | elapsed:    3.5s finished\n"
     ]
    },
    {
     "data": {
      "text/plain": [
       "GridSearchCV(cv='warn', error_score='raise-deprecating',\n",
       "             estimator=DecisionTreeRegressor(criterion='mse', max_depth=None,\n",
       "                                             max_features=None,\n",
       "                                             max_leaf_nodes=None,\n",
       "                                             min_impurity_decrease=0.0,\n",
       "                                             min_impurity_split=None,\n",
       "                                             min_samples_leaf=1,\n",
       "                                             min_samples_split=2,\n",
       "                                             min_weight_fraction_leaf=0.0,\n",
       "                                             presort=False, random_state=12345,\n",
       "                                             splitter='best'),\n",
       "             iid='warn', n_jobs=None,\n",
       "             param_grid={'max_depth': [1, 3, 5, 7, 11]},\n",
       "             pre_dispatch='2*n_jobs', refit=True, return_train_score=False,\n",
       "             scoring=make_scorer(final_smape, greater_is_better=False),\n",
       "             verbose=3)"
      ]
     },
     "execution_count": 50,
     "metadata": {},
     "output_type": "execute_result"
    }
   ],
   "source": [
    "parameters = {\n",
    "    'max_depth': [1,3,5,7,11]\n",
    "}\n",
    "model_dt = DecisionTreeRegressor(random_state=12345)\n",
    "dt = GridSearchCV(model_dt, parameters, scoring=smape_score, verbose=3)\n",
    "\n",
    "dt.fit(features_train, target_train)"
   ]
  },
  {
   "cell_type": "code",
   "execution_count": 51,
   "metadata": {},
   "outputs": [
    {
     "data": {
      "text/plain": [
       "-0.10404073043544523"
      ]
     },
     "execution_count": 51,
     "metadata": {},
     "output_type": "execute_result"
    }
   ],
   "source": [
    "dt.best_score_"
   ]
  },
  {
   "cell_type": "markdown",
   "metadata": {},
   "source": [
    "The decision tree score is a little better than the linear regression one. Let's look at some random forest models now."
   ]
  },
  {
   "cell_type": "markdown",
   "metadata": {},
   "source": [
    "### Random Forest Regression"
   ]
  },
  {
   "cell_type": "code",
   "execution_count": 53,
   "metadata": {},
   "outputs": [
    {
     "name": "stderr",
     "output_type": "stream",
     "text": [
      "/opt/conda/lib/python3.7/site-packages/sklearn/model_selection/_split.py:1978: FutureWarning: The default value of cv will change from 3 to 5 in version 0.22. Specify it explicitly to silence this warning.\n",
      "  warnings.warn(CV_WARNING, FutureWarning)\n",
      "[Parallel(n_jobs=1)]: Using backend SequentialBackend with 1 concurrent workers.\n"
     ]
    },
    {
     "name": "stdout",
     "output_type": "stream",
     "text": [
      "Fitting 3 folds for each of 6 candidates, totalling 18 fits\n",
      "[CV] max_depth=5, n_estimators=100 ...................................\n",
      "[CV] ...... max_depth=5, n_estimators=100, score=-0.094, total=  12.9s\n",
      "[CV] max_depth=5, n_estimators=100 ...................................\n"
     ]
    },
    {
     "name": "stderr",
     "output_type": "stream",
     "text": [
      "[Parallel(n_jobs=1)]: Done   1 out of   1 | elapsed:   12.9s remaining:    0.0s\n"
     ]
    },
    {
     "name": "stdout",
     "output_type": "stream",
     "text": [
      "[CV] ...... max_depth=5, n_estimators=100, score=-0.084, total=  12.8s\n",
      "[CV] max_depth=5, n_estimators=100 ...................................\n"
     ]
    },
    {
     "name": "stderr",
     "output_type": "stream",
     "text": [
      "[Parallel(n_jobs=1)]: Done   2 out of   2 | elapsed:   25.8s remaining:    0.0s\n"
     ]
    },
    {
     "name": "stdout",
     "output_type": "stream",
     "text": [
      "[CV] ...... max_depth=5, n_estimators=100, score=-0.128, total=  13.0s\n",
      "[CV] max_depth=5, n_estimators=500 ...................................\n",
      "[CV] ...... max_depth=5, n_estimators=500, score=-0.093, total= 1.1min\n",
      "[CV] max_depth=5, n_estimators=500 ...................................\n",
      "[CV] ...... max_depth=5, n_estimators=500, score=-0.083, total= 1.1min\n",
      "[CV] max_depth=5, n_estimators=500 ...................................\n",
      "[CV] ...... max_depth=5, n_estimators=500, score=-0.127, total= 1.1min\n",
      "[CV] max_depth=7, n_estimators=100 ...................................\n",
      "[CV] ...... max_depth=7, n_estimators=100, score=-0.093, total=  16.5s\n",
      "[CV] max_depth=7, n_estimators=100 ...................................\n",
      "[CV] ...... max_depth=7, n_estimators=100, score=-0.082, total=  16.3s\n",
      "[CV] max_depth=7, n_estimators=100 ...................................\n",
      "[CV] ...... max_depth=7, n_estimators=100, score=-0.128, total=  16.7s\n",
      "[CV] max_depth=7, n_estimators=500 ...................................\n",
      "[CV] ...... max_depth=7, n_estimators=500, score=-0.093, total= 1.4min\n",
      "[CV] max_depth=7, n_estimators=500 ...................................\n",
      "[CV] ...... max_depth=7, n_estimators=500, score=-0.082, total= 1.4min\n",
      "[CV] max_depth=7, n_estimators=500 ...................................\n",
      "[CV] ...... max_depth=7, n_estimators=500, score=-0.128, total= 1.4min\n",
      "[CV] max_depth=11, n_estimators=100 ..................................\n",
      "[CV] ..... max_depth=11, n_estimators=100, score=-0.093, total=  19.9s\n",
      "[CV] max_depth=11, n_estimators=100 ..................................\n",
      "[CV] ..... max_depth=11, n_estimators=100, score=-0.082, total=  18.8s\n",
      "[CV] max_depth=11, n_estimators=100 ..................................\n",
      "[CV] ..... max_depth=11, n_estimators=100, score=-0.129, total=  19.4s\n",
      "[CV] max_depth=11, n_estimators=500 ..................................\n",
      "[CV] ..... max_depth=11, n_estimators=500, score=-0.093, total= 1.7min\n",
      "[CV] max_depth=11, n_estimators=500 ..................................\n",
      "[CV] ..... max_depth=11, n_estimators=500, score=-0.082, total= 1.6min\n",
      "[CV] max_depth=11, n_estimators=500 ..................................\n",
      "[CV] ..... max_depth=11, n_estimators=500, score=-0.129, total= 1.6min\n"
     ]
    },
    {
     "name": "stderr",
     "output_type": "stream",
     "text": [
      "[Parallel(n_jobs=1)]: Done  18 out of  18 | elapsed: 14.6min finished\n"
     ]
    },
    {
     "data": {
      "text/plain": [
       "GridSearchCV(cv='warn', error_score='raise-deprecating',\n",
       "             estimator=RandomForestRegressor(bootstrap=True, criterion='mse',\n",
       "                                             max_depth=None,\n",
       "                                             max_features='auto',\n",
       "                                             max_leaf_nodes=None,\n",
       "                                             min_impurity_decrease=0.0,\n",
       "                                             min_impurity_split=None,\n",
       "                                             min_samples_leaf=50,\n",
       "                                             min_samples_split=2,\n",
       "                                             min_weight_fraction_leaf=0.0,\n",
       "                                             n_estimators='warn', n_jobs=None,\n",
       "                                             oob_score=False,\n",
       "                                             random_state=12345, verbose=0,\n",
       "                                             warm_start=False),\n",
       "             iid='warn', n_jobs=None,\n",
       "             param_grid={'max_depth': [5, 7, 11], 'n_estimators': [100, 500]},\n",
       "             pre_dispatch='2*n_jobs', refit=True, return_train_score=False,\n",
       "             scoring=make_scorer(final_smape, greater_is_better=False),\n",
       "             verbose=3)"
      ]
     },
     "execution_count": 53,
     "metadata": {},
     "output_type": "execute_result"
    }
   ],
   "source": [
    "parameters = {\n",
    "    'max_depth': [5,7,11],\n",
    "    'n_estimators': [100,500],\n",
    "}\n",
    "model_rf = RandomForestRegressor(min_samples_leaf = 50, random_state=12345)\n",
    "\n",
    "rf = GridSearchCV(model_rf, parameters, scoring=smape_score, verbose=3)\n",
    "\n",
    "rf.fit(features_train, target_train)"
   ]
  },
  {
   "cell_type": "code",
   "execution_count": 54,
   "metadata": {},
   "outputs": [
    {
     "data": {
      "text/plain": [
       "{'max_depth': 7, 'n_estimators': 500}"
      ]
     },
     "execution_count": 54,
     "metadata": {},
     "output_type": "execute_result"
    }
   ],
   "source": [
    "rf.best_params_"
   ]
  },
  {
   "cell_type": "code",
   "execution_count": 55,
   "metadata": {},
   "outputs": [
    {
     "data": {
      "text/plain": [
       "-0.10082425897758526"
      ]
     },
     "execution_count": 55,
     "metadata": {},
     "output_type": "execute_result"
    }
   ],
   "source": [
    "rf.best_score_"
   ]
  },
  {
   "cell_type": "markdown",
   "metadata": {},
   "source": [
    "### Best Model Score on Test Set and Comparison with Baseline model"
   ]
  },
  {
   "cell_type": "markdown",
   "metadata": {},
   "source": [
    "The random forest regression model has the best score of all three models, so we will use this model on the test set and make predictions with it. "
   ]
  },
  {
   "cell_type": "code",
   "execution_count": 57,
   "metadata": {},
   "outputs": [
    {
     "name": "stdout",
     "output_type": "stream",
     "text": [
      "Smape score for random forest regression model: 0.0918\n"
     ]
    }
   ],
   "source": [
    "predictions = rf.best_estimator_.predict(features_test)\n",
    "\n",
    "print('Smape score for random forest regression model: {:.4f}'\\\n",
    "      .format(final_smape(target_test, predictions))\n",
    "     )"
   ]
  },
  {
   "cell_type": "markdown",
   "metadata": {},
   "source": [
    "Let's see how our model compares with a baseline model predicting the median target."
   ]
  },
  {
   "cell_type": "code",
   "execution_count": 60,
   "metadata": {},
   "outputs": [
    {
     "name": "stdout",
     "output_type": "stream",
     "text": [
      "Smape score for baseline regression model: 0.0944\n"
     ]
    }
   ],
   "source": [
    "#Creating a baseline model that predicts the median and calculating its sMAPE score.\n",
    "\n",
    "model_dummy = DummyRegressor(strategy='median')\n",
    "model_dummy.fit(features_train, target_train)\n",
    "predictions = model_dummy.predict(features_test)\n",
    "\n",
    "print('Smape score for baseline regression model: {:.4f}'\\\n",
    "      .format(final_smape(target_test, predictions))\n",
    "     )"
   ]
  },
  {
   "cell_type": "markdown",
   "metadata": {},
   "source": [
    "The random forest regression model with maximum depth of 7 and 500 trees, is only very slightly better than a baseline model always predicting the median of the targets. "
   ]
  },
  {
   "cell_type": "markdown",
   "metadata": {},
   "source": [
    "## Conclusion"
   ]
  },
  {
   "cell_type": "markdown",
   "metadata": {},
   "source": [
    "The goal of this project was to build a machine learning project to predict the amount of gold recovered from gold ore, from data on extraction and purification, stored in three files, a training dataset, a test dataset, and the original source dataset. \n",
    "\n",
    "The training set contained 16860 entries, with a total of 87 columns. The test set had 5856 entries and 53 columns, and the full data 22716 entries and 87 columns. All variables were floats except for the date, which was converted to pandas datetime.\n",
    "The recovery was calculated using the given features, and compared with the original recovery from the dataset, and we found that the difference between both was not significant. The two targets features rougher.output.recovery and final.output.recovery were missing from the test set so were added from the full dataset. Almost all features had missing values, and were filled with the last valid observation. The missing entries in targets were removed. No duplicates were found in the data.\n",
    "The concentration of gold and lead increases after each purification stage, whereas the silver concentration increases after the first stage, and then decreases each time. Comparing particle feed size in the training set and test set, the difference of the distributions was not significant. However, there were some zero values in the distribution of all substances for the training set, and those were removed.\n",
    "\n",
    "A function for calculating the sMAPE score was defined, and the final sMAPE score  was calculated by adding 25% of the rougher output recovery sMAPE score to 75% of the final output recovery sMAPE score. MinMaxScaler was used for linear regression. Linear regression, decision tree, and random forest models were evaluated on the sMAPE score using cross validation and we found that the random forest regression model had the best score of all three models."
   ]
  }
 ],
 "metadata": {
  "ExecuteTimeLog": [
   {
    "duration": 47531,
    "start_time": "2022-02-25T00:30:47.509Z"
   },
   {
    "duration": 105212,
    "start_time": "2022-02-25T00:31:35.042Z"
   },
   {
    "duration": 2767,
    "start_time": "2022-02-25T00:33:20.256Z"
   },
   {
    "duration": 859,
    "start_time": "2022-02-25T00:33:23.026Z"
   },
   {
    "duration": 327,
    "start_time": "2022-02-25T00:33:23.887Z"
   },
   {
    "duration": 10089,
    "start_time": "2022-02-25T00:34:00.127Z"
   },
   {
    "duration": 39514,
    "start_time": "2022-02-25T00:34:10.218Z"
   },
   {
    "duration": 2576,
    "start_time": "2022-02-25T00:34:49.734Z"
   },
   {
    "duration": 814,
    "start_time": "2022-02-25T00:34:52.312Z"
   },
   {
    "duration": 71709,
    "start_time": "2022-02-25T00:45:04.568Z"
   },
   {
    "duration": 2427,
    "start_time": "2022-02-25T00:46:16.279Z"
   },
   {
    "duration": 840,
    "start_time": "2022-02-25T00:46:18.709Z"
   },
   {
    "duration": 36,
    "start_time": "2022-02-25T00:46:19.550Z"
   },
   {
    "duration": 36,
    "start_time": "2022-02-25T00:46:19.587Z"
   },
   {
    "duration": 309,
    "start_time": "2022-02-25T00:46:19.625Z"
   },
   {
    "duration": 353,
    "start_time": "2022-02-25T00:49:04.987Z"
   },
   {
    "duration": 5,
    "start_time": "2022-02-25T00:49:31.055Z"
   },
   {
    "duration": 6,
    "start_time": "2022-02-25T00:49:39.536Z"
   },
   {
    "duration": 170,
    "start_time": "2022-02-25T00:50:10.656Z"
   },
   {
    "duration": 4,
    "start_time": "2022-02-25T00:50:13.643Z"
   },
   {
    "duration": 5,
    "start_time": "2022-02-25T00:58:02.252Z"
   },
   {
    "duration": 7,
    "start_time": "2022-02-25T00:58:30.895Z"
   },
   {
    "duration": 5,
    "start_time": "2022-02-25T00:58:43.881Z"
   },
   {
    "duration": 6,
    "start_time": "2022-02-25T00:58:46.294Z"
   },
   {
    "duration": 5,
    "start_time": "2022-02-25T01:00:34.412Z"
   },
   {
    "duration": 228,
    "start_time": "2022-02-25T01:01:21.293Z"
   },
   {
    "duration": 12,
    "start_time": "2022-02-25T01:04:26.598Z"
   },
   {
    "duration": 9,
    "start_time": "2022-02-25T01:05:48.060Z"
   },
   {
    "duration": 7,
    "start_time": "2022-02-25T01:05:49.850Z"
   },
   {
    "duration": 191,
    "start_time": "2022-02-25T01:07:46.345Z"
   },
   {
    "duration": 182,
    "start_time": "2022-02-25T01:08:53.520Z"
   },
   {
    "duration": 5,
    "start_time": "2022-02-25T01:10:29.512Z"
   },
   {
    "duration": 787,
    "start_time": "2022-02-25T01:10:32.163Z"
   },
   {
    "duration": 85,
    "start_time": "2022-02-25T01:10:39.699Z"
   },
   {
    "duration": 195,
    "start_time": "2022-02-25T01:10:44.790Z"
   },
   {
    "duration": 200,
    "start_time": "2022-02-25T01:11:31.193Z"
   },
   {
    "duration": 189,
    "start_time": "2022-02-25T01:14:19.413Z"
   },
   {
    "duration": 166,
    "start_time": "2022-02-25T01:14:36.364Z"
   },
   {
    "duration": 4,
    "start_time": "2022-02-25T01:14:55.644Z"
   },
   {
    "duration": 5,
    "start_time": "2022-02-25T01:15:49.921Z"
   },
   {
    "duration": 4,
    "start_time": "2022-02-25T01:16:24.906Z"
   },
   {
    "duration": 225,
    "start_time": "2022-02-25T01:16:55.314Z"
   },
   {
    "duration": 57839,
    "start_time": "2022-02-25T19:10:21.179Z"
   },
   {
    "duration": 6436,
    "start_time": "2022-02-25T19:12:28.808Z"
   },
   {
    "duration": 7420,
    "start_time": "2022-02-25T19:13:44.367Z"
   },
   {
    "duration": 9467,
    "start_time": "2022-02-25T19:13:58.454Z"
   },
   {
    "duration": 36,
    "start_time": "2022-02-25T19:14:11.859Z"
   },
   {
    "duration": 26,
    "start_time": "2022-02-25T19:14:17.010Z"
   },
   {
    "duration": 434,
    "start_time": "2022-02-25T19:29:35.040Z"
   },
   {
    "duration": 8619,
    "start_time": "2022-02-25T19:29:43.331Z"
   },
   {
    "duration": 7285,
    "start_time": "2022-02-25T19:29:54.814Z"
   },
   {
    "duration": 4916,
    "start_time": "2022-02-25T19:37:20.655Z"
   },
   {
    "duration": 2600,
    "start_time": "2022-02-25T19:37:56.617Z"
   },
   {
    "duration": 976,
    "start_time": "2022-02-25T19:38:02.922Z"
   },
   {
    "duration": 347,
    "start_time": "2022-02-25T19:38:19.934Z"
   },
   {
    "duration": 555,
    "start_time": "2022-02-25T19:39:01.980Z"
   },
   {
    "duration": 9,
    "start_time": "2022-02-25T19:40:14.594Z"
   },
   {
    "duration": 6,
    "start_time": "2022-02-25T19:40:20.872Z"
   },
   {
    "duration": 359,
    "start_time": "2022-02-25T19:40:56.690Z"
   },
   {
    "duration": 4538,
    "start_time": "2022-02-25T19:41:09.394Z"
   },
   {
    "duration": 9,
    "start_time": "2022-02-25T19:41:38.523Z"
   },
   {
    "duration": 4628,
    "start_time": "2022-02-25T19:41:56.870Z"
   },
   {
    "duration": 363,
    "start_time": "2022-02-25T19:42:04.410Z"
   },
   {
    "duration": 641,
    "start_time": "2022-02-25T19:42:25.645Z"
   },
   {
    "duration": 504,
    "start_time": "2022-02-25T19:42:34.875Z"
   },
   {
    "duration": 4706,
    "start_time": "2022-02-25T19:42:42.080Z"
   },
   {
    "duration": 75,
    "start_time": "2022-02-25T19:42:59.181Z"
   },
   {
    "duration": 37,
    "start_time": "2022-02-25T19:43:35.069Z"
   },
   {
    "duration": 60,
    "start_time": "2022-02-25T19:43:43.580Z"
   },
   {
    "duration": 13,
    "start_time": "2022-02-25T19:45:56.261Z"
   },
   {
    "duration": 72,
    "start_time": "2022-02-25T19:46:02.982Z"
   },
   {
    "duration": 68,
    "start_time": "2022-02-25T19:46:23.602Z"
   },
   {
    "duration": 375,
    "start_time": "2022-02-25T19:46:43.648Z"
   },
   {
    "duration": 61,
    "start_time": "2022-02-25T19:46:56.904Z"
   },
   {
    "duration": 8,
    "start_time": "2022-02-25T19:47:14.700Z"
   },
   {
    "duration": 6,
    "start_time": "2022-02-25T19:47:21.008Z"
   },
   {
    "duration": 13,
    "start_time": "2022-02-25T19:47:27.748Z"
   },
   {
    "duration": 14,
    "start_time": "2022-02-25T19:47:53.441Z"
   },
   {
    "duration": 508,
    "start_time": "2022-02-25T19:48:36.021Z"
   },
   {
    "duration": 14,
    "start_time": "2022-02-25T19:48:59.691Z"
   },
   {
    "duration": 14,
    "start_time": "2022-02-25T19:49:03.530Z"
   },
   {
    "duration": 12,
    "start_time": "2022-02-25T19:49:49.997Z"
   },
   {
    "duration": 774,
    "start_time": "2022-02-25T19:49:58.418Z"
   },
   {
    "duration": 8,
    "start_time": "2022-02-25T19:50:24.558Z"
   },
   {
    "duration": 7,
    "start_time": "2022-02-25T19:50:28.370Z"
   },
   {
    "duration": 7,
    "start_time": "2022-02-25T19:50:30.861Z"
   },
   {
    "duration": 10,
    "start_time": "2022-02-25T19:50:32.884Z"
   },
   {
    "duration": 523,
    "start_time": "2022-02-25T19:50:36.661Z"
   },
   {
    "duration": 14,
    "start_time": "2022-02-25T19:51:14.453Z"
   },
   {
    "duration": 14,
    "start_time": "2022-02-25T19:51:21.214Z"
   },
   {
    "duration": 8,
    "start_time": "2022-02-25T19:51:56.581Z"
   },
   {
    "duration": 7,
    "start_time": "2022-02-25T19:52:11.926Z"
   },
   {
    "duration": 7,
    "start_time": "2022-02-25T19:53:27.440Z"
   },
   {
    "duration": 359,
    "start_time": "2022-02-25T19:55:32.227Z"
   },
   {
    "duration": 9,
    "start_time": "2022-02-25T19:55:51.428Z"
   },
   {
    "duration": 9,
    "start_time": "2022-02-25T19:56:03.122Z"
   },
   {
    "duration": 5,
    "start_time": "2022-02-25T19:57:02.444Z"
   },
   {
    "duration": 6,
    "start_time": "2022-02-25T19:57:13.910Z"
   },
   {
    "duration": 374,
    "start_time": "2022-02-25T19:57:18.574Z"
   },
   {
    "duration": 16,
    "start_time": "2022-02-25T19:57:58.912Z"
   },
   {
    "duration": 7,
    "start_time": "2022-02-25T19:58:13.273Z"
   },
   {
    "duration": 7,
    "start_time": "2022-02-25T19:58:16.893Z"
   },
   {
    "duration": 10,
    "start_time": "2022-02-25T19:59:58.028Z"
   },
   {
    "duration": 8,
    "start_time": "2022-02-25T20:00:00.380Z"
   },
   {
    "duration": 7,
    "start_time": "2022-02-25T20:00:04.280Z"
   },
   {
    "duration": 8,
    "start_time": "2022-02-25T20:00:06.999Z"
   },
   {
    "duration": 7,
    "start_time": "2022-02-25T20:00:15.393Z"
   },
   {
    "duration": 6,
    "start_time": "2022-02-25T20:00:20.819Z"
   },
   {
    "duration": 352,
    "start_time": "2022-02-25T22:29:40.915Z"
   },
   {
    "duration": 7651,
    "start_time": "2022-02-25T22:29:47.256Z"
   },
   {
    "duration": 1165,
    "start_time": "2022-02-25T22:29:54.909Z"
   },
   {
    "duration": 11291,
    "start_time": "2022-02-25T22:29:56.076Z"
   },
   {
    "duration": 19,
    "start_time": "2022-02-25T22:30:07.369Z"
   },
   {
    "duration": 15,
    "start_time": "2022-02-25T22:30:07.389Z"
   },
   {
    "duration": 209,
    "start_time": "2022-02-25T22:30:07.405Z"
   },
   {
    "duration": 6,
    "start_time": "2022-02-25T22:30:07.615Z"
   },
   {
    "duration": 9,
    "start_time": "2022-02-25T22:30:07.623Z"
   },
   {
    "duration": 543,
    "start_time": "2022-02-25T22:30:07.633Z"
   },
   {
    "duration": 6,
    "start_time": "2022-02-25T22:30:08.177Z"
   },
   {
    "duration": 6,
    "start_time": "2022-02-25T22:30:08.185Z"
   },
   {
    "duration": 6,
    "start_time": "2022-02-25T22:30:08.192Z"
   },
   {
    "duration": 10,
    "start_time": "2022-02-25T22:30:08.199Z"
   },
   {
    "duration": 5,
    "start_time": "2022-02-25T22:30:08.211Z"
   },
   {
    "duration": 8,
    "start_time": "2022-02-25T22:30:08.217Z"
   },
   {
    "duration": 23,
    "start_time": "2022-02-25T22:30:08.226Z"
   },
   {
    "duration": 6,
    "start_time": "2022-02-25T22:30:08.250Z"
   },
   {
    "duration": 7,
    "start_time": "2022-02-25T22:30:33.387Z"
   },
   {
    "duration": 3,
    "start_time": "2022-02-25T22:32:14.080Z"
   },
   {
    "duration": 229,
    "start_time": "2022-02-25T22:32:22.429Z"
   },
   {
    "duration": 106,
    "start_time": "2022-02-25T22:34:20.433Z"
   },
   {
    "duration": 7,
    "start_time": "2022-02-25T22:34:26.056Z"
   },
   {
    "duration": 4,
    "start_time": "2022-02-25T22:44:42.779Z"
   },
   {
    "duration": 379,
    "start_time": "2022-02-25T22:44:52.974Z"
   },
   {
    "duration": 350,
    "start_time": "2022-02-25T22:45:07.378Z"
   },
   {
    "duration": 4,
    "start_time": "2022-02-25T22:45:33.371Z"
   },
   {
    "duration": 3,
    "start_time": "2022-02-25T22:50:27.800Z"
   },
   {
    "duration": 4,
    "start_time": "2022-02-25T22:50:34.417Z"
   },
   {
    "duration": 329,
    "start_time": "2022-02-25T22:50:55.050Z"
   },
   {
    "duration": 2,
    "start_time": "2022-02-25T22:51:02.899Z"
   },
   {
    "duration": 5,
    "start_time": "2022-02-25T22:51:13.028Z"
   },
   {
    "duration": 15,
    "start_time": "2022-02-25T22:55:42.005Z"
   },
   {
    "duration": 13,
    "start_time": "2022-02-25T22:55:48.376Z"
   },
   {
    "duration": 5,
    "start_time": "2022-02-25T22:56:09.668Z"
   },
   {
    "duration": 7,
    "start_time": "2022-02-25T22:56:22.966Z"
   },
   {
    "duration": 5,
    "start_time": "2022-02-25T22:56:40.143Z"
   },
   {
    "duration": 13,
    "start_time": "2022-02-25T22:56:42.165Z"
   },
   {
    "duration": 2618,
    "start_time": "2022-02-25T22:57:55.793Z"
   },
   {
    "duration": 6,
    "start_time": "2022-02-25T22:57:58.413Z"
   },
   {
    "duration": 808,
    "start_time": "2022-02-25T22:57:58.421Z"
   },
   {
    "duration": 22,
    "start_time": "2022-02-25T22:57:59.231Z"
   },
   {
    "duration": 17,
    "start_time": "2022-02-25T22:57:59.255Z"
   },
   {
    "duration": 207,
    "start_time": "2022-02-25T22:57:59.274Z"
   },
   {
    "duration": 6,
    "start_time": "2022-02-25T22:57:59.483Z"
   },
   {
    "duration": 10,
    "start_time": "2022-02-25T22:57:59.490Z"
   },
   {
    "duration": 17,
    "start_time": "2022-02-25T22:57:59.502Z"
   },
   {
    "duration": 7,
    "start_time": "2022-02-25T22:58:18.129Z"
   },
   {
    "duration": 6,
    "start_time": "2022-02-25T22:58:49.127Z"
   },
   {
    "duration": 6,
    "start_time": "2022-02-25T22:58:51.445Z"
   },
   {
    "duration": 5,
    "start_time": "2022-02-25T22:58:58.049Z"
   },
   {
    "duration": 5,
    "start_time": "2022-02-25T22:59:19.490Z"
   },
   {
    "duration": 4,
    "start_time": "2022-02-25T22:59:22.026Z"
   },
   {
    "duration": 4,
    "start_time": "2022-02-25T22:59:23.902Z"
   },
   {
    "duration": 5,
    "start_time": "2022-02-25T23:00:04.776Z"
   },
   {
    "duration": 5,
    "start_time": "2022-02-25T23:00:21.202Z"
   },
   {
    "duration": 4,
    "start_time": "2022-02-25T23:00:29.385Z"
   },
   {
    "duration": 4,
    "start_time": "2022-02-25T23:00:33.190Z"
   },
   {
    "duration": 4,
    "start_time": "2022-02-25T23:02:36.000Z"
   },
   {
    "duration": 354,
    "start_time": "2022-02-25T23:44:10.222Z"
   },
   {
    "duration": 77,
    "start_time": "2022-02-25T23:44:14.048Z"
   },
   {
    "duration": 24,
    "start_time": "2022-02-25T23:44:29.558Z"
   },
   {
    "duration": 10,
    "start_time": "2022-02-25T23:50:45.232Z"
   },
   {
    "duration": 8,
    "start_time": "2022-02-25T23:52:05.044Z"
   },
   {
    "duration": 5,
    "start_time": "2022-02-25T23:52:30.089Z"
   },
   {
    "duration": 5,
    "start_time": "2022-02-25T23:52:51.969Z"
   },
   {
    "duration": 5,
    "start_time": "2022-02-25T23:53:19.571Z"
   },
   {
    "duration": 11,
    "start_time": "2022-02-25T23:54:16.448Z"
   },
   {
    "duration": 7,
    "start_time": "2022-02-25T23:54:18.707Z"
   },
   {
    "duration": 5,
    "start_time": "2022-02-25T23:54:20.575Z"
   },
   {
    "duration": 6,
    "start_time": "2022-02-25T23:54:22.937Z"
   },
   {
    "duration": 5,
    "start_time": "2022-02-25T23:54:25.060Z"
   },
   {
    "duration": 297,
    "start_time": "2022-02-28T18:58:58.828Z"
   },
   {
    "duration": 104412,
    "start_time": "2022-02-28T18:59:13.929Z"
   },
   {
    "duration": 814,
    "start_time": "2022-02-28T19:00:58.343Z"
   },
   {
    "duration": -252,
    "start_time": "2022-02-28T19:00:59.412Z"
   },
   {
    "duration": -254,
    "start_time": "2022-02-28T19:00:59.415Z"
   },
   {
    "duration": -254,
    "start_time": "2022-02-28T19:00:59.417Z"
   },
   {
    "duration": -256,
    "start_time": "2022-02-28T19:00:59.420Z"
   },
   {
    "duration": -256,
    "start_time": "2022-02-28T19:00:59.422Z"
   },
   {
    "duration": -257,
    "start_time": "2022-02-28T19:00:59.424Z"
   },
   {
    "duration": -257,
    "start_time": "2022-02-28T19:00:59.426Z"
   },
   {
    "duration": -258,
    "start_time": "2022-02-28T19:00:59.428Z"
   },
   {
    "duration": -422,
    "start_time": "2022-02-28T19:00:59.593Z"
   },
   {
    "duration": -423,
    "start_time": "2022-02-28T19:00:59.596Z"
   },
   {
    "duration": -424,
    "start_time": "2022-02-28T19:00:59.598Z"
   },
   {
    "duration": -424,
    "start_time": "2022-02-28T19:00:59.600Z"
   },
   {
    "duration": -425,
    "start_time": "2022-02-28T19:00:59.602Z"
   },
   {
    "duration": -425,
    "start_time": "2022-02-28T19:00:59.604Z"
   },
   {
    "duration": -426,
    "start_time": "2022-02-28T19:00:59.606Z"
   },
   {
    "duration": -426,
    "start_time": "2022-02-28T19:00:59.608Z"
   },
   {
    "duration": -427,
    "start_time": "2022-02-28T19:00:59.610Z"
   },
   {
    "duration": -427,
    "start_time": "2022-02-28T19:00:59.612Z"
   },
   {
    "duration": -588,
    "start_time": "2022-02-28T19:00:59.774Z"
   },
   {
    "duration": -590,
    "start_time": "2022-02-28T19:00:59.777Z"
   },
   {
    "duration": -590,
    "start_time": "2022-02-28T19:00:59.779Z"
   },
   {
    "duration": -590,
    "start_time": "2022-02-28T19:00:59.781Z"
   },
   {
    "duration": -591,
    "start_time": "2022-02-28T19:00:59.783Z"
   },
   {
    "duration": -592,
    "start_time": "2022-02-28T19:00:59.785Z"
   },
   {
    "duration": 74493,
    "start_time": "2022-02-28T19:01:50.376Z"
   },
   {
    "duration": 1252,
    "start_time": "2022-02-28T19:03:04.871Z"
   },
   {
    "duration": 4798,
    "start_time": "2022-02-28T19:03:06.125Z"
   },
   {
    "duration": 26,
    "start_time": "2022-02-28T19:03:10.925Z"
   },
   {
    "duration": 19,
    "start_time": "2022-02-28T19:03:10.953Z"
   },
   {
    "duration": 256,
    "start_time": "2022-02-28T19:03:10.974Z"
   },
   {
    "duration": 6,
    "start_time": "2022-02-28T19:03:11.232Z"
   },
   {
    "duration": 21,
    "start_time": "2022-02-28T19:03:11.241Z"
   },
   {
    "duration": 1140,
    "start_time": "2022-02-28T19:03:11.264Z"
   },
   {
    "duration": 11,
    "start_time": "2022-02-28T19:03:12.405Z"
   },
   {
    "duration": 8,
    "start_time": "2022-02-28T19:03:12.418Z"
   },
   {
    "duration": 9,
    "start_time": "2022-02-28T19:03:12.427Z"
   },
   {
    "duration": 22,
    "start_time": "2022-02-28T19:03:12.438Z"
   },
   {
    "duration": 5,
    "start_time": "2022-02-28T19:03:12.462Z"
   },
   {
    "duration": 5,
    "start_time": "2022-02-28T19:03:12.469Z"
   },
   {
    "duration": 5,
    "start_time": "2022-02-28T19:03:12.475Z"
   },
   {
    "duration": 5,
    "start_time": "2022-02-28T19:03:12.482Z"
   },
   {
    "duration": 13,
    "start_time": "2022-02-28T19:03:12.489Z"
   },
   {
    "duration": 5,
    "start_time": "2022-02-28T19:03:12.505Z"
   },
   {
    "duration": 48,
    "start_time": "2022-02-28T19:03:12.512Z"
   },
   {
    "duration": 15,
    "start_time": "2022-02-28T19:03:12.562Z"
   },
   {
    "duration": 10,
    "start_time": "2022-02-28T19:03:12.578Z"
   },
   {
    "duration": 4,
    "start_time": "2022-02-28T19:03:12.591Z"
   },
   {
    "duration": 121,
    "start_time": "2022-02-28T19:03:12.596Z"
   },
   {
    "duration": 27,
    "start_time": "2022-02-28T19:03:12.719Z"
   },
   {
    "duration": 18,
    "start_time": "2022-02-28T19:03:12.748Z"
   },
   {
    "duration": 291,
    "start_time": "2022-02-28T19:10:36.220Z"
   },
   {
    "duration": 10,
    "start_time": "2022-02-28T19:10:47.612Z"
   },
   {
    "duration": 12,
    "start_time": "2022-02-28T19:11:57.994Z"
   },
   {
    "duration": 495,
    "start_time": "2022-02-28T19:20:07.935Z"
   },
   {
    "duration": 390,
    "start_time": "2022-02-28T19:20:39.111Z"
   },
   {
    "duration": 485,
    "start_time": "2022-02-28T19:21:37.285Z"
   },
   {
    "duration": 397,
    "start_time": "2022-02-28T19:21:59.979Z"
   },
   {
    "duration": 408,
    "start_time": "2022-02-28T19:23:16.000Z"
   },
   {
    "duration": 179,
    "start_time": "2022-02-28T19:23:37.201Z"
   },
   {
    "duration": 181,
    "start_time": "2022-02-28T19:25:51.872Z"
   },
   {
    "duration": 8,
    "start_time": "2022-02-28T19:26:15.334Z"
   },
   {
    "duration": 14,
    "start_time": "2022-02-28T19:42:33.900Z"
   },
   {
    "duration": 501,
    "start_time": "2022-02-28T19:44:25.403Z"
   },
   {
    "duration": 619,
    "start_time": "2022-02-28T19:45:53.282Z"
   },
   {
    "duration": 7,
    "start_time": "2022-02-28T19:47:29.480Z"
   },
   {
    "duration": 847,
    "start_time": "2022-02-28T19:48:49.414Z"
   },
   {
    "duration": 8,
    "start_time": "2022-02-28T19:49:24.549Z"
   },
   {
    "duration": 8,
    "start_time": "2022-02-28T19:49:46.860Z"
   },
   {
    "duration": 7,
    "start_time": "2022-02-28T19:50:22.870Z"
   },
   {
    "duration": 6,
    "start_time": "2022-02-28T19:50:40.392Z"
   },
   {
    "duration": 7,
    "start_time": "2022-02-28T19:51:56.801Z"
   },
   {
    "duration": 66,
    "start_time": "2022-02-28T19:54:42.538Z"
   },
   {
    "duration": 6,
    "start_time": "2022-02-28T19:54:53.947Z"
   },
   {
    "duration": 5,
    "start_time": "2022-02-28T19:58:00.774Z"
   },
   {
    "duration": 5,
    "start_time": "2022-02-28T19:58:06.379Z"
   },
   {
    "duration": 30,
    "start_time": "2022-02-28T19:58:46.933Z"
   },
   {
    "duration": 387,
    "start_time": "2022-02-28T19:59:36.716Z"
   },
   {
    "duration": 10,
    "start_time": "2022-02-28T20:01:08.804Z"
   },
   {
    "duration": 536,
    "start_time": "2022-02-28T20:01:11.477Z"
   },
   {
    "duration": 6,
    "start_time": "2022-02-28T20:01:18.743Z"
   },
   {
    "duration": 5,
    "start_time": "2022-02-28T20:01:26.395Z"
   },
   {
    "duration": 30,
    "start_time": "2022-02-28T20:01:30.559Z"
   },
   {
    "duration": 30,
    "start_time": "2022-02-28T20:01:46.877Z"
   },
   {
    "duration": 244,
    "start_time": "2022-02-28T20:02:24.347Z"
   },
   {
    "duration": 205,
    "start_time": "2022-02-28T20:02:37.314Z"
   },
   {
    "duration": 291,
    "start_time": "2022-02-28T20:05:01.117Z"
   },
   {
    "duration": 323,
    "start_time": "2022-02-28T22:54:51.604Z"
   },
   {
    "duration": 9250,
    "start_time": "2022-02-28T22:55:18.402Z"
   },
   {
    "duration": 2148,
    "start_time": "2022-02-28T22:57:36.128Z"
   },
   {
    "duration": 1134,
    "start_time": "2022-02-28T22:57:38.277Z"
   },
   {
    "duration": 9872,
    "start_time": "2022-02-28T22:57:39.413Z"
   },
   {
    "duration": 19,
    "start_time": "2022-02-28T22:57:49.287Z"
   },
   {
    "duration": 15,
    "start_time": "2022-02-28T22:57:49.307Z"
   },
   {
    "duration": 199,
    "start_time": "2022-02-28T22:57:49.323Z"
   },
   {
    "duration": 6,
    "start_time": "2022-02-28T22:57:49.523Z"
   },
   {
    "duration": 8,
    "start_time": "2022-02-28T22:57:49.531Z"
   },
   {
    "duration": 426,
    "start_time": "2022-02-28T22:57:49.540Z"
   },
   {
    "duration": 9,
    "start_time": "2022-02-28T22:57:49.967Z"
   },
   {
    "duration": 6,
    "start_time": "2022-02-28T22:57:49.978Z"
   },
   {
    "duration": 19,
    "start_time": "2022-02-28T22:57:49.986Z"
   },
   {
    "duration": 4,
    "start_time": "2022-02-28T22:57:50.006Z"
   },
   {
    "duration": 7,
    "start_time": "2022-02-28T22:57:50.011Z"
   },
   {
    "duration": 7,
    "start_time": "2022-02-28T22:57:50.019Z"
   },
   {
    "duration": 6,
    "start_time": "2022-02-28T22:57:50.027Z"
   },
   {
    "duration": 5,
    "start_time": "2022-02-28T22:57:50.034Z"
   },
   {
    "duration": 13,
    "start_time": "2022-02-28T22:57:50.040Z"
   },
   {
    "duration": 4,
    "start_time": "2022-02-28T22:57:50.054Z"
   },
   {
    "duration": 9,
    "start_time": "2022-02-28T22:57:50.059Z"
   },
   {
    "duration": 37,
    "start_time": "2022-02-28T22:57:50.069Z"
   },
   {
    "duration": 9,
    "start_time": "2022-02-28T22:57:50.108Z"
   },
   {
    "duration": 3,
    "start_time": "2022-02-28T22:57:50.119Z"
   },
   {
    "duration": 92,
    "start_time": "2022-02-28T22:57:50.124Z"
   },
   {
    "duration": 23,
    "start_time": "2022-02-28T22:57:50.217Z"
   },
   {
    "duration": 8,
    "start_time": "2022-02-28T22:57:50.242Z"
   },
   {
    "duration": 9,
    "start_time": "2022-02-28T22:57:50.252Z"
   },
   {
    "duration": 10,
    "start_time": "2022-02-28T22:57:50.263Z"
   },
   {
    "duration": 402,
    "start_time": "2022-02-28T22:57:50.274Z"
   },
   {
    "duration": 9,
    "start_time": "2022-02-28T22:57:50.678Z"
   },
   {
    "duration": 411,
    "start_time": "2022-02-28T22:57:50.689Z"
   },
   {
    "duration": 5,
    "start_time": "2022-02-28T22:57:51.105Z"
   },
   {
    "duration": 6,
    "start_time": "2022-02-28T22:57:51.112Z"
   },
   {
    "duration": 28,
    "start_time": "2022-02-28T22:57:51.120Z"
   },
   {
    "duration": 246,
    "start_time": "2022-02-28T22:57:51.150Z"
   },
   {
    "duration": 9,
    "start_time": "2022-02-28T22:57:51.398Z"
   },
   {
    "duration": 4,
    "start_time": "2022-02-28T22:59:01.894Z"
   },
   {
    "duration": 3,
    "start_time": "2022-02-28T22:59:09.319Z"
   },
   {
    "duration": 360,
    "start_time": "2022-02-28T22:59:24.337Z"
   },
   {
    "duration": 3,
    "start_time": "2022-02-28T22:59:40.446Z"
   },
   {
    "duration": 12,
    "start_time": "2022-02-28T22:59:53.520Z"
   },
   {
    "duration": 280,
    "start_time": "2022-02-28T23:00:24.162Z"
   },
   {
    "duration": 286,
    "start_time": "2022-02-28T23:01:36.892Z"
   },
   {
    "duration": 4,
    "start_time": "2022-02-28T23:01:48.901Z"
   },
   {
    "duration": 17,
    "start_time": "2022-02-28T23:07:11.353Z"
   },
   {
    "duration": 17,
    "start_time": "2022-02-28T23:07:23.052Z"
   },
   {
    "duration": 4,
    "start_time": "2022-02-28T23:08:48.076Z"
   },
   {
    "duration": 281,
    "start_time": "2022-02-28T23:09:11.967Z"
   },
   {
    "duration": 3,
    "start_time": "2022-02-28T23:09:19.465Z"
   },
   {
    "duration": 4,
    "start_time": "2022-02-28T23:12:05.920Z"
   },
   {
    "duration": 3,
    "start_time": "2022-02-28T23:12:19.413Z"
   },
   {
    "duration": 3,
    "start_time": "2022-02-28T23:12:52.803Z"
   },
   {
    "duration": 4,
    "start_time": "2022-02-28T23:13:23.140Z"
   },
   {
    "duration": 3,
    "start_time": "2022-02-28T23:13:47.784Z"
   },
   {
    "duration": 7,
    "start_time": "2022-02-28T23:14:02.878Z"
   },
   {
    "duration": 5,
    "start_time": "2022-02-28T23:14:53.304Z"
   },
   {
    "duration": 11837,
    "start_time": "2022-03-01T01:20:59.480Z"
   },
   {
    "duration": 1532,
    "start_time": "2022-03-01T01:21:11.321Z"
   },
   {
    "duration": 10526,
    "start_time": "2022-03-01T01:21:12.856Z"
   },
   {
    "duration": 36,
    "start_time": "2022-03-01T01:21:23.385Z"
   },
   {
    "duration": 26,
    "start_time": "2022-03-01T01:21:23.423Z"
   },
   {
    "duration": 345,
    "start_time": "2022-03-01T01:21:23.472Z"
   },
   {
    "duration": 9,
    "start_time": "2022-03-01T01:21:23.820Z"
   },
   {
    "duration": 16,
    "start_time": "2022-03-01T01:21:23.833Z"
   },
   {
    "duration": 750,
    "start_time": "2022-03-01T01:21:23.852Z"
   },
   {
    "duration": 13,
    "start_time": "2022-03-01T01:21:24.605Z"
   },
   {
    "duration": 11,
    "start_time": "2022-03-01T01:21:24.620Z"
   },
   {
    "duration": 10,
    "start_time": "2022-03-01T01:21:24.633Z"
   },
   {
    "duration": 7,
    "start_time": "2022-03-01T01:21:24.674Z"
   },
   {
    "duration": 8,
    "start_time": "2022-03-01T01:21:24.683Z"
   },
   {
    "duration": 6,
    "start_time": "2022-03-01T01:21:24.694Z"
   },
   {
    "duration": 7,
    "start_time": "2022-03-01T01:21:24.702Z"
   },
   {
    "duration": 10,
    "start_time": "2022-03-01T01:21:24.711Z"
   },
   {
    "duration": 67,
    "start_time": "2022-03-01T01:21:24.723Z"
   },
   {
    "duration": 19,
    "start_time": "2022-03-01T01:21:24.792Z"
   },
   {
    "duration": 6,
    "start_time": "2022-03-01T01:21:24.813Z"
   },
   {
    "duration": 12,
    "start_time": "2022-03-01T01:21:24.821Z"
   },
   {
    "duration": 51,
    "start_time": "2022-03-01T01:21:24.835Z"
   },
   {
    "duration": 12,
    "start_time": "2022-03-01T01:21:24.891Z"
   },
   {
    "duration": 6,
    "start_time": "2022-03-01T01:21:24.906Z"
   },
   {
    "duration": 183,
    "start_time": "2022-03-01T01:21:24.914Z"
   },
   {
    "duration": 43,
    "start_time": "2022-03-01T01:21:25.099Z"
   },
   {
    "duration": 30,
    "start_time": "2022-03-01T01:21:25.145Z"
   },
   {
    "duration": 14,
    "start_time": "2022-03-01T01:21:25.177Z"
   },
   {
    "duration": 17,
    "start_time": "2022-03-01T01:21:25.193Z"
   },
   {
    "duration": 765,
    "start_time": "2022-03-01T01:21:25.212Z"
   },
   {
    "duration": 14,
    "start_time": "2022-03-01T01:21:25.979Z"
   },
   {
    "duration": 825,
    "start_time": "2022-03-01T01:21:25.995Z"
   },
   {
    "duration": 8,
    "start_time": "2022-03-01T01:21:26.822Z"
   },
   {
    "duration": 8,
    "start_time": "2022-03-01T01:21:26.832Z"
   },
   {
    "duration": 69,
    "start_time": "2022-03-01T01:21:26.843Z"
   },
   {
    "duration": 483,
    "start_time": "2022-03-01T01:21:26.914Z"
   },
   {
    "duration": 7,
    "start_time": "2022-03-01T01:21:27.399Z"
   },
   {
    "duration": 11,
    "start_time": "2022-03-01T01:21:27.408Z"
   },
   {
    "duration": 6,
    "start_time": "2022-03-01T01:21:27.421Z"
   },
   {
    "duration": 8,
    "start_time": "2022-03-01T01:21:27.430Z"
   },
   {
    "duration": 36,
    "start_time": "2022-03-01T01:21:27.440Z"
   },
   {
    "duration": 14,
    "start_time": "2022-03-01T01:21:27.479Z"
   },
   {
    "duration": 6,
    "start_time": "2022-03-01T01:21:27.495Z"
   },
   {
    "duration": 7,
    "start_time": "2022-03-01T01:27:36.293Z"
   },
   {
    "duration": 5,
    "start_time": "2022-03-01T01:27:49.529Z"
   },
   {
    "duration": 5,
    "start_time": "2022-03-01T01:27:56.878Z"
   },
   {
    "duration": 8,
    "start_time": "2022-03-01T01:28:42.606Z"
   },
   {
    "duration": 15,
    "start_time": "2022-03-01T01:31:25.520Z"
   },
   {
    "duration": 530,
    "start_time": "2022-03-01T01:42:18.838Z"
   },
   {
    "duration": 14,
    "start_time": "2022-03-01T01:43:12.087Z"
   },
   {
    "duration": 187,
    "start_time": "2022-03-01T01:43:16.894Z"
   },
   {
    "duration": 4,
    "start_time": "2022-03-01T01:45:30.690Z"
   },
   {
    "duration": 4,
    "start_time": "2022-03-01T01:46:34.569Z"
   },
   {
    "duration": 1627,
    "start_time": "2022-03-01T01:51:14.994Z"
   },
   {
    "duration": 1721,
    "start_time": "2022-03-01T01:52:06.123Z"
   },
   {
    "duration": 6,
    "start_time": "2022-03-01T01:52:19.590Z"
   },
   {
    "duration": 8,
    "start_time": "2022-03-01T01:52:55.311Z"
   },
   {
    "duration": 4,
    "start_time": "2022-03-01T01:53:41.403Z"
   },
   {
    "duration": 3956,
    "start_time": "2022-03-01T01:55:01.292Z"
   },
   {
    "duration": 12,
    "start_time": "2022-03-01T01:55:59.004Z"
   },
   {
    "duration": 176,
    "start_time": "2022-03-01T01:56:01.299Z"
   },
   {
    "duration": 4,
    "start_time": "2022-03-01T01:56:03.814Z"
   },
   {
    "duration": 8,
    "start_time": "2022-03-01T01:56:12.067Z"
   },
   {
    "duration": 1803,
    "start_time": "2022-03-01T01:56:15.070Z"
   },
   {
    "duration": 36,
    "start_time": "2022-03-01T02:42:18.928Z"
   },
   {
    "duration": 261,
    "start_time": "2022-03-01T04:09:44.828Z"
   },
   {
    "duration": 8542,
    "start_time": "2022-03-01T04:09:55.166Z"
   },
   {
    "duration": 94,
    "start_time": "2022-03-01T04:11:25.355Z"
   },
   {
    "duration": 5,
    "start_time": "2022-03-01T04:11:28.796Z"
   },
   {
    "duration": 5,
    "start_time": "2022-03-01T04:11:36.910Z"
   },
   {
    "duration": 2250,
    "start_time": "2022-03-01T04:12:55.400Z"
   },
   {
    "duration": 1737,
    "start_time": "2022-03-01T04:13:23.638Z"
   },
   {
    "duration": 8725,
    "start_time": "2022-03-01T04:14:39.072Z"
   },
   {
    "duration": 9369,
    "start_time": "2022-03-01T04:16:47.738Z"
   },
   {
    "duration": 287,
    "start_time": "2022-03-01T04:18:53.281Z"
   },
   {
    "duration": 265,
    "start_time": "2022-03-01T04:19:48.509Z"
   },
   {
    "duration": 4,
    "start_time": "2022-03-01T04:19:53.045Z"
   },
   {
    "duration": 8,
    "start_time": "2022-03-01T04:19:55.165Z"
   },
   {
    "duration": 1785,
    "start_time": "2022-03-01T04:19:59.188Z"
   },
   {
    "duration": 1801,
    "start_time": "2022-03-01T04:21:14.979Z"
   },
   {
    "duration": 1618,
    "start_time": "2022-03-01T04:21:37.563Z"
   },
   {
    "duration": 1548,
    "start_time": "2022-03-01T04:22:45.532Z"
   },
   {
    "duration": 1531,
    "start_time": "2022-03-01T04:22:53.249Z"
   },
   {
    "duration": 8706,
    "start_time": "2022-03-01T04:23:24.997Z"
   },
   {
    "duration": 6,
    "start_time": "2022-03-01T04:23:54.222Z"
   },
   {
    "duration": 8618,
    "start_time": "2022-03-01T04:24:47.164Z"
   },
   {
    "duration": 5,
    "start_time": "2022-03-01T04:25:04.210Z"
   },
   {
    "duration": 5,
    "start_time": "2022-03-01T04:25:06.305Z"
   },
   {
    "duration": 8741,
    "start_time": "2022-03-01T04:26:47.598Z"
   },
   {
    "duration": 6,
    "start_time": "2022-03-01T04:27:05.494Z"
   },
   {
    "duration": 5,
    "start_time": "2022-03-01T04:27:07.302Z"
   },
   {
    "duration": 14,
    "start_time": "2022-03-01T04:27:09.604Z"
   },
   {
    "duration": 6,
    "start_time": "2022-03-01T04:27:12.293Z"
   },
   {
    "duration": 24,
    "start_time": "2022-03-01T04:29:42.802Z"
   },
   {
    "duration": 195,
    "start_time": "2022-03-01T04:30:19.682Z"
   },
   {
    "duration": 4,
    "start_time": "2022-03-01T04:30:25.782Z"
   },
   {
    "duration": 8,
    "start_time": "2022-03-01T04:31:07.159Z"
   },
   {
    "duration": 1505,
    "start_time": "2022-03-01T04:31:23.371Z"
   },
   {
    "duration": 1710,
    "start_time": "2022-03-01T04:31:42.867Z"
   },
   {
    "duration": 8489,
    "start_time": "2022-03-01T04:32:35.008Z"
   },
   {
    "duration": 5,
    "start_time": "2022-03-01T04:32:46.139Z"
   },
   {
    "duration": 5,
    "start_time": "2022-03-01T04:32:48.211Z"
   },
   {
    "duration": 5,
    "start_time": "2022-03-01T04:33:25.466Z"
   },
   {
    "duration": 7,
    "start_time": "2022-03-01T04:33:28.753Z"
   },
   {
    "duration": 18482,
    "start_time": "2022-03-01T04:38:33.198Z"
   },
   {
    "duration": 6,
    "start_time": "2022-03-01T04:38:53.225Z"
   },
   {
    "duration": 5,
    "start_time": "2022-03-01T04:38:55.467Z"
   },
   {
    "duration": 1512,
    "start_time": "2022-03-01T04:45:44.270Z"
   },
   {
    "duration": 8022,
    "start_time": "2022-03-01T04:48:03.403Z"
   },
   {
    "duration": 6,
    "start_time": "2022-03-01T04:48:25.542Z"
   },
   {
    "duration": 6,
    "start_time": "2022-03-01T04:48:28.320Z"
   },
   {
    "duration": 4,
    "start_time": "2022-03-01T04:48:42.366Z"
   },
   {
    "duration": 6,
    "start_time": "2022-03-01T04:48:44.123Z"
   },
   {
    "duration": 4020,
    "start_time": "2022-03-01T04:49:33.001Z"
   },
   {
    "duration": 6,
    "start_time": "2022-03-01T04:50:03.027Z"
   },
   {
    "duration": 6,
    "start_time": "2022-03-01T04:50:12.052Z"
   },
   {
    "duration": 1799,
    "start_time": "2022-03-01T04:50:41.284Z"
   },
   {
    "duration": 3859,
    "start_time": "2022-03-01T04:50:49.032Z"
   },
   {
    "duration": 6,
    "start_time": "2022-03-01T04:51:10.365Z"
   },
   {
    "duration": 5,
    "start_time": "2022-03-01T04:51:18.892Z"
   },
   {
    "duration": 3393,
    "start_time": "2022-03-01T04:52:48.790Z"
   },
   {
    "duration": 9,
    "start_time": "2022-03-01T04:52:52.186Z"
   },
   {
    "duration": 1034,
    "start_time": "2022-03-01T04:52:52.199Z"
   },
   {
    "duration": 46,
    "start_time": "2022-03-01T04:52:53.236Z"
   },
   {
    "duration": 28,
    "start_time": "2022-03-01T04:52:53.284Z"
   },
   {
    "duration": 362,
    "start_time": "2022-03-01T04:52:53.315Z"
   },
   {
    "duration": 10,
    "start_time": "2022-03-01T04:52:53.680Z"
   },
   {
    "duration": 13,
    "start_time": "2022-03-01T04:52:53.692Z"
   },
   {
    "duration": 30,
    "start_time": "2022-03-01T04:52:53.709Z"
   },
   {
    "duration": 39,
    "start_time": "2022-03-01T04:52:53.742Z"
   },
   {
    "duration": 10,
    "start_time": "2022-03-01T04:52:53.784Z"
   },
   {
    "duration": 10,
    "start_time": "2022-03-01T04:52:53.796Z"
   },
   {
    "duration": 7,
    "start_time": "2022-03-01T04:52:53.808Z"
   },
   {
    "duration": 9,
    "start_time": "2022-03-01T04:52:53.817Z"
   },
   {
    "duration": 47,
    "start_time": "2022-03-01T04:52:53.829Z"
   },
   {
    "duration": 7,
    "start_time": "2022-03-01T04:52:53.879Z"
   },
   {
    "duration": 6,
    "start_time": "2022-03-01T04:52:53.889Z"
   },
   {
    "duration": 23,
    "start_time": "2022-03-01T04:52:53.898Z"
   },
   {
    "duration": 64,
    "start_time": "2022-03-01T04:52:53.923Z"
   },
   {
    "duration": 9,
    "start_time": "2022-03-01T04:52:53.990Z"
   },
   {
    "duration": 11,
    "start_time": "2022-03-01T04:52:54.002Z"
   },
   {
    "duration": 61,
    "start_time": "2022-03-01T04:52:54.016Z"
   },
   {
    "duration": 12,
    "start_time": "2022-03-01T04:52:54.080Z"
   },
   {
    "duration": 8,
    "start_time": "2022-03-01T04:52:54.095Z"
   },
   {
    "duration": 200,
    "start_time": "2022-03-01T04:52:54.106Z"
   },
   {
    "duration": 199,
    "start_time": "2022-03-01T04:52:54.309Z"
   },
   {
    "duration": 13,
    "start_time": "2022-03-01T04:52:54.514Z"
   },
   {
    "duration": 14,
    "start_time": "2022-03-01T04:52:54.530Z"
   },
   {
    "duration": 40,
    "start_time": "2022-03-01T04:52:54.546Z"
   },
   {
    "duration": 673,
    "start_time": "2022-03-01T04:52:54.588Z"
   },
   {
    "duration": 17,
    "start_time": "2022-03-01T04:52:55.264Z"
   },
   {
    "duration": 837,
    "start_time": "2022-03-01T04:52:55.283Z"
   },
   {
    "duration": 9,
    "start_time": "2022-03-01T04:52:56.122Z"
   },
   {
    "duration": 12,
    "start_time": "2022-03-01T04:52:56.134Z"
   },
   {
    "duration": 61,
    "start_time": "2022-03-01T04:52:56.149Z"
   },
   {
    "duration": 483,
    "start_time": "2022-03-01T04:52:56.213Z"
   },
   {
    "duration": 8,
    "start_time": "2022-03-01T04:52:56.698Z"
   },
   {
    "duration": 6,
    "start_time": "2022-03-01T04:52:56.708Z"
   },
   {
    "duration": 7,
    "start_time": "2022-03-01T04:52:56.716Z"
   },
   {
    "duration": 6,
    "start_time": "2022-03-01T04:52:56.726Z"
   },
   {
    "duration": 5,
    "start_time": "2022-03-01T04:52:56.774Z"
   },
   {
    "duration": 16,
    "start_time": "2022-03-01T04:52:56.781Z"
   },
   {
    "duration": 7,
    "start_time": "2022-03-01T04:52:56.799Z"
   },
   {
    "duration": 15,
    "start_time": "2022-03-01T04:52:56.808Z"
   },
   {
    "duration": 64,
    "start_time": "2022-03-01T04:52:56.825Z"
   },
   {
    "duration": 283,
    "start_time": "2022-03-01T04:52:56.892Z"
   },
   {
    "duration": 96,
    "start_time": "2022-03-01T04:52:57.179Z"
   },
   {
    "duration": 10,
    "start_time": "2022-03-01T04:52:57.278Z"
   },
   {
    "duration": 1691,
    "start_time": "2022-03-01T04:52:57.291Z"
   },
   {
    "duration": 4113,
    "start_time": "2022-03-01T04:52:59.075Z"
   },
   {
    "duration": 5,
    "start_time": "2022-03-01T04:53:03.190Z"
   },
   {
    "duration": 14,
    "start_time": "2022-03-01T04:53:03.197Z"
   },
   {
    "duration": 3475,
    "start_time": "2022-03-01T04:54:18.146Z"
   },
   {
    "duration": 1589,
    "start_time": "2022-03-01T04:54:21.625Z"
   },
   {
    "duration": 1015,
    "start_time": "2022-03-01T04:54:23.217Z"
   },
   {
    "duration": 45,
    "start_time": "2022-03-01T04:54:24.235Z"
   },
   {
    "duration": 27,
    "start_time": "2022-03-01T04:54:24.282Z"
   },
   {
    "duration": 355,
    "start_time": "2022-03-01T04:54:24.311Z"
   },
   {
    "duration": 10,
    "start_time": "2022-03-01T04:54:24.668Z"
   },
   {
    "duration": 14,
    "start_time": "2022-03-01T04:54:24.681Z"
   },
   {
    "duration": 543,
    "start_time": "2022-03-01T04:54:24.698Z"
   },
   {
    "duration": 13,
    "start_time": "2022-03-01T04:54:25.244Z"
   },
   {
    "duration": 11,
    "start_time": "2022-03-01T04:54:25.274Z"
   },
   {
    "duration": 10,
    "start_time": "2022-03-01T04:54:25.287Z"
   },
   {
    "duration": 7,
    "start_time": "2022-03-01T04:54:25.299Z"
   },
   {
    "duration": 7,
    "start_time": "2022-03-01T04:54:25.308Z"
   },
   {
    "duration": 6,
    "start_time": "2022-03-01T04:54:25.318Z"
   },
   {
    "duration": 7,
    "start_time": "2022-03-01T04:54:25.374Z"
   },
   {
    "duration": 7,
    "start_time": "2022-03-01T04:54:25.383Z"
   },
   {
    "duration": 21,
    "start_time": "2022-03-01T04:54:25.393Z"
   },
   {
    "duration": 19,
    "start_time": "2022-03-01T04:54:25.416Z"
   },
   {
    "duration": 7,
    "start_time": "2022-03-01T04:54:25.474Z"
   },
   {
    "duration": 9,
    "start_time": "2022-03-01T04:54:25.483Z"
   },
   {
    "duration": 22,
    "start_time": "2022-03-01T04:54:25.495Z"
   },
   {
    "duration": 13,
    "start_time": "2022-03-01T04:54:25.522Z"
   },
   {
    "duration": 39,
    "start_time": "2022-03-01T04:54:25.538Z"
   },
   {
    "duration": 174,
    "start_time": "2022-03-01T04:54:25.580Z"
   },
   {
    "duration": 52,
    "start_time": "2022-03-01T04:54:25.756Z"
   },
   {
    "duration": 13,
    "start_time": "2022-03-01T04:54:25.810Z"
   },
   {
    "duration": 13,
    "start_time": "2022-03-01T04:54:25.826Z"
   },
   {
    "duration": 42,
    "start_time": "2022-03-01T04:54:25.842Z"
   },
   {
    "duration": 719,
    "start_time": "2022-03-01T04:54:25.886Z"
   },
   {
    "duration": 13,
    "start_time": "2022-03-01T04:54:26.607Z"
   },
   {
    "duration": 826,
    "start_time": "2022-03-01T04:54:26.623Z"
   },
   {
    "duration": 8,
    "start_time": "2022-03-01T04:54:27.451Z"
   },
   {
    "duration": 8,
    "start_time": "2022-03-01T04:54:27.474Z"
   },
   {
    "duration": 46,
    "start_time": "2022-03-01T04:54:27.485Z"
   },
   {
    "duration": 530,
    "start_time": "2022-03-01T04:54:27.534Z"
   },
   {
    "duration": 10,
    "start_time": "2022-03-01T04:54:28.074Z"
   },
   {
    "duration": 6,
    "start_time": "2022-03-01T04:54:28.087Z"
   },
   {
    "duration": 12,
    "start_time": "2022-03-01T04:54:28.096Z"
   },
   {
    "duration": 6,
    "start_time": "2022-03-01T04:54:28.111Z"
   },
   {
    "duration": 7,
    "start_time": "2022-03-01T04:54:28.119Z"
   },
   {
    "duration": 53,
    "start_time": "2022-03-01T04:54:28.129Z"
   },
   {
    "duration": 6,
    "start_time": "2022-03-01T04:54:28.184Z"
   },
   {
    "duration": 16,
    "start_time": "2022-03-01T04:54:28.192Z"
   },
   {
    "duration": 29,
    "start_time": "2022-03-01T04:54:28.210Z"
   },
   {
    "duration": 239,
    "start_time": "2022-03-01T04:54:28.241Z"
   },
   {
    "duration": 6,
    "start_time": "2022-03-01T04:54:28.574Z"
   },
   {
    "duration": 94,
    "start_time": "2022-03-01T04:54:28.583Z"
   },
   {
    "duration": 1394,
    "start_time": "2022-03-01T04:54:28.679Z"
   },
   {
    "duration": 4107,
    "start_time": "2022-03-01T04:54:30.077Z"
   },
   {
    "duration": 7,
    "start_time": "2022-03-01T04:54:34.187Z"
   },
   {
    "duration": 8,
    "start_time": "2022-03-01T04:54:34.197Z"
   },
   {
    "duration": 3511,
    "start_time": "2022-03-01T04:57:16.456Z"
   },
   {
    "duration": 6,
    "start_time": "2022-03-01T04:57:24.725Z"
   },
   {
    "duration": 6,
    "start_time": "2022-03-01T04:57:28.121Z"
   },
   {
    "duration": 3106,
    "start_time": "2022-03-01T05:00:18.019Z"
   },
   {
    "duration": 3095,
    "start_time": "2022-03-01T05:00:35.565Z"
   },
   {
    "duration": 1697,
    "start_time": "2022-03-01T05:01:03.454Z"
   },
   {
    "duration": 6360,
    "start_time": "2022-03-01T05:03:11.831Z"
   },
   {
    "duration": 1202,
    "start_time": "2022-03-01T05:03:33.894Z"
   },
   {
    "duration": 5,
    "start_time": "2022-03-02T12:56:03.718Z"
   },
   {
    "duration": 11445,
    "start_time": "2022-03-02T12:56:32.715Z"
   },
   {
    "duration": 1590,
    "start_time": "2022-03-02T12:56:44.163Z"
   },
   {
    "duration": 1557,
    "start_time": "2022-03-02T12:56:45.755Z"
   },
   {
    "duration": 35,
    "start_time": "2022-03-02T12:56:47.315Z"
   },
   {
    "duration": 49,
    "start_time": "2022-03-02T12:56:47.352Z"
   },
   {
    "duration": 348,
    "start_time": "2022-03-02T12:56:47.403Z"
   },
   {
    "duration": 9,
    "start_time": "2022-03-02T12:56:47.753Z"
   },
   {
    "duration": 11,
    "start_time": "2022-03-02T12:56:47.782Z"
   },
   {
    "duration": 606,
    "start_time": "2022-03-02T12:56:47.797Z"
   },
   {
    "duration": 12,
    "start_time": "2022-03-02T12:56:48.406Z"
   },
   {
    "duration": 10,
    "start_time": "2022-03-02T12:56:48.421Z"
   },
   {
    "duration": 16,
    "start_time": "2022-03-02T12:56:48.433Z"
   },
   {
    "duration": 36,
    "start_time": "2022-03-02T12:56:48.452Z"
   },
   {
    "duration": 10,
    "start_time": "2022-03-02T12:56:48.491Z"
   },
   {
    "duration": 8,
    "start_time": "2022-03-02T12:56:48.503Z"
   },
   {
    "duration": 7,
    "start_time": "2022-03-02T12:56:48.514Z"
   },
   {
    "duration": 7,
    "start_time": "2022-03-02T12:56:48.524Z"
   },
   {
    "duration": 67,
    "start_time": "2022-03-02T12:56:48.533Z"
   },
   {
    "duration": 19,
    "start_time": "2022-03-02T12:56:48.602Z"
   },
   {
    "duration": 7,
    "start_time": "2022-03-02T12:56:48.623Z"
   },
   {
    "duration": 12,
    "start_time": "2022-03-02T12:56:48.632Z"
   },
   {
    "duration": 21,
    "start_time": "2022-03-02T12:56:48.682Z"
   },
   {
    "duration": 11,
    "start_time": "2022-03-02T12:56:48.709Z"
   },
   {
    "duration": 6,
    "start_time": "2022-03-02T12:56:48.723Z"
   },
   {
    "duration": 176,
    "start_time": "2022-03-02T12:56:48.731Z"
   },
   {
    "duration": 40,
    "start_time": "2022-03-02T12:56:48.910Z"
   },
   {
    "duration": 33,
    "start_time": "2022-03-02T12:56:48.952Z"
   },
   {
    "duration": 14,
    "start_time": "2022-03-02T12:56:48.987Z"
   },
   {
    "duration": 16,
    "start_time": "2022-03-02T12:56:49.003Z"
   },
   {
    "duration": 722,
    "start_time": "2022-03-02T12:56:49.022Z"
   },
   {
    "duration": 14,
    "start_time": "2022-03-02T12:56:49.747Z"
   },
   {
    "duration": 847,
    "start_time": "2022-03-02T12:56:49.763Z"
   },
   {
    "duration": 8,
    "start_time": "2022-03-02T12:56:50.612Z"
   },
   {
    "duration": 8,
    "start_time": "2022-03-02T12:56:50.622Z"
   },
   {
    "duration": 69,
    "start_time": "2022-03-02T12:56:50.632Z"
   },
   {
    "duration": 462,
    "start_time": "2022-03-02T12:56:50.703Z"
   },
   {
    "duration": 15,
    "start_time": "2022-03-02T12:56:51.167Z"
   },
   {
    "duration": 6,
    "start_time": "2022-03-02T12:56:51.185Z"
   },
   {
    "duration": 7,
    "start_time": "2022-03-02T12:56:51.194Z"
   },
   {
    "duration": 6,
    "start_time": "2022-03-02T12:56:51.204Z"
   },
   {
    "duration": 6,
    "start_time": "2022-03-02T12:56:51.212Z"
   },
   {
    "duration": 15,
    "start_time": "2022-03-02T12:56:51.220Z"
   },
   {
    "duration": 6,
    "start_time": "2022-03-02T12:56:51.283Z"
   },
   {
    "duration": 17,
    "start_time": "2022-03-02T12:56:51.291Z"
   },
   {
    "duration": 28,
    "start_time": "2022-03-02T12:56:51.310Z"
   },
   {
    "duration": 249,
    "start_time": "2022-03-02T12:56:51.340Z"
   },
   {
    "duration": 95,
    "start_time": "2022-03-02T12:56:51.593Z"
   },
   {
    "duration": 100,
    "start_time": "2022-03-02T12:56:51.692Z"
   },
   {
    "duration": 1395,
    "start_time": "2022-03-02T12:56:51.795Z"
   },
   {
    "duration": 1358,
    "start_time": "2022-03-02T12:56:53.194Z"
   },
   {
    "duration": 1518,
    "start_time": "2022-03-02T12:56:54.554Z"
   },
   {
    "duration": 5,
    "start_time": "2022-03-02T12:56:56.082Z"
   },
   {
    "duration": 11,
    "start_time": "2022-03-02T12:56:56.089Z"
   },
   {
    "duration": 793,
    "start_time": "2022-03-02T13:02:22.218Z"
   },
   {
    "duration": 9,
    "start_time": "2022-03-02T13:03:45.378Z"
   },
   {
    "duration": 9,
    "start_time": "2022-03-02T13:03:59.025Z"
   },
   {
    "duration": 9,
    "start_time": "2022-03-02T13:04:07.176Z"
   },
   {
    "duration": 43,
    "start_time": "2022-03-02T13:04:28.137Z"
   },
   {
    "duration": 444,
    "start_time": "2022-03-02T13:04:42.122Z"
   },
   {
    "duration": 5,
    "start_time": "2022-03-02T13:05:02.413Z"
   },
   {
    "duration": 5,
    "start_time": "2022-03-02T13:05:27.230Z"
   },
   {
    "duration": 5,
    "start_time": "2022-03-02T13:05:29.409Z"
   },
   {
    "duration": 4,
    "start_time": "2022-03-02T13:05:44.399Z"
   },
   {
    "duration": 6,
    "start_time": "2022-03-02T13:06:00.319Z"
   },
   {
    "duration": 12,
    "start_time": "2022-03-02T13:06:12.425Z"
   },
   {
    "duration": 6,
    "start_time": "2022-03-02T13:06:15.925Z"
   },
   {
    "duration": 13,
    "start_time": "2022-03-02T13:06:41.535Z"
   },
   {
    "duration": 23,
    "start_time": "2022-03-02T13:06:49.156Z"
   },
   {
    "duration": 473,
    "start_time": "2022-03-02T13:06:57.032Z"
   },
   {
    "duration": 5,
    "start_time": "2022-03-02T13:07:24.141Z"
   },
   {
    "duration": 8,
    "start_time": "2022-03-02T13:07:27.136Z"
   },
   {
    "duration": 6,
    "start_time": "2022-03-02T13:07:37.993Z"
   },
   {
    "duration": 10,
    "start_time": "2022-03-02T13:07:41.037Z"
   },
   {
    "duration": 117,
    "start_time": "2022-03-02T13:08:45.693Z"
   },
   {
    "duration": 5,
    "start_time": "2022-03-02T13:09:02.910Z"
   },
   {
    "duration": 986,
    "start_time": "2022-03-02T13:09:07.841Z"
   },
   {
    "duration": 4,
    "start_time": "2022-03-02T13:09:22.771Z"
   },
   {
    "duration": 9,
    "start_time": "2022-03-02T13:09:25.636Z"
   },
   {
    "duration": 5,
    "start_time": "2022-03-02T13:12:07.970Z"
   },
   {
    "duration": 6,
    "start_time": "2022-03-02T13:12:24.168Z"
   },
   {
    "duration": 8,
    "start_time": "2022-03-02T13:12:43.900Z"
   },
   {
    "duration": 16,
    "start_time": "2022-03-02T13:12:51.847Z"
   },
   {
    "duration": 6,
    "start_time": "2022-03-02T13:12:54.465Z"
   },
   {
    "duration": 13,
    "start_time": "2022-03-02T13:13:00.977Z"
   },
   {
    "duration": 21,
    "start_time": "2022-03-02T13:13:03.884Z"
   },
   {
    "duration": 275,
    "start_time": "2022-03-02T13:13:06.707Z"
   },
   {
    "duration": 4,
    "start_time": "2022-03-02T13:13:14.350Z"
   },
   {
    "duration": 8,
    "start_time": "2022-03-02T13:13:18.025Z"
   },
   {
    "duration": 3,
    "start_time": "2022-03-02T13:32:05.542Z"
   },
   {
    "duration": 3,
    "start_time": "2022-03-02T13:32:35.858Z"
   },
   {
    "duration": 75469,
    "start_time": "2022-03-03T18:27:28.687Z"
   },
   {
    "duration": 2031,
    "start_time": "2022-03-03T18:28:57.991Z"
   },
   {
    "duration": 750,
    "start_time": "2022-03-03T18:29:02.687Z"
   },
   {
    "duration": 24,
    "start_time": "2022-03-03T18:29:05.685Z"
   },
   {
    "duration": 18,
    "start_time": "2022-03-03T18:29:09.675Z"
   },
   {
    "duration": 239,
    "start_time": "2022-03-03T18:29:15.759Z"
   },
   {
    "duration": 13,
    "start_time": "2022-03-03T18:29:40.994Z"
   },
   {
    "duration": 119,
    "start_time": "2022-03-03T18:29:53.235Z"
   },
   {
    "duration": 17,
    "start_time": "2022-03-03T18:30:06.223Z"
   },
   {
    "duration": 7,
    "start_time": "2022-03-03T18:30:18.560Z"
   },
   {
    "duration": 7,
    "start_time": "2022-03-03T18:30:24.597Z"
   },
   {
    "duration": 5,
    "start_time": "2022-03-03T18:30:31.601Z"
   },
   {
    "duration": 5,
    "start_time": "2022-03-03T18:31:36.597Z"
   },
   {
    "duration": 5,
    "start_time": "2022-03-03T18:31:38.728Z"
   },
   {
    "duration": 4,
    "start_time": "2022-03-03T18:31:42.620Z"
   },
   {
    "duration": 5,
    "start_time": "2022-03-03T18:31:50.311Z"
   },
   {
    "duration": 5,
    "start_time": "2022-03-03T18:34:15.439Z"
   },
   {
    "duration": 13,
    "start_time": "2022-03-03T18:35:14.128Z"
   },
   {
    "duration": 13,
    "start_time": "2022-03-03T18:35:17.927Z"
   },
   {
    "duration": 9,
    "start_time": "2022-03-03T18:35:25.739Z"
   },
   {
    "duration": 8,
    "start_time": "2022-03-03T18:35:28.629Z"
   },
   {
    "duration": 6,
    "start_time": "2022-03-03T18:35:30.826Z"
   },
   {
    "duration": 371,
    "start_time": "2022-03-03T18:35:33.326Z"
   },
   {
    "duration": 17,
    "start_time": "2022-03-03T18:35:39.407Z"
   },
   {
    "duration": 22,
    "start_time": "2022-03-03T18:40:13.009Z"
   },
   {
    "duration": 11,
    "start_time": "2022-03-03T18:40:21.361Z"
   },
   {
    "duration": 23,
    "start_time": "2022-03-03T18:40:29.581Z"
   },
   {
    "duration": 23,
    "start_time": "2022-03-03T18:40:54.172Z"
   },
   {
    "duration": 4,
    "start_time": "2022-03-03T18:41:16.699Z"
   },
   {
    "duration": 22,
    "start_time": "2022-03-03T18:41:29.015Z"
   },
   {
    "duration": 12,
    "start_time": "2022-03-03T18:41:54.258Z"
   },
   {
    "duration": 6,
    "start_time": "2022-03-03T18:41:56.241Z"
   },
   {
    "duration": 103,
    "start_time": "2022-03-03T18:42:00.181Z"
   },
   {
    "duration": 28,
    "start_time": "2022-03-03T18:42:02.179Z"
   },
   {
    "duration": 22,
    "start_time": "2022-03-03T18:50:29.399Z"
   },
   {
    "duration": 400,
    "start_time": "2022-03-03T18:54:44.617Z"
   },
   {
    "duration": 10,
    "start_time": "2022-03-03T18:55:48.256Z"
   },
   {
    "duration": 527,
    "start_time": "2022-03-03T18:55:52.396Z"
   },
   {
    "duration": 6,
    "start_time": "2022-03-03T18:56:21.302Z"
   },
   {
    "duration": 6,
    "start_time": "2022-03-03T18:57:08.738Z"
   },
   {
    "duration": 5,
    "start_time": "2022-03-03T18:57:29.481Z"
   },
   {
    "duration": 295,
    "start_time": "2022-03-03T18:57:40.832Z"
   },
   {
    "duration": 4,
    "start_time": "2022-03-03T18:58:11.290Z"
   },
   {
    "duration": 3,
    "start_time": "2022-03-03T18:58:25.966Z"
   },
   {
    "duration": 4,
    "start_time": "2022-03-03T18:58:34.401Z"
   },
   {
    "duration": 9,
    "start_time": "2022-03-03T18:58:53.947Z"
   },
   {
    "duration": 6,
    "start_time": "2022-03-03T18:58:58.233Z"
   },
   {
    "duration": 3,
    "start_time": "2022-03-03T18:59:18.271Z"
   },
   {
    "duration": 3,
    "start_time": "2022-03-03T18:59:21.512Z"
   },
   {
    "duration": 3,
    "start_time": "2022-03-03T18:59:23.603Z"
   },
   {
    "duration": 12,
    "start_time": "2022-03-03T19:00:54.075Z"
   },
   {
    "duration": 22,
    "start_time": "2022-03-03T19:01:00.824Z"
   },
   {
    "duration": 71,
    "start_time": "2022-03-03T19:07:10.794Z"
   },
   {
    "duration": 3,
    "start_time": "2022-03-03T19:08:51.674Z"
   },
   {
    "duration": 1939,
    "start_time": "2022-03-03T19:08:55.821Z"
   },
   {
    "duration": 1454,
    "start_time": "2022-03-03T19:09:28.012Z"
   },
   {
    "duration": 1315,
    "start_time": "2022-03-03T19:10:52.650Z"
   },
   {
    "duration": 1625,
    "start_time": "2022-03-03T19:17:23.137Z"
   },
   {
    "duration": 24,
    "start_time": "2022-03-03T19:17:37.402Z"
   },
   {
    "duration": 2,
    "start_time": "2022-03-03T19:17:39.814Z"
   },
   {
    "duration": 1264,
    "start_time": "2022-03-03T19:17:42.501Z"
   },
   {
    "duration": 7520,
    "start_time": "2022-03-03T19:18:32.389Z"
   },
   {
    "duration": 1117,
    "start_time": "2022-03-03T19:18:39.911Z"
   },
   {
    "duration": 824,
    "start_time": "2022-03-03T19:18:41.030Z"
   },
   {
    "duration": 25,
    "start_time": "2022-03-03T19:18:41.856Z"
   },
   {
    "duration": 17,
    "start_time": "2022-03-03T19:18:41.883Z"
   },
   {
    "duration": 252,
    "start_time": "2022-03-03T19:18:41.901Z"
   },
   {
    "duration": 13,
    "start_time": "2022-03-03T19:18:42.155Z"
   },
   {
    "duration": 132,
    "start_time": "2022-03-03T19:18:42.170Z"
   },
   {
    "duration": 18,
    "start_time": "2022-03-03T19:18:42.304Z"
   },
   {
    "duration": 9,
    "start_time": "2022-03-03T19:18:42.324Z"
   },
   {
    "duration": 28,
    "start_time": "2022-03-03T19:18:42.335Z"
   },
   {
    "duration": 4,
    "start_time": "2022-03-03T19:18:42.365Z"
   },
   {
    "duration": 9,
    "start_time": "2022-03-03T19:18:42.371Z"
   },
   {
    "duration": 5,
    "start_time": "2022-03-03T19:18:42.382Z"
   },
   {
    "duration": 10,
    "start_time": "2022-03-03T19:18:42.388Z"
   },
   {
    "duration": 5,
    "start_time": "2022-03-03T19:18:42.400Z"
   },
   {
    "duration": 14,
    "start_time": "2022-03-03T19:18:42.406Z"
   },
   {
    "duration": 39,
    "start_time": "2022-03-03T19:18:42.421Z"
   },
   {
    "duration": 9,
    "start_time": "2022-03-03T19:18:42.462Z"
   },
   {
    "duration": 9,
    "start_time": "2022-03-03T19:18:42.473Z"
   },
   {
    "duration": 5,
    "start_time": "2022-03-03T19:18:42.484Z"
   },
   {
    "duration": 400,
    "start_time": "2022-03-03T19:18:42.490Z"
   },
   {
    "duration": 16,
    "start_time": "2022-03-03T19:18:42.894Z"
   },
   {
    "duration": 10,
    "start_time": "2022-03-03T19:18:42.913Z"
   },
   {
    "duration": 4,
    "start_time": "2022-03-03T19:18:42.924Z"
   },
   {
    "duration": 36,
    "start_time": "2022-03-03T19:18:42.929Z"
   },
   {
    "duration": 6,
    "start_time": "2022-03-03T19:18:42.966Z"
   },
   {
    "duration": 106,
    "start_time": "2022-03-03T19:18:42.973Z"
   },
   {
    "duration": 25,
    "start_time": "2022-03-03T19:18:43.081Z"
   },
   {
    "duration": 9,
    "start_time": "2022-03-03T19:18:43.108Z"
   },
   {
    "duration": 10,
    "start_time": "2022-03-03T19:18:43.119Z"
   },
   {
    "duration": 29,
    "start_time": "2022-03-03T19:18:43.131Z"
   },
   {
    "duration": 425,
    "start_time": "2022-03-03T19:18:43.162Z"
   },
   {
    "duration": 10,
    "start_time": "2022-03-03T19:18:43.588Z"
   },
   {
    "duration": 523,
    "start_time": "2022-03-03T19:18:43.599Z"
   },
   {
    "duration": 5,
    "start_time": "2022-03-03T19:18:44.124Z"
   },
   {
    "duration": 5,
    "start_time": "2022-03-03T19:18:44.131Z"
   },
   {
    "duration": 323,
    "start_time": "2022-03-03T19:18:44.138Z"
   },
   {
    "duration": 5,
    "start_time": "2022-03-03T19:18:44.463Z"
   },
   {
    "duration": 5,
    "start_time": "2022-03-03T19:18:44.470Z"
   },
   {
    "duration": 5,
    "start_time": "2022-03-03T19:18:44.477Z"
   },
   {
    "duration": 9,
    "start_time": "2022-03-03T19:18:44.484Z"
   },
   {
    "duration": 5,
    "start_time": "2022-03-03T19:18:44.496Z"
   },
   {
    "duration": 6,
    "start_time": "2022-03-03T19:18:44.502Z"
   },
   {
    "duration": 6,
    "start_time": "2022-03-03T19:18:44.510Z"
   },
   {
    "duration": 5,
    "start_time": "2022-03-03T19:18:44.517Z"
   },
   {
    "duration": 12,
    "start_time": "2022-03-03T19:18:44.560Z"
   },
   {
    "duration": 25,
    "start_time": "2022-03-03T19:18:44.574Z"
   },
   {
    "duration": 3,
    "start_time": "2022-03-03T19:18:44.601Z"
   },
   {
    "duration": 1415,
    "start_time": "2022-03-03T19:20:36.948Z"
   },
   {
    "duration": 1590,
    "start_time": "2022-03-03T19:21:30.182Z"
   },
   {
    "duration": 853,
    "start_time": "2022-03-03T19:24:30.087Z"
   },
   {
    "duration": 4094,
    "start_time": "2022-03-03T19:24:49.808Z"
   },
   {
    "duration": 826,
    "start_time": "2022-03-03T19:25:06.129Z"
   },
   {
    "duration": 1982,
    "start_time": "2022-03-03T19:26:46.307Z"
   },
   {
    "duration": 4,
    "start_time": "2022-03-03T19:27:20.244Z"
   },
   {
    "duration": 4,
    "start_time": "2022-03-03T19:27:24.410Z"
   },
   {
    "duration": 12843,
    "start_time": "2022-03-04T17:23:19.605Z"
   },
   {
    "duration": 1588,
    "start_time": "2022-03-04T17:23:32.451Z"
   },
   {
    "duration": 8012,
    "start_time": "2022-03-04T17:23:34.043Z"
   },
   {
    "duration": 35,
    "start_time": "2022-03-04T17:23:42.058Z"
   },
   {
    "duration": 40,
    "start_time": "2022-03-04T17:23:42.096Z"
   },
   {
    "duration": 341,
    "start_time": "2022-03-04T17:23:42.138Z"
   },
   {
    "duration": 19,
    "start_time": "2022-03-04T17:23:42.482Z"
   },
   {
    "duration": 204,
    "start_time": "2022-03-04T17:23:42.505Z"
   },
   {
    "duration": 38,
    "start_time": "2022-03-04T17:23:42.712Z"
   },
   {
    "duration": 11,
    "start_time": "2022-03-04T17:23:42.752Z"
   },
   {
    "duration": 20,
    "start_time": "2022-03-04T17:23:42.765Z"
   },
   {
    "duration": 22,
    "start_time": "2022-03-04T17:23:42.788Z"
   },
   {
    "duration": 23,
    "start_time": "2022-03-04T17:23:42.812Z"
   },
   {
    "duration": 7,
    "start_time": "2022-03-04T17:23:42.837Z"
   },
   {
    "duration": 20,
    "start_time": "2022-03-04T17:23:42.846Z"
   },
   {
    "duration": 24,
    "start_time": "2022-03-04T17:23:42.868Z"
   },
   {
    "duration": 32,
    "start_time": "2022-03-04T17:23:42.894Z"
   },
   {
    "duration": 21,
    "start_time": "2022-03-04T17:23:42.928Z"
   },
   {
    "duration": 18,
    "start_time": "2022-03-04T17:23:42.952Z"
   },
   {
    "duration": 27,
    "start_time": "2022-03-04T17:23:42.972Z"
   },
   {
    "duration": 13,
    "start_time": "2022-03-04T17:23:43.001Z"
   },
   {
    "duration": 650,
    "start_time": "2022-03-04T17:23:43.032Z"
   },
   {
    "duration": 22,
    "start_time": "2022-03-04T17:23:43.688Z"
   },
   {
    "duration": 28,
    "start_time": "2022-03-04T17:23:43.713Z"
   },
   {
    "duration": 5,
    "start_time": "2022-03-04T17:23:43.743Z"
   },
   {
    "duration": 14,
    "start_time": "2022-03-04T17:23:43.750Z"
   },
   {
    "duration": 8,
    "start_time": "2022-03-04T17:23:43.766Z"
   },
   {
    "duration": 236,
    "start_time": "2022-03-04T17:23:43.777Z"
   },
   {
    "duration": 51,
    "start_time": "2022-03-04T17:23:44.015Z"
   },
   {
    "duration": 13,
    "start_time": "2022-03-04T17:23:44.068Z"
   },
   {
    "duration": 17,
    "start_time": "2022-03-04T17:23:44.084Z"
   },
   {
    "duration": 15,
    "start_time": "2022-03-04T17:23:44.133Z"
   },
   {
    "duration": 648,
    "start_time": "2022-03-04T17:23:44.151Z"
   },
   {
    "duration": 14,
    "start_time": "2022-03-04T17:23:44.801Z"
   },
   {
    "duration": 795,
    "start_time": "2022-03-04T17:23:44.832Z"
   },
   {
    "duration": 10,
    "start_time": "2022-03-04T17:23:45.633Z"
   },
   {
    "duration": 9,
    "start_time": "2022-03-04T17:23:45.646Z"
   },
   {
    "duration": 478,
    "start_time": "2022-03-04T17:23:45.658Z"
   },
   {
    "duration": 6,
    "start_time": "2022-03-04T17:23:46.139Z"
   },
   {
    "duration": 5,
    "start_time": "2022-03-04T17:23:46.148Z"
   },
   {
    "duration": 9,
    "start_time": "2022-03-04T17:23:46.156Z"
   },
   {
    "duration": 11,
    "start_time": "2022-03-04T17:23:46.168Z"
   },
   {
    "duration": 53,
    "start_time": "2022-03-04T17:23:46.182Z"
   },
   {
    "duration": 5,
    "start_time": "2022-03-04T17:23:46.237Z"
   },
   {
    "duration": 4,
    "start_time": "2022-03-04T17:23:46.245Z"
   },
   {
    "duration": 5,
    "start_time": "2022-03-04T17:23:46.251Z"
   },
   {
    "duration": 16,
    "start_time": "2022-03-04T17:23:46.258Z"
   },
   {
    "duration": 467,
    "start_time": "2022-03-04T17:23:46.277Z"
   },
   {
    "duration": -207,
    "start_time": "2022-03-04T17:23:46.954Z"
   },
   {
    "duration": 8,
    "start_time": "2022-03-04T17:26:39.106Z"
   },
   {
    "duration": 15,
    "start_time": "2022-03-04T17:26:50.860Z"
   },
   {
    "duration": 4,
    "start_time": "2022-03-04T17:26:57.358Z"
   },
   {
    "duration": 1983,
    "start_time": "2022-03-04T17:27:00.363Z"
   },
   {
    "duration": 966,
    "start_time": "2022-03-04T17:28:41.141Z"
   },
   {
    "duration": 510,
    "start_time": "2022-03-04T17:29:35.960Z"
   },
   {
    "duration": 958,
    "start_time": "2022-03-04T17:29:44.220Z"
   },
   {
    "duration": 1389,
    "start_time": "2022-03-04T17:29:50.033Z"
   },
   {
    "duration": 2285,
    "start_time": "2022-03-04T17:30:17.648Z"
   },
   {
    "duration": 6,
    "start_time": "2022-03-04T17:30:24.930Z"
   },
   {
    "duration": 5,
    "start_time": "2022-03-04T17:30:27.387Z"
   },
   {
    "duration": 2337,
    "start_time": "2022-03-04T17:30:41.066Z"
   },
   {
    "duration": 1804,
    "start_time": "2022-03-04T17:30:48.408Z"
   },
   {
    "duration": 1393,
    "start_time": "2022-03-04T17:30:55.021Z"
   },
   {
    "duration": 330,
    "start_time": "2022-03-04T17:31:37.053Z"
   },
   {
    "duration": 2187,
    "start_time": "2022-03-04T17:33:31.541Z"
   },
   {
    "duration": 4753,
    "start_time": "2022-03-04T17:34:13.211Z"
   },
   {
    "duration": 6,
    "start_time": "2022-03-04T17:38:30.249Z"
   },
   {
    "duration": 6,
    "start_time": "2022-03-04T17:38:51.638Z"
   },
   {
    "duration": 11,
    "start_time": "2022-03-04T17:38:58.168Z"
   },
   {
    "duration": 6,
    "start_time": "2022-03-04T17:38:59.762Z"
   },
   {
    "duration": 12,
    "start_time": "2022-03-04T17:39:14.623Z"
   },
   {
    "duration": 4546,
    "start_time": "2022-03-04T17:39:23.657Z"
   },
   {
    "duration": 9,
    "start_time": "2022-03-04T17:40:26.996Z"
   },
   {
    "duration": 4,
    "start_time": "2022-03-04T17:40:54.190Z"
   },
   {
    "duration": 5,
    "start_time": "2022-03-04T17:41:09.564Z"
   },
   {
    "duration": 5,
    "start_time": "2022-03-04T17:41:14.521Z"
   },
   {
    "duration": 5,
    "start_time": "2022-03-04T17:41:30.989Z"
   },
   {
    "duration": 472,
    "start_time": "2022-03-04T17:41:46.673Z"
   },
   {
    "duration": 5,
    "start_time": "2022-03-04T17:41:50.602Z"
   },
   {
    "duration": 4,
    "start_time": "2022-03-04T17:41:53.348Z"
   },
   {
    "duration": 4,
    "start_time": "2022-03-04T17:42:05.950Z"
   },
   {
    "duration": 5,
    "start_time": "2022-03-04T17:42:08.002Z"
   },
   {
    "duration": 9,
    "start_time": "2022-03-04T17:42:11.847Z"
   },
   {
    "duration": 6,
    "start_time": "2022-03-04T17:42:13.449Z"
   },
   {
    "duration": 20284,
    "start_time": "2022-03-04T17:42:42.793Z"
   },
   {
    "duration": 6805,
    "start_time": "2022-03-04T17:43:28.273Z"
   },
   {
    "duration": 3521,
    "start_time": "2022-03-04T18:01:52.691Z"
   },
   {
    "duration": 1642,
    "start_time": "2022-03-04T18:01:56.215Z"
   },
   {
    "duration": 1120,
    "start_time": "2022-03-04T18:01:57.861Z"
   },
   {
    "duration": 49,
    "start_time": "2022-03-04T18:01:58.984Z"
   },
   {
    "duration": 26,
    "start_time": "2022-03-04T18:01:59.035Z"
   },
   {
    "duration": 348,
    "start_time": "2022-03-04T18:01:59.064Z"
   },
   {
    "duration": 26,
    "start_time": "2022-03-04T18:01:59.415Z"
   },
   {
    "duration": 202,
    "start_time": "2022-03-04T18:01:59.446Z"
   },
   {
    "duration": 27,
    "start_time": "2022-03-04T18:01:59.652Z"
   },
   {
    "duration": 11,
    "start_time": "2022-03-04T18:01:59.682Z"
   },
   {
    "duration": 42,
    "start_time": "2022-03-04T18:01:59.696Z"
   },
   {
    "duration": 6,
    "start_time": "2022-03-04T18:01:59.740Z"
   },
   {
    "duration": 7,
    "start_time": "2022-03-04T18:01:59.748Z"
   },
   {
    "duration": 6,
    "start_time": "2022-03-04T18:01:59.757Z"
   },
   {
    "duration": 7,
    "start_time": "2022-03-04T18:01:59.765Z"
   },
   {
    "duration": 68,
    "start_time": "2022-03-04T18:01:59.774Z"
   },
   {
    "duration": 28,
    "start_time": "2022-03-04T18:01:59.845Z"
   },
   {
    "duration": 27,
    "start_time": "2022-03-04T18:01:59.877Z"
   },
   {
    "duration": 16,
    "start_time": "2022-03-04T18:01:59.932Z"
   },
   {
    "duration": 10,
    "start_time": "2022-03-04T18:01:59.951Z"
   },
   {
    "duration": 8,
    "start_time": "2022-03-04T18:01:59.964Z"
   },
   {
    "duration": 694,
    "start_time": "2022-03-04T18:01:59.975Z"
   },
   {
    "duration": 22,
    "start_time": "2022-03-04T18:02:00.674Z"
   },
   {
    "duration": 32,
    "start_time": "2022-03-04T18:02:00.700Z"
   },
   {
    "duration": 6,
    "start_time": "2022-03-04T18:02:00.735Z"
   },
   {
    "duration": 22,
    "start_time": "2022-03-04T18:02:00.743Z"
   },
   {
    "duration": 8,
    "start_time": "2022-03-04T18:02:00.767Z"
   },
   {
    "duration": 207,
    "start_time": "2022-03-04T18:02:00.778Z"
   },
   {
    "duration": 58,
    "start_time": "2022-03-04T18:02:00.988Z"
   },
   {
    "duration": 14,
    "start_time": "2022-03-04T18:02:01.049Z"
   },
   {
    "duration": 16,
    "start_time": "2022-03-04T18:02:01.067Z"
   },
   {
    "duration": 51,
    "start_time": "2022-03-04T18:02:01.086Z"
   },
   {
    "duration": 660,
    "start_time": "2022-03-04T18:02:01.140Z"
   },
   {
    "duration": 15,
    "start_time": "2022-03-04T18:02:01.803Z"
   },
   {
    "duration": 862,
    "start_time": "2022-03-04T18:02:01.834Z"
   },
   {
    "duration": 11,
    "start_time": "2022-03-04T18:02:02.699Z"
   },
   {
    "duration": 22,
    "start_time": "2022-03-04T18:02:02.713Z"
   },
   {
    "duration": 498,
    "start_time": "2022-03-04T18:02:02.738Z"
   },
   {
    "duration": 5,
    "start_time": "2022-03-04T18:02:03.238Z"
   },
   {
    "duration": 7,
    "start_time": "2022-03-04T18:02:03.245Z"
   },
   {
    "duration": 5,
    "start_time": "2022-03-04T18:02:03.255Z"
   },
   {
    "duration": 11,
    "start_time": "2022-03-04T18:02:03.262Z"
   },
   {
    "duration": 6,
    "start_time": "2022-03-04T18:02:03.275Z"
   },
   {
    "duration": 47,
    "start_time": "2022-03-04T18:02:03.284Z"
   },
   {
    "duration": 5,
    "start_time": "2022-03-04T18:02:03.334Z"
   },
   {
    "duration": 5,
    "start_time": "2022-03-04T18:02:03.341Z"
   },
   {
    "duration": 14,
    "start_time": "2022-03-04T18:02:03.348Z"
   },
   {
    "duration": 19,
    "start_time": "2022-03-04T18:02:03.365Z"
   },
   {
    "duration": 3,
    "start_time": "2022-03-04T18:02:03.387Z"
   },
   {
    "duration": 1912,
    "start_time": "2022-03-04T18:02:03.432Z"
   },
   {
    "duration": 7087,
    "start_time": "2022-03-04T18:02:05.347Z"
   },
   {
    "duration": 5819,
    "start_time": "2022-03-04T18:02:12.436Z"
   },
   {
    "duration": 12151,
    "start_time": "2022-03-04T18:02:59.361Z"
   },
   {
    "duration": 593,
    "start_time": "2022-03-04T18:06:59.286Z"
   },
   {
    "duration": 2747,
    "start_time": "2022-03-04T18:07:45.060Z"
   },
   {
    "duration": 12729,
    "start_time": "2022-03-05T00:02:36.022Z"
   },
   {
    "duration": 1624,
    "start_time": "2022-03-05T00:02:48.754Z"
   },
   {
    "duration": 1005,
    "start_time": "2022-03-05T00:02:50.381Z"
   },
   {
    "duration": 34,
    "start_time": "2022-03-05T00:02:51.389Z"
   },
   {
    "duration": 47,
    "start_time": "2022-03-05T00:02:51.426Z"
   },
   {
    "duration": 342,
    "start_time": "2022-03-05T00:02:51.476Z"
   },
   {
    "duration": 18,
    "start_time": "2022-03-05T00:02:51.821Z"
   },
   {
    "duration": 215,
    "start_time": "2022-03-05T00:02:51.842Z"
   },
   {
    "duration": 34,
    "start_time": "2022-03-05T00:02:52.060Z"
   },
   {
    "duration": 10,
    "start_time": "2022-03-05T00:02:52.097Z"
   },
   {
    "duration": 14,
    "start_time": "2022-03-05T00:02:52.110Z"
   },
   {
    "duration": 7,
    "start_time": "2022-03-05T00:02:52.127Z"
   },
   {
    "duration": 41,
    "start_time": "2022-03-05T00:02:52.136Z"
   },
   {
    "duration": 7,
    "start_time": "2022-03-05T00:02:52.179Z"
   },
   {
    "duration": 11,
    "start_time": "2022-03-05T00:02:52.188Z"
   },
   {
    "duration": 12,
    "start_time": "2022-03-05T00:02:52.202Z"
   },
   {
    "duration": 22,
    "start_time": "2022-03-05T00:02:52.216Z"
   },
   {
    "duration": 50,
    "start_time": "2022-03-05T00:02:52.240Z"
   },
   {
    "duration": 13,
    "start_time": "2022-03-05T00:02:52.293Z"
   },
   {
    "duration": 18,
    "start_time": "2022-03-05T00:02:52.308Z"
   },
   {
    "duration": 6,
    "start_time": "2022-03-05T00:02:52.328Z"
   },
   {
    "duration": 636,
    "start_time": "2022-03-05T00:02:52.336Z"
   },
   {
    "duration": 22,
    "start_time": "2022-03-05T00:02:52.977Z"
   },
   {
    "duration": 11,
    "start_time": "2022-03-05T00:02:53.002Z"
   },
   {
    "duration": 5,
    "start_time": "2022-03-05T00:02:53.016Z"
   },
   {
    "duration": 15,
    "start_time": "2022-03-05T00:02:53.024Z"
   },
   {
    "duration": 36,
    "start_time": "2022-03-05T00:02:53.041Z"
   },
   {
    "duration": 183,
    "start_time": "2022-03-05T00:02:53.079Z"
   },
   {
    "duration": 48,
    "start_time": "2022-03-05T00:02:53.264Z"
   },
   {
    "duration": 14,
    "start_time": "2022-03-05T00:02:53.314Z"
   },
   {
    "duration": 14,
    "start_time": "2022-03-05T00:02:53.330Z"
   },
   {
    "duration": 41,
    "start_time": "2022-03-05T00:02:53.347Z"
   },
   {
    "duration": 652,
    "start_time": "2022-03-05T00:02:53.390Z"
   },
   {
    "duration": 28,
    "start_time": "2022-03-05T00:02:54.045Z"
   },
   {
    "duration": 810,
    "start_time": "2022-03-05T00:02:54.075Z"
   },
   {
    "duration": 8,
    "start_time": "2022-03-05T00:02:54.888Z"
   },
   {
    "duration": 5,
    "start_time": "2022-03-05T00:02:54.899Z"
   },
   {
    "duration": 488,
    "start_time": "2022-03-05T00:02:54.906Z"
   },
   {
    "duration": 5,
    "start_time": "2022-03-05T00:02:55.396Z"
   },
   {
    "duration": 7,
    "start_time": "2022-03-05T00:02:55.404Z"
   },
   {
    "duration": 11,
    "start_time": "2022-03-05T00:02:55.413Z"
   },
   {
    "duration": 17,
    "start_time": "2022-03-05T00:02:55.427Z"
   },
   {
    "duration": 31,
    "start_time": "2022-03-05T00:02:55.447Z"
   },
   {
    "duration": 4,
    "start_time": "2022-03-05T00:02:55.481Z"
   },
   {
    "duration": 10,
    "start_time": "2022-03-05T00:02:55.488Z"
   },
   {
    "duration": 5,
    "start_time": "2022-03-05T00:02:55.501Z"
   },
   {
    "duration": 18,
    "start_time": "2022-03-05T00:02:55.509Z"
   },
   {
    "duration": 58,
    "start_time": "2022-03-05T00:02:55.530Z"
   },
   {
    "duration": 4,
    "start_time": "2022-03-05T00:02:55.591Z"
   },
   {
    "duration": 1778,
    "start_time": "2022-03-05T00:02:55.598Z"
   },
   {
    "duration": 160,
    "start_time": "2022-03-05T00:02:57.380Z"
   },
   {
    "duration": -113,
    "start_time": "2022-03-05T00:02:57.656Z"
   },
   {
    "duration": -116,
    "start_time": "2022-03-05T00:02:57.660Z"
   },
   {
    "duration": 959,
    "start_time": "2022-03-05T00:03:55.464Z"
   },
   {
    "duration": 7048,
    "start_time": "2022-03-05T00:04:16.859Z"
   },
   {
    "duration": 8571,
    "start_time": "2022-03-05T00:04:43.634Z"
   },
   {
    "duration": 2095,
    "start_time": "2022-03-05T00:05:06.047Z"
   },
   {
    "duration": 300,
    "start_time": "2022-03-05T00:06:02.375Z"
   },
   {
    "duration": 7,
    "start_time": "2022-03-05T00:07:07.538Z"
   },
   {
    "duration": 306,
    "start_time": "2022-03-05T00:07:31.966Z"
   },
   {
    "duration": 3458,
    "start_time": "2022-03-05T00:25:42.870Z"
   },
   {
    "duration": 10,
    "start_time": "2022-03-05T00:25:46.332Z"
   },
   {
    "duration": 1041,
    "start_time": "2022-03-05T00:25:46.345Z"
   },
   {
    "duration": 34,
    "start_time": "2022-03-05T00:25:47.389Z"
   },
   {
    "duration": 54,
    "start_time": "2022-03-05T00:25:47.426Z"
   },
   {
    "duration": 344,
    "start_time": "2022-03-05T00:25:47.482Z"
   },
   {
    "duration": 18,
    "start_time": "2022-03-05T00:25:47.829Z"
   },
   {
    "duration": 217,
    "start_time": "2022-03-05T00:25:47.851Z"
   },
   {
    "duration": 29,
    "start_time": "2022-03-05T00:25:48.071Z"
   },
   {
    "duration": 14,
    "start_time": "2022-03-05T00:25:48.103Z"
   },
   {
    "duration": 13,
    "start_time": "2022-03-05T00:25:48.119Z"
   },
   {
    "duration": 9,
    "start_time": "2022-03-05T00:25:48.174Z"
   },
   {
    "duration": 11,
    "start_time": "2022-03-05T00:25:48.186Z"
   },
   {
    "duration": 9,
    "start_time": "2022-03-05T00:25:48.200Z"
   },
   {
    "duration": 11,
    "start_time": "2022-03-05T00:25:48.211Z"
   },
   {
    "duration": 50,
    "start_time": "2022-03-05T00:25:48.225Z"
   },
   {
    "duration": 26,
    "start_time": "2022-03-05T00:25:48.278Z"
   },
   {
    "duration": 19,
    "start_time": "2022-03-05T00:25:48.306Z"
   },
   {
    "duration": 13,
    "start_time": "2022-03-05T00:25:48.327Z"
   },
   {
    "duration": 11,
    "start_time": "2022-03-05T00:25:48.373Z"
   },
   {
    "duration": 7,
    "start_time": "2022-03-05T00:25:48.386Z"
   },
   {
    "duration": 32,
    "start_time": "2022-03-05T00:25:48.395Z"
   },
   {
    "duration": 60,
    "start_time": "2022-03-05T00:25:48.432Z"
   },
   {
    "duration": 12,
    "start_time": "2022-03-05T00:25:48.496Z"
   },
   {
    "duration": 6,
    "start_time": "2022-03-05T00:25:48.511Z"
   },
   {
    "duration": 26,
    "start_time": "2022-03-05T00:25:48.519Z"
   },
   {
    "duration": 29,
    "start_time": "2022-03-05T00:25:48.548Z"
   },
   {
    "duration": 171,
    "start_time": "2022-03-05T00:25:48.579Z"
   },
   {
    "duration": 59,
    "start_time": "2022-03-05T00:25:48.752Z"
   },
   {
    "duration": 13,
    "start_time": "2022-03-05T00:25:48.814Z"
   },
   {
    "duration": 16,
    "start_time": "2022-03-05T00:25:48.829Z"
   },
   {
    "duration": 41,
    "start_time": "2022-03-05T00:25:48.847Z"
   },
   {
    "duration": 777,
    "start_time": "2022-03-05T00:25:48.890Z"
   },
   {
    "duration": 13,
    "start_time": "2022-03-05T00:25:49.669Z"
   },
   {
    "duration": 811,
    "start_time": "2022-03-05T00:25:49.684Z"
   },
   {
    "duration": 8,
    "start_time": "2022-03-05T00:25:50.497Z"
   },
   {
    "duration": 6,
    "start_time": "2022-03-05T00:25:50.507Z"
   },
   {
    "duration": 483,
    "start_time": "2022-03-05T00:25:50.515Z"
   },
   {
    "duration": 4,
    "start_time": "2022-03-05T00:25:51.001Z"
   },
   {
    "duration": 11,
    "start_time": "2022-03-05T00:25:51.008Z"
   },
   {
    "duration": 7,
    "start_time": "2022-03-05T00:25:51.021Z"
   },
   {
    "duration": 14,
    "start_time": "2022-03-05T00:25:51.030Z"
   },
   {
    "duration": 30,
    "start_time": "2022-03-05T00:25:51.047Z"
   },
   {
    "duration": 4,
    "start_time": "2022-03-05T00:25:51.080Z"
   },
   {
    "duration": 6,
    "start_time": "2022-03-05T00:25:51.086Z"
   },
   {
    "duration": 11,
    "start_time": "2022-03-05T00:25:51.094Z"
   },
   {
    "duration": 16,
    "start_time": "2022-03-05T00:25:51.107Z"
   },
   {
    "duration": 21,
    "start_time": "2022-03-05T00:25:51.125Z"
   },
   {
    "duration": 4,
    "start_time": "2022-03-05T00:25:51.173Z"
   },
   {
    "duration": 1694,
    "start_time": "2022-03-05T00:25:51.179Z"
   },
   {
    "duration": 7282,
    "start_time": "2022-03-05T00:25:52.878Z"
   },
   {
    "duration": 8710,
    "start_time": "2022-03-05T00:26:00.163Z"
   },
   {
    "duration": 402,
    "start_time": "2022-03-05T00:26:08.875Z"
   },
   {
    "duration": 340,
    "start_time": "2022-03-06T02:13:04.908Z"
   },
   {
    "duration": 7276,
    "start_time": "2022-03-06T02:13:17.849Z"
   },
   {
    "duration": 1113,
    "start_time": "2022-03-06T02:13:25.127Z"
   },
   {
    "duration": 763,
    "start_time": "2022-03-06T02:13:26.241Z"
   },
   {
    "duration": 19,
    "start_time": "2022-03-06T02:13:27.006Z"
   },
   {
    "duration": 15,
    "start_time": "2022-03-06T02:13:27.026Z"
   },
   {
    "duration": 203,
    "start_time": "2022-03-06T02:13:27.042Z"
   },
   {
    "duration": 10,
    "start_time": "2022-03-06T02:13:27.247Z"
   },
   {
    "duration": 115,
    "start_time": "2022-03-06T02:13:27.259Z"
   },
   {
    "duration": 14,
    "start_time": "2022-03-06T02:13:27.376Z"
   },
   {
    "duration": 13,
    "start_time": "2022-03-06T02:13:27.392Z"
   },
   {
    "duration": 8,
    "start_time": "2022-03-06T02:13:27.406Z"
   },
   {
    "duration": 5,
    "start_time": "2022-03-06T02:13:27.415Z"
   },
   {
    "duration": 6,
    "start_time": "2022-03-06T02:13:27.421Z"
   },
   {
    "duration": 4,
    "start_time": "2022-03-06T02:13:27.428Z"
   },
   {
    "duration": 4,
    "start_time": "2022-03-06T02:13:27.433Z"
   },
   {
    "duration": 4,
    "start_time": "2022-03-06T02:13:27.439Z"
   },
   {
    "duration": 16,
    "start_time": "2022-03-06T02:13:27.444Z"
   },
   {
    "duration": 44,
    "start_time": "2022-03-06T02:13:27.461Z"
   },
   {
    "duration": 8,
    "start_time": "2022-03-06T02:13:27.506Z"
   },
   {
    "duration": 9,
    "start_time": "2022-03-06T02:13:27.515Z"
   },
   {
    "duration": 4,
    "start_time": "2022-03-06T02:13:27.526Z"
   },
   {
    "duration": 495,
    "start_time": "2022-03-06T02:13:27.531Z"
   },
   {
    "duration": 14,
    "start_time": "2022-03-06T02:13:28.028Z"
   },
   {
    "duration": 8,
    "start_time": "2022-03-06T02:13:28.044Z"
   },
   {
    "duration": 4,
    "start_time": "2022-03-06T02:13:28.053Z"
   },
   {
    "duration": 4,
    "start_time": "2022-03-06T02:13:28.058Z"
   },
   {
    "duration": 10,
    "start_time": "2022-03-06T02:20:07.540Z"
   },
   {
    "duration": 37,
    "start_time": "2022-03-06T02:20:13.391Z"
   },
   {
    "duration": 21,
    "start_time": "2022-03-06T02:20:28.324Z"
   },
   {
    "duration": 9,
    "start_time": "2022-03-06T02:20:57.961Z"
   },
   {
    "duration": 8,
    "start_time": "2022-03-06T02:21:17.124Z"
   },
   {
    "duration": 8,
    "start_time": "2022-03-06T02:21:26.617Z"
   },
   {
    "duration": 10,
    "start_time": "2022-03-06T02:21:37.812Z"
   },
   {
    "duration": 364,
    "start_time": "2022-03-06T02:22:24.926Z"
   },
   {
    "duration": 10,
    "start_time": "2022-03-06T02:22:30.061Z"
   },
   {
    "duration": 18,
    "start_time": "2022-03-06T02:24:53.269Z"
   },
   {
    "duration": 73,
    "start_time": "2022-03-06T02:28:55.780Z"
   },
   {
    "duration": 23,
    "start_time": "2022-03-06T02:28:57.774Z"
   },
   {
    "duration": 501,
    "start_time": "2022-03-06T02:29:04.128Z"
   },
   {
    "duration": 517,
    "start_time": "2022-03-06T02:35:48.093Z"
   },
   {
    "duration": 539,
    "start_time": "2022-03-06T02:37:05.985Z"
   },
   {
    "duration": 750,
    "start_time": "2022-03-06T02:38:37.731Z"
   },
   {
    "duration": 559,
    "start_time": "2022-03-06T02:40:38.068Z"
   },
   {
    "duration": 418,
    "start_time": "2022-03-06T02:41:10.313Z"
   },
   {
    "duration": 359,
    "start_time": "2022-03-06T02:41:38.445Z"
   },
   {
    "duration": 4,
    "start_time": "2022-03-06T02:42:25.682Z"
   },
   {
    "duration": 6,
    "start_time": "2022-03-06T02:42:53.459Z"
   },
   {
    "duration": 6,
    "start_time": "2022-03-06T02:43:19.210Z"
   },
   {
    "duration": 125,
    "start_time": "2022-03-06T02:46:35.701Z"
   },
   {
    "duration": 187,
    "start_time": "2022-03-06T02:47:37.653Z"
   },
   {
    "duration": 317,
    "start_time": "2022-03-06T02:48:45.246Z"
   },
   {
    "duration": 258,
    "start_time": "2022-03-06T02:49:58.890Z"
   },
   {
    "duration": 217,
    "start_time": "2022-03-06T02:50:15.445Z"
   },
   {
    "duration": 577,
    "start_time": "2022-03-06T02:51:35.535Z"
   },
   {
    "duration": 561,
    "start_time": "2022-03-06T02:51:55.074Z"
   },
   {
    "duration": 649,
    "start_time": "2022-03-06T02:52:14.326Z"
   },
   {
    "duration": 574,
    "start_time": "2022-03-06T02:52:38.190Z"
   },
   {
    "duration": 553,
    "start_time": "2022-03-06T02:52:49.402Z"
   },
   {
    "duration": 257,
    "start_time": "2022-03-06T02:54:36.193Z"
   },
   {
    "duration": 537,
    "start_time": "2022-03-06T03:01:17.306Z"
   },
   {
    "duration": 436,
    "start_time": "2022-03-06T03:01:30.772Z"
   },
   {
    "duration": 9,
    "start_time": "2022-03-06T03:03:35.996Z"
   },
   {
    "duration": 409,
    "start_time": "2022-03-06T03:03:51.094Z"
   },
   {
    "duration": 5,
    "start_time": "2022-03-06T03:03:56.387Z"
   },
   {
    "duration": 2,
    "start_time": "2022-03-06T03:03:58.903Z"
   },
   {
    "duration": 235,
    "start_time": "2022-03-06T03:04:21.524Z"
   },
   {
    "duration": 4,
    "start_time": "2022-03-06T03:04:31.613Z"
   },
   {
    "duration": 3,
    "start_time": "2022-03-06T03:04:34.664Z"
   },
   {
    "duration": 3,
    "start_time": "2022-03-06T03:04:36.660Z"
   },
   {
    "duration": 6,
    "start_time": "2022-03-06T03:04:57.641Z"
   },
   {
    "duration": 4,
    "start_time": "2022-03-06T03:04:59.654Z"
   },
   {
    "duration": 6,
    "start_time": "2022-03-06T03:17:18.625Z"
   },
   {
    "duration": 3,
    "start_time": "2022-03-06T03:20:18.173Z"
   },
   {
    "duration": 3,
    "start_time": "2022-03-06T03:20:20.799Z"
   },
   {
    "duration": 3,
    "start_time": "2022-03-06T03:20:23.835Z"
   },
   {
    "duration": 8,
    "start_time": "2022-03-06T03:20:32.044Z"
   },
   {
    "duration": 3,
    "start_time": "2022-03-06T03:20:35.109Z"
   },
   {
    "duration": 337,
    "start_time": "2022-03-06T03:20:56.350Z"
   },
   {
    "duration": 324,
    "start_time": "2022-03-06T04:09:33.270Z"
   },
   {
    "duration": 24,
    "start_time": "2022-03-06T04:13:17.477Z"
   },
   {
    "duration": 2515,
    "start_time": "2022-03-06T04:22:10.484Z"
   },
   {
    "duration": 10,
    "start_time": "2022-03-06T04:23:05.275Z"
   },
   {
    "duration": 13,
    "start_time": "2022-03-06T04:23:08.908Z"
   },
   {
    "duration": 17,
    "start_time": "2022-03-06T04:23:58.913Z"
   },
   {
    "duration": 13,
    "start_time": "2022-03-06T04:32:58.766Z"
   },
   {
    "duration": 340,
    "start_time": "2022-03-06T04:40:01.240Z"
   },
   {
    "duration": 9,
    "start_time": "2022-03-06T04:40:09.374Z"
   },
   {
    "duration": 409,
    "start_time": "2022-03-06T04:40:11.477Z"
   },
   {
    "duration": 5,
    "start_time": "2022-03-06T04:40:19.472Z"
   },
   {
    "duration": 432,
    "start_time": "2022-03-06T04:40:48.288Z"
   },
   {
    "duration": 9,
    "start_time": "2022-03-06T04:41:05.631Z"
   },
   {
    "duration": 3,
    "start_time": "2022-03-06T04:41:10.304Z"
   },
   {
    "duration": 306,
    "start_time": "2022-03-06T04:41:13.098Z"
   },
   {
    "duration": 9,
    "start_time": "2022-03-06T04:42:13.566Z"
   },
   {
    "duration": 3,
    "start_time": "2022-03-06T04:42:17.733Z"
   },
   {
    "duration": 1494,
    "start_time": "2022-03-06T04:42:20.913Z"
   },
   {
    "duration": 1421,
    "start_time": "2022-03-06T04:42:31.982Z"
   },
   {
    "duration": 4586,
    "start_time": "2022-03-06T04:43:22.342Z"
   },
   {
    "duration": 8127,
    "start_time": "2022-03-06T04:44:03.508Z"
   },
   {
    "duration": 1376,
    "start_time": "2022-03-06T04:44:24.326Z"
   },
   {
    "duration": 8178,
    "start_time": "2022-03-06T04:44:31.201Z"
   },
   {
    "duration": 5451,
    "start_time": "2022-03-06T04:45:08.956Z"
   },
   {
    "duration": 14964,
    "start_time": "2022-03-06T04:45:27.641Z"
   },
   {
    "duration": 3798,
    "start_time": "2022-03-06T04:46:54.523Z"
   },
   {
    "duration": 4,
    "start_time": "2022-03-06T04:50:04.655Z"
   },
   {
    "duration": 4,
    "start_time": "2022-03-06T04:50:13.339Z"
   },
   {
    "duration": 4,
    "start_time": "2022-03-06T04:50:31.683Z"
   },
   {
    "duration": 12177,
    "start_time": "2022-03-06T18:57:38.966Z"
   },
   {
    "duration": 1712,
    "start_time": "2022-03-06T18:57:53.633Z"
   },
   {
    "duration": 937,
    "start_time": "2022-03-06T18:57:59.696Z"
   },
   {
    "duration": 36,
    "start_time": "2022-03-06T18:58:04.563Z"
   },
   {
    "duration": 26,
    "start_time": "2022-03-06T18:58:09.952Z"
   },
   {
    "duration": 10,
    "start_time": "2022-03-06T18:58:25.400Z"
   },
   {
    "duration": 9,
    "start_time": "2022-03-06T18:58:29.650Z"
   },
   {
    "duration": 7,
    "start_time": "2022-03-06T18:58:33.798Z"
   },
   {
    "duration": 8,
    "start_time": "2022-03-06T18:58:36.131Z"
   },
   {
    "duration": 7,
    "start_time": "2022-03-06T18:58:39.053Z"
   },
   {
    "duration": 7,
    "start_time": "2022-03-06T18:58:41.282Z"
   },
   {
    "duration": 6,
    "start_time": "2022-03-06T18:58:47.617Z"
   },
   {
    "duration": 21,
    "start_time": "2022-03-06T18:58:57.623Z"
   },
   {
    "duration": 12,
    "start_time": "2022-03-06T18:59:06.268Z"
   },
   {
    "duration": 11,
    "start_time": "2022-03-06T18:59:10.100Z"
   },
   {
    "duration": 6,
    "start_time": "2022-03-06T18:59:12.464Z"
   },
   {
    "duration": 582,
    "start_time": "2022-03-06T18:59:15.600Z"
   },
   {
    "duration": 24,
    "start_time": "2022-03-06T18:59:21.491Z"
   },
   {
    "duration": 21,
    "start_time": "2022-03-06T19:00:15.527Z"
   },
   {
    "duration": 30,
    "start_time": "2022-03-06T19:00:18.026Z"
   },
   {
    "duration": 21,
    "start_time": "2022-03-06T19:00:32.323Z"
   },
   {
    "duration": 14,
    "start_time": "2022-03-06T19:02:09.926Z"
   },
   {
    "duration": 14,
    "start_time": "2022-03-06T19:10:42.782Z"
   },
   {
    "duration": 7,
    "start_time": "2022-03-06T19:10:44.662Z"
   },
   {
    "duration": 22,
    "start_time": "2022-03-06T19:10:58.492Z"
   },
   {
    "duration": 135,
    "start_time": "2022-03-06T19:13:06.350Z"
   },
   {
    "duration": 40,
    "start_time": "2022-03-06T19:13:08.261Z"
   },
   {
    "duration": 1106,
    "start_time": "2022-03-06T19:13:15.364Z"
   },
   {
    "duration": 1485,
    "start_time": "2022-03-06T19:13:21.322Z"
   },
   {
    "duration": 378,
    "start_time": "2022-03-06T19:13:27.863Z"
   },
   {
    "duration": 1078,
    "start_time": "2022-03-06T19:13:31.624Z"
   },
   {
    "duration": 380,
    "start_time": "2022-03-06T19:13:36.856Z"
   },
   {
    "duration": 484,
    "start_time": "2022-03-06T19:14:55.237Z"
   },
   {
    "duration": 650,
    "start_time": "2022-03-06T19:15:09.467Z"
   },
   {
    "duration": 12,
    "start_time": "2022-03-06T19:15:19.332Z"
   },
   {
    "duration": 806,
    "start_time": "2022-03-06T19:15:23.353Z"
   },
   {
    "duration": 9,
    "start_time": "2022-03-06T19:15:28.358Z"
   },
   {
    "duration": 475,
    "start_time": "2022-03-06T19:15:35.044Z"
   },
   {
    "duration": 5,
    "start_time": "2022-03-06T19:15:49.915Z"
   },
   {
    "duration": 5,
    "start_time": "2022-03-06T19:15:51.973Z"
   },
   {
    "duration": 8,
    "start_time": "2022-03-06T19:16:43.364Z"
   },
   {
    "duration": 9,
    "start_time": "2022-03-06T19:16:58.019Z"
   },
   {
    "duration": 7,
    "start_time": "2022-03-06T19:17:08.407Z"
   },
   {
    "duration": 7,
    "start_time": "2022-03-06T19:18:17.859Z"
   },
   {
    "duration": 7,
    "start_time": "2022-03-06T19:19:19.934Z"
   },
   {
    "duration": 8,
    "start_time": "2022-03-06T19:20:23.994Z"
   },
   {
    "duration": 3,
    "start_time": "2022-03-06T19:20:49.366Z"
   },
   {
    "duration": 470,
    "start_time": "2022-03-06T19:20:57.634Z"
   },
   {
    "duration": 7,
    "start_time": "2022-03-06T19:24:48.760Z"
   },
   {
    "duration": 92,
    "start_time": "2022-03-06T19:24:53.637Z"
   },
   {
    "duration": 6,
    "start_time": "2022-03-06T19:24:56.724Z"
   },
   {
    "duration": 6,
    "start_time": "2022-03-06T19:25:01.901Z"
   },
   {
    "duration": 6,
    "start_time": "2022-03-06T19:25:14.546Z"
   },
   {
    "duration": 5,
    "start_time": "2022-03-06T19:26:27.716Z"
   },
   {
    "duration": 12,
    "start_time": "2022-03-06T19:27:30.609Z"
   },
   {
    "duration": 4,
    "start_time": "2022-03-06T19:31:20.320Z"
   },
   {
    "duration": 5,
    "start_time": "2022-03-06T19:31:22.583Z"
   },
   {
    "duration": 4,
    "start_time": "2022-03-06T19:31:25.517Z"
   },
   {
    "duration": 4,
    "start_time": "2022-03-06T19:31:47.405Z"
   },
   {
    "duration": 418,
    "start_time": "2022-03-06T19:33:49.690Z"
   },
   {
    "duration": 3731,
    "start_time": "2022-03-06T19:34:38.980Z"
   },
   {
    "duration": 11,
    "start_time": "2022-03-06T19:34:42.716Z"
   },
   {
    "duration": 1112,
    "start_time": "2022-03-06T19:34:42.730Z"
   },
   {
    "duration": 37,
    "start_time": "2022-03-06T19:34:43.845Z"
   },
   {
    "duration": 178,
    "start_time": "2022-03-06T19:34:43.884Z"
   },
   {
    "duration": 384,
    "start_time": "2022-03-06T19:34:44.065Z"
   },
   {
    "duration": 28,
    "start_time": "2022-03-06T19:34:44.451Z"
   },
   {
    "duration": 228,
    "start_time": "2022-03-06T19:34:44.485Z"
   },
   {
    "duration": 27,
    "start_time": "2022-03-06T19:34:44.716Z"
   },
   {
    "duration": 27,
    "start_time": "2022-03-06T19:34:44.746Z"
   },
   {
    "duration": 19,
    "start_time": "2022-03-06T19:34:44.777Z"
   },
   {
    "duration": 10,
    "start_time": "2022-03-06T19:34:44.799Z"
   },
   {
    "duration": 9,
    "start_time": "2022-03-06T19:34:44.812Z"
   },
   {
    "duration": 16,
    "start_time": "2022-03-06T19:34:44.824Z"
   },
   {
    "duration": 35,
    "start_time": "2022-03-06T19:34:44.843Z"
   },
   {
    "duration": 11,
    "start_time": "2022-03-06T19:34:44.880Z"
   },
   {
    "duration": 31,
    "start_time": "2022-03-06T19:34:44.893Z"
   },
   {
    "duration": 52,
    "start_time": "2022-03-06T19:34:44.926Z"
   },
   {
    "duration": 16,
    "start_time": "2022-03-06T19:34:44.981Z"
   },
   {
    "duration": 22,
    "start_time": "2022-03-06T19:34:45.000Z"
   },
   {
    "duration": 8,
    "start_time": "2022-03-06T19:34:45.024Z"
   },
   {
    "duration": 67,
    "start_time": "2022-03-06T19:34:45.034Z"
   },
   {
    "duration": 34,
    "start_time": "2022-03-06T19:34:45.107Z"
   },
   {
    "duration": 40,
    "start_time": "2022-03-06T19:34:45.145Z"
   },
   {
    "duration": 33,
    "start_time": "2022-03-06T19:34:45.188Z"
   },
   {
    "duration": 51,
    "start_time": "2022-03-06T19:34:45.223Z"
   },
   {
    "duration": 20,
    "start_time": "2022-03-06T19:34:45.277Z"
   },
   {
    "duration": 13,
    "start_time": "2022-03-06T19:34:45.300Z"
   },
   {
    "duration": 177,
    "start_time": "2022-03-06T19:34:45.316Z"
   },
   {
    "duration": 53,
    "start_time": "2022-03-06T19:34:45.497Z"
   },
   {
    "duration": 1253,
    "start_time": "2022-03-06T19:34:45.552Z"
   },
   {
    "duration": 434,
    "start_time": "2022-03-06T19:34:46.807Z"
   },
   {
    "duration": 1301,
    "start_time": "2022-03-06T19:34:47.243Z"
   },
   {
    "duration": 449,
    "start_time": "2022-03-06T19:34:48.546Z"
   },
   {
    "duration": 1351,
    "start_time": "2022-03-06T19:34:48.998Z"
   },
   {
    "duration": 410,
    "start_time": "2022-03-06T19:34:50.351Z"
   },
   {
    "duration": 692,
    "start_time": "2022-03-06T19:34:50.763Z"
   },
   {
    "duration": 23,
    "start_time": "2022-03-06T19:34:51.458Z"
   },
   {
    "duration": 835,
    "start_time": "2022-03-06T19:34:51.484Z"
   },
   {
    "duration": 8,
    "start_time": "2022-03-06T19:34:52.321Z"
   },
   {
    "duration": 6,
    "start_time": "2022-03-06T19:34:52.331Z"
   },
   {
    "duration": 511,
    "start_time": "2022-03-06T19:34:52.340Z"
   },
   {
    "duration": 6,
    "start_time": "2022-03-06T19:34:52.854Z"
   },
   {
    "duration": 10,
    "start_time": "2022-03-06T19:34:52.874Z"
   },
   {
    "duration": 10,
    "start_time": "2022-03-06T19:34:52.888Z"
   },
   {
    "duration": 14,
    "start_time": "2022-03-06T19:34:52.901Z"
   },
   {
    "duration": 4,
    "start_time": "2022-03-06T19:34:52.917Z"
   },
   {
    "duration": 8,
    "start_time": "2022-03-06T19:34:52.924Z"
   },
   {
    "duration": 7,
    "start_time": "2022-03-06T19:36:10.466Z"
   },
   {
    "duration": 927,
    "start_time": "2022-03-06T19:37:23.483Z"
   },
   {
    "duration": 4,
    "start_time": "2022-03-06T19:37:41.210Z"
   },
   {
    "duration": 18,
    "start_time": "2022-03-06T19:37:48.151Z"
   },
   {
    "duration": 6,
    "start_time": "2022-03-06T19:38:32.500Z"
   },
   {
    "duration": 6,
    "start_time": "2022-03-06T19:38:38.173Z"
   },
   {
    "duration": 5,
    "start_time": "2022-03-06T19:38:57.228Z"
   },
   {
    "duration": 4,
    "start_time": "2022-03-06T19:39:47.664Z"
   },
   {
    "duration": 1952,
    "start_time": "2022-03-06T19:40:25.025Z"
   },
   {
    "duration": 11144,
    "start_time": "2022-03-06T19:41:27.980Z"
   },
   {
    "duration": 2685,
    "start_time": "2022-03-06T19:41:57.388Z"
   },
   {
    "duration": 2062,
    "start_time": "2022-03-06T19:42:12.924Z"
   },
   {
    "duration": 1807,
    "start_time": "2022-03-06T19:42:18.485Z"
   },
   {
    "duration": 1902,
    "start_time": "2022-03-06T19:42:25.881Z"
   },
   {
    "duration": 7997,
    "start_time": "2022-03-06T22:30:26.753Z"
   },
   {
    "duration": 1094,
    "start_time": "2022-03-06T22:30:34.752Z"
   },
   {
    "duration": 836,
    "start_time": "2022-03-06T22:30:35.848Z"
   },
   {
    "duration": 31,
    "start_time": "2022-03-06T22:30:36.686Z"
   },
   {
    "duration": 21,
    "start_time": "2022-03-06T22:30:36.718Z"
   },
   {
    "duration": 214,
    "start_time": "2022-03-06T22:30:36.740Z"
   },
   {
    "duration": 10,
    "start_time": "2022-03-06T22:30:36.956Z"
   },
   {
    "duration": 114,
    "start_time": "2022-03-06T22:30:36.969Z"
   },
   {
    "duration": 32,
    "start_time": "2022-03-06T22:30:37.085Z"
   },
   {
    "duration": 9,
    "start_time": "2022-03-06T22:30:37.119Z"
   },
   {
    "duration": 6,
    "start_time": "2022-03-06T22:30:37.129Z"
   },
   {
    "duration": 5,
    "start_time": "2022-03-06T22:30:37.137Z"
   },
   {
    "duration": 5,
    "start_time": "2022-03-06T22:30:37.144Z"
   },
   {
    "duration": 4,
    "start_time": "2022-03-06T22:30:37.150Z"
   },
   {
    "duration": 5,
    "start_time": "2022-03-06T22:30:37.155Z"
   },
   {
    "duration": 5,
    "start_time": "2022-03-06T22:30:37.162Z"
   },
   {
    "duration": 48,
    "start_time": "2022-03-06T22:30:37.168Z"
   },
   {
    "duration": 13,
    "start_time": "2022-03-06T22:30:37.218Z"
   },
   {
    "duration": 9,
    "start_time": "2022-03-06T22:30:37.232Z"
   },
   {
    "duration": 9,
    "start_time": "2022-03-06T22:30:37.242Z"
   },
   {
    "duration": 5,
    "start_time": "2022-03-06T22:30:37.253Z"
   },
   {
    "duration": 564,
    "start_time": "2022-03-06T22:30:37.259Z"
   },
   {
    "duration": 16,
    "start_time": "2022-03-06T22:30:37.827Z"
   },
   {
    "duration": 15,
    "start_time": "2022-03-06T22:30:37.846Z"
   },
   {
    "duration": 44,
    "start_time": "2022-03-06T22:30:37.863Z"
   },
   {
    "duration": 15,
    "start_time": "2022-03-06T22:30:37.910Z"
   },
   {
    "duration": 9,
    "start_time": "2022-03-06T22:30:37.927Z"
   },
   {
    "duration": 7,
    "start_time": "2022-03-06T22:30:37.938Z"
   },
   {
    "duration": 102,
    "start_time": "2022-03-06T22:30:37.946Z"
   },
   {
    "duration": 22,
    "start_time": "2022-03-06T22:30:38.050Z"
   },
   {
    "duration": 581,
    "start_time": "2022-03-06T22:30:38.074Z"
   },
   {
    "duration": 255,
    "start_time": "2022-03-06T22:30:38.656Z"
   },
   {
    "duration": 596,
    "start_time": "2022-03-06T22:30:38.913Z"
   },
   {
    "duration": 281,
    "start_time": "2022-03-06T22:30:39.511Z"
   },
   {
    "duration": 691,
    "start_time": "2022-03-06T22:30:39.794Z"
   },
   {
    "duration": 300,
    "start_time": "2022-03-06T22:30:40.486Z"
   },
   {
    "duration": 375,
    "start_time": "2022-03-06T22:30:40.787Z"
   },
   {
    "duration": 8,
    "start_time": "2022-03-06T22:30:41.164Z"
   },
   {
    "duration": 462,
    "start_time": "2022-03-06T22:30:41.173Z"
   },
   {
    "duration": 5,
    "start_time": "2022-03-06T22:30:41.637Z"
   },
   {
    "duration": 2,
    "start_time": "2022-03-06T22:30:41.644Z"
   },
   {
    "duration": 257,
    "start_time": "2022-03-06T22:30:41.648Z"
   },
   {
    "duration": 5,
    "start_time": "2022-03-06T22:30:41.913Z"
   },
   {
    "duration": 401,
    "start_time": "2022-03-06T22:30:41.919Z"
   },
   {
    "duration": -373,
    "start_time": "2022-03-06T22:30:42.695Z"
   },
   {
    "duration": -376,
    "start_time": "2022-03-06T22:30:42.698Z"
   },
   {
    "duration": -378,
    "start_time": "2022-03-06T22:30:42.701Z"
   },
   {
    "duration": -380,
    "start_time": "2022-03-06T22:30:42.704Z"
   },
   {
    "duration": -382,
    "start_time": "2022-03-06T22:30:42.707Z"
   },
   {
    "duration": -385,
    "start_time": "2022-03-06T22:30:42.711Z"
   },
   {
    "duration": -386,
    "start_time": "2022-03-06T22:30:42.714Z"
   },
   {
    "duration": -389,
    "start_time": "2022-03-06T22:30:42.718Z"
   },
   {
    "duration": 4,
    "start_time": "2022-03-06T22:32:05.739Z"
   },
   {
    "duration": 9,
    "start_time": "2022-03-06T22:32:07.927Z"
   },
   {
    "duration": 3,
    "start_time": "2022-03-06T22:32:10.800Z"
   },
   {
    "duration": 4,
    "start_time": "2022-03-06T22:32:12.478Z"
   },
   {
    "duration": 3,
    "start_time": "2022-03-06T22:32:14.998Z"
   },
   {
    "duration": 8,
    "start_time": "2022-03-06T22:32:19.945Z"
   },
   {
    "duration": 3,
    "start_time": "2022-03-06T22:32:22.247Z"
   },
   {
    "duration": 1641,
    "start_time": "2022-03-06T22:32:25.065Z"
   },
   {
    "duration": 4122,
    "start_time": "2022-03-06T22:32:31.867Z"
   },
   {
    "duration": 806518,
    "start_time": "2022-03-06T22:38:07.898Z"
   },
   {
    "duration": 8,
    "start_time": "2022-03-06T22:51:34.423Z"
   },
   {
    "duration": 4,
    "start_time": "2022-03-06T22:52:41.211Z"
   },
   {
    "duration": 3,
    "start_time": "2022-03-06T22:53:24.326Z"
   },
   {
    "duration": 4,
    "start_time": "2022-03-06T22:58:38.514Z"
   },
   {
    "duration": 4,
    "start_time": "2022-03-06T22:58:49.721Z"
   },
   {
    "duration": 58,
    "start_time": "2022-03-06T23:00:08.065Z"
   },
   {
    "duration": 10,
    "start_time": "2022-03-06T23:01:06.551Z"
   },
   {
    "duration": 220,
    "start_time": "2022-03-06T23:01:12.084Z"
   },
   {
    "duration": 6,
    "start_time": "2022-03-06T23:05:46.414Z"
   },
   {
    "duration": 287,
    "start_time": "2022-03-06T23:05:50.501Z"
   },
   {
    "duration": 5,
    "start_time": "2022-03-06T23:05:57.190Z"
   },
   {
    "duration": 5,
    "start_time": "2022-03-06T23:06:14.649Z"
   },
   {
    "duration": 5,
    "start_time": "2022-03-06T23:07:40.360Z"
   },
   {
    "duration": 6,
    "start_time": "2022-03-06T23:08:22.541Z"
   },
   {
    "duration": 149,
    "start_time": "2022-03-06T23:09:03.425Z"
   },
   {
    "duration": 2387,
    "start_time": "2022-03-06T23:14:55.643Z"
   },
   {
    "duration": 7,
    "start_time": "2022-03-06T23:14:58.032Z"
   },
   {
    "duration": 807,
    "start_time": "2022-03-06T23:14:58.041Z"
   },
   {
    "duration": 18,
    "start_time": "2022-03-06T23:14:58.850Z"
   },
   {
    "duration": 124,
    "start_time": "2022-03-06T23:14:58.869Z"
   },
   {
    "duration": 199,
    "start_time": "2022-03-06T23:14:58.994Z"
   },
   {
    "duration": 14,
    "start_time": "2022-03-06T23:14:59.194Z"
   },
   {
    "duration": 112,
    "start_time": "2022-03-06T23:14:59.210Z"
   },
   {
    "duration": 15,
    "start_time": "2022-03-06T23:14:59.323Z"
   },
   {
    "duration": 6,
    "start_time": "2022-03-06T23:14:59.340Z"
   },
   {
    "duration": 5,
    "start_time": "2022-03-06T23:14:59.347Z"
   },
   {
    "duration": 5,
    "start_time": "2022-03-06T23:14:59.354Z"
   },
   {
    "duration": 5,
    "start_time": "2022-03-06T23:14:59.360Z"
   },
   {
    "duration": 35,
    "start_time": "2022-03-06T23:14:59.367Z"
   },
   {
    "duration": 5,
    "start_time": "2022-03-06T23:14:59.403Z"
   },
   {
    "duration": 4,
    "start_time": "2022-03-06T23:14:59.410Z"
   },
   {
    "duration": 17,
    "start_time": "2022-03-06T23:14:59.416Z"
   },
   {
    "duration": 12,
    "start_time": "2022-03-06T23:14:59.435Z"
   },
   {
    "duration": 8,
    "start_time": "2022-03-06T23:14:59.449Z"
   },
   {
    "duration": 12,
    "start_time": "2022-03-06T23:14:59.459Z"
   },
   {
    "duration": 4,
    "start_time": "2022-03-06T23:14:59.501Z"
   },
   {
    "duration": 20,
    "start_time": "2022-03-06T23:14:59.507Z"
   },
   {
    "duration": 12,
    "start_time": "2022-03-06T23:14:59.530Z"
   },
   {
    "duration": 9,
    "start_time": "2022-03-06T23:14:59.544Z"
   },
   {
    "duration": 18,
    "start_time": "2022-03-06T23:14:59.555Z"
   },
   {
    "duration": 13,
    "start_time": "2022-03-06T23:14:59.601Z"
   },
   {
    "duration": 8,
    "start_time": "2022-03-06T23:14:59.616Z"
   },
   {
    "duration": 4,
    "start_time": "2022-03-06T23:14:59.626Z"
   },
   {
    "duration": 88,
    "start_time": "2022-03-06T23:14:59.632Z"
   },
   {
    "duration": 21,
    "start_time": "2022-03-06T23:14:59.721Z"
   },
   {
    "duration": 537,
    "start_time": "2022-03-06T23:14:59.744Z"
   },
   {
    "duration": 336,
    "start_time": "2022-03-06T23:15:00.283Z"
   },
   {
    "duration": 564,
    "start_time": "2022-03-06T23:15:00.621Z"
   },
   {
    "duration": 275,
    "start_time": "2022-03-06T23:15:01.186Z"
   },
   {
    "duration": 677,
    "start_time": "2022-03-06T23:15:01.463Z"
   },
   {
    "duration": 235,
    "start_time": "2022-03-06T23:15:02.142Z"
   },
   {
    "duration": 356,
    "start_time": "2022-03-06T23:15:02.379Z"
   },
   {
    "duration": 8,
    "start_time": "2022-03-06T23:15:02.737Z"
   },
   {
    "duration": 421,
    "start_time": "2022-03-06T23:15:02.747Z"
   },
   {
    "duration": 6,
    "start_time": "2022-03-06T23:15:03.170Z"
   },
   {
    "duration": 4,
    "start_time": "2022-03-06T23:15:03.177Z"
   },
   {
    "duration": 247,
    "start_time": "2022-03-06T23:15:03.182Z"
   },
   {
    "duration": 4,
    "start_time": "2022-03-06T23:15:03.430Z"
   },
   {
    "duration": 7,
    "start_time": "2022-03-06T23:15:03.435Z"
   },
   {
    "duration": 8,
    "start_time": "2022-03-06T23:15:03.444Z"
   },
   {
    "duration": 2,
    "start_time": "2022-03-06T23:15:03.453Z"
   },
   {
    "duration": 4,
    "start_time": "2022-03-06T23:15:03.457Z"
   },
   {
    "duration": 4,
    "start_time": "2022-03-06T23:15:03.462Z"
   },
   {
    "duration": 33,
    "start_time": "2022-03-06T23:15:03.468Z"
   },
   {
    "duration": 3,
    "start_time": "2022-03-06T23:15:03.503Z"
   },
   {
    "duration": 1299,
    "start_time": "2022-03-06T23:15:03.508Z"
   },
   {
    "duration": 4167,
    "start_time": "2022-03-06T23:15:04.810Z"
   },
   {
    "duration": 3,
    "start_time": "2022-03-06T23:15:08.978Z"
   },
   {
    "duration": 808132,
    "start_time": "2022-03-06T23:15:08.983Z"
   },
   {
    "duration": 3,
    "start_time": "2022-03-06T23:28:37.116Z"
   },
   {
    "duration": 4,
    "start_time": "2022-03-06T23:28:37.121Z"
   },
   {
    "duration": 9,
    "start_time": "2022-03-06T23:28:37.126Z"
   },
   {
    "duration": 173,
    "start_time": "2022-03-06T23:28:37.136Z"
   },
   {
    "duration": 94,
    "start_time": "2022-03-06T23:28:37.311Z"
   },
   {
    "duration": 105002,
    "start_time": "2022-03-08T00:33:46.384Z"
   },
   {
    "duration": 1180,
    "start_time": "2022-03-08T00:35:31.389Z"
   },
   {
    "duration": -237,
    "start_time": "2022-03-08T00:35:32.810Z"
   },
   {
    "duration": -240,
    "start_time": "2022-03-08T00:35:32.814Z"
   },
   {
    "duration": -418,
    "start_time": "2022-03-08T00:35:32.993Z"
   },
   {
    "duration": -428,
    "start_time": "2022-03-08T00:35:33.004Z"
   },
   {
    "duration": -430,
    "start_time": "2022-03-08T00:35:33.007Z"
   },
   {
    "duration": -433,
    "start_time": "2022-03-08T00:35:33.011Z"
   },
   {
    "duration": -436,
    "start_time": "2022-03-08T00:35:33.015Z"
   },
   {
    "duration": -438,
    "start_time": "2022-03-08T00:35:33.018Z"
   },
   {
    "duration": -440,
    "start_time": "2022-03-08T00:35:33.021Z"
   },
   {
    "duration": -443,
    "start_time": "2022-03-08T00:35:33.025Z"
   },
   {
    "duration": -445,
    "start_time": "2022-03-08T00:35:33.028Z"
   },
   {
    "duration": -448,
    "start_time": "2022-03-08T00:35:33.032Z"
   },
   {
    "duration": -449,
    "start_time": "2022-03-08T00:35:33.034Z"
   },
   {
    "duration": -452,
    "start_time": "2022-03-08T00:35:33.038Z"
   },
   {
    "duration": -454,
    "start_time": "2022-03-08T00:35:33.041Z"
   },
   {
    "duration": -456,
    "start_time": "2022-03-08T00:35:33.045Z"
   },
   {
    "duration": -458,
    "start_time": "2022-03-08T00:35:33.048Z"
   },
   {
    "duration": -460,
    "start_time": "2022-03-08T00:35:33.051Z"
   },
   {
    "duration": -463,
    "start_time": "2022-03-08T00:35:33.055Z"
   },
   {
    "duration": -475,
    "start_time": "2022-03-08T00:35:33.068Z"
   },
   {
    "duration": -478,
    "start_time": "2022-03-08T00:35:33.072Z"
   },
   {
    "duration": -481,
    "start_time": "2022-03-08T00:35:33.076Z"
   },
   {
    "duration": -483,
    "start_time": "2022-03-08T00:35:33.079Z"
   },
   {
    "duration": -589,
    "start_time": "2022-03-08T00:35:33.186Z"
   },
   {
    "duration": -591,
    "start_time": "2022-03-08T00:35:33.189Z"
   },
   {
    "duration": -594,
    "start_time": "2022-03-08T00:35:33.193Z"
   },
   {
    "duration": -596,
    "start_time": "2022-03-08T00:35:33.196Z"
   },
   {
    "duration": -599,
    "start_time": "2022-03-08T00:35:33.200Z"
   },
   {
    "duration": -600,
    "start_time": "2022-03-08T00:35:33.203Z"
   },
   {
    "duration": -602,
    "start_time": "2022-03-08T00:35:33.206Z"
   },
   {
    "duration": -604,
    "start_time": "2022-03-08T00:35:33.209Z"
   },
   {
    "duration": -607,
    "start_time": "2022-03-08T00:35:33.213Z"
   },
   {
    "duration": -608,
    "start_time": "2022-03-08T00:35:33.216Z"
   },
   {
    "duration": -612,
    "start_time": "2022-03-08T00:35:33.220Z"
   },
   {
    "duration": -613,
    "start_time": "2022-03-08T00:35:33.223Z"
   },
   {
    "duration": -615,
    "start_time": "2022-03-08T00:35:33.226Z"
   },
   {
    "duration": -617,
    "start_time": "2022-03-08T00:35:33.229Z"
   },
   {
    "duration": -620,
    "start_time": "2022-03-08T00:35:33.233Z"
   },
   {
    "duration": -622,
    "start_time": "2022-03-08T00:35:33.236Z"
   },
   {
    "duration": -624,
    "start_time": "2022-03-08T00:35:33.239Z"
   },
   {
    "duration": -627,
    "start_time": "2022-03-08T00:35:33.243Z"
   },
   {
    "duration": -629,
    "start_time": "2022-03-08T00:35:33.246Z"
   },
   {
    "duration": -572,
    "start_time": "2022-03-08T00:35:33.249Z"
   },
   {
    "duration": -574,
    "start_time": "2022-03-08T00:35:33.252Z"
   },
   {
    "duration": -576,
    "start_time": "2022-03-08T00:35:33.255Z"
   },
   {
    "duration": -578,
    "start_time": "2022-03-08T00:35:33.258Z"
   },
   {
    "duration": 60578,
    "start_time": "2022-03-08T00:35:45.910Z"
   },
   {
    "duration": 54309,
    "start_time": "2022-03-08T00:39:51.141Z"
   },
   {
    "duration": 636,
    "start_time": "2022-03-08T00:40:45.452Z"
   },
   {
    "duration": 834,
    "start_time": "2022-03-08T00:40:46.090Z"
   },
   {
    "duration": 24,
    "start_time": "2022-03-08T00:40:46.926Z"
   },
   {
    "duration": 25,
    "start_time": "2022-03-08T00:40:46.952Z"
   },
   {
    "duration": 508,
    "start_time": "2022-03-08T00:40:46.979Z"
   },
   {
    "duration": 11,
    "start_time": "2022-03-08T00:40:47.488Z"
   },
   {
    "duration": 151,
    "start_time": "2022-03-08T00:40:47.500Z"
   },
   {
    "duration": 26,
    "start_time": "2022-03-08T00:40:47.654Z"
   },
   {
    "duration": 8,
    "start_time": "2022-03-08T00:40:47.682Z"
   },
   {
    "duration": 15,
    "start_time": "2022-03-08T00:40:47.692Z"
   },
   {
    "duration": 7,
    "start_time": "2022-03-08T00:40:47.709Z"
   },
   {
    "duration": 6,
    "start_time": "2022-03-08T00:40:47.718Z"
   },
   {
    "duration": 4,
    "start_time": "2022-03-08T00:40:47.726Z"
   },
   {
    "duration": 7,
    "start_time": "2022-03-08T00:40:47.732Z"
   },
   {
    "duration": 7,
    "start_time": "2022-03-08T00:40:47.740Z"
   },
   {
    "duration": 42,
    "start_time": "2022-03-08T00:40:47.749Z"
   },
   {
    "duration": 15,
    "start_time": "2022-03-08T00:40:47.792Z"
   },
   {
    "duration": 11,
    "start_time": "2022-03-08T00:40:47.809Z"
   },
   {
    "duration": 608,
    "start_time": "2022-03-08T00:40:47.822Z"
   },
   {
    "duration": -337,
    "start_time": "2022-03-08T00:40:48.770Z"
   },
   {
    "duration": -340,
    "start_time": "2022-03-08T00:40:48.774Z"
   },
   {
    "duration": -347,
    "start_time": "2022-03-08T00:40:48.783Z"
   },
   {
    "duration": -351,
    "start_time": "2022-03-08T00:40:48.788Z"
   },
   {
    "duration": -353,
    "start_time": "2022-03-08T00:40:48.792Z"
   },
   {
    "duration": -362,
    "start_time": "2022-03-08T00:40:48.802Z"
   },
   {
    "duration": -364,
    "start_time": "2022-03-08T00:40:48.806Z"
   },
   {
    "duration": -373,
    "start_time": "2022-03-08T00:40:48.816Z"
   },
   {
    "duration": -375,
    "start_time": "2022-03-08T00:40:48.820Z"
   },
   {
    "duration": -378,
    "start_time": "2022-03-08T00:40:48.824Z"
   },
   {
    "duration": -386,
    "start_time": "2022-03-08T00:40:48.834Z"
   },
   {
    "duration": -390,
    "start_time": "2022-03-08T00:40:48.840Z"
   },
   {
    "duration": -398,
    "start_time": "2022-03-08T00:40:48.849Z"
   },
   {
    "duration": -403,
    "start_time": "2022-03-08T00:40:48.856Z"
   },
   {
    "duration": -410,
    "start_time": "2022-03-08T00:40:48.864Z"
   },
   {
    "duration": -415,
    "start_time": "2022-03-08T00:40:48.870Z"
   },
   {
    "duration": -417,
    "start_time": "2022-03-08T00:40:48.874Z"
   },
   {
    "duration": -425,
    "start_time": "2022-03-08T00:40:48.883Z"
   },
   {
    "duration": -427,
    "start_time": "2022-03-08T00:40:48.887Z"
   },
   {
    "duration": -431,
    "start_time": "2022-03-08T00:40:48.892Z"
   },
   {
    "duration": -437,
    "start_time": "2022-03-08T00:40:48.899Z"
   },
   {
    "duration": -441,
    "start_time": "2022-03-08T00:40:48.904Z"
   },
   {
    "duration": -446,
    "start_time": "2022-03-08T00:40:48.910Z"
   },
   {
    "duration": -452,
    "start_time": "2022-03-08T00:40:48.917Z"
   },
   {
    "duration": -455,
    "start_time": "2022-03-08T00:40:48.921Z"
   },
   {
    "duration": -461,
    "start_time": "2022-03-08T00:40:48.928Z"
   },
   {
    "duration": -466,
    "start_time": "2022-03-08T00:40:48.934Z"
   },
   {
    "duration": -471,
    "start_time": "2022-03-08T00:40:48.939Z"
   },
   {
    "duration": 54290,
    "start_time": "2022-03-08T00:45:03.239Z"
   },
   {
    "duration": 7,
    "start_time": "2022-03-08T00:45:57.531Z"
   },
   {
    "duration": 835,
    "start_time": "2022-03-08T00:45:57.540Z"
   },
   {
    "duration": 22,
    "start_time": "2022-03-08T00:45:58.377Z"
   },
   {
    "duration": 18,
    "start_time": "2022-03-08T00:45:58.401Z"
   },
   {
    "duration": 276,
    "start_time": "2022-03-08T00:45:58.421Z"
   },
   {
    "duration": 10,
    "start_time": "2022-03-08T00:45:58.699Z"
   },
   {
    "duration": 155,
    "start_time": "2022-03-08T00:45:58.710Z"
   },
   {
    "duration": 22,
    "start_time": "2022-03-08T00:45:58.868Z"
   },
   {
    "duration": 7,
    "start_time": "2022-03-08T00:45:58.892Z"
   },
   {
    "duration": 9,
    "start_time": "2022-03-08T00:45:58.901Z"
   },
   {
    "duration": 8,
    "start_time": "2022-03-08T00:45:58.911Z"
   },
   {
    "duration": 7,
    "start_time": "2022-03-08T00:45:58.920Z"
   },
   {
    "duration": 4,
    "start_time": "2022-03-08T00:45:58.929Z"
   },
   {
    "duration": 7,
    "start_time": "2022-03-08T00:45:58.935Z"
   },
   {
    "duration": 37,
    "start_time": "2022-03-08T00:45:58.943Z"
   },
   {
    "duration": 15,
    "start_time": "2022-03-08T00:45:58.982Z"
   },
   {
    "duration": 15,
    "start_time": "2022-03-08T00:45:58.999Z"
   },
   {
    "duration": 9,
    "start_time": "2022-03-08T00:45:59.016Z"
   },
   {
    "duration": 470,
    "start_time": "2022-03-08T00:45:59.027Z"
   },
   {
    "duration": -250,
    "start_time": "2022-03-08T00:45:59.749Z"
   },
   {
    "duration": -253,
    "start_time": "2022-03-08T00:45:59.753Z"
   },
   {
    "duration": -255,
    "start_time": "2022-03-08T00:45:59.756Z"
   },
   {
    "duration": -257,
    "start_time": "2022-03-08T00:45:59.759Z"
   },
   {
    "duration": -259,
    "start_time": "2022-03-08T00:45:59.762Z"
   },
   {
    "duration": -261,
    "start_time": "2022-03-08T00:45:59.765Z"
   },
   {
    "duration": -263,
    "start_time": "2022-03-08T00:45:59.768Z"
   },
   {
    "duration": -265,
    "start_time": "2022-03-08T00:45:59.771Z"
   },
   {
    "duration": -267,
    "start_time": "2022-03-08T00:45:59.774Z"
   },
   {
    "duration": -269,
    "start_time": "2022-03-08T00:45:59.777Z"
   },
   {
    "duration": -271,
    "start_time": "2022-03-08T00:45:59.780Z"
   },
   {
    "duration": -274,
    "start_time": "2022-03-08T00:45:59.784Z"
   },
   {
    "duration": -275,
    "start_time": "2022-03-08T00:45:59.786Z"
   },
   {
    "duration": -278,
    "start_time": "2022-03-08T00:45:59.790Z"
   },
   {
    "duration": -280,
    "start_time": "2022-03-08T00:45:59.793Z"
   },
   {
    "duration": -282,
    "start_time": "2022-03-08T00:45:59.796Z"
   },
   {
    "duration": -284,
    "start_time": "2022-03-08T00:45:59.799Z"
   },
   {
    "duration": -286,
    "start_time": "2022-03-08T00:45:59.802Z"
   },
   {
    "duration": -288,
    "start_time": "2022-03-08T00:45:59.805Z"
   },
   {
    "duration": -291,
    "start_time": "2022-03-08T00:45:59.809Z"
   },
   {
    "duration": -293,
    "start_time": "2022-03-08T00:45:59.812Z"
   },
   {
    "duration": -295,
    "start_time": "2022-03-08T00:45:59.815Z"
   },
   {
    "duration": -296,
    "start_time": "2022-03-08T00:45:59.818Z"
   },
   {
    "duration": -299,
    "start_time": "2022-03-08T00:45:59.821Z"
   },
   {
    "duration": -300,
    "start_time": "2022-03-08T00:45:59.824Z"
   },
   {
    "duration": -302,
    "start_time": "2022-03-08T00:45:59.827Z"
   },
   {
    "duration": -304,
    "start_time": "2022-03-08T00:45:59.830Z"
   },
   {
    "duration": -307,
    "start_time": "2022-03-08T00:45:59.834Z"
   },
   {
    "duration": 382,
    "start_time": "2022-03-08T00:46:59.405Z"
   },
   {
    "duration": 22,
    "start_time": "2022-03-08T00:47:03.477Z"
   },
   {
    "duration": 16,
    "start_time": "2022-03-08T00:47:08.454Z"
   },
   {
    "duration": 27,
    "start_time": "2022-03-08T00:47:09.644Z"
   },
   {
    "duration": 18,
    "start_time": "2022-03-08T00:47:16.325Z"
   },
   {
    "duration": 12,
    "start_time": "2022-03-08T00:47:20.884Z"
   },
   {
    "duration": 9,
    "start_time": "2022-03-08T00:47:22.064Z"
   },
   {
    "duration": 115,
    "start_time": "2022-03-08T00:47:25.683Z"
   },
   {
    "duration": 27,
    "start_time": "2022-03-08T00:47:27.579Z"
   },
   {
    "duration": 678,
    "start_time": "2022-03-08T00:47:31.067Z"
   },
   {
    "duration": 325,
    "start_time": "2022-03-08T00:47:35.003Z"
   },
   {
    "duration": 813,
    "start_time": "2022-03-08T00:47:39.077Z"
   },
   {
    "duration": 274,
    "start_time": "2022-03-08T00:47:43.849Z"
   },
   {
    "duration": 727,
    "start_time": "2022-03-08T00:47:47.439Z"
   },
   {
    "duration": 291,
    "start_time": "2022-03-08T00:47:52.258Z"
   },
   {
    "duration": 419,
    "start_time": "2022-03-08T00:47:59.208Z"
   },
   {
    "duration": 10,
    "start_time": "2022-03-08T00:48:05.244Z"
   },
   {
    "duration": 549,
    "start_time": "2022-03-08T00:48:06.805Z"
   },
   {
    "duration": 10,
    "start_time": "2022-03-08T00:48:10.429Z"
   },
   {
    "duration": 2,
    "start_time": "2022-03-08T00:48:13.050Z"
   },
   {
    "duration": 408,
    "start_time": "2022-03-08T00:48:16.425Z"
   },
   {
    "duration": 6,
    "start_time": "2022-03-08T00:48:19.328Z"
   },
   {
    "duration": 4,
    "start_time": "2022-03-08T00:48:22.238Z"
   },
   {
    "duration": 7,
    "start_time": "2022-03-08T00:48:24.964Z"
   },
   {
    "duration": 3,
    "start_time": "2022-03-08T00:48:29.555Z"
   },
   {
    "duration": 4,
    "start_time": "2022-03-08T00:48:30.451Z"
   },
   {
    "duration": 3,
    "start_time": "2022-03-08T00:48:33.269Z"
   },
   {
    "duration": 11,
    "start_time": "2022-03-08T00:48:36.804Z"
   },
   {
    "duration": 5,
    "start_time": "2022-03-08T00:48:57.367Z"
   },
   {
    "duration": 10,
    "start_time": "2022-03-08T00:49:55.436Z"
   },
   {
    "duration": 4,
    "start_time": "2022-03-08T00:50:00.583Z"
   },
   {
    "duration": 3,
    "start_time": "2022-03-08T00:51:08.022Z"
   },
   {
    "duration": 1356,
    "start_time": "2022-03-08T00:51:11.728Z"
   },
   {
    "duration": 3781,
    "start_time": "2022-03-08T00:51:21.020Z"
   },
   {
    "duration": 1349,
    "start_time": "2022-03-08T00:51:44.628Z"
   },
   {
    "duration": 5,
    "start_time": "2022-03-08T00:51:52.594Z"
   },
   {
    "duration": 563743,
    "start_time": "2022-03-08T00:53:08.499Z"
   },
   {
    "duration": 3,
    "start_time": "2022-03-08T01:02:32.244Z"
   },
   {
    "duration": 4,
    "start_time": "2022-03-08T01:02:36.413Z"
   },
   {
    "duration": 1503,
    "start_time": "2022-03-08T01:03:15.675Z"
   },
   {
    "duration": 10,
    "start_time": "2022-03-08T01:03:29.036Z"
   },
   {
    "duration": 210,
    "start_time": "2022-03-08T01:03:32.168Z"
   },
   {
    "duration": 6,
    "start_time": "2022-03-08T01:03:48.546Z"
   },
   {
    "duration": 96,
    "start_time": "2022-03-08T01:18:44.613Z"
   },
   {
    "duration": 86,
    "start_time": "2022-03-08T01:19:28.287Z"
   },
   {
    "duration": 274,
    "start_time": "2022-03-08T01:19:42.586Z"
   },
   {
    "duration": 8,
    "start_time": "2022-03-08T01:20:33.499Z"
   },
   {
    "duration": 105422,
    "start_time": "2022-03-08T01:41:51.700Z"
   },
   {
    "duration": 1245,
    "start_time": "2022-03-08T01:43:37.124Z"
   },
   {
    "duration": 832,
    "start_time": "2022-03-08T01:43:38.371Z"
   },
   {
    "duration": 25,
    "start_time": "2022-03-08T01:43:39.205Z"
   },
   {
    "duration": 217,
    "start_time": "2022-03-08T01:43:39.231Z"
   },
   {
    "duration": 340,
    "start_time": "2022-03-08T01:43:39.450Z"
   },
   {
    "duration": 13,
    "start_time": "2022-03-08T01:43:39.792Z"
   },
   {
    "duration": 331,
    "start_time": "2022-03-08T01:43:39.807Z"
   },
   {
    "duration": 304,
    "start_time": "2022-03-08T01:43:40.142Z"
   },
   {
    "duration": 183,
    "start_time": "2022-03-08T01:43:40.449Z"
   },
   {
    "duration": 242,
    "start_time": "2022-03-08T01:43:40.633Z"
   },
   {
    "duration": 255,
    "start_time": "2022-03-08T01:43:40.877Z"
   },
   {
    "duration": 119,
    "start_time": "2022-03-08T01:43:41.133Z"
   },
   {
    "duration": 157,
    "start_time": "2022-03-08T01:43:41.254Z"
   },
   {
    "duration": 156,
    "start_time": "2022-03-08T01:43:41.413Z"
   },
   {
    "duration": 212,
    "start_time": "2022-03-08T01:43:41.571Z"
   },
   {
    "duration": 249,
    "start_time": "2022-03-08T01:43:41.785Z"
   },
   {
    "duration": 215,
    "start_time": "2022-03-08T01:43:42.036Z"
   },
   {
    "duration": 115,
    "start_time": "2022-03-08T01:43:42.252Z"
   },
   {
    "duration": 594,
    "start_time": "2022-03-08T01:43:42.368Z"
   },
   {
    "duration": 20,
    "start_time": "2022-03-08T01:43:42.964Z"
   },
   {
    "duration": 213,
    "start_time": "2022-03-08T01:43:42.985Z"
   },
   {
    "duration": 180,
    "start_time": "2022-03-08T01:43:43.201Z"
   },
   {
    "duration": 193,
    "start_time": "2022-03-08T01:43:43.382Z"
   },
   {
    "duration": 186,
    "start_time": "2022-03-08T01:43:43.577Z"
   },
   {
    "duration": 204,
    "start_time": "2022-03-08T01:43:43.764Z"
   },
   {
    "duration": 249,
    "start_time": "2022-03-08T01:43:43.972Z"
   },
   {
    "duration": 262,
    "start_time": "2022-03-08T01:43:44.223Z"
   },
   {
    "duration": 865,
    "start_time": "2022-03-08T01:43:44.486Z"
   },
   {
    "duration": 314,
    "start_time": "2022-03-08T01:43:45.352Z"
   },
   {
    "duration": 786,
    "start_time": "2022-03-08T01:43:45.667Z"
   },
   {
    "duration": 314,
    "start_time": "2022-03-08T01:43:46.455Z"
   },
   {
    "duration": 853,
    "start_time": "2022-03-08T01:43:46.770Z"
   },
   {
    "duration": 270,
    "start_time": "2022-03-08T01:43:47.625Z"
   },
   {
    "duration": 445,
    "start_time": "2022-03-08T01:43:47.897Z"
   },
   {
    "duration": 9,
    "start_time": "2022-03-08T01:43:48.344Z"
   },
   {
    "duration": 835,
    "start_time": "2022-03-08T01:43:48.355Z"
   },
   {
    "duration": 6,
    "start_time": "2022-03-08T01:43:49.192Z"
   },
   {
    "duration": 304,
    "start_time": "2022-03-08T01:43:49.199Z"
   },
   {
    "duration": 518,
    "start_time": "2022-03-08T01:43:49.505Z"
   },
   {
    "duration": 5,
    "start_time": "2022-03-08T01:43:50.025Z"
   },
   {
    "duration": 321,
    "start_time": "2022-03-08T01:43:50.032Z"
   },
   {
    "duration": 128,
    "start_time": "2022-03-08T01:43:50.356Z"
   },
   {
    "duration": 380,
    "start_time": "2022-03-08T01:43:50.486Z"
   },
   {
    "duration": 385,
    "start_time": "2022-03-08T01:43:50.868Z"
   },
   {
    "duration": 307,
    "start_time": "2022-03-08T01:43:51.256Z"
   },
   {
    "duration": 390,
    "start_time": "2022-03-08T01:43:51.565Z"
   },
   {
    "duration": 533,
    "start_time": "2022-03-08T01:43:51.957Z"
   },
   {
    "duration": 1888,
    "start_time": "2022-03-08T01:43:52.492Z"
   },
   {
    "duration": 4009,
    "start_time": "2022-03-08T01:43:54.382Z"
   },
   {
    "duration": 4,
    "start_time": "2022-03-08T01:43:58.393Z"
   },
   {
    "duration": 318,
    "start_time": "2022-03-08T03:02:05.820Z"
   },
   {
    "duration": 22762,
    "start_time": "2022-03-08T03:02:16.443Z"
   },
   {
    "duration": 1250,
    "start_time": "2022-03-08T03:02:39.207Z"
   },
   {
    "duration": 852,
    "start_time": "2022-03-08T03:02:40.460Z"
   },
   {
    "duration": 26,
    "start_time": "2022-03-08T03:02:41.315Z"
   },
   {
    "duration": 36,
    "start_time": "2022-03-08T03:02:41.343Z"
   },
   {
    "duration": 257,
    "start_time": "2022-03-08T03:02:41.382Z"
   },
   {
    "duration": 14,
    "start_time": "2022-03-08T03:02:41.641Z"
   },
   {
    "duration": 140,
    "start_time": "2022-03-08T03:02:41.658Z"
   },
   {
    "duration": 19,
    "start_time": "2022-03-08T03:02:41.801Z"
   },
   {
    "duration": 9,
    "start_time": "2022-03-08T03:02:41.822Z"
   },
   {
    "duration": 12,
    "start_time": "2022-03-08T03:02:41.832Z"
   },
   {
    "duration": 37,
    "start_time": "2022-03-08T03:02:41.846Z"
   },
   {
    "duration": 8,
    "start_time": "2022-03-08T03:02:41.885Z"
   },
   {
    "duration": 5,
    "start_time": "2022-03-08T03:02:41.895Z"
   },
   {
    "duration": 7,
    "start_time": "2022-03-08T03:02:41.902Z"
   },
   {
    "duration": 6,
    "start_time": "2022-03-08T03:02:41.911Z"
   },
   {
    "duration": 15,
    "start_time": "2022-03-08T03:02:41.919Z"
   },
   {
    "duration": 50,
    "start_time": "2022-03-08T03:02:41.936Z"
   },
   {
    "duration": 9,
    "start_time": "2022-03-08T03:02:41.988Z"
   },
   {
    "duration": 445,
    "start_time": "2022-03-08T03:02:41.999Z"
   },
   {
    "duration": 15,
    "start_time": "2022-03-08T03:02:42.446Z"
   },
   {
    "duration": 25,
    "start_time": "2022-03-08T03:02:42.462Z"
   },
   {
    "duration": 21,
    "start_time": "2022-03-08T03:02:42.490Z"
   },
   {
    "duration": 14,
    "start_time": "2022-03-08T03:02:42.513Z"
   },
   {
    "duration": 10,
    "start_time": "2022-03-08T03:02:42.529Z"
   },
   {
    "duration": 39,
    "start_time": "2022-03-08T03:02:42.541Z"
   },
   {
    "duration": 76,
    "start_time": "2022-03-08T03:02:42.582Z"
   },
   {
    "duration": 40,
    "start_time": "2022-03-08T03:02:42.659Z"
   },
   {
    "duration": 681,
    "start_time": "2022-03-08T03:02:42.700Z"
   },
   {
    "duration": 296,
    "start_time": "2022-03-08T03:02:43.383Z"
   },
   {
    "duration": 719,
    "start_time": "2022-03-08T03:02:43.681Z"
   },
   {
    "duration": 305,
    "start_time": "2022-03-08T03:02:44.401Z"
   },
   {
    "duration": 832,
    "start_time": "2022-03-08T03:02:44.708Z"
   },
   {
    "duration": 303,
    "start_time": "2022-03-08T03:02:45.541Z"
   },
   {
    "duration": 458,
    "start_time": "2022-03-08T03:02:45.846Z"
   },
   {
    "duration": 9,
    "start_time": "2022-03-08T03:02:46.306Z"
   },
   {
    "duration": 548,
    "start_time": "2022-03-08T03:02:46.317Z"
   },
   {
    "duration": 6,
    "start_time": "2022-03-08T03:02:46.866Z"
   },
   {
    "duration": 3,
    "start_time": "2022-03-08T03:02:46.878Z"
   },
   {
    "duration": 313,
    "start_time": "2022-03-08T03:02:46.883Z"
   },
   {
    "duration": 4,
    "start_time": "2022-03-08T03:02:47.198Z"
   },
   {
    "duration": 10,
    "start_time": "2022-03-08T03:02:47.204Z"
   },
   {
    "duration": 15,
    "start_time": "2022-03-08T03:02:47.216Z"
   },
   {
    "duration": 2,
    "start_time": "2022-03-08T03:02:47.233Z"
   },
   {
    "duration": 6,
    "start_time": "2022-03-08T03:02:47.237Z"
   },
   {
    "duration": 6,
    "start_time": "2022-03-08T03:02:47.245Z"
   },
   {
    "duration": 28,
    "start_time": "2022-03-08T03:02:47.252Z"
   },
   {
    "duration": 5,
    "start_time": "2022-03-08T03:02:47.282Z"
   },
   {
    "duration": 1490,
    "start_time": "2022-03-08T03:02:47.289Z"
   },
   {
    "duration": 3990,
    "start_time": "2022-03-08T03:02:48.781Z"
   },
   {
    "duration": 5,
    "start_time": "2022-03-08T03:02:52.777Z"
   },
   {
    "duration": 100602,
    "start_time": "2022-03-08T03:26:19.286Z"
   },
   {
    "duration": 1281,
    "start_time": "2022-03-08T03:27:59.890Z"
   },
   {
    "duration": 879,
    "start_time": "2022-03-08T03:28:01.173Z"
   },
   {
    "duration": 36,
    "start_time": "2022-03-08T03:28:02.054Z"
   },
   {
    "duration": 18,
    "start_time": "2022-03-08T03:28:02.092Z"
   },
   {
    "duration": 268,
    "start_time": "2022-03-08T03:28:02.112Z"
   },
   {
    "duration": 13,
    "start_time": "2022-03-08T03:28:02.381Z"
   },
   {
    "duration": 152,
    "start_time": "2022-03-08T03:28:02.396Z"
   },
   {
    "duration": 28,
    "start_time": "2022-03-08T03:28:02.550Z"
   },
   {
    "duration": 8,
    "start_time": "2022-03-08T03:28:02.580Z"
   },
   {
    "duration": 9,
    "start_time": "2022-03-08T03:28:02.589Z"
   },
   {
    "duration": 7,
    "start_time": "2022-03-08T03:28:02.599Z"
   },
   {
    "duration": 11,
    "start_time": "2022-03-08T03:28:02.607Z"
   },
   {
    "duration": 8,
    "start_time": "2022-03-08T03:28:02.620Z"
   },
   {
    "duration": 6,
    "start_time": "2022-03-08T03:28:02.629Z"
   },
   {
    "duration": 7,
    "start_time": "2022-03-08T03:28:02.636Z"
   },
   {
    "duration": 45,
    "start_time": "2022-03-08T03:28:02.645Z"
   },
   {
    "duration": 14,
    "start_time": "2022-03-08T03:28:02.692Z"
   },
   {
    "duration": 9,
    "start_time": "2022-03-08T03:28:02.707Z"
   },
   {
    "duration": 460,
    "start_time": "2022-03-08T03:28:02.718Z"
   },
   {
    "duration": 15,
    "start_time": "2022-03-08T03:28:03.180Z"
   },
   {
    "duration": 14,
    "start_time": "2022-03-08T03:28:03.197Z"
   },
   {
    "duration": 21,
    "start_time": "2022-03-08T03:28:03.214Z"
   },
   {
    "duration": 43,
    "start_time": "2022-03-08T03:28:03.238Z"
   },
   {
    "duration": 20,
    "start_time": "2022-03-08T03:28:03.283Z"
   },
   {
    "duration": 6,
    "start_time": "2022-03-08T03:28:03.305Z"
   },
   {
    "duration": 89,
    "start_time": "2022-03-08T03:28:03.313Z"
   },
   {
    "duration": 25,
    "start_time": "2022-03-08T03:28:03.404Z"
   },
   {
    "duration": 692,
    "start_time": "2022-03-08T03:28:03.430Z"
   },
   {
    "duration": 274,
    "start_time": "2022-03-08T03:28:04.124Z"
   },
   {
    "duration": 751,
    "start_time": "2022-03-08T03:28:04.401Z"
   },
   {
    "duration": 312,
    "start_time": "2022-03-08T03:28:05.154Z"
   },
   {
    "duration": 835,
    "start_time": "2022-03-08T03:28:05.467Z"
   },
   {
    "duration": 281,
    "start_time": "2022-03-08T03:28:06.303Z"
   },
   {
    "duration": 454,
    "start_time": "2022-03-08T03:28:06.585Z"
   },
   {
    "duration": 10,
    "start_time": "2022-03-08T03:28:07.040Z"
   },
   {
    "duration": 549,
    "start_time": "2022-03-08T03:28:07.052Z"
   },
   {
    "duration": 5,
    "start_time": "2022-03-08T03:28:07.603Z"
   },
   {
    "duration": 6,
    "start_time": "2022-03-08T03:28:07.610Z"
   },
   {
    "duration": 319,
    "start_time": "2022-03-08T03:28:07.618Z"
   },
   {
    "duration": 4,
    "start_time": "2022-03-08T03:28:07.939Z"
   },
   {
    "duration": 8,
    "start_time": "2022-03-08T03:28:07.944Z"
   },
   {
    "duration": 9,
    "start_time": "2022-03-08T03:28:07.954Z"
   },
   {
    "duration": 3,
    "start_time": "2022-03-08T03:28:07.977Z"
   },
   {
    "duration": 5,
    "start_time": "2022-03-08T03:28:07.982Z"
   },
   {
    "duration": 6,
    "start_time": "2022-03-08T03:28:07.989Z"
   },
   {
    "duration": 16,
    "start_time": "2022-03-08T03:28:07.997Z"
   },
   {
    "duration": 6,
    "start_time": "2022-03-08T03:28:08.016Z"
   },
   {
    "duration": 1155,
    "start_time": "2022-03-08T03:28:08.024Z"
   },
   {
    "duration": 3912,
    "start_time": "2022-03-08T03:28:09.181Z"
   },
   {
    "duration": 4,
    "start_time": "2022-03-08T03:28:13.095Z"
   },
   {
    "duration": 1429010,
    "start_time": "2022-03-08T03:28:27.347Z"
   },
   {
    "duration": 4,
    "start_time": "2022-03-08T03:53:23.369Z"
   },
   {
    "duration": 4,
    "start_time": "2022-03-08T03:53:28.429Z"
   },
   {
    "duration": 370,
    "start_time": "2022-03-08T03:55:37.538Z"
   },
   {
    "duration": 36,
    "start_time": "2022-03-08T03:55:51.598Z"
   },
   {
    "duration": 295,
    "start_time": "2022-03-08T03:56:10.481Z"
   },
   {
    "duration": 10,
    "start_time": "2022-03-08T03:56:16.887Z"
   },
   {
    "duration": 169,
    "start_time": "2022-03-08T03:56:19.523Z"
   },
   {
    "duration": 173669,
    "start_time": "2022-03-08T03:58:44.881Z"
   },
   {
    "duration": 5,
    "start_time": "2022-03-08T04:02:38.259Z"
   },
   {
    "duration": 5,
    "start_time": "2022-03-08T04:02:54.594Z"
   },
   {
    "duration": 6,
    "start_time": "2022-03-08T04:03:07.212Z"
   },
   {
    "duration": 90674,
    "start_time": "2022-03-08T19:49:36.331Z"
   },
   {
    "duration": 1205,
    "start_time": "2022-03-08T19:51:07.008Z"
   },
   {
    "duration": 775,
    "start_time": "2022-03-08T19:51:08.215Z"
   },
   {
    "duration": 23,
    "start_time": "2022-03-08T19:51:08.992Z"
   },
   {
    "duration": 33,
    "start_time": "2022-03-08T19:51:09.016Z"
   },
   {
    "duration": 223,
    "start_time": "2022-03-08T19:51:09.051Z"
   },
   {
    "duration": 12,
    "start_time": "2022-03-08T19:51:09.275Z"
   },
   {
    "duration": 136,
    "start_time": "2022-03-08T19:51:09.289Z"
   },
   {
    "duration": 17,
    "start_time": "2022-03-08T19:51:09.427Z"
   },
   {
    "duration": 7,
    "start_time": "2022-03-08T19:51:09.445Z"
   },
   {
    "duration": 8,
    "start_time": "2022-03-08T19:51:09.453Z"
   },
   {
    "duration": 6,
    "start_time": "2022-03-08T19:51:09.462Z"
   },
   {
    "duration": 6,
    "start_time": "2022-03-08T19:51:09.470Z"
   },
   {
    "duration": 5,
    "start_time": "2022-03-08T19:51:09.477Z"
   },
   {
    "duration": 5,
    "start_time": "2022-03-08T19:51:09.484Z"
   },
   {
    "duration": 5,
    "start_time": "2022-03-08T19:51:09.491Z"
   },
   {
    "duration": 54,
    "start_time": "2022-03-08T19:51:09.497Z"
   },
   {
    "duration": 12,
    "start_time": "2022-03-08T19:51:09.553Z"
   },
   {
    "duration": 8,
    "start_time": "2022-03-08T19:51:09.566Z"
   },
   {
    "duration": 395,
    "start_time": "2022-03-08T19:51:09.576Z"
   },
   {
    "duration": 15,
    "start_time": "2022-03-08T19:51:09.972Z"
   },
   {
    "duration": 14,
    "start_time": "2022-03-08T19:51:09.988Z"
   },
   {
    "duration": 41,
    "start_time": "2022-03-08T19:51:10.006Z"
   },
   {
    "duration": 15,
    "start_time": "2022-03-08T19:51:10.050Z"
   },
   {
    "duration": 14,
    "start_time": "2022-03-08T19:51:10.066Z"
   },
   {
    "duration": 7,
    "start_time": "2022-03-08T19:51:10.081Z"
   },
   {
    "duration": 99,
    "start_time": "2022-03-08T19:51:10.090Z"
   },
   {
    "duration": 25,
    "start_time": "2022-03-08T19:51:10.190Z"
   },
   {
    "duration": 653,
    "start_time": "2022-03-08T19:51:10.216Z"
   },
   {
    "duration": 270,
    "start_time": "2022-03-08T19:51:10.871Z"
   },
   {
    "duration": 670,
    "start_time": "2022-03-08T19:51:11.143Z"
   },
   {
    "duration": 304,
    "start_time": "2022-03-08T19:51:11.815Z"
   },
   {
    "duration": 799,
    "start_time": "2022-03-08T19:51:12.121Z"
   },
   {
    "duration": 295,
    "start_time": "2022-03-08T19:51:12.922Z"
   },
   {
    "duration": 427,
    "start_time": "2022-03-08T19:51:13.219Z"
   },
   {
    "duration": 9,
    "start_time": "2022-03-08T19:51:13.648Z"
   },
   {
    "duration": 524,
    "start_time": "2022-03-08T19:51:13.659Z"
   },
   {
    "duration": 6,
    "start_time": "2022-03-08T19:51:14.184Z"
   },
   {
    "duration": 12,
    "start_time": "2022-03-08T19:51:14.192Z"
   },
   {
    "duration": 295,
    "start_time": "2022-03-08T19:51:14.206Z"
   },
   {
    "duration": 5,
    "start_time": "2022-03-08T19:51:14.503Z"
   },
   {
    "duration": 9,
    "start_time": "2022-03-08T19:51:14.509Z"
   },
   {
    "duration": 22,
    "start_time": "2022-03-08T19:51:14.520Z"
   },
   {
    "duration": 4,
    "start_time": "2022-03-08T19:51:14.544Z"
   },
   {
    "duration": 5,
    "start_time": "2022-03-08T19:51:14.550Z"
   },
   {
    "duration": 6,
    "start_time": "2022-03-08T19:51:14.557Z"
   },
   {
    "duration": 10,
    "start_time": "2022-03-08T19:51:14.564Z"
   },
   {
    "duration": 6,
    "start_time": "2022-03-08T19:51:14.576Z"
   },
   {
    "duration": 1462,
    "start_time": "2022-03-08T19:51:14.584Z"
   },
   {
    "duration": 3700,
    "start_time": "2022-03-08T19:51:16.049Z"
   },
   {
    "duration": 3,
    "start_time": "2022-03-08T19:51:19.751Z"
   },
   {
    "duration": 610,
    "start_time": "2022-03-08T19:53:18.542Z"
   },
   {
    "duration": 1008420,
    "start_time": "2022-03-08T19:53:30.679Z"
   },
   {
    "duration": 3,
    "start_time": "2022-03-08T20:10:19.101Z"
   },
   {
    "duration": 4,
    "start_time": "2022-03-08T20:10:25.642Z"
   },
   {
    "duration": 501524,
    "start_time": "2022-03-08T20:10:37.469Z"
   },
   {
    "duration": 100,
    "start_time": "2022-03-08T20:19:46.022Z"
   },
   {
    "duration": 10,
    "start_time": "2022-03-08T20:20:08.667Z"
   },
   {
    "duration": 155,
    "start_time": "2022-03-08T20:20:11.298Z"
   },
   {
    "duration": 5,
    "start_time": "2022-03-08T20:20:17.116Z"
   },
   {
    "duration": 346,
    "start_time": "2022-03-08T20:22:35.461Z"
   },
   {
    "duration": 788,
    "start_time": "2022-03-08T20:32:21.151Z"
   }
  ],
  "kernelspec": {
   "display_name": "Python 3",
   "language": "python",
   "name": "python3"
  },
  "language_info": {
   "codemirror_mode": {
    "name": "ipython",
    "version": 3
   },
   "file_extension": ".py",
   "mimetype": "text/x-python",
   "name": "python",
   "nbconvert_exporter": "python",
   "pygments_lexer": "ipython3",
   "version": "3.8.5"
  },
  "toc": {
   "base_numbering": 1,
   "nav_menu": {},
   "number_sections": true,
   "sideBar": true,
   "skip_h1_title": true,
   "title_cell": "Table of Contents",
   "title_sidebar": "Contents",
   "toc_cell": false,
   "toc_position": {},
   "toc_section_display": true,
   "toc_window_display": true
  }
 },
 "nbformat": 4,
 "nbformat_minor": 2
}
